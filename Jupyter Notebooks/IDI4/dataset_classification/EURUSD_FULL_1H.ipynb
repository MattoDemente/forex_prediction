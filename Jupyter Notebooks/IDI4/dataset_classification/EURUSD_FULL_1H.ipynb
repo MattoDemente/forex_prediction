{
 "cells": [
  {
   "cell_type": "markdown",
   "metadata": {},
   "source": [
    "   #### Mawrer Amed Ramirez Martinez ms723737@iteso.mx\n",
    "   #### Avance de TOG IDI 4\n",
    "\n",
    "#  Ajuste de Dataset (Preparacion para Clasificacion)\n",
    "# El objetivo de este Notebook es SOLO agregar YHat\n"
   ]
  },
  {
   "cell_type": "code",
   "execution_count": 17,
   "metadata": {},
   "outputs": [],
   "source": [
    "import numpy as np\n",
    "np.random.seed(1)\n",
    "import matplotlib.pyplot as plt\n",
    "from datetime import datetime\n",
    "import seaborn as sns\n",
    "import pandas as pd\n",
    "import os, glob"
   ]
  },
  {
   "cell_type": "code",
   "execution_count": 18,
   "metadata": {},
   "outputs": [],
   "source": [
    "import warnings\n",
    "warnings.filterwarnings(\"ignore\")"
   ]
  },
  {
   "cell_type": "code",
   "execution_count": 19,
   "metadata": {},
   "outputs": [],
   "source": [
    "SOURCE_TYPE = \"EURUSD_FULL\"\n",
    "FRECUENCIA = \"1H\"\n",
    "NUM_FEATURES = 0"
   ]
  },
  {
   "cell_type": "code",
   "execution_count": 20,
   "metadata": {},
   "outputs": [
    {
     "name": "stdout",
     "output_type": "stream",
     "text": [
      "EURUSD_ASK_1H_14F.csv\n",
      "EURUSD_FULL_1D_20F.csv\n",
      "EURUSD_FULL_1H_20F.csv\n",
      "EURUSD_FULL_1M_20F.csv\n",
      "EURUSD_FULL_4H_20F.csv\n"
     ]
    }
   ],
   "source": [
    "pwd = os.getcwd()\n",
    "datasource_path = os.path.join(pwd, r'../../../Datasets/Junio2020/procesados/')\n",
    "filenames = glob.glob(datasource_path + \"/*.csv\")\n",
    "filenames.sort()\n",
    "for file in filenames:\n",
    "    print(os.path.basename(file))"
   ]
  },
  {
   "cell_type": "markdown",
   "metadata": {},
   "source": [
    "## Read CSV"
   ]
  },
  {
   "cell_type": "markdown",
   "metadata": {},
   "source": [
    "### Read Dataset From Regression"
   ]
  },
  {
   "cell_type": "code",
   "execution_count": 21,
   "metadata": {},
   "outputs": [
    {
     "name": "stdout",
     "output_type": "stream",
     "text": [
      "                  Gmt time     Open     High      Low    Close      Volume  \\\n",
      "0      2004-01-01 00:00:00  1.25950  1.25960  1.25826  1.25910   6654.2002   \n",
      "1      2004-01-01 01:00:00  1.25958  1.25960  1.25947  1.25951    660.6000   \n",
      "2      2004-01-01 02:00:00  1.25955  1.25962  1.25944  1.25951   2091.0000   \n",
      "3      2004-01-01 03:00:00  1.25950  1.25965  1.25834  1.25869  10003.0996   \n",
      "4      2004-01-01 04:00:00  1.25908  1.25960  1.25843  1.25950   7603.3999   \n",
      "...                    ...      ...      ...      ...      ...         ...   \n",
      "102509 2020-05-29 19:00:00  1.10998  1.11070  1.10862  1.10998  12120.8398   \n",
      "102510 2020-05-29 20:00:00  1.10997  1.11094  1.10982  1.11071   4646.7427   \n",
      "102511 2020-05-31 21:00:00  1.11213  1.11217  1.11136  1.11141    417.4906   \n",
      "102512 2020-05-31 22:00:00  1.11138  1.11148  1.11028  1.11123   4549.1167   \n",
      "102513 2020-05-31 23:00:00  1.11123  1.11199  1.11119  1.11158   5159.8101   \n",
      "\n",
      "        Open_Bid  High_Bid  Low_Bid  Close_Bid  Volume_Bid   Spread  day_name  \\\n",
      "0        1.25934   1.25948  1.25814    1.25900   7823.1001  0.00010  Thursday   \n",
      "1        1.25942   1.25948  1.25934    1.25941    461.4000  0.00010  Thursday   \n",
      "2        1.25945   1.25948  1.25927    1.25936   1839.8000  0.00015  Thursday   \n",
      "3        1.25934   1.25953  1.25821    1.25854  13349.2998  0.00015  Thursday   \n",
      "4        1.25898   1.25948  1.25829    1.25940   8422.5000  0.00010  Thursday   \n",
      "...          ...       ...      ...        ...         ...      ...       ...   \n",
      "102509   1.10995   1.11066  1.10859    1.10997  11340.1201  0.00001    Friday   \n",
      "102510   1.10993   1.11085  1.10979    1.11036   4041.1875  0.00035    Friday   \n",
      "102511   1.11129   1.11194  1.11123    1.11130    385.2600  0.00011    Sunday   \n",
      "102512   1.11130   1.11144  1.11023    1.11118   4784.7334  0.00005    Sunday   \n",
      "102513   1.11119   1.11195  1.11113    1.11156   4047.4900  0.00002    Sunday   \n",
      "\n",
      "        weekday  Pct_Range_Close  Pct_Range_Close_diff  MA_Close_5  \\\n",
      "0             3         0.000000              0.000000    0.000000   \n",
      "1             3         0.000326              0.000326    0.000000   \n",
      "2             3         0.000000             -0.000326    0.000000   \n",
      "3             3        -0.000651             -0.000651    0.000000   \n",
      "4             3         0.000644              0.001295    1.259262   \n",
      "...         ...              ...                   ...         ...   \n",
      "102509        4         0.000009             -0.000739    1.109920   \n",
      "102510        4         0.000658              0.000649    1.109922   \n",
      "102511        6         0.000630             -0.000027    1.110242   \n",
      "102512        6        -0.000162             -0.000792    1.110660   \n",
      "102513        6         0.000315              0.000000    1.110982   \n",
      "\n",
      "        MA_Close_25  MA_Close_50  MA_Close_200  \n",
      "0          0.000000     0.000000      0.000000  \n",
      "1          0.000000     0.000000      0.000000  \n",
      "2          0.000000     0.000000      0.000000  \n",
      "3          0.000000     0.000000      0.000000  \n",
      "4          0.000000     0.000000      0.000000  \n",
      "...             ...          ...           ...  \n",
      "102509     1.110070     1.106276      1.097224  \n",
      "102510     1.110212     1.106510      1.097302  \n",
      "102511     1.110356     1.106743      1.097392  \n",
      "102512     1.110488     1.106952      1.097474  \n",
      "102513     1.110655     1.107171      1.097563  \n",
      "\n",
      "[102514 rows x 20 columns]\n",
      "(102514, 20)\n"
     ]
    }
   ],
   "source": [
    "if FRECUENCIA ==\"1D\":\n",
    "    dateparse = lambda x: pd.datetime.strptime(x, '%Y-%m-%d')\n",
    "else:\n",
    "    dateparse = lambda x: pd.datetime.strptime(x, '%Y-%m-%d %H:%M:%S')\n",
    "DATASET_FULL = pd.read_csv(filenames[2], header=0, parse_dates=['Gmt time'], date_parser=dateparse)\n",
    "print(DATASET_FULL)\n",
    "print(DATASET_FULL.shape)"
   ]
  },
  {
   "cell_type": "markdown",
   "metadata": {},
   "source": [
    "### Add Col 'YHat' "
   ]
  },
  {
   "cell_type": "code",
   "execution_count": 22,
   "metadata": {},
   "outputs": [
    {
     "name": "stdout",
     "output_type": "stream",
     "text": [
      "             Gmt time     Open     High      Low    Close      Volume  \\\n",
      "0 2004-01-01 00:00:00  1.25950  1.25960  1.25826  1.25910   6654.2002   \n",
      "1 2004-01-01 01:00:00  1.25958  1.25960  1.25947  1.25951    660.6000   \n",
      "2 2004-01-01 02:00:00  1.25955  1.25962  1.25944  1.25951   2091.0000   \n",
      "3 2004-01-01 03:00:00  1.25950  1.25965  1.25834  1.25869  10003.0996   \n",
      "4 2004-01-01 04:00:00  1.25908  1.25960  1.25843  1.25950   7603.3999   \n",
      "\n",
      "   Open_Bid  High_Bid  Low_Bid  Close_Bid  ...   Spread  day_name weekday  \\\n",
      "0   1.25934   1.25948  1.25814    1.25900  ...  0.00010  Thursday       3   \n",
      "1   1.25942   1.25948  1.25934    1.25941  ...  0.00010  Thursday       3   \n",
      "2   1.25945   1.25948  1.25927    1.25936  ...  0.00015  Thursday       3   \n",
      "3   1.25934   1.25953  1.25821    1.25854  ...  0.00015  Thursday       3   \n",
      "4   1.25898   1.25948  1.25829    1.25940  ...  0.00010  Thursday       3   \n",
      "\n",
      "   Pct_Range_Close  Pct_Range_Close_diff  MA_Close_5  MA_Close_25  \\\n",
      "0         0.000000              0.000000    0.000000          0.0   \n",
      "1         0.000326              0.000326    0.000000          0.0   \n",
      "2         0.000000             -0.000326    0.000000          0.0   \n",
      "3        -0.000651             -0.000651    0.000000          0.0   \n",
      "4         0.000644              0.001295    1.259262          0.0   \n",
      "\n",
      "   MA_Close_50  MA_Close_200  Class  \n",
      "0          0.0           0.0      0  \n",
      "1          0.0           0.0      1  \n",
      "2          0.0           0.0      0  \n",
      "3          0.0           0.0     -1  \n",
      "4          0.0           0.0      1  \n",
      "\n",
      "[5 rows x 21 columns]\n"
     ]
    }
   ],
   "source": [
    "DATASET_FULL['Class'] = 0\n",
    "\n",
    "\n",
    "NEG_UNO = -0.00023\n",
    "UNO = 0.00023\n",
    "NEG_DOS = -0.0008\n",
    "DOS = 0.0008\n",
    "\n",
    "DATASET_FULL.loc[DATASET_FULL['Pct_Range_Close'] <= NEG_UNO, 'Class'] = -1\n",
    "DATASET_FULL.loc[DATASET_FULL['Pct_Range_Close'] >= UNO, 'Class'] = 1\n",
    "\n",
    "DATASET_FULL.loc[DATASET_FULL['Pct_Range_Close'] <= NEG_DOS, 'Class'] = -2\n",
    "DATASET_FULL.loc[DATASET_FULL['Pct_Range_Close'] >=  DOS, 'Class'] = 2\n",
    "print(DATASET_FULL.head())"
   ]
  },
  {
   "cell_type": "code",
   "execution_count": 23,
   "metadata": {},
   "outputs": [
    {
     "data": {
      "text/plain": [
       "0         0\n",
       "1         1\n",
       "2         0\n",
       "3        -1\n",
       "4         1\n",
       "         ..\n",
       "102509    0\n",
       "102510    1\n",
       "102511    1\n",
       "102512    0\n",
       "102513    1\n",
       "Name: Class, Length: 102514, dtype: int64"
      ]
     },
     "execution_count": 23,
     "metadata": {},
     "output_type": "execute_result"
    }
   ],
   "source": [
    "DATASET_FULL['Class']"
   ]
  },
  {
   "cell_type": "code",
   "execution_count": 24,
   "metadata": {},
   "outputs": [],
   "source": [
    "DATASET_FULL['Class'] = DATASET_FULL['Class'].shift(-1)"
   ]
  },
  {
   "cell_type": "code",
   "execution_count": 30,
   "metadata": {},
   "outputs": [
    {
     "data": {
      "text/plain": [
       "0         1.0\n",
       "1         0.0\n",
       "2        -1.0\n",
       "3         1.0\n",
       "4         0.0\n",
       "         ... \n",
       "102509    1.0\n",
       "102510    1.0\n",
       "102511    0.0\n",
       "102512    1.0\n",
       "102513    0.0\n",
       "Name: Class, Length: 102514, dtype: float64"
      ]
     },
     "execution_count": 30,
     "metadata": {},
     "output_type": "execute_result"
    }
   ],
   "source": [
    "DATASET_FULL['Class'].fillna(0, inplace=True)\n",
    "DATASET_FULL['Class']"
   ]
  },
  {
   "cell_type": "code",
   "execution_count": 31,
   "metadata": {},
   "outputs": [
    {
     "name": "stdout",
     "output_type": "stream",
     "text": [
      "             Gmt time     Open     High      Low    Close      Volume  \\\n",
      "0 2004-01-01 00:00:00  1.25950  1.25960  1.25826  1.25910   6654.2002   \n",
      "1 2004-01-01 01:00:00  1.25958  1.25960  1.25947  1.25951    660.6000   \n",
      "2 2004-01-01 02:00:00  1.25955  1.25962  1.25944  1.25951   2091.0000   \n",
      "3 2004-01-01 03:00:00  1.25950  1.25965  1.25834  1.25869  10003.0996   \n",
      "4 2004-01-01 04:00:00  1.25908  1.25960  1.25843  1.25950   7603.3999   \n",
      "\n",
      "   Open_Bid  High_Bid  Low_Bid  Close_Bid  ...  Pct_Range_Close_diff  \\\n",
      "0   1.25934   1.25948  1.25814    1.25900  ...              0.000000   \n",
      "1   1.25942   1.25948  1.25934    1.25941  ...              0.000326   \n",
      "2   1.25945   1.25948  1.25927    1.25936  ...             -0.000326   \n",
      "3   1.25934   1.25953  1.25821    1.25854  ...             -0.000651   \n",
      "4   1.25898   1.25948  1.25829    1.25940  ...              0.001295   \n",
      "\n",
      "   MA_Close_5 MA_Close_25  MA_Close_50  MA_Close_200  Class     Sell  Sell2  \\\n",
      "0    0.000000         0.0          0.0           0.0    1.0      NaN    NaN   \n",
      "1    0.000000         0.0          0.0           0.0    0.0      NaN    NaN   \n",
      "2    0.000000         0.0          0.0           0.0   -1.0  1.25951    NaN   \n",
      "3    0.000000         0.0          0.0           0.0    1.0      NaN    NaN   \n",
      "4    1.259262         0.0          0.0           0.0    0.0      NaN    NaN   \n",
      "\n",
      "       Buy  Buy2  \n",
      "0  1.25910   NaN  \n",
      "1      NaN   NaN  \n",
      "2      NaN   NaN  \n",
      "3  1.25869   NaN  \n",
      "4      NaN   NaN  \n",
      "\n",
      "[5 rows x 25 columns]\n"
     ]
    }
   ],
   "source": [
    "DATASET_FULL['Sell'] = np.nan\n",
    "DATASET_FULL.loc[DATASET_FULL['Class'] == -1, 'Sell'] = DATASET_FULL['Close']\n",
    "DATASET_FULL['Sell2'] = np.nan\n",
    "DATASET_FULL.loc[DATASET_FULL['Class'] == -2, 'Sell2'] = DATASET_FULL['Close']\n",
    "\n",
    "DATASET_FULL['Buy'] = np.nan\n",
    "DATASET_FULL.loc[DATASET_FULL['Class'] == 1, 'Buy'] = DATASET_FULL['Close']\n",
    "DATASET_FULL['Buy2'] = np.nan\n",
    "DATASET_FULL.loc[DATASET_FULL['Class'] == 2, 'Buy2'] = DATASET_FULL['Close']\n",
    "\n",
    "print(DATASET_FULL.head())"
   ]
  },
  {
   "cell_type": "code",
   "execution_count": 32,
   "metadata": {
    "scrolled": true
   },
   "outputs": [
    {
     "data": {
      "text/plain": [
       "<matplotlib.lines.Line2D at 0x1262acda0>"
      ]
     },
     "execution_count": 32,
     "metadata": {},
     "output_type": "execute_result"
    },
    {
     "data": {
      "image/png": "[encoded data removed]",
      "text/plain": [
       "<Figure size 1296x360 with 1 Axes>"
      ]
     },
     "metadata": {
      "needs_background": "light"
     },
     "output_type": "display_data"
    }
   ],
   "source": [
    "plt.figure(figsize=(18,5))\n",
    "sns.distplot(DATASET_FULL['Pct_Range_Close']);\n",
    "plt.axvline(UNO, 0, 1, linewidth=1, color='r')\n",
    "plt.axvline(NEG_UNO, 0, 1, linewidth=1, color='r')\n",
    "plt.axvline(DOS, 0, 1, linewidth=1, color='g')\n",
    "plt.axvline(NEG_DOS, 0, 1, linewidth=1, color='g')"
   ]
  },
  {
   "cell_type": "code",
   "execution_count": 33,
   "metadata": {},
   "outputs": [
    {
     "data": {
      "text/plain": [
       "count    102514.000000\n",
       "mean          0.001951\n",
       "std           1.299852\n",
       "min          -2.000000\n",
       "25%          -1.000000\n",
       "50%           0.000000\n",
       "75%           1.000000\n",
       "max           2.000000\n",
       "Name: Class, dtype: float64"
      ]
     },
     "execution_count": 33,
     "metadata": {},
     "output_type": "execute_result"
    }
   ],
   "source": [
    "DATASET_FULL['Class'].describe()"
   ]
  },
  {
   "cell_type": "code",
   "execution_count": 34,
   "metadata": {},
   "outputs": [
    {
     "data": {
      "text/plain": [
       "<matplotlib.lines.Line2D at 0x125e21eb8>"
      ]
     },
     "execution_count": 34,
     "metadata": {},
     "output_type": "execute_result"
    },
    {
     "data": {
      "image/png": "[encoded data removed]",
      "text/plain": [
       "<Figure size 1296x360 with 1 Axes>"
      ]
     },
     "metadata": {
      "needs_background": "light"
     },
     "output_type": "display_data"
    }
   ],
   "source": [
    "plt.figure(figsize=(18,5))\n",
    "sns.distplot(DATASET_FULL['Class'],kde=False);\n",
    "plt.axvline(0.0008, 0, 1, linewidth=1, color='r')\n",
    "plt.axvline(-0.0008, 0, 1, linewidth=1, color='r')\n",
    "plt.axvline(0.005, 0, 1, linewidth=1, color='g')\n",
    "plt.axvline(-0.005, 0, 1, linewidth=1, color='g')"
   ]
  },
  {
   "cell_type": "code",
   "execution_count": 35,
   "metadata": {},
   "outputs": [
    {
     "data": {
      "text/html": [
       "<div>\n",
       "<style scoped>\n",
       "    .dataframe tbody tr th:only-of-type {\n",
       "        vertical-align: middle;\n",
       "    }\n",
       "\n",
       "    .dataframe tbody tr th {\n",
       "        vertical-align: top;\n",
       "    }\n",
       "\n",
       "    .dataframe thead th {\n",
       "        text-align: right;\n",
       "    }\n",
       "</style>\n",
       "<table border=\"1\" class=\"dataframe\">\n",
       "  <thead>\n",
       "    <tr style=\"text-align: right;\">\n",
       "      <th></th>\n",
       "      <th>Gmt time</th>\n",
       "      <th>Open</th>\n",
       "      <th>High</th>\n",
       "      <th>Low</th>\n",
       "      <th>Close</th>\n",
       "      <th>Volume</th>\n",
       "      <th>Open_Bid</th>\n",
       "      <th>High_Bid</th>\n",
       "      <th>Low_Bid</th>\n",
       "      <th>Close_Bid</th>\n",
       "      <th>...</th>\n",
       "      <th>Pct_Range_Close_diff</th>\n",
       "      <th>MA_Close_5</th>\n",
       "      <th>MA_Close_25</th>\n",
       "      <th>MA_Close_50</th>\n",
       "      <th>MA_Close_200</th>\n",
       "      <th>Class</th>\n",
       "      <th>Sell</th>\n",
       "      <th>Sell2</th>\n",
       "      <th>Buy</th>\n",
       "      <th>Buy2</th>\n",
       "    </tr>\n",
       "  </thead>\n",
       "  <tbody>\n",
       "    <tr>\n",
       "      <th>0</th>\n",
       "      <td>2004-01-01 00:00:00</td>\n",
       "      <td>1.25950</td>\n",
       "      <td>1.25960</td>\n",
       "      <td>1.25826</td>\n",
       "      <td>1.25910</td>\n",
       "      <td>6654.2002</td>\n",
       "      <td>1.25934</td>\n",
       "      <td>1.25948</td>\n",
       "      <td>1.25814</td>\n",
       "      <td>1.25900</td>\n",
       "      <td>...</td>\n",
       "      <td>0.000000</td>\n",
       "      <td>0.000000</td>\n",
       "      <td>0.000000</td>\n",
       "      <td>0.000000</td>\n",
       "      <td>0.000000</td>\n",
       "      <td>1.0</td>\n",
       "      <td>NaN</td>\n",
       "      <td>NaN</td>\n",
       "      <td>1.25910</td>\n",
       "      <td>NaN</td>\n",
       "    </tr>\n",
       "    <tr>\n",
       "      <th>1</th>\n",
       "      <td>2004-01-01 01:00:00</td>\n",
       "      <td>1.25958</td>\n",
       "      <td>1.25960</td>\n",
       "      <td>1.25947</td>\n",
       "      <td>1.25951</td>\n",
       "      <td>660.6000</td>\n",
       "      <td>1.25942</td>\n",
       "      <td>1.25948</td>\n",
       "      <td>1.25934</td>\n",
       "      <td>1.25941</td>\n",
       "      <td>...</td>\n",
       "      <td>0.000326</td>\n",
       "      <td>0.000000</td>\n",
       "      <td>0.000000</td>\n",
       "      <td>0.000000</td>\n",
       "      <td>0.000000</td>\n",
       "      <td>0.0</td>\n",
       "      <td>NaN</td>\n",
       "      <td>NaN</td>\n",
       "      <td>NaN</td>\n",
       "      <td>NaN</td>\n",
       "    </tr>\n",
       "    <tr>\n",
       "      <th>2</th>\n",
       "      <td>2004-01-01 02:00:00</td>\n",
       "      <td>1.25955</td>\n",
       "      <td>1.25962</td>\n",
       "      <td>1.25944</td>\n",
       "      <td>1.25951</td>\n",
       "      <td>2091.0000</td>\n",
       "      <td>1.25945</td>\n",
       "      <td>1.25948</td>\n",
       "      <td>1.25927</td>\n",
       "      <td>1.25936</td>\n",
       "      <td>...</td>\n",
       "      <td>-0.000326</td>\n",
       "      <td>0.000000</td>\n",
       "      <td>0.000000</td>\n",
       "      <td>0.000000</td>\n",
       "      <td>0.000000</td>\n",
       "      <td>-1.0</td>\n",
       "      <td>1.25951</td>\n",
       "      <td>NaN</td>\n",
       "      <td>NaN</td>\n",
       "      <td>NaN</td>\n",
       "    </tr>\n",
       "    <tr>\n",
       "      <th>3</th>\n",
       "      <td>2004-01-01 03:00:00</td>\n",
       "      <td>1.25950</td>\n",
       "      <td>1.25965</td>\n",
       "      <td>1.25834</td>\n",
       "      <td>1.25869</td>\n",
       "      <td>10003.0996</td>\n",
       "      <td>1.25934</td>\n",
       "      <td>1.25953</td>\n",
       "      <td>1.25821</td>\n",
       "      <td>1.25854</td>\n",
       "      <td>...</td>\n",
       "      <td>-0.000651</td>\n",
       "      <td>0.000000</td>\n",
       "      <td>0.000000</td>\n",
       "      <td>0.000000</td>\n",
       "      <td>0.000000</td>\n",
       "      <td>1.0</td>\n",
       "      <td>NaN</td>\n",
       "      <td>NaN</td>\n",
       "      <td>1.25869</td>\n",
       "      <td>NaN</td>\n",
       "    </tr>\n",
       "    <tr>\n",
       "      <th>4</th>\n",
       "      <td>2004-01-01 04:00:00</td>\n",
       "      <td>1.25908</td>\n",
       "      <td>1.25960</td>\n",
       "      <td>1.25843</td>\n",
       "      <td>1.25950</td>\n",
       "      <td>7603.3999</td>\n",
       "      <td>1.25898</td>\n",
       "      <td>1.25948</td>\n",
       "      <td>1.25829</td>\n",
       "      <td>1.25940</td>\n",
       "      <td>...</td>\n",
       "      <td>0.001295</td>\n",
       "      <td>1.259262</td>\n",
       "      <td>0.000000</td>\n",
       "      <td>0.000000</td>\n",
       "      <td>0.000000</td>\n",
       "      <td>0.0</td>\n",
       "      <td>NaN</td>\n",
       "      <td>NaN</td>\n",
       "      <td>NaN</td>\n",
       "      <td>NaN</td>\n",
       "    </tr>\n",
       "    <tr>\n",
       "      <th>...</th>\n",
       "      <td>...</td>\n",
       "      <td>...</td>\n",
       "      <td>...</td>\n",
       "      <td>...</td>\n",
       "      <td>...</td>\n",
       "      <td>...</td>\n",
       "      <td>...</td>\n",
       "      <td>...</td>\n",
       "      <td>...</td>\n",
       "      <td>...</td>\n",
       "      <td>...</td>\n",
       "      <td>...</td>\n",
       "      <td>...</td>\n",
       "      <td>...</td>\n",
       "      <td>...</td>\n",
       "      <td>...</td>\n",
       "      <td>...</td>\n",
       "      <td>...</td>\n",
       "      <td>...</td>\n",
       "      <td>...</td>\n",
       "      <td>...</td>\n",
       "    </tr>\n",
       "    <tr>\n",
       "      <th>102509</th>\n",
       "      <td>2020-05-29 19:00:00</td>\n",
       "      <td>1.10998</td>\n",
       "      <td>1.11070</td>\n",
       "      <td>1.10862</td>\n",
       "      <td>1.10998</td>\n",
       "      <td>12120.8398</td>\n",
       "      <td>1.10995</td>\n",
       "      <td>1.11066</td>\n",
       "      <td>1.10859</td>\n",
       "      <td>1.10997</td>\n",
       "      <td>...</td>\n",
       "      <td>-0.000739</td>\n",
       "      <td>1.109920</td>\n",
       "      <td>1.110070</td>\n",
       "      <td>1.106276</td>\n",
       "      <td>1.097224</td>\n",
       "      <td>1.0</td>\n",
       "      <td>NaN</td>\n",
       "      <td>NaN</td>\n",
       "      <td>1.10998</td>\n",
       "      <td>NaN</td>\n",
       "    </tr>\n",
       "    <tr>\n",
       "      <th>102510</th>\n",
       "      <td>2020-05-29 20:00:00</td>\n",
       "      <td>1.10997</td>\n",
       "      <td>1.11094</td>\n",
       "      <td>1.10982</td>\n",
       "      <td>1.11071</td>\n",
       "      <td>4646.7427</td>\n",
       "      <td>1.10993</td>\n",
       "      <td>1.11085</td>\n",
       "      <td>1.10979</td>\n",
       "      <td>1.11036</td>\n",
       "      <td>...</td>\n",
       "      <td>0.000649</td>\n",
       "      <td>1.109922</td>\n",
       "      <td>1.110212</td>\n",
       "      <td>1.106510</td>\n",
       "      <td>1.097302</td>\n",
       "      <td>1.0</td>\n",
       "      <td>NaN</td>\n",
       "      <td>NaN</td>\n",
       "      <td>1.11071</td>\n",
       "      <td>NaN</td>\n",
       "    </tr>\n",
       "    <tr>\n",
       "      <th>102511</th>\n",
       "      <td>2020-05-31 21:00:00</td>\n",
       "      <td>1.11213</td>\n",
       "      <td>1.11217</td>\n",
       "      <td>1.11136</td>\n",
       "      <td>1.11141</td>\n",
       "      <td>417.4906</td>\n",
       "      <td>1.11129</td>\n",
       "      <td>1.11194</td>\n",
       "      <td>1.11123</td>\n",
       "      <td>1.11130</td>\n",
       "      <td>...</td>\n",
       "      <td>-0.000027</td>\n",
       "      <td>1.110242</td>\n",
       "      <td>1.110356</td>\n",
       "      <td>1.106743</td>\n",
       "      <td>1.097392</td>\n",
       "      <td>0.0</td>\n",
       "      <td>NaN</td>\n",
       "      <td>NaN</td>\n",
       "      <td>NaN</td>\n",
       "      <td>NaN</td>\n",
       "    </tr>\n",
       "    <tr>\n",
       "      <th>102512</th>\n",
       "      <td>2020-05-31 22:00:00</td>\n",
       "      <td>1.11138</td>\n",
       "      <td>1.11148</td>\n",
       "      <td>1.11028</td>\n",
       "      <td>1.11123</td>\n",
       "      <td>4549.1167</td>\n",
       "      <td>1.11130</td>\n",
       "      <td>1.11144</td>\n",
       "      <td>1.11023</td>\n",
       "      <td>1.11118</td>\n",
       "      <td>...</td>\n",
       "      <td>-0.000792</td>\n",
       "      <td>1.110660</td>\n",
       "      <td>1.110488</td>\n",
       "      <td>1.106952</td>\n",
       "      <td>1.097474</td>\n",
       "      <td>1.0</td>\n",
       "      <td>NaN</td>\n",
       "      <td>NaN</td>\n",
       "      <td>1.11123</td>\n",
       "      <td>NaN</td>\n",
       "    </tr>\n",
       "    <tr>\n",
       "      <th>102513</th>\n",
       "      <td>2020-05-31 23:00:00</td>\n",
       "      <td>1.11123</td>\n",
       "      <td>1.11199</td>\n",
       "      <td>1.11119</td>\n",
       "      <td>1.11158</td>\n",
       "      <td>5159.8101</td>\n",
       "      <td>1.11119</td>\n",
       "      <td>1.11195</td>\n",
       "      <td>1.11113</td>\n",
       "      <td>1.11156</td>\n",
       "      <td>...</td>\n",
       "      <td>0.000000</td>\n",
       "      <td>1.110982</td>\n",
       "      <td>1.110655</td>\n",
       "      <td>1.107171</td>\n",
       "      <td>1.097563</td>\n",
       "      <td>0.0</td>\n",
       "      <td>NaN</td>\n",
       "      <td>NaN</td>\n",
       "      <td>NaN</td>\n",
       "      <td>NaN</td>\n",
       "    </tr>\n",
       "  </tbody>\n",
       "</table>\n",
       "<p>102514 rows × 25 columns</p>\n",
       "</div>"
      ],
      "text/plain": [
       "                  Gmt time     Open     High      Low    Close      Volume  \\\n",
       "0      2004-01-01 00:00:00  1.25950  1.25960  1.25826  1.25910   6654.2002   \n",
       "1      2004-01-01 01:00:00  1.25958  1.25960  1.25947  1.25951    660.6000   \n",
       "2      2004-01-01 02:00:00  1.25955  1.25962  1.25944  1.25951   2091.0000   \n",
       "3      2004-01-01 03:00:00  1.25950  1.25965  1.25834  1.25869  10003.0996   \n",
       "4      2004-01-01 04:00:00  1.25908  1.25960  1.25843  1.25950   7603.3999   \n",
       "...                    ...      ...      ...      ...      ...         ...   \n",
       "102509 2020-05-29 19:00:00  1.10998  1.11070  1.10862  1.10998  12120.8398   \n",
       "102510 2020-05-29 20:00:00  1.10997  1.11094  1.10982  1.11071   4646.7427   \n",
       "102511 2020-05-31 21:00:00  1.11213  1.11217  1.11136  1.11141    417.4906   \n",
       "102512 2020-05-31 22:00:00  1.11138  1.11148  1.11028  1.11123   4549.1167   \n",
       "102513 2020-05-31 23:00:00  1.11123  1.11199  1.11119  1.11158   5159.8101   \n",
       "\n",
       "        Open_Bid  High_Bid  Low_Bid  Close_Bid  ...  Pct_Range_Close_diff  \\\n",
       "0        1.25934   1.25948  1.25814    1.25900  ...              0.000000   \n",
       "1        1.25942   1.25948  1.25934    1.25941  ...              0.000326   \n",
       "2        1.25945   1.25948  1.25927    1.25936  ...             -0.000326   \n",
       "3        1.25934   1.25953  1.25821    1.25854  ...             -0.000651   \n",
       "4        1.25898   1.25948  1.25829    1.25940  ...              0.001295   \n",
       "...          ...       ...      ...        ...  ...                   ...   \n",
       "102509   1.10995   1.11066  1.10859    1.10997  ...             -0.000739   \n",
       "102510   1.10993   1.11085  1.10979    1.11036  ...              0.000649   \n",
       "102511   1.11129   1.11194  1.11123    1.11130  ...             -0.000027   \n",
       "102512   1.11130   1.11144  1.11023    1.11118  ...             -0.000792   \n",
       "102513   1.11119   1.11195  1.11113    1.11156  ...              0.000000   \n",
       "\n",
       "        MA_Close_5 MA_Close_25  MA_Close_50  MA_Close_200  Class     Sell  \\\n",
       "0         0.000000    0.000000     0.000000      0.000000    1.0      NaN   \n",
       "1         0.000000    0.000000     0.000000      0.000000    0.0      NaN   \n",
       "2         0.000000    0.000000     0.000000      0.000000   -1.0  1.25951   \n",
       "3         0.000000    0.000000     0.000000      0.000000    1.0      NaN   \n",
       "4         1.259262    0.000000     0.000000      0.000000    0.0      NaN   \n",
       "...            ...         ...          ...           ...    ...      ...   \n",
       "102509    1.109920    1.110070     1.106276      1.097224    1.0      NaN   \n",
       "102510    1.109922    1.110212     1.106510      1.097302    1.0      NaN   \n",
       "102511    1.110242    1.110356     1.106743      1.097392    0.0      NaN   \n",
       "102512    1.110660    1.110488     1.106952      1.097474    1.0      NaN   \n",
       "102513    1.110982    1.110655     1.107171      1.097563    0.0      NaN   \n",
       "\n",
       "        Sell2      Buy  Buy2  \n",
       "0         NaN  1.25910   NaN  \n",
       "1         NaN      NaN   NaN  \n",
       "2         NaN      NaN   NaN  \n",
       "3         NaN  1.25869   NaN  \n",
       "4         NaN      NaN   NaN  \n",
       "...       ...      ...   ...  \n",
       "102509    NaN  1.10998   NaN  \n",
       "102510    NaN  1.11071   NaN  \n",
       "102511    NaN      NaN   NaN  \n",
       "102512    NaN  1.11123   NaN  \n",
       "102513    NaN      NaN   NaN  \n",
       "\n",
       "[102514 rows x 25 columns]"
      ]
     },
     "execution_count": 35,
     "metadata": {},
     "output_type": "execute_result"
    }
   ],
   "source": [
    "DATASET_FULL"
   ]
  },
  {
   "cell_type": "markdown",
   "metadata": {},
   "source": [
    "### Save CSV File 'DF_EURUSD_ASK_1H_PROC.csv'"
   ]
  },
  {
   "cell_type": "code",
   "execution_count": 36,
   "metadata": {},
   "outputs": [
    {
     "name": "stdout",
     "output_type": "stream",
     "text": [
      "C-EURUSD_FULL_1H_25F.csv\n"
     ]
    }
   ],
   "source": [
    "#Get the Final number of Features\n",
    "NUM_FEATURES = str(DATASET_FULL.shape[1])\n",
    "filename = 'C-' + SOURCE_TYPE + '_' + FRECUENCIA + '_' + NUM_FEATURES + 'F.csv'\n",
    "print(filename)"
   ]
  },
  {
   "cell_type": "code",
   "execution_count": 37,
   "metadata": {},
   "outputs": [],
   "source": [
    "pwd = os.getcwd()\n",
    "filename_path = os.path.join(pwd, r'../../../Datasets/Junio2020/procesados_classification/' + filename)\n",
    "DATASET_FULL.to_csv(filename_path, header=True, index=False)"
   ]
  }
 ],
 "metadata": {
  "kernelspec": {
   "display_name": "Python 3",
   "language": "python",
   "name": "python3"
  },
  "language_info": {
   "codemirror_mode": {
    "name": "ipython",
    "version": 3
   },
   "file_extension": ".py",
   "mimetype": "text/x-python",
   "name": "python",
   "nbconvert_exporter": "python",
   "pygments_lexer": "ipython3",
   "version": "3.7.3"
  }
 },
 "nbformat": 4,
 "nbformat_minor": 2
}
