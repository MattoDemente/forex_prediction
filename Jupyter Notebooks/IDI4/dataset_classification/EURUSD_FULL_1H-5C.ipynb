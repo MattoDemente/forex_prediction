{
 "cells": [
  {
   "cell_type": "markdown",
   "metadata": {},
   "source": [
    "   #### Mawrer Amed Ramirez Martinez ms723737@iteso.mx\n",
    "   #### Avance de TOG IDI 4\n",
    "\n",
    "#  Ajuste de Dataset (Preparacion para Clasificacion)\n",
    "# El objetivo de este Notebook es SOLO agregar YHat\n"
   ]
  },
  {
   "cell_type": "code",
   "execution_count": 1,
   "metadata": {},
   "outputs": [],
   "source": [
    "import numpy as np\n",
    "np.random.seed(1)\n",
    "import matplotlib.pyplot as plt\n",
    "from datetime import datetime\n",
    "import seaborn as sns\n",
    "import pandas as pd\n",
    "import os, glob"
   ]
  },
  {
   "cell_type": "code",
   "execution_count": 2,
   "metadata": {},
   "outputs": [],
   "source": [
    "import warnings\n",
    "warnings.filterwarnings(\"ignore\")"
   ]
  },
  {
   "cell_type": "code",
   "execution_count": 3,
   "metadata": {},
   "outputs": [],
   "source": [
    "SOURCE_TYPE = \"EURUSD_FULL\"\n",
    "FRECUENCIA = \"1H\"\n",
    "NUM_FEATURES = 0"
   ]
  },
  {
   "cell_type": "code",
   "execution_count": 4,
   "metadata": {},
   "outputs": [
    {
     "name": "stdout",
     "output_type": "stream",
     "text": [
      "R-EURUSD_FULL_1H_44F.csv\n",
      "R-EURUSD_FULL_1H_49F.csv\n"
     ]
    }
   ],
   "source": [
    "pwd = os.getcwd()\n",
    "datasource_path = os.path.join(pwd, r'../../../Datasets/Junio2020/procesados-regression/')\n",
    "filenames = glob.glob(datasource_path + \"/*.csv\")\n",
    "filenames.sort()\n",
    "for file in filenames:\n",
    "    print(os.path.basename(file))"
   ]
  },
  {
   "cell_type": "markdown",
   "metadata": {},
   "source": [
    "## Read CSV"
   ]
  },
  {
   "cell_type": "markdown",
   "metadata": {},
   "source": [
    "### Read Dataset From Regression"
   ]
  },
  {
   "cell_type": "code",
   "execution_count": 5,
   "metadata": {},
   "outputs": [
    {
     "name": "stdout",
     "output_type": "stream",
     "text": [
      "                  Gmt time     Open     High      Low    Close      Volume  \\\n",
      "0      2004-01-01 00:00:00  1.25950  1.25960  1.25826  1.25910   6654.2002   \n",
      "1      2004-01-01 01:00:00  1.25958  1.25960  1.25947  1.25951    660.6000   \n",
      "2      2004-01-01 02:00:00  1.25955  1.25962  1.25944  1.25951   2091.0000   \n",
      "3      2004-01-01 03:00:00  1.25950  1.25965  1.25834  1.25869  10003.0996   \n",
      "4      2004-01-01 04:00:00  1.25908  1.25960  1.25843  1.25950   7603.3999   \n",
      "...                    ...      ...      ...      ...      ...         ...   \n",
      "102509 2020-05-29 19:00:00  1.10998  1.11070  1.10862  1.10998  12120.8398   \n",
      "102510 2020-05-29 20:00:00  1.10997  1.11094  1.10982  1.11071   4646.7427   \n",
      "102511 2020-05-31 21:00:00  1.11213  1.11217  1.11136  1.11141    417.4906   \n",
      "102512 2020-05-31 22:00:00  1.11138  1.11148  1.11028  1.11123   4549.1167   \n",
      "102513 2020-05-31 23:00:00  1.11123  1.11199  1.11119  1.11158   5159.8101   \n",
      "\n",
      "        Open_Bid  High_Bid  Low_Bid  Close_Bid  ...        R3        S3  \\\n",
      "0        1.25934   1.25948  1.25814    1.25900  ...  1.261053  1.257033   \n",
      "1        1.25942   1.25948  1.25934    1.25941  ...  1.259713  1.259323   \n",
      "2        1.25945   1.25948  1.25927    1.25936  ...  1.259787  1.259247   \n",
      "3        1.25934   1.25953  1.25821    1.25854  ...  1.260757  1.256827   \n",
      "4        1.25898   1.25948  1.25829    1.25940  ...  1.261093  1.257583   \n",
      "...          ...       ...      ...        ...  ...       ...       ...   \n",
      "102509   1.10995   1.11066  1.10859    1.10997  ...  1.112993  1.106753   \n",
      "102510   1.10993   1.11085  1.10979    1.11036  ...  1.112280  1.108920   \n",
      "102511   1.11129   1.11194  1.11123    1.11130  ...  1.112743  1.110313   \n",
      "102512   1.11130   1.11144  1.11023    1.11118  ...  1.112913  1.109313   \n",
      "102513   1.11119   1.11195  1.11113    1.11156  ...  1.112783  1.110383   \n",
      "\n",
      "            SO%k     SO%k1     SO%d2    Trix_5  MACD_5_25  MACDsign_5_25  \\\n",
      "0       0.626866  0.626866  0.626866  0.000000   0.000000       0.000000   \n",
      "1       0.307692  0.307692  0.387486  0.000000   0.000000       0.000000   \n",
      "2       0.388889  0.388889  0.388457  0.000000   0.000000       0.000000   \n",
      "3       0.267176  0.267176  0.306592  0.000000   0.000000       0.000000   \n",
      "4       0.914530  0.914530  0.713559  0.000000   0.000000       0.000000   \n",
      "...          ...       ...       ...       ...        ...            ...   \n",
      "102509  0.653846  0.653846  0.698491 -0.000202   0.000658       0.001882   \n",
      "102510  0.794643  0.794643  0.762592 -0.000172   0.000735       0.001653   \n",
      "102511  0.061728  0.061728  0.295350 -0.000105   0.000943       0.001511   \n",
      "102512  0.791667  0.791667  0.626228 -0.000047   0.001000       0.001409   \n",
      "102513  0.487500  0.487500  0.533743  0.000007   0.001100       0.001347   \n",
      "\n",
      "        MACDdiff_5_25  Mass_Index_25_8_9  \n",
      "0            0.000000          24.237076  \n",
      "1            0.000000          24.237076  \n",
      "2            0.000000          24.237076  \n",
      "3            0.000000          24.237076  \n",
      "4            0.000000          24.237076  \n",
      "...               ...                ...  \n",
      "102509      -0.001224          25.246677  \n",
      "102510      -0.000918          25.191516  \n",
      "102511      -0.000568          25.140431  \n",
      "102512      -0.000408          25.118420  \n",
      "102513      -0.000247          25.103184  \n",
      "\n",
      "[102514 rows x 44 columns]\n",
      "(102514, 44)\n"
     ]
    }
   ],
   "source": [
    "if FRECUENCIA ==\"1D\":\n",
    "    dateparse = lambda x: pd.datetime.strptime(x, '%Y-%m-%d')\n",
    "else:\n",
    "    dateparse = lambda x: pd.datetime.strptime(x, '%Y-%m-%d %H:%M:%S')\n",
    "DATASET_FULL = pd.read_csv(filenames[0], header=0, parse_dates=['Gmt time'], date_parser=dateparse)\n",
    "print(DATASET_FULL)\n",
    "print(DATASET_FULL.shape)"
   ]
  },
  {
   "cell_type": "code",
   "execution_count": 7,
   "metadata": {},
   "outputs": [],
   "source": [
    "#DEFINE VALUES\n",
    "NEG_UNO = -0.00018\n",
    "UNO = 0.00018\n",
    "NEG_DOS = -0.00063\n",
    "DOS = 0.00063"
   ]
  },
  {
   "cell_type": "code",
   "execution_count": 8,
   "metadata": {},
   "outputs": [
    {
     "data": {
      "text/plain": [
       "<matplotlib.lines.Line2D at 0x120a7c780>"
      ]
     },
     "execution_count": 8,
     "metadata": {},
     "output_type": "execute_result"
    },
    {
     "data": {
      "image/png": "[encoded data removed]",
      "text/plain": [
       "<Figure size 1296x360 with 1 Axes>"
      ]
     },
     "metadata": {
      "needs_background": "light"
     },
     "output_type": "display_data"
    }
   ],
   "source": [
    "plt.figure(figsize=(18,5))\n",
    "sns.distplot(DATASET_FULL['Pct_Range_Close']);\n",
    "plt.axvline(UNO, 0, 1, linewidth=1, color='r')\n",
    "plt.axvline(NEG_UNO, 0, 1, linewidth=1, color='r')\n",
    "plt.axvline(DOS, 0, 1, linewidth=1, color='g')\n",
    "plt.axvline(NEG_DOS, 0, 1, linewidth=1, color='g')"
   ]
  },
  {
   "cell_type": "markdown",
   "metadata": {},
   "source": [
    "### Add Col 'YHat' "
   ]
  },
  {
   "cell_type": "code",
   "execution_count": 17,
   "metadata": {},
   "outputs": [
    {
     "name": "stdout",
     "output_type": "stream",
     "text": [
      "0    1.0\n",
      "1    0.0\n",
      "2   -2.0\n",
      "3    2.0\n",
      "4    0.0\n",
      "Name: Class, dtype: float64\n"
     ]
    }
   ],
   "source": [
    "DATASET_FULL['Class'] = 0\n",
    "\n",
    "DATASET_FULL.loc[DATASET_FULL['Pct_Range_Close'] <= NEG_UNO, 'Class'] = -1\n",
    "DATASET_FULL.loc[DATASET_FULL['Pct_Range_Close'] >= UNO, 'Class'] = 1\n",
    "\n",
    "DATASET_FULL.loc[DATASET_FULL['Pct_Range_Close'] <= NEG_DOS, 'Class'] = -2\n",
    "DATASET_FULL.loc[DATASET_FULL['Pct_Range_Close'] >=  DOS, 'Class'] = 2\n",
    "\n",
    "DATASET_FULL['Class'] = DATASET_FULL['Class'].shift(-1)\n",
    "DATASET_FULL['Class'].fillna(0, inplace=True)\n",
    "print(DATASET_FULL['Class'].head(5))"
   ]
  },
  {
   "cell_type": "code",
   "execution_count": 18,
   "metadata": {},
   "outputs": [
    {
     "name": "stdout",
     "output_type": "stream",
     "text": [
      " 0.0    22655\n",
      " 2.0    20838\n",
      "-2.0    20758\n",
      " 1.0    19289\n",
      "-1.0    18974\n",
      "Name: Class, dtype: int64\n"
     ]
    }
   ],
   "source": [
    "print(DATASET_FULL['Class'].value_counts())"
   ]
  },
  {
   "cell_type": "code",
   "execution_count": 19,
   "metadata": {},
   "outputs": [
    {
     "data": {
      "text/plain": [
       "count    102514.000000\n",
       "mean          0.004634\n",
       "std           1.412898\n",
       "min          -2.000000\n",
       "25%          -1.000000\n",
       "50%           0.000000\n",
       "75%           1.000000\n",
       "max           2.000000\n",
       "Name: Class, dtype: float64"
      ]
     },
     "execution_count": 19,
     "metadata": {},
     "output_type": "execute_result"
    }
   ],
   "source": [
    "DATASET_FULL['Class'].describe()"
   ]
  },
  {
   "cell_type": "code",
   "execution_count": 20,
   "metadata": {},
   "outputs": [
    {
     "data": {
      "text/plain": [
       "<matplotlib.lines.Line2D at 0x1212b46a0>"
      ]
     },
     "execution_count": 20,
     "metadata": {},
     "output_type": "execute_result"
    },
    {
     "data": {
      "image/png": "[encoded data removed]",
      "text/plain": [
       "<Figure size 1296x360 with 1 Axes>"
      ]
     },
     "metadata": {
      "needs_background": "light"
     },
     "output_type": "display_data"
    }
   ],
   "source": [
    "plt.figure(figsize=(18,5))\n",
    "sns.distplot(DATASET_FULL['Class'],kde=False);\n",
    "plt.axvline(UNO, 0, 1, linewidth=1, color='r')\n",
    "plt.axvline(NEG_DOS, 0, 1, linewidth=1, color='r')\n",
    "plt.axvline(DOS, 0, 1, linewidth=1, color='g')\n",
    "plt.axvline(NEG_DOS, 0, 1, linewidth=1, color='g')"
   ]
  },
  {
   "cell_type": "code",
   "execution_count": 21,
   "metadata": {},
   "outputs": [
    {
     "data": {
      "text/html": [
       "<div>\n",
       "<style scoped>\n",
       "    .dataframe tbody tr th:only-of-type {\n",
       "        vertical-align: middle;\n",
       "    }\n",
       "\n",
       "    .dataframe tbody tr th {\n",
       "        vertical-align: top;\n",
       "    }\n",
       "\n",
       "    .dataframe thead th {\n",
       "        text-align: right;\n",
       "    }\n",
       "</style>\n",
       "<table border=\"1\" class=\"dataframe\">\n",
       "  <thead>\n",
       "    <tr style=\"text-align: right;\">\n",
       "      <th></th>\n",
       "      <th>Close</th>\n",
       "      <th>Pct_Range_Close</th>\n",
       "      <th>Class</th>\n",
       "    </tr>\n",
       "  </thead>\n",
       "  <tbody>\n",
       "    <tr>\n",
       "      <th>0</th>\n",
       "      <td>1.25910</td>\n",
       "      <td>0.000000</td>\n",
       "      <td>1.0</td>\n",
       "    </tr>\n",
       "    <tr>\n",
       "      <th>1</th>\n",
       "      <td>1.25951</td>\n",
       "      <td>0.000326</td>\n",
       "      <td>0.0</td>\n",
       "    </tr>\n",
       "    <tr>\n",
       "      <th>2</th>\n",
       "      <td>1.25951</td>\n",
       "      <td>0.000000</td>\n",
       "      <td>-2.0</td>\n",
       "    </tr>\n",
       "    <tr>\n",
       "      <th>3</th>\n",
       "      <td>1.25869</td>\n",
       "      <td>-0.000651</td>\n",
       "      <td>2.0</td>\n",
       "    </tr>\n",
       "    <tr>\n",
       "      <th>4</th>\n",
       "      <td>1.25950</td>\n",
       "      <td>0.000644</td>\n",
       "      <td>0.0</td>\n",
       "    </tr>\n",
       "    <tr>\n",
       "      <th>5</th>\n",
       "      <td>1.25955</td>\n",
       "      <td>0.000040</td>\n",
       "      <td>0.0</td>\n",
       "    </tr>\n",
       "    <tr>\n",
       "      <th>6</th>\n",
       "      <td>1.25948</td>\n",
       "      <td>-0.000056</td>\n",
       "      <td>-1.0</td>\n",
       "    </tr>\n",
       "    <tr>\n",
       "      <th>7</th>\n",
       "      <td>1.25910</td>\n",
       "      <td>-0.000302</td>\n",
       "      <td>0.0</td>\n",
       "    </tr>\n",
       "    <tr>\n",
       "      <th>8</th>\n",
       "      <td>1.25907</td>\n",
       "      <td>-0.000024</td>\n",
       "      <td>0.0</td>\n",
       "    </tr>\n",
       "    <tr>\n",
       "      <th>9</th>\n",
       "      <td>1.25917</td>\n",
       "      <td>0.000079</td>\n",
       "      <td>0.0</td>\n",
       "    </tr>\n",
       "  </tbody>\n",
       "</table>\n",
       "</div>"
      ],
      "text/plain": [
       "     Close  Pct_Range_Close  Class\n",
       "0  1.25910         0.000000    1.0\n",
       "1  1.25951         0.000326    0.0\n",
       "2  1.25951         0.000000   -2.0\n",
       "3  1.25869        -0.000651    2.0\n",
       "4  1.25950         0.000644    0.0\n",
       "5  1.25955         0.000040    0.0\n",
       "6  1.25948        -0.000056   -1.0\n",
       "7  1.25910        -0.000302    0.0\n",
       "8  1.25907        -0.000024    0.0\n",
       "9  1.25917         0.000079    0.0"
      ]
     },
     "execution_count": 21,
     "metadata": {},
     "output_type": "execute_result"
    }
   ],
   "source": [
    "DATASET_FULL[['Close','Pct_Range_Close','Class']].head(10)"
   ]
  },
  {
   "cell_type": "markdown",
   "metadata": {},
   "source": [
    "### Save CSV File 'DF_EURUSD_ASK_1H_PROC.csv'"
   ]
  },
  {
   "cell_type": "code",
   "execution_count": 22,
   "metadata": {},
   "outputs": [
    {
     "name": "stdout",
     "output_type": "stream",
     "text": [
      "C-EURUSD_FULL_1H_45F.csv\n"
     ]
    }
   ],
   "source": [
    "#Get the Final number of Features\n",
    "NUM_FEATURES = str(DATASET_FULL.shape[1])\n",
    "filename = 'C-' + SOURCE_TYPE + '_' + FRECUENCIA + '_' + NUM_FEATURES + 'F.csv'\n",
    "print(filename)"
   ]
  },
  {
   "cell_type": "code",
   "execution_count": 23,
   "metadata": {},
   "outputs": [],
   "source": [
    "pwd = os.getcwd()\n",
    "filename_path = os.path.join(pwd, r'../../../Datasets/Junio2020/procesados_classification/' + filename)\n",
    "DATASET_FULL.to_csv(filename_path, header=True, index=False)"
   ]
  }
 ],
 "metadata": {
  "kernelspec": {
   "display_name": "Python 3",
   "language": "python",
   "name": "python3"
  },
  "language_info": {
   "codemirror_mode": {
    "name": "ipython",
    "version": 3
   },
   "file_extension": ".py",
   "mimetype": "text/x-python",
   "name": "python",
   "nbconvert_exporter": "python",
   "pygments_lexer": "ipython3",
   "version": "3.7.3"
  }
 },
 "nbformat": 4,
 "nbformat_minor": 2
}
