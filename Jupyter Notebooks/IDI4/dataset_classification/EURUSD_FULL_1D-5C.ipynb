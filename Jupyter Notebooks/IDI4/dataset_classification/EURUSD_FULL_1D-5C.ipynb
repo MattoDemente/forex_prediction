{
 "cells": [
  {
   "cell_type": "markdown",
   "metadata": {},
   "source": [
    "   #### Mawrer Amed Ramirez Martinez ms723737@iteso.mx\n",
    "   #### Avance de TOG IDI 4\n",
    "\n",
    "#  Ajuste de Dataset (Preparacion para Clasificacion)\n",
    "# El objetivo de este Notebook es SOLO agregar YHat\n"
   ]
  },
  {
   "cell_type": "code",
   "execution_count": 1,
   "metadata": {},
   "outputs": [],
   "source": [
    "import matplotlib.pyplot as plt\n",
    "from datetime import datetime\n",
    "import seaborn as sns\n",
    "import pandas as pd\n",
    "import os, glob"
   ]
  },
  {
   "cell_type": "code",
   "execution_count": 3,
   "metadata": {},
   "outputs": [],
   "source": [
    "import warnings\n",
    "warnings.filterwarnings(\"ignore\")"
   ]
  },
  {
   "cell_type": "code",
   "execution_count": 3,
   "metadata": {},
   "outputs": [],
   "source": [
    "SOURCE_TYPE = \"EURUSD_FULL\"\n",
    "FRECUENCIA = \"1D\"\n",
    "NUM_FEATURES = 0"
   ]
  },
  {
   "cell_type": "code",
   "execution_count": 4,
   "metadata": {},
   "outputs": [
    {
     "name": "stdout",
     "output_type": "stream",
     "text": [
      "EURUSD_ASK_1H_14F.csv\n",
      "EURUSD_FULL_1D_20F.csv\n",
      "EURUSD_FULL_1H_20F.csv\n",
      "EURUSD_FULL_1M_20F.csv\n",
      "EURUSD_FULL_4H_20F.csv\n"
     ]
    }
   ],
   "source": [
    "pwd = os.getcwd()\n",
    "datasource_path = os.path.join(pwd, r'../../../Datasets/Junio2020/procesados/')\n",
    "filenames = glob.glob(datasource_path + \"/*.csv\")\n",
    "filenames.sort()\n",
    "for file in filenames:\n",
    "    print(os.path.basename(file))"
   ]
  },
  {
   "cell_type": "markdown",
   "metadata": {},
   "source": [
    "## Read CSV"
   ]
  },
  {
   "cell_type": "markdown",
   "metadata": {},
   "source": [
    "### Read Dataset From Regression"
   ]
  },
  {
   "cell_type": "code",
   "execution_count": 5,
   "metadata": {},
   "outputs": [
    {
     "name": "stdout",
     "output_type": "stream",
     "text": [
      "       Gmt time     Open     High      Low    Close        Volume  Open_Bid  \\\n",
      "0    2004-01-01  1.25950  1.26052  1.24698  1.25733  4.621817e+05   1.25934   \n",
      "1    2004-01-02  1.25717  1.26282  1.25214  1.25832  1.066578e+06   1.25701   \n",
      "2    2004-01-04  1.25925  1.26487  1.25789  1.26318  6.879980e+04   1.25855   \n",
      "3    2004-01-05  1.26324  1.26935  1.26301  1.26830  1.119689e+06   1.26308   \n",
      "4    2004-01-06  1.26836  1.28093  1.26666  1.27150  1.125442e+06   1.26820   \n",
      "...         ...      ...      ...      ...      ...           ...       ...   \n",
      "5132 2020-05-26  1.09019  1.09960  1.08970  1.09787  2.219154e+05   1.09015   \n",
      "5133 2020-05-27  1.09788  1.10311  1.09342  1.10169  3.392159e+05   1.09785   \n",
      "5134 2020-05-28  1.10168  1.10937  1.09919  1.10782  2.907155e+05   1.10165   \n",
      "5135 2020-05-29  1.10780  1.11452  1.10702  1.11071  3.306924e+05   1.10778   \n",
      "5136 2020-05-31  1.11213  1.11217  1.11028  1.11158  1.012642e+04   1.11129   \n",
      "\n",
      "      High_Bid  Low_Bid  Close_Bid    Volume_Bid   Spread   day_name  weekday  \\\n",
      "0      1.26035  1.24679    1.25723  5.597896e+05  0.00010   Thursday        3   \n",
      "1      1.26263  1.25198    1.25806  1.277971e+06  0.00026     Friday        4   \n",
      "2      1.26477  1.25779    1.26308  8.372040e+04  0.00010     Sunday        6   \n",
      "3      1.26924  1.26288    1.26820  1.353480e+06  0.00010     Monday        0   \n",
      "4      1.28083  1.26650    1.27140  1.354807e+06  0.00010    Tuesday        1   \n",
      "...        ...      ...        ...           ...      ...        ...      ...   \n",
      "5132   1.09957  1.08969    1.09784  2.075363e+05  0.00003    Tuesday        1   \n",
      "5133   1.10307  1.09340    1.10166  3.194905e+05  0.00003  Wednesday        2   \n",
      "5134   1.10934  1.09916    1.10779  2.312052e+05  0.00003   Thursday        3   \n",
      "5135   1.11451  1.10698    1.11036  3.730174e+05  0.00035     Friday        4   \n",
      "5136   1.11195  1.11023    1.11156  9.217483e+03  0.00002     Sunday        6   \n",
      "\n",
      "      Pct_Range_Close  Pct_Range_Close_diff  MA_Close_5  MA_Close_25  \\\n",
      "0            0.000000              0.000000    0.000000     0.000000   \n",
      "1            0.000787              0.000787    0.000000     0.000000   \n",
      "2            0.003862              0.003075    0.000000     0.000000   \n",
      "3            0.004053              0.000191    0.000000     0.000000   \n",
      "4            0.002523             -0.001530    1.263726     0.000000   \n",
      "...               ...                   ...         ...          ...   \n",
      "5132         0.007045              0.007631    1.092892     1.088177   \n",
      "5133         0.003479             -0.003565    1.094242     1.088913   \n",
      "5134         0.005564              0.002085    1.097680     1.089716   \n",
      "5135         0.002609             -0.002955    1.101656     1.090363   \n",
      "5136         0.000783              0.000000    1.105934     1.090895   \n",
      "\n",
      "      MA_Close_50  MA_Close_200  \n",
      "0        0.000000      0.000000  \n",
      "1        0.000000      0.000000  \n",
      "2        0.000000      0.000000  \n",
      "3        0.000000      0.000000  \n",
      "4        0.000000      0.000000  \n",
      "...           ...           ...  \n",
      "5132     1.088072      1.101322  \n",
      "5133     1.088046      1.101344  \n",
      "5134     1.088150      1.101403  \n",
      "5135     1.088460      1.101465  \n",
      "5136     1.088999      1.101517  \n",
      "\n",
      "[5137 rows x 20 columns]\n",
      "(5137, 20)\n"
     ]
    },
    {
     "name": "stderr",
     "output_type": "stream",
     "text": [
      "/Users/marami3/anaconda3/lib/python3.7/site-packages/ipykernel_launcher.py:2: FutureWarning: The pandas.datetime class is deprecated and will be removed from pandas in a future version. Import from datetime module instead.\n",
      "  \n"
     ]
    }
   ],
   "source": [
    "if FRECUENCIA ==\"1D\":\n",
    "    dateparse = lambda x: pd.datetime.strptime(x, '%Y-%m-%d')\n",
    "else:\n",
    "    dateparse = lambda x: pd.datetime.strptime(x, '%Y-%m-%d %H:%M:%S')\n",
    "DATASET_FULL = pd.read_csv(filenames[1], header=0, parse_dates=['Gmt time'], date_parser=dateparse)\n",
    "print(DATASET_FULL)\n",
    "print(DATASET_FULL.shape)"
   ]
  },
  {
   "cell_type": "markdown",
   "metadata": {},
   "source": [
    "### Add Col 'YHat' "
   ]
  },
  {
   "cell_type": "code",
   "execution_count": 6,
   "metadata": {},
   "outputs": [
    {
     "name": "stdout",
     "output_type": "stream",
     "text": [
      "    Gmt time     Open     High      Low    Close        Volume  Open_Bid  \\\n",
      "0 2004-01-01  1.25950  1.26052  1.24698  1.25733  4.621817e+05   1.25934   \n",
      "1 2004-01-02  1.25717  1.26282  1.25214  1.25832  1.066578e+06   1.25701   \n",
      "2 2004-01-04  1.25925  1.26487  1.25789  1.26318  6.879980e+04   1.25855   \n",
      "3 2004-01-05  1.26324  1.26935  1.26301  1.26830  1.119689e+06   1.26308   \n",
      "4 2004-01-06  1.26836  1.28093  1.26666  1.27150  1.125442e+06   1.26820   \n",
      "\n",
      "   High_Bid  Low_Bid  Close_Bid  ...   Spread  day_name weekday  \\\n",
      "0   1.26035  1.24679    1.25723  ...  0.00010  Thursday       3   \n",
      "1   1.26263  1.25198    1.25806  ...  0.00026    Friday       4   \n",
      "2   1.26477  1.25779    1.26308  ...  0.00010    Sunday       6   \n",
      "3   1.26924  1.26288    1.26820  ...  0.00010    Monday       0   \n",
      "4   1.28083  1.26650    1.27140  ...  0.00010   Tuesday       1   \n",
      "\n",
      "   Pct_Range_Close  Pct_Range_Close_diff  MA_Close_5  MA_Close_25  \\\n",
      "0         0.000000              0.000000    0.000000          0.0   \n",
      "1         0.000787              0.000787    0.000000          0.0   \n",
      "2         0.003862              0.003075    0.000000          0.0   \n",
      "3         0.004053              0.000191    0.000000          0.0   \n",
      "4         0.002523             -0.001530    1.263726          0.0   \n",
      "\n",
      "   MA_Close_50  MA_Close_200  Class  \n",
      "0          0.0           0.0      0  \n",
      "1          0.0           0.0      1  \n",
      "2          0.0           0.0      2  \n",
      "3          0.0           0.0      2  \n",
      "4          0.0           0.0      1  \n",
      "\n",
      "[5 rows x 21 columns]\n"
     ]
    }
   ],
   "source": [
    "DATASET_FULL['Class'] = 0\n",
    "\n",
    "\n",
    "NEG_UNO = -0.0007\n",
    "UNO = 0.0007\n",
    "NEG_DOS = -0.0035\n",
    "DOS = 0.0035\n",
    "\n",
    "DATASET_FULL.loc[DATASET_FULL['Pct_Range_Close'] <= NEG_UNO, 'Class'] = -1\n",
    "DATASET_FULL.loc[DATASET_FULL['Pct_Range_Close'] >= UNO, 'Class'] = 1\n",
    "\n",
    "DATASET_FULL.loc[DATASET_FULL['Pct_Range_Close'] <= NEG_DOS, 'Class'] = -2\n",
    "DATASET_FULL.loc[DATASET_FULL['Pct_Range_Close'] >=  DOS, 'Class'] = 2\n",
    "print(DATASET_FULL.head())"
   ]
  },
  {
   "cell_type": "code",
   "execution_count": 7,
   "metadata": {},
   "outputs": [
    {
     "data": {
      "text/plain": [
       "0       0\n",
       "1       1\n",
       "2       2\n",
       "3       2\n",
       "4       1\n",
       "       ..\n",
       "5132    2\n",
       "5133    1\n",
       "5134    2\n",
       "5135    1\n",
       "5136    1\n",
       "Name: Class, Length: 5137, dtype: int64"
      ]
     },
     "execution_count": 7,
     "metadata": {},
     "output_type": "execute_result"
    }
   ],
   "source": [
    "DATASET_FULL['Class']"
   ]
  },
  {
   "cell_type": "code",
   "execution_count": 8,
   "metadata": {},
   "outputs": [],
   "source": [
    "DATASET_FULL['Class'] = DATASET_FULL['Class'].shift(-1)"
   ]
  },
  {
   "cell_type": "code",
   "execution_count": 9,
   "metadata": {},
   "outputs": [
    {
     "data": {
      "text/plain": [
       "0       1.0\n",
       "1       2.0\n",
       "2       2.0\n",
       "3       1.0\n",
       "4      -2.0\n",
       "       ... \n",
       "5132    1.0\n",
       "5133    2.0\n",
       "5134    1.0\n",
       "5135    1.0\n",
       "5136    0.0\n",
       "Name: Class, Length: 5137, dtype: float64"
      ]
     },
     "execution_count": 9,
     "metadata": {},
     "output_type": "execute_result"
    }
   ],
   "source": [
    "DATASET_FULL['Class'].fillna(0, inplace=True)\n",
    "DATASET_FULL['Class']"
   ]
  },
  {
   "cell_type": "code",
   "execution_count": 10,
   "metadata": {
    "scrolled": true
   },
   "outputs": [
    {
     "data": {
      "text/plain": [
       "<matplotlib.lines.Line2D at 0x107e479e8>"
      ]
     },
     "execution_count": 10,
     "metadata": {},
     "output_type": "execute_result"
    },
    {
     "data": {
      "image/png": "[encoded data removed]",
      "text/plain": [
       "<Figure size 1296x360 with 1 Axes>"
      ]
     },
     "metadata": {
      "needs_background": "light"
     },
     "output_type": "display_data"
    }
   ],
   "source": [
    "plt.figure(figsize=(18,5))\n",
    "sns.distplot(DATASET_FULL['Pct_Range_Close']);\n",
    "plt.axvline(UNO, 0, 1, linewidth=1, color='r')\n",
    "plt.axvline(NEG_UNO, 0, 1, linewidth=1, color='r')\n",
    "plt.axvline(DOS, 0, 1, linewidth=1, color='g')\n",
    "plt.axvline(NEG_DOS, 0, 1, linewidth=1, color='g')"
   ]
  },
  {
   "cell_type": "code",
   "execution_count": 11,
   "metadata": {},
   "outputs": [
    {
     "data": {
      "text/plain": [
       "count    5137.000000\n",
       "mean       -0.003309\n",
       "std         1.437221\n",
       "min        -2.000000\n",
       "25%        -1.000000\n",
       "50%         0.000000\n",
       "75%         1.000000\n",
       "max         2.000000\n",
       "Name: Class, dtype: float64"
      ]
     },
     "execution_count": 11,
     "metadata": {},
     "output_type": "execute_result"
    }
   ],
   "source": [
    "DATASET_FULL['Class'].describe()"
   ]
  },
  {
   "cell_type": "code",
   "execution_count": 12,
   "metadata": {},
   "outputs": [
    {
     "data": {
      "text/plain": [
       "<matplotlib.lines.Line2D at 0x11ccacac8>"
      ]
     },
     "execution_count": 12,
     "metadata": {},
     "output_type": "execute_result"
    },
    {
     "data": {
      "image/png": "[encoded data removed]",
      "text/plain": [
       "<Figure size 1296x360 with 1 Axes>"
      ]
     },
     "metadata": {
      "needs_background": "light"
     },
     "output_type": "display_data"
    }
   ],
   "source": [
    "plt.figure(figsize=(18,5))\n",
    "sns.distplot(DATASET_FULL['Class']);\n",
    "plt.axvline(0.0008, 0, 1, linewidth=1, color='r')\n",
    "plt.axvline(-0.0008, 0, 1, linewidth=1, color='r')\n",
    "plt.axvline(0.005, 0, 1, linewidth=1, color='g')\n",
    "plt.axvline(-0.005, 0, 1, linewidth=1, color='g')"
   ]
  },
  {
   "cell_type": "code",
   "execution_count": 13,
   "metadata": {},
   "outputs": [
    {
     "data": {
      "text/plain": [
       " 2.0    1067\n",
       "-2.0    1066\n",
       "-1.0    1048\n",
       " 1.0    1029\n",
       " 0.0     927\n",
       "Name: Class, dtype: int64"
      ]
     },
     "execution_count": 13,
     "metadata": {},
     "output_type": "execute_result"
    }
   ],
   "source": [
    "DATASET_FULL['Class'].value_counts()"
   ]
  },
  {
   "cell_type": "code",
   "execution_count": 14,
   "metadata": {},
   "outputs": [
    {
     "data": {
      "text/html": [
       "<div>\n",
       "<style scoped>\n",
       "    .dataframe tbody tr th:only-of-type {\n",
       "        vertical-align: middle;\n",
       "    }\n",
       "\n",
       "    .dataframe tbody tr th {\n",
       "        vertical-align: top;\n",
       "    }\n",
       "\n",
       "    .dataframe thead th {\n",
       "        text-align: right;\n",
       "    }\n",
       "</style>\n",
       "<table border=\"1\" class=\"dataframe\">\n",
       "  <thead>\n",
       "    <tr style=\"text-align: right;\">\n",
       "      <th></th>\n",
       "      <th>Close</th>\n",
       "      <th>Pct_Range_Close</th>\n",
       "      <th>Class</th>\n",
       "    </tr>\n",
       "  </thead>\n",
       "  <tbody>\n",
       "    <tr>\n",
       "      <th>0</th>\n",
       "      <td>1.25733</td>\n",
       "      <td>0.000000</td>\n",
       "      <td>1.0</td>\n",
       "    </tr>\n",
       "    <tr>\n",
       "      <th>1</th>\n",
       "      <td>1.25832</td>\n",
       "      <td>0.000787</td>\n",
       "      <td>2.0</td>\n",
       "    </tr>\n",
       "    <tr>\n",
       "      <th>2</th>\n",
       "      <td>1.26318</td>\n",
       "      <td>0.003862</td>\n",
       "      <td>2.0</td>\n",
       "    </tr>\n",
       "    <tr>\n",
       "      <th>3</th>\n",
       "      <td>1.26830</td>\n",
       "      <td>0.004053</td>\n",
       "      <td>1.0</td>\n",
       "    </tr>\n",
       "    <tr>\n",
       "      <th>4</th>\n",
       "      <td>1.27150</td>\n",
       "      <td>0.002523</td>\n",
       "      <td>-2.0</td>\n",
       "    </tr>\n",
       "    <tr>\n",
       "      <th>5</th>\n",
       "      <td>1.26377</td>\n",
       "      <td>-0.006079</td>\n",
       "      <td>2.0</td>\n",
       "    </tr>\n",
       "    <tr>\n",
       "      <th>6</th>\n",
       "      <td>1.27696</td>\n",
       "      <td>0.010437</td>\n",
       "      <td>2.0</td>\n",
       "    </tr>\n",
       "    <tr>\n",
       "      <th>7</th>\n",
       "      <td>1.28149</td>\n",
       "      <td>0.003547</td>\n",
       "      <td>1.0</td>\n",
       "    </tr>\n",
       "    <tr>\n",
       "      <th>8</th>\n",
       "      <td>1.28477</td>\n",
       "      <td>0.002560</td>\n",
       "      <td>-2.0</td>\n",
       "    </tr>\n",
       "    <tr>\n",
       "      <th>9</th>\n",
       "      <td>1.27390</td>\n",
       "      <td>-0.008461</td>\n",
       "      <td>2.0</td>\n",
       "    </tr>\n",
       "  </tbody>\n",
       "</table>\n",
       "</div>"
      ],
      "text/plain": [
       "     Close  Pct_Range_Close  Class\n",
       "0  1.25733         0.000000    1.0\n",
       "1  1.25832         0.000787    2.0\n",
       "2  1.26318         0.003862    2.0\n",
       "3  1.26830         0.004053    1.0\n",
       "4  1.27150         0.002523   -2.0\n",
       "5  1.26377        -0.006079    2.0\n",
       "6  1.27696         0.010437    2.0\n",
       "7  1.28149         0.003547    1.0\n",
       "8  1.28477         0.002560   -2.0\n",
       "9  1.27390        -0.008461    2.0"
      ]
     },
     "execution_count": 14,
     "metadata": {},
     "output_type": "execute_result"
    }
   ],
   "source": [
    "DATASET_FULL[['Close','Pct_Range_Close','Class']].head(10)"
   ]
  },
  {
   "cell_type": "markdown",
   "metadata": {},
   "source": [
    "### Save CSV File 'DF_EURUSD_ASK_1H_PROC.csv'"
   ]
  },
  {
   "cell_type": "code",
   "execution_count": 16,
   "metadata": {},
   "outputs": [
    {
     "name": "stdout",
     "output_type": "stream",
     "text": [
      "5C-EURUSD_FULL_1D_21F.csv\n"
     ]
    }
   ],
   "source": [
    "#Get the Final number of Features\n",
    "NUM_FEATURES = str(DATASET_FULL.shape[1])\n",
    "filename = '5C-' + SOURCE_TYPE + '_' + FRECUENCIA + '_' + NUM_FEATURES + 'F.csv'\n",
    "print(filename)"
   ]
  },
  {
   "cell_type": "code",
   "execution_count": 17,
   "metadata": {},
   "outputs": [],
   "source": [
    "pwd = os.getcwd()\n",
    "filename_path = os.path.join(pwd, r'../../../Datasets/Junio2020/procesados_classification/' + filename)\n",
    "DATASET_FULL.to_csv(filename_path, header=True, index=False)"
   ]
  }
 ],
 "metadata": {
  "kernelspec": {
   "display_name": "Python 3",
   "language": "python",
   "name": "python3"
  },
  "language_info": {
   "codemirror_mode": {
    "name": "ipython",
    "version": 3
   },
   "file_extension": ".py",
   "mimetype": "text/x-python",
   "name": "python",
   "nbconvert_exporter": "python",
   "pygments_lexer": "ipython3",
   "version": "3.7.3"
  }
 },
 "nbformat": 4,
 "nbformat_minor": 2
}
