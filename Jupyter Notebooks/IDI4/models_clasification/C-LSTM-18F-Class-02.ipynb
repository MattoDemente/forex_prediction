{
 "cells": [
  {
   "cell_type": "code",
   "execution_count": null,
   "metadata": {
    "colab": {},
    "colab_type": "code",
    "id": "MHL60GoYoBLT",
    "outputId": "55db4102-144e-4e32-f6b2-38133dd62787"
   },
   "outputs": [],
   "source": [
    "# Mawrer Amed Ramirez Martinez\n",
    "# Avance de TOG IDI 4\n",
    "# ms723737@iteso.mx\n",
    "# mawrer@gmail.com\n",
    "\n",
    "import numpy as np\n",
    "np.random.seed(1)\n",
    "\n",
    "#Tensorflow\n",
    "import tensorflow as tf\n",
    "tf.random.set_seed(2)\n",
    "from tensorflow.keras import Sequential\n",
    "from tensorflow.keras.layers import Dense, LSTM, Dropout\n",
    "\n",
    "#Pandas\n",
    "import pandas as pd \n",
    "\n",
    "#Keras\n",
    "from keras import backend as K\n",
    "from keras import metrics\n",
    "from keras.callbacks import ModelCheckpoint\n",
    "from keras.layers import Activation\n",
    "from keras.layers.advanced_activations import LeakyReLU\n",
    "from keras.wrappers.scikit_learn import KerasClassifier\n",
    "from keras.utils import np_utils\n",
    "\n",
    "#Statistics Libraries\n",
    "from statsmodels.tsa.arima_model import ARIMA\n",
    "from scipy import stats\n",
    "import math as m\n",
    "\n",
    "#plots\n",
    "import seaborn as sns\n",
    "import matplotlib.pyplot as plt\n",
    "from matplotlib import pyplot\n",
    "from matplotlib.pyplot import figure\n",
    "\n",
    "#OverSampling\n",
    "from imblearn.over_sampling import RandomOverSampler\n",
    "\n",
    "#SKlearn\n",
    "from sklearn.model_selection import cross_val_score\n",
    "from sklearn.model_selection import KFold\n",
    "from sklearn.preprocessing import LabelEncoder\n",
    "from sklearn.pipeline import Pipeline\n",
    "from sklearn.metrics import confusion_matrix\n",
    "from sklearn.preprocessing import MinMaxScaler\n",
    "from sklearn.model_selection import train_test_split\n",
    "from sklearn.metrics import mean_squared_error\n",
    "from sklearn.metrics import mean_absolute_error\n",
    "from sklearn.preprocessing import OneHotEncoder\n",
    "\n",
    "#global\n",
    "import os, glob"
   ]
  },
  {
   "cell_type": "code",
   "execution_count": null,
   "metadata": {},
   "outputs": [],
   "source": [
    "import warnings\n",
    "warnings.filterwarnings(\"ignore\")"
   ]
  },
  {
   "cell_type": "code",
   "execution_count": 125,
   "metadata": {},
   "outputs": [],
   "source": [
    "ID = \"02\"\n",
    "MODEL_NAME = \"C-LSTM\"\n",
    "NUM_FEATURES = 0\n",
    "TARGET_NAME = \"Class\"\n",
    "FRECUENCIA = \"1H\"\n",
    "MSE_RESULT = 0"
   ]
  },
  {
   "cell_type": "code",
   "execution_count": 44,
   "metadata": {},
   "outputs": [],
   "source": [
    "RANGE = 24\n",
    "\n",
    "HYPER_L1_IN = RANGE\n",
    "EPOCHS = 150\n",
    "BATCH_SIZE = 32\n",
    "\n",
    "TEST_SIZE = .20\n",
    "VAL_SIZE = .10\n",
    "\n",
    "START_IN = 0\n",
    "\n",
    "TRAINING_TIME_ELAPSED = 0\n",
    "\n",
    "TRAIN_MSE=0\n",
    "TRAIN_RMSE=0\n",
    "TRAIN_MAE=0\n",
    "TEST_MSE=0\n",
    "TEST_RMSE=0\n",
    "TEST_MAE=0\n"
   ]
  },
  {
   "cell_type": "code",
   "execution_count": 45,
   "metadata": {},
   "outputs": [
    {
     "name": "stdout",
     "output_type": "stream",
     "text": [
      "C-EURUSD_FULL_1D_21F.csv\n",
      "C-EURUSD_FULL_1H_25F.csv\n",
      "C-EURUSD_FULL_1H_54F.csv\n"
     ]
    }
   ],
   "source": [
    "pwd = os.getcwd()\n",
    "datasource_path = os.path.join(pwd, r'../../../Datasets/Junio2020/procesados_classification/')\n",
    "filenames = glob.glob(datasource_path + \"/*.csv\")\n",
    "filenames.sort()\n",
    "for file in filenames:\n",
    "    print(os.path.basename(file))"
   ]
  },
  {
   "cell_type": "code",
   "execution_count": 47,
   "metadata": {
    "colab": {},
    "colab_type": "code",
    "id": "rS_SC_nwoBLb",
    "outputId": "45629160-abff-4b56-f141-eadb3244e91c"
   },
   "outputs": [
    {
     "data": {
      "text/html": [
       "<div>\n",
       "<style scoped>\n",
       "    .dataframe tbody tr th:only-of-type {\n",
       "        vertical-align: middle;\n",
       "    }\n",
       "\n",
       "    .dataframe tbody tr th {\n",
       "        vertical-align: top;\n",
       "    }\n",
       "\n",
       "    .dataframe thead th {\n",
       "        text-align: right;\n",
       "    }\n",
       "</style>\n",
       "<table border=\"1\" class=\"dataframe\">\n",
       "  <thead>\n",
       "    <tr style=\"text-align: right;\">\n",
       "      <th></th>\n",
       "      <th>Gmt time</th>\n",
       "      <th>Open</th>\n",
       "      <th>High</th>\n",
       "      <th>Low</th>\n",
       "      <th>Close</th>\n",
       "      <th>Volume</th>\n",
       "      <th>Open_Bid</th>\n",
       "      <th>High_Bid</th>\n",
       "      <th>Low_Bid</th>\n",
       "      <th>Close_Bid</th>\n",
       "      <th>...</th>\n",
       "      <th>Pct_Range_Close_diff</th>\n",
       "      <th>MA_Close_5</th>\n",
       "      <th>MA_Close_25</th>\n",
       "      <th>MA_Close_50</th>\n",
       "      <th>MA_Close_200</th>\n",
       "      <th>Class</th>\n",
       "      <th>Sell</th>\n",
       "      <th>Sell2</th>\n",
       "      <th>Buy</th>\n",
       "      <th>Buy2</th>\n",
       "    </tr>\n",
       "  </thead>\n",
       "  <tbody>\n",
       "    <tr>\n",
       "      <th>0</th>\n",
       "      <td>2004-01-01 00:00:00</td>\n",
       "      <td>1.25950</td>\n",
       "      <td>1.25960</td>\n",
       "      <td>1.25826</td>\n",
       "      <td>1.25910</td>\n",
       "      <td>6654.2002</td>\n",
       "      <td>1.25934</td>\n",
       "      <td>1.25948</td>\n",
       "      <td>1.25814</td>\n",
       "      <td>1.25900</td>\n",
       "      <td>...</td>\n",
       "      <td>0.000000</td>\n",
       "      <td>0.000000</td>\n",
       "      <td>0.0</td>\n",
       "      <td>0.0</td>\n",
       "      <td>0.0</td>\n",
       "      <td>1.0</td>\n",
       "      <td>NaN</td>\n",
       "      <td>NaN</td>\n",
       "      <td>1.25910</td>\n",
       "      <td>NaN</td>\n",
       "    </tr>\n",
       "    <tr>\n",
       "      <th>1</th>\n",
       "      <td>2004-01-01 01:00:00</td>\n",
       "      <td>1.25958</td>\n",
       "      <td>1.25960</td>\n",
       "      <td>1.25947</td>\n",
       "      <td>1.25951</td>\n",
       "      <td>660.6000</td>\n",
       "      <td>1.25942</td>\n",
       "      <td>1.25948</td>\n",
       "      <td>1.25934</td>\n",
       "      <td>1.25941</td>\n",
       "      <td>...</td>\n",
       "      <td>0.000326</td>\n",
       "      <td>0.000000</td>\n",
       "      <td>0.0</td>\n",
       "      <td>0.0</td>\n",
       "      <td>0.0</td>\n",
       "      <td>0.0</td>\n",
       "      <td>NaN</td>\n",
       "      <td>NaN</td>\n",
       "      <td>NaN</td>\n",
       "      <td>NaN</td>\n",
       "    </tr>\n",
       "    <tr>\n",
       "      <th>2</th>\n",
       "      <td>2004-01-01 02:00:00</td>\n",
       "      <td>1.25955</td>\n",
       "      <td>1.25962</td>\n",
       "      <td>1.25944</td>\n",
       "      <td>1.25951</td>\n",
       "      <td>2091.0000</td>\n",
       "      <td>1.25945</td>\n",
       "      <td>1.25948</td>\n",
       "      <td>1.25927</td>\n",
       "      <td>1.25936</td>\n",
       "      <td>...</td>\n",
       "      <td>-0.000326</td>\n",
       "      <td>0.000000</td>\n",
       "      <td>0.0</td>\n",
       "      <td>0.0</td>\n",
       "      <td>0.0</td>\n",
       "      <td>-1.0</td>\n",
       "      <td>1.25951</td>\n",
       "      <td>NaN</td>\n",
       "      <td>NaN</td>\n",
       "      <td>NaN</td>\n",
       "    </tr>\n",
       "    <tr>\n",
       "      <th>3</th>\n",
       "      <td>2004-01-01 03:00:00</td>\n",
       "      <td>1.25950</td>\n",
       "      <td>1.25965</td>\n",
       "      <td>1.25834</td>\n",
       "      <td>1.25869</td>\n",
       "      <td>10003.0996</td>\n",
       "      <td>1.25934</td>\n",
       "      <td>1.25953</td>\n",
       "      <td>1.25821</td>\n",
       "      <td>1.25854</td>\n",
       "      <td>...</td>\n",
       "      <td>-0.000651</td>\n",
       "      <td>0.000000</td>\n",
       "      <td>0.0</td>\n",
       "      <td>0.0</td>\n",
       "      <td>0.0</td>\n",
       "      <td>1.0</td>\n",
       "      <td>NaN</td>\n",
       "      <td>NaN</td>\n",
       "      <td>1.25869</td>\n",
       "      <td>NaN</td>\n",
       "    </tr>\n",
       "    <tr>\n",
       "      <th>4</th>\n",
       "      <td>2004-01-01 04:00:00</td>\n",
       "      <td>1.25908</td>\n",
       "      <td>1.25960</td>\n",
       "      <td>1.25843</td>\n",
       "      <td>1.25950</td>\n",
       "      <td>7603.3999</td>\n",
       "      <td>1.25898</td>\n",
       "      <td>1.25948</td>\n",
       "      <td>1.25829</td>\n",
       "      <td>1.25940</td>\n",
       "      <td>...</td>\n",
       "      <td>0.001295</td>\n",
       "      <td>1.259262</td>\n",
       "      <td>0.0</td>\n",
       "      <td>0.0</td>\n",
       "      <td>0.0</td>\n",
       "      <td>0.0</td>\n",
       "      <td>NaN</td>\n",
       "      <td>NaN</td>\n",
       "      <td>NaN</td>\n",
       "      <td>NaN</td>\n",
       "    </tr>\n",
       "  </tbody>\n",
       "</table>\n",
       "<p>5 rows × 25 columns</p>\n",
       "</div>"
      ],
      "text/plain": [
       "             Gmt time     Open     High      Low    Close      Volume  \\\n",
       "0 2004-01-01 00:00:00  1.25950  1.25960  1.25826  1.25910   6654.2002   \n",
       "1 2004-01-01 01:00:00  1.25958  1.25960  1.25947  1.25951    660.6000   \n",
       "2 2004-01-01 02:00:00  1.25955  1.25962  1.25944  1.25951   2091.0000   \n",
       "3 2004-01-01 03:00:00  1.25950  1.25965  1.25834  1.25869  10003.0996   \n",
       "4 2004-01-01 04:00:00  1.25908  1.25960  1.25843  1.25950   7603.3999   \n",
       "\n",
       "   Open_Bid  High_Bid  Low_Bid  Close_Bid  ...  Pct_Range_Close_diff  \\\n",
       "0   1.25934   1.25948  1.25814    1.25900  ...              0.000000   \n",
       "1   1.25942   1.25948  1.25934    1.25941  ...              0.000326   \n",
       "2   1.25945   1.25948  1.25927    1.25936  ...             -0.000326   \n",
       "3   1.25934   1.25953  1.25821    1.25854  ...             -0.000651   \n",
       "4   1.25898   1.25948  1.25829    1.25940  ...              0.001295   \n",
       "\n",
       "   MA_Close_5 MA_Close_25  MA_Close_50  MA_Close_200  Class     Sell  Sell2  \\\n",
       "0    0.000000         0.0          0.0           0.0    1.0      NaN    NaN   \n",
       "1    0.000000         0.0          0.0           0.0    0.0      NaN    NaN   \n",
       "2    0.000000         0.0          0.0           0.0   -1.0  1.25951    NaN   \n",
       "3    0.000000         0.0          0.0           0.0    1.0      NaN    NaN   \n",
       "4    1.259262         0.0          0.0           0.0    0.0      NaN    NaN   \n",
       "\n",
       "       Buy  Buy2  \n",
       "0  1.25910   NaN  \n",
       "1      NaN   NaN  \n",
       "2      NaN   NaN  \n",
       "3  1.25869   NaN  \n",
       "4      NaN   NaN  \n",
       "\n",
       "[5 rows x 25 columns]"
      ]
     },
     "execution_count": 47,
     "metadata": {},
     "output_type": "execute_result"
    }
   ],
   "source": [
    "if FRECUENCIA ==\"1D\":\n",
    "    dateparse = lambda x: pd.datetime.strptime(x, '%Y-%m-%d')\n",
    "else:\n",
    "    dateparse = lambda x: pd.datetime.strptime(x, '%Y-%m-%d %H:%M:%S')\n",
    "DATASET = pd.read_csv(filenames[1], header=0, parse_dates=['Gmt time'], date_parser=dateparse)\n",
    "DATASET.head()\n"
   ]
  },
  {
   "cell_type": "code",
   "execution_count": 48,
   "metadata": {
    "scrolled": true
   },
   "outputs": [
    {
     "name": "stdout",
     "output_type": "stream",
     "text": [
      "Shape:  (102514, 25)\n",
      "                Open           High            Low          Close  \\\n",
      "count  102514.000000  102514.000000  102514.000000  102514.000000   \n",
      "mean        1.264046       1.265085       1.263008       1.264047   \n",
      "std         0.122828       0.123008       0.122629       0.122829   \n",
      "min         1.035600       1.037040       1.034050       1.035630   \n",
      "25%         1.149838       1.150705       1.149015       1.149833   \n",
      "50%         1.270655       1.271820       1.269425       1.270670   \n",
      "75%         1.350917       1.352038       1.349740       1.350920   \n",
      "max         1.601460       1.604030       1.598830       1.601570   \n",
      "\n",
      "              Volume       Open_Bid       High_Bid        Low_Bid  \\\n",
      "count  102514.000000  102514.000000  102514.000000  102514.000000   \n",
      "mean    20711.113359       1.263956       1.265001       1.262923   \n",
      "std     32706.529958       0.122803       0.122983       0.122604   \n",
      "min         0.380000       1.035580       1.037020       1.034030   \n",
      "25%      4984.647625       1.149787       1.150692       1.148982   \n",
      "50%     11612.515150       1.270550       1.271705       1.269300   \n",
      "75%     25196.404325       1.350840       1.351958       1.349618   \n",
      "max    491584.312500       1.601300       1.603890       1.598790   \n",
      "\n",
      "           Close_Bid     Volume_Bid  ...  Pct_Range_Close_diff     MA_Close_5  \\\n",
      "count  102514.000000  102514.000000  ...          1.025140e+05  102514.000000   \n",
      "mean        1.263959   23001.976952  ...         -1.579847e-09       1.264001   \n",
      "std         0.122804   39147.465272  ...          1.728898e-03       0.123072   \n",
      "min         1.035620       0.150000  ...         -2.114724e-02       0.000000   \n",
      "25%         1.149785    4935.717375  ...         -7.487611e-04       1.149927   \n",
      "50%         1.270560   11578.579550  ...         -7.915322e-08       1.270633   \n",
      "75%         1.350838   29609.950200  ...          7.520317e-04       1.350909   \n",
      "max         1.601420  591638.812500  ...          2.371723e-02       1.599448   \n",
      "\n",
      "         MA_Close_25    MA_Close_50   MA_Close_200          Class  \\\n",
      "count  102514.000000  102514.000000  102514.000000  102514.000000   \n",
      "mean        1.263770       1.263481       1.261751       0.001951   \n",
      "std         0.124291       0.125796       0.134455       1.299852   \n",
      "min         0.000000       0.000000       0.000000      -2.000000   \n",
      "25%         1.149598       1.149289       1.146064      -1.000000   \n",
      "50%         1.270757       1.270856       1.271671       0.000000   \n",
      "75%         1.350919       1.351020       1.350574       1.000000   \n",
      "max         1.597393       1.594045       1.587591       2.000000   \n",
      "\n",
      "               Sell         Sell2           Buy          Buy2  \n",
      "count  20466.000000  16534.000000  20862.000000  16436.000000  \n",
      "mean       1.260869      1.273033      1.260702      1.273418  \n",
      "std        0.122375      0.123900      0.122819      0.124542  \n",
      "min        1.038900      1.037880      1.037160      1.035630  \n",
      "25%        1.144303      1.174872      1.142815      1.175898  \n",
      "50%        1.265400      1.277200      1.265545      1.277900  \n",
      "75%        1.346098      1.358190      1.346288      1.358305  \n",
      "max        1.599850      1.601570      1.599120      1.599150  \n",
      "\n",
      "[8 rows x 23 columns]\n",
      "Open                    float64\n",
      "High                    float64\n",
      "Low                     float64\n",
      "Close                   float64\n",
      "Volume                  float64\n",
      "Open_Bid                float64\n",
      "High_Bid                float64\n",
      "Low_Bid                 float64\n",
      "Close_Bid               float64\n",
      "Volume_Bid              float64\n",
      "Spread                  float64\n",
      "weekday                   int64\n",
      "Pct_Range_Close         float64\n",
      "Pct_Range_Close_diff    float64\n",
      "MA_Close_5              float64\n",
      "MA_Close_25             float64\n",
      "MA_Close_50             float64\n",
      "MA_Close_200            float64\n",
      "Class                   float64\n",
      "Sell                    float64\n",
      "Sell2                   float64\n",
      "Buy                     float64\n",
      "Buy2                    float64\n",
      "dtype: object\n"
     ]
    }
   ],
   "source": [
    "#Describe DATASET\n",
    "print('Shape: ', DATASET.shape)\n",
    "print(DATASET.describe())\n",
    "DATASET = DATASET.drop(['day_name'], axis = 1)\n",
    "DATASET = DATASET.drop(['Gmt time'], axis = 1)\n",
    "print(DATASET.dtypes)\n"
   ]
  },
  {
   "cell_type": "code",
   "execution_count": 49,
   "metadata": {},
   "outputs": [
    {
     "name": "stdout",
     "output_type": "stream",
     "text": [
      "(102315, 23)\n",
      "      Open     High      Low    Close      Volume  Open_Bid  High_Bid  \\\n",
      "0  1.27584  1.27666  1.27351  1.27436  25980.0000   1.27580   1.27649   \n",
      "1  1.27435  1.27891  1.27331  1.27891  24881.5996   1.27419   1.27884   \n",
      "2  1.27890  1.27957  1.27550  1.27552  24909.9004   1.27880   1.27947   \n",
      "3  1.27523  1.27566  1.27374  1.27462  26329.6992   1.27513   1.27555   \n",
      "4  1.27465  1.27482  1.27195  1.27277  25984.5000   1.27449   1.27467   \n",
      "\n",
      "   Low_Bid  Close_Bid  Volume_Bid  ...  Pct_Range_Close_diff  MA_Close_5  \\\n",
      "0  1.27341    1.27426  30272.0996  ...             -0.001270    1.275586   \n",
      "1  1.27318    1.27871  28934.9004  ...              0.004746    1.276222   \n",
      "2  1.27536    1.27538  32662.0000  ...             -0.006221    1.276078   \n",
      "3  1.27358    1.27452  31190.5996  ...              0.001945    1.275854   \n",
      "4  1.27184    1.27262  32288.5996  ...             -0.000746    1.275236   \n",
      "\n",
      "   MA_Close_25  MA_Close_50  MA_Close_200  Class     Sell    Sell2  Buy  \\\n",
      "0     1.278516     1.279646      1.269048    2.0      NaN      NaN  NaN   \n",
      "1     1.278232     1.279762      1.269147   -2.0      NaN  1.27891  NaN   \n",
      "2     1.277701     1.279831      1.269227   -1.0  1.27552      NaN  NaN   \n",
      "3     1.277153     1.279893      1.269302   -2.0      NaN  1.27462  NaN   \n",
      "4     1.276572     1.279881      1.269373    2.0      NaN      NaN  NaN   \n",
      "\n",
      "      Buy2  \n",
      "0  1.27436  \n",
      "1      NaN  \n",
      "2      NaN  \n",
      "3      NaN  \n",
      "4  1.27277  \n",
      "\n",
      "[5 rows x 23 columns]\n"
     ]
    }
   ],
   "source": [
    "DF_Full = DATASET[199:]\n",
    "DF_Full.reset_index(drop=True, inplace=True)\n",
    "print(DF_Full.shape)\n",
    "print(DF_Full.head())"
   ]
  },
  {
   "cell_type": "code",
   "execution_count": 50,
   "metadata": {},
   "outputs": [
    {
     "name": "stdout",
     "output_type": "stream",
     "text": [
      "Total:  102315\n",
      "Start:  0\n"
     ]
    }
   ],
   "source": [
    "total = DF_Full.shape[0]\n",
    "print('Total: ', total)\n",
    "print('Start: ', START_IN)"
   ]
  },
  {
   "cell_type": "code",
   "execution_count": 51,
   "metadata": {},
   "outputs": [
    {
     "name": "stdout",
     "output_type": "stream",
     "text": [
      "(102315, 23)\n"
     ]
    }
   ],
   "source": [
    "#Shape the first START of the total\n",
    "DF_Full = DF_Full.iloc[START_IN:]\n",
    "DF_Full.reset_index(drop=True, inplace=True) #reset indexes from iloc\n",
    "NUM_FEATURES = DF_Full.shape[1]\n",
    "print(DF_Full.shape)"
   ]
  },
  {
   "cell_type": "code",
   "execution_count": 52,
   "metadata": {},
   "outputs": [
    {
     "name": "stdout",
     "output_type": "stream",
     "text": [
      "Total:  102514\n"
     ]
    }
   ],
   "source": [
    "\n",
    "total = DATASET.shape[0]\n",
    "print('Total: ', total)"
   ]
  },
  {
   "cell_type": "code",
   "execution_count": 53,
   "metadata": {},
   "outputs": [
    {
     "data": {
      "text/plain": [
       "0     2.0\n",
       "1    -2.0\n",
       "2    -1.0\n",
       "3    -2.0\n",
       "4     2.0\n",
       "5     0.0\n",
       "6     2.0\n",
       "7     2.0\n",
       "8    -2.0\n",
       "9     0.0\n",
       "10    2.0\n",
       "11    0.0\n",
       "Name: Class, dtype: float64"
      ]
     },
     "execution_count": 53,
     "metadata": {},
     "output_type": "execute_result"
    }
   ],
   "source": [
    "DF_Full[TARGET_NAME][0:12]"
   ]
  },
  {
   "cell_type": "markdown",
   "metadata": {},
   "source": [
    "### Generate VECTOR Y"
   ]
  },
  {
   "cell_type": "code",
   "execution_count": 54,
   "metadata": {},
   "outputs": [
    {
     "name": "stdout",
     "output_type": "stream",
     "text": [
      "[4 0 1 ... 2 3 2]\n",
      "[-2. -1.  0.  1.  2.]\n",
      "[[0. 0. 0. 0. 1.]\n",
      " [1. 0. 0. 0. 0.]\n",
      " [0. 1. 0. 0. 0.]\n",
      " ...\n",
      " [0. 0. 1. 0. 0.]\n",
      " [0. 0. 0. 1. 0.]\n",
      " [0. 0. 1. 0. 0.]]\n"
     ]
    }
   ],
   "source": [
    "#generate the VECTOR Y\n",
    "uniques, ids = np.unique(DF_Full[TARGET_NAME], return_inverse=True)\n",
    "\n",
    "#target_y = np_utils.to_categorical(DF_Full[TARGET_NAME],num_classes=5)\n",
    "target_y = np_utils.to_categorical(ids,len(uniques))\n",
    "print(ids)\n",
    "print(uniques)\n",
    "print(target_y)"
   ]
  },
  {
   "cell_type": "code",
   "execution_count": 55,
   "metadata": {},
   "outputs": [
    {
     "name": "stdout",
     "output_type": "stream",
     "text": [
      "[[0. 0. 0. 0. 1.]\n",
      " [1. 0. 0. 0. 0.]\n",
      " [0. 1. 0. 0. 0.]\n",
      " [1. 0. 0. 0. 0.]\n",
      " [0. 0. 0. 0. 1.]\n",
      " [0. 0. 1. 0. 0.]\n",
      " [0. 0. 0. 0. 1.]\n",
      " [0. 0. 0. 0. 1.]\n",
      " [1. 0. 0. 0. 0.]\n",
      " [0. 0. 1. 0. 0.]]\n"
     ]
    },
    {
     "data": {
      "text/plain": [
       "(102315, 5)"
      ]
     },
     "execution_count": 55,
     "metadata": {},
     "output_type": "execute_result"
    }
   ],
   "source": [
    "close_y = target_y\n",
    "print(close_y[:10])   \n",
    "#   [1. 0. 0. 0. 0.]   =  0\n",
    "#   [0. 1. 0. 0. 0.]   =  1\n",
    "#   [0. 0. 1. 0. 0.]   =   2 \n",
    "#   [0. 0. 0. 1. 0.]   =  -2\n",
    "#   [0. 0. 0. 0. 1.]   =  -1\n",
    "close_y.shape"
   ]
  },
  {
   "cell_type": "markdown",
   "metadata": {},
   "source": [
    "### REMOVE COLUMNS "
   ]
  },
  {
   "cell_type": "code",
   "execution_count": 56,
   "metadata": {},
   "outputs": [
    {
     "name": "stdout",
     "output_type": "stream",
     "text": [
      "(102315, 23)\n",
      "(102315, 18)\n"
     ]
    },
    {
     "data": {
      "text/html": [
       "<div>\n",
       "<style scoped>\n",
       "    .dataframe tbody tr th:only-of-type {\n",
       "        vertical-align: middle;\n",
       "    }\n",
       "\n",
       "    .dataframe tbody tr th {\n",
       "        vertical-align: top;\n",
       "    }\n",
       "\n",
       "    .dataframe thead th {\n",
       "        text-align: right;\n",
       "    }\n",
       "</style>\n",
       "<table border=\"1\" class=\"dataframe\">\n",
       "  <thead>\n",
       "    <tr style=\"text-align: right;\">\n",
       "      <th></th>\n",
       "      <th>Open</th>\n",
       "      <th>High</th>\n",
       "      <th>Low</th>\n",
       "      <th>Close</th>\n",
       "      <th>Volume</th>\n",
       "      <th>Open_Bid</th>\n",
       "      <th>High_Bid</th>\n",
       "      <th>Low_Bid</th>\n",
       "      <th>Close_Bid</th>\n",
       "      <th>Volume_Bid</th>\n",
       "      <th>Spread</th>\n",
       "      <th>weekday</th>\n",
       "      <th>Pct_Range_Close</th>\n",
       "      <th>Pct_Range_Close_diff</th>\n",
       "      <th>MA_Close_5</th>\n",
       "      <th>MA_Close_25</th>\n",
       "      <th>MA_Close_50</th>\n",
       "      <th>MA_Close_200</th>\n",
       "    </tr>\n",
       "  </thead>\n",
       "  <tbody>\n",
       "    <tr>\n",
       "      <th>0</th>\n",
       "      <td>1.27584</td>\n",
       "      <td>1.27666</td>\n",
       "      <td>1.27351</td>\n",
       "      <td>1.27436</td>\n",
       "      <td>25980.0000</td>\n",
       "      <td>1.27580</td>\n",
       "      <td>1.27649</td>\n",
       "      <td>1.27341</td>\n",
       "      <td>1.27426</td>\n",
       "      <td>30272.0996</td>\n",
       "      <td>0.00010</td>\n",
       "      <td>1</td>\n",
       "      <td>-0.001176</td>\n",
       "      <td>-0.001270</td>\n",
       "      <td>1.275586</td>\n",
       "      <td>1.278516</td>\n",
       "      <td>1.279646</td>\n",
       "      <td>1.269048</td>\n",
       "    </tr>\n",
       "    <tr>\n",
       "      <th>1</th>\n",
       "      <td>1.27435</td>\n",
       "      <td>1.27891</td>\n",
       "      <td>1.27331</td>\n",
       "      <td>1.27891</td>\n",
       "      <td>24881.5996</td>\n",
       "      <td>1.27419</td>\n",
       "      <td>1.27884</td>\n",
       "      <td>1.27318</td>\n",
       "      <td>1.27871</td>\n",
       "      <td>28934.9004</td>\n",
       "      <td>0.00020</td>\n",
       "      <td>1</td>\n",
       "      <td>0.003570</td>\n",
       "      <td>0.004746</td>\n",
       "      <td>1.276222</td>\n",
       "      <td>1.278232</td>\n",
       "      <td>1.279762</td>\n",
       "      <td>1.269147</td>\n",
       "    </tr>\n",
       "    <tr>\n",
       "      <th>2</th>\n",
       "      <td>1.27890</td>\n",
       "      <td>1.27957</td>\n",
       "      <td>1.27550</td>\n",
       "      <td>1.27552</td>\n",
       "      <td>24909.9004</td>\n",
       "      <td>1.27880</td>\n",
       "      <td>1.27947</td>\n",
       "      <td>1.27536</td>\n",
       "      <td>1.27538</td>\n",
       "      <td>32662.0000</td>\n",
       "      <td>0.00014</td>\n",
       "      <td>1</td>\n",
       "      <td>-0.002651</td>\n",
       "      <td>-0.006221</td>\n",
       "      <td>1.276078</td>\n",
       "      <td>1.277701</td>\n",
       "      <td>1.279831</td>\n",
       "      <td>1.269227</td>\n",
       "    </tr>\n",
       "    <tr>\n",
       "      <th>3</th>\n",
       "      <td>1.27523</td>\n",
       "      <td>1.27566</td>\n",
       "      <td>1.27374</td>\n",
       "      <td>1.27462</td>\n",
       "      <td>26329.6992</td>\n",
       "      <td>1.27513</td>\n",
       "      <td>1.27555</td>\n",
       "      <td>1.27358</td>\n",
       "      <td>1.27452</td>\n",
       "      <td>31190.5996</td>\n",
       "      <td>0.00010</td>\n",
       "      <td>1</td>\n",
       "      <td>-0.000706</td>\n",
       "      <td>0.001945</td>\n",
       "      <td>1.275854</td>\n",
       "      <td>1.277153</td>\n",
       "      <td>1.279893</td>\n",
       "      <td>1.269302</td>\n",
       "    </tr>\n",
       "    <tr>\n",
       "      <th>4</th>\n",
       "      <td>1.27465</td>\n",
       "      <td>1.27482</td>\n",
       "      <td>1.27195</td>\n",
       "      <td>1.27277</td>\n",
       "      <td>25984.5000</td>\n",
       "      <td>1.27449</td>\n",
       "      <td>1.27467</td>\n",
       "      <td>1.27184</td>\n",
       "      <td>1.27262</td>\n",
       "      <td>32288.5996</td>\n",
       "      <td>0.00015</td>\n",
       "      <td>1</td>\n",
       "      <td>-0.001451</td>\n",
       "      <td>-0.000746</td>\n",
       "      <td>1.275236</td>\n",
       "      <td>1.276572</td>\n",
       "      <td>1.279881</td>\n",
       "      <td>1.269373</td>\n",
       "    </tr>\n",
       "  </tbody>\n",
       "</table>\n",
       "</div>"
      ],
      "text/plain": [
       "      Open     High      Low    Close      Volume  Open_Bid  High_Bid  \\\n",
       "0  1.27584  1.27666  1.27351  1.27436  25980.0000   1.27580   1.27649   \n",
       "1  1.27435  1.27891  1.27331  1.27891  24881.5996   1.27419   1.27884   \n",
       "2  1.27890  1.27957  1.27550  1.27552  24909.9004   1.27880   1.27947   \n",
       "3  1.27523  1.27566  1.27374  1.27462  26329.6992   1.27513   1.27555   \n",
       "4  1.27465  1.27482  1.27195  1.27277  25984.5000   1.27449   1.27467   \n",
       "\n",
       "   Low_Bid  Close_Bid  Volume_Bid   Spread  weekday  Pct_Range_Close  \\\n",
       "0  1.27341    1.27426  30272.0996  0.00010        1        -0.001176   \n",
       "1  1.27318    1.27871  28934.9004  0.00020        1         0.003570   \n",
       "2  1.27536    1.27538  32662.0000  0.00014        1        -0.002651   \n",
       "3  1.27358    1.27452  31190.5996  0.00010        1        -0.000706   \n",
       "4  1.27184    1.27262  32288.5996  0.00015        1        -0.001451   \n",
       "\n",
       "   Pct_Range_Close_diff  MA_Close_5  MA_Close_25  MA_Close_50  MA_Close_200  \n",
       "0             -0.001270    1.275586     1.278516     1.279646      1.269048  \n",
       "1              0.004746    1.276222     1.278232     1.279762      1.269147  \n",
       "2             -0.006221    1.276078     1.277701     1.279831      1.269227  \n",
       "3              0.001945    1.275854     1.277153     1.279893      1.269302  \n",
       "4             -0.000746    1.275236     1.276572     1.279881      1.269373  "
      ]
     },
     "execution_count": 56,
     "metadata": {},
     "output_type": "execute_result"
    }
   ],
   "source": [
    "#REMOVE CLASS FROM Data\n",
    "print(DF_Full.shape)\n",
    "DF_Full = DF_Full.drop(['Class'], axis = 1)\n",
    "DF_Full = DF_Full.drop(['Buy'], axis = 1)\n",
    "DF_Full = DF_Full.drop(['Buy2'], axis = 1)\n",
    "DF_Full = DF_Full.drop(['Sell'], axis = 1)\n",
    "DF_Full = DF_Full.drop(['Sell2'], axis = 1)\n",
    "DF_Full.reset_index(drop=True, inplace=True)\n",
    "print(DF_Full.shape)\n",
    "DF_Full.head()"
   ]
  },
  {
   "cell_type": "markdown",
   "metadata": {},
   "source": [
    "### SPLIT in 3 Sub Datasets"
   ]
  },
  {
   "cell_type": "code",
   "execution_count": 57,
   "metadata": {},
   "outputs": [
    {
     "name": "stdout",
     "output_type": "stream",
     "text": [
      "Sum of %s: 0.30000000000000004\n",
      "count of Val and Test: 30754\n",
      "end of train:  71760\n",
      "count val:  10251\n",
      "count test:  20502\n",
      "end_val 82011\n"
     ]
    }
   ],
   "source": [
    "s1 = TEST_SIZE + VAL_SIZE\n",
    "print('Sum of %s:',s1)\n",
    "f1 = int(total * s1)\n",
    "print('count of Val and Test:',f1)\n",
    "end_train = total - f1\n",
    "print('end of train: ', end_train)\n",
    "\n",
    "count_val= int(total * VAL_SIZE)\n",
    "print('count val: ',count_val)\n",
    "\n",
    "count_test= int(total * TEST_SIZE)\n",
    "print('count test: ',count_test)\n",
    "\n",
    "\n",
    "end_val = end_train + count_val\n",
    "print('end_val', end_val)\n",
    "\n"
   ]
  },
  {
   "cell_type": "code",
   "execution_count": 58,
   "metadata": {},
   "outputs": [
    {
     "data": {
      "text/plain": [
       "array([[0., 0., 0., 0., 1.],\n",
       "       [1., 0., 0., 0., 0.],\n",
       "       [0., 1., 0., 0., 0.],\n",
       "       ...,\n",
       "       [1., 0., 0., 0., 0.],\n",
       "       [1., 0., 0., 0., 0.],\n",
       "       [0., 0., 0., 0., 1.]], dtype=float32)"
      ]
     },
     "execution_count": 58,
     "metadata": {},
     "output_type": "execute_result"
    }
   ],
   "source": [
    "close_y[:end_train,:]"
   ]
  },
  {
   "cell_type": "code",
   "execution_count": 59,
   "metadata": {},
   "outputs": [
    {
     "name": "stdout",
     "output_type": "stream",
     "text": [
      "data_training.shape:  (71760, 18)\n",
      "data_val.shape:  (10251, 18)\n",
      "data_test.shape:  (20304, 18)\n",
      "data_training_y.shape:  (71760, 5)\n",
      "data_val_y.shape:  (10251, 5)\n",
      "data_test_y.shape:  (20304, 5)\n"
     ]
    }
   ],
   "source": [
    "data_training = DF_Full.iloc[:end_train]\n",
    "data_val = DF_Full.iloc[end_train: end_val]\n",
    "data_test = DF_Full.iloc[end_val:]\n",
    "\n",
    "print(\"data_training.shape: \",data_training.shape)\n",
    "print(\"data_val.shape: \", data_val.shape)\n",
    "print(\"data_test.shape: \", data_test.shape)\n",
    "\n",
    "data_training_y = close_y[:end_train,:]\n",
    "data_val_y = close_y[end_train: end_val,:]\n",
    "data_test_y = close_y[end_val:,:]\n",
    "\n",
    "print(\"data_training_y.shape: \", data_training_y.shape)\n",
    "print(\"data_val_y.shape: \", data_val_y.shape)\n",
    "print(\"data_test_y.shape: \", data_test_y.shape)"
   ]
  },
  {
   "cell_type": "code",
   "execution_count": 60,
   "metadata": {},
   "outputs": [
    {
     "data": {
      "text/plain": [
       "82011    1.05892\n",
       "82012    1.05958\n",
       "82013    1.05765\n",
       "82014    1.05935\n",
       "82015    1.05927\n",
       "82016    1.06081\n",
       "82017    1.06089\n",
       "82018    1.06139\n",
       "82019    1.05724\n",
       "82020    1.05668\n",
       "Name: Close, dtype: float64"
      ]
     },
     "execution_count": 60,
     "metadata": {},
     "output_type": "execute_result"
    }
   ],
   "source": [
    "data_test['Close'].head(10)"
   ]
  },
  {
   "cell_type": "code",
   "execution_count": 61,
   "metadata": {},
   "outputs": [
    {
     "data": {
      "text/plain": [
       "array([ 1., -2.,  2.,  0.,  2.,  0.,  1., -2., -1.,  2.])"
      ]
     },
     "execution_count": 61,
     "metadata": {},
     "output_type": "execute_result"
    }
   ],
   "source": [
    "uniques_data_test_y = uniques[data_test_y.argmax(1)]\n",
    "uniques_data_test_y[:10]"
   ]
  },
  {
   "cell_type": "markdown",
   "metadata": {},
   "source": [
    "### SCALAR"
   ]
  },
  {
   "cell_type": "code",
   "execution_count": 62,
   "metadata": {},
   "outputs": [
    {
     "name": "stdout",
     "output_type": "stream",
     "text": [
      "[[0.41258817 0.41034601 0.41126011 ... 0.41568877 0.41690292 0.39310481]\n",
      " [0.40990024 0.41439867 0.41089817 ... 0.41516764 0.41711768 0.39329353]\n",
      " [0.41810835 0.41558746 0.41486147 ... 0.41419426 0.41724491 0.39344604]\n",
      " ...\n",
      " [0.10666931 0.10403646 0.10530792 ... 0.10094948 0.09827863 0.09661671]\n",
      " [0.10417982 0.10146076 0.10134463 ... 0.10033819 0.0981106  0.09646963]\n",
      " [0.1011311  0.09915524 0.09877482 ... 0.09963894 0.09785911 0.09630416]]\n"
     ]
    }
   ],
   "source": [
    "# DATA SET SCALER TRAINING\n",
    "scaler = MinMaxScaler(feature_range=(0, 1))\n",
    "data_training_array = np.array(data_training)\n",
    "data_training_array_scaled = scaler.fit_transform(data_training_array)\n",
    "print(data_training_array_scaled)\n",
    "    "
   ]
  },
  {
   "cell_type": "code",
   "execution_count": 63,
   "metadata": {},
   "outputs": [
    {
     "name": "stdout",
     "output_type": "stream",
     "text": [
      "(71760, 18)\n",
      "[0.40877665 0.52469149 0.37275203 0.42025758 0.40204232 0.48047382\n",
      " 0.44247083 0.47617625 0.45947971 0.33986952]\n"
     ]
    },
    {
     "data": {
      "image/png": "[encoded data removed]",
      "text/plain": [
       "<Figure size 1080x360 with 1 Axes>"
      ]
     },
     "metadata": {
      "needs_background": "light"
     },
     "output_type": "display_data"
    }
   ],
   "source": [
    "print(data_training_array_scaled.shape)\n",
    "print(data_training_array_scaled[:10,12])\n",
    "plt.figure(figsize=(15,5))\n",
    "plt.plot(data_training_array_scaled[:10,12], color = 'red', label = 'train_x')\n",
    "plt.title('train_x')\n",
    "plt.xlabel('hours')\n",
    "plt.ylabel('Loss')\n",
    "plt.legend()\n",
    "plt.show()"
   ]
  },
  {
   "cell_type": "code",
   "execution_count": 64,
   "metadata": {},
   "outputs": [
    {
     "data": {
      "text/plain": [
       "array([[0., 0., 0., 0., 1.],\n",
       "       [1., 0., 0., 0., 0.],\n",
       "       [0., 1., 0., 0., 0.],\n",
       "       [1., 0., 0., 0., 0.],\n",
       "       [0., 0., 0., 0., 1.],\n",
       "       [0., 0., 1., 0., 0.],\n",
       "       [0., 0., 0., 0., 1.],\n",
       "       [0., 0., 0., 0., 1.],\n",
       "       [1., 0., 0., 0., 0.],\n",
       "       [0., 0., 1., 0., 0.]], dtype=float32)"
      ]
     },
     "execution_count": 64,
     "metadata": {},
     "output_type": "execute_result"
    }
   ],
   "source": [
    "data_training_y[:10]"
   ]
  },
  {
   "cell_type": "markdown",
   "metadata": {},
   "source": [
    "### CHART MA's"
   ]
  },
  {
   "cell_type": "code",
   "execution_count": 65,
   "metadata": {},
   "outputs": [
    {
     "name": "stdout",
     "output_type": "stream",
     "text": [
      "(71760, 18)\n"
     ]
    },
    {
     "data": {
      "image/png": "[encoded data removed]",
      "text/plain": [
       "<Figure size 1008x360 with 1 Axes>"
      ]
     },
     "metadata": {
      "needs_background": "light"
     },
     "output_type": "display_data"
    }
   ],
   "source": [
    "INICIO = 0\n",
    "FIN = 100\n",
    "\n",
    "IDX_Close = DF_Full.columns.get_loc(\"Close\")\n",
    "IDX_MA_Close_5 = DF_Full.columns.get_loc(\"MA_Close_5\")\n",
    "IDX_MA_Close_25 = DF_Full.columns.get_loc(\"MA_Close_25\")\n",
    "IDX_MA_Close_50 = DF_Full.columns.get_loc(\"MA_Close_50\")\n",
    "IDX_MA_Close_200 = DF_Full.columns.get_loc(\"MA_Close_200\")\n",
    "\n",
    "print(data_training_array_scaled.shape)\n",
    "plt.figure(figsize=(14,5))\n",
    "pyplot.plot(data_training_array_scaled[INICIO:FIN,IDX_Close], color = 'red', label = 'Close')\n",
    "pyplot.plot(data_training_array_scaled[INICIO:FIN,IDX_MA_Close_5], color = 'orange', label = 'MA_Close_5')\n",
    "pyplot.plot(data_training_array_scaled[INICIO:FIN,IDX_MA_Close_25], color = 'blue', label = 'MA_Close_25')\n",
    "pyplot.plot(data_training_array_scaled[INICIO:FIN,IDX_MA_Close_50], color = 'green', label = 'MA_Close_50')\n",
    "pyplot.plot(data_training_array_scaled[INICIO:FIN,IDX_MA_Close_200], color = 'gray', label = 'MA_Close_200')\n",
    "plt.title('Close, Moving Avg 5, Moving Avg 25, Moving Avg 50, Moving Avg 200')\n",
    "plt.xlabel('Time')\n",
    "plt.ylabel('Price')\n",
    "plt.legend()\n",
    "plt.show()"
   ]
  },
  {
   "cell_type": "code",
   "execution_count": 66,
   "metadata": {},
   "outputs": [
    {
     "name": "stdout",
     "output_type": "stream",
     "text": [
      "(71760, 18)\n"
     ]
    },
    {
     "data": {
      "image/png": "[encoded data removed]",
      "text/plain": [
       "<Figure size 1008x360 with 1 Axes>"
      ]
     },
     "metadata": {
      "needs_background": "light"
     },
     "output_type": "display_data"
    }
   ],
   "source": [
    "print(data_training_array_scaled.shape)\n",
    "INICIO = 0\n",
    "FIN = 710\n",
    "\n",
    "\n",
    "IDX_Close = DF_Full.columns.get_loc(\"Close\")\n",
    "IDX_Volume = DF_Full.columns.get_loc(\"Volume\")\n",
    "IDX_weekday = DF_Full.columns.get_loc(\"weekday\")\n",
    "IDX_Pct_Range_Close = DF_Full.columns.get_loc(\"Pct_Range_Close\")\n",
    "IDX_Pct_Range_Close_diff = DF_Full.columns.get_loc(\"Pct_Range_Close_diff\")\n",
    "\n",
    "plt.figure(figsize=(14,5))\n",
    "pyplot.plot(data_training_array_scaled[INICIO:FIN,IDX_Close], color = 'red', label = 'Close')\n",
    "pyplot.plot(data_training_array_scaled[INICIO:FIN,IDX_Volume], color = 'blue', label = 'Volume')\n",
    "pyplot.plot(data_training_array_scaled[INICIO:FIN,IDX_weekday], color = 'green', label = 'weekday')\n",
    "pyplot.plot(data_training_array_scaled[INICIO:FIN,IDX_Pct_Range_Close], color = 'gray', label = 'Pct_Range_Close')\n",
    "pyplot.plot(data_training_array_scaled[INICIO:FIN,IDX_Pct_Range_Close_diff], color = 'orange', label = 'Pct_Range_Close_diff')\n",
    "plt.xlabel('Time')\n",
    "plt.ylabel('Price')\n",
    "plt.legend()\n",
    "plt.show()"
   ]
  },
  {
   "cell_type": "code",
   "execution_count": 67,
   "metadata": {},
   "outputs": [
    {
     "name": "stdout",
     "output_type": "stream",
     "text": [
      "(71760, 18)\n"
     ]
    },
    {
     "data": {
      "image/png": "[encoded data removed]",
      "text/plain": [
       "<Figure size 1008x360 with 1 Axes>"
      ]
     },
     "metadata": {
      "needs_background": "light"
     },
     "output_type": "display_data"
    }
   ],
   "source": [
    "print(data_training_array_scaled.shape)\n",
    "INICIO = 0\n",
    "FIN = 710\n",
    "\n",
    "\n",
    "IDX_Close = DF_Full.columns.get_loc(\"Close\")\n",
    "IDX_Close_Bid = DF_Full.columns.get_loc(\"Close_Bid\")\n",
    "IDX_Spread = DF_Full.columns.get_loc(\"Spread\")\n",
    "\n",
    "plt.figure(figsize=(14,5))\n",
    "pyplot.plot(data_training_array_scaled[INICIO:FIN,IDX_Close], color = 'red', label = 'Close')\n",
    "pyplot.plot(data_training_array_scaled[INICIO:FIN,IDX_Close_Bid], color = 'blue', label = 'Close_Bid')\n",
    "pyplot.plot(data_training_array_scaled[INICIO:FIN,IDX_Spread], color = 'green', label = 'Spread')\n",
    "plt.xlabel('Time')\n",
    "plt.ylabel('Price')\n",
    "plt.legend()\n",
    "plt.show()"
   ]
  },
  {
   "cell_type": "code",
   "execution_count": 68,
   "metadata": {},
   "outputs": [
    {
     "data": {
      "text/plain": [
       "array([[0., 0., 0., 0., 1.],\n",
       "       [1., 0., 0., 0., 0.],\n",
       "       [0., 1., 0., 0., 0.],\n",
       "       ...,\n",
       "       [1., 0., 0., 0., 0.],\n",
       "       [1., 0., 0., 0., 0.],\n",
       "       [0., 0., 0., 0., 1.]], dtype=float32)"
      ]
     },
     "execution_count": 68,
     "metadata": {},
     "output_type": "execute_result"
    }
   ],
   "source": [
    "data_training_y"
   ]
  },
  {
   "cell_type": "code",
   "execution_count": 69,
   "metadata": {},
   "outputs": [
    {
     "data": {
      "text/plain": [
       "[<matplotlib.lines.Line2D at 0x212d59ff8d0>,\n",
       " <matplotlib.lines.Line2D at 0x212d5e1deb8>,\n",
       " <matplotlib.lines.Line2D at 0x212d5e29048>,\n",
       " <matplotlib.lines.Line2D at 0x212d5e29198>,\n",
       " <matplotlib.lines.Line2D at 0x212d5e292e8>]"
      ]
     },
     "execution_count": 69,
     "metadata": {},
     "output_type": "execute_result"
    },
    {
     "data": {
      "image/png": "[encoded data removed]",
      "text/plain": [
       "<Figure size 1152x360 with 1 Axes>"
      ]
     },
     "metadata": {
      "needs_background": "light"
     },
     "output_type": "display_data"
    }
   ],
   "source": [
    "# Target para el entrenamiento\n",
    "pyplot.figure(figsize=(16,5))\n",
    "pyplot.plot(data_training_y)"
   ]
  },
  {
   "cell_type": "code",
   "execution_count": 70,
   "metadata": {
    "colab": {},
    "colab_type": "code",
    "id": "3Lf8pl2FoBLj",
    "outputId": "33ad0467-0e5b-420a-df86-b4563f3e1136"
   },
   "outputs": [
    {
     "name": "stdout",
     "output_type": "stream",
     "text": [
      "(71736, 24, 18)\n",
      "(71736, 5)\n"
     ]
    }
   ],
   "source": [
    "X_train = []\n",
    "y_train = []\n",
    "for i in range(RANGE, data_training_array_scaled.shape[0]):\n",
    "    indx_start = i-RANGE\n",
    "    X_train.append(data_training_array_scaled[indx_start:i])\n",
    "    y_train.append(data_training_y[i])\n",
    "\n",
    "X_train_np, y_train_np = np.array(X_train), np.array(y_train)\n",
    "\n",
    "print(X_train_np.shape)\n",
    "print(y_train_np.shape)"
   ]
  },
  {
   "cell_type": "code",
   "execution_count": 71,
   "metadata": {},
   "outputs": [
    {
     "data": {
      "text/plain": [
       "array([0.40956007, 0.4177704 , 0.41165325, 0.41002923, 0.40669097,\n",
       "       0.41073297, 0.41120214, 0.41484716, 0.4169223 , 0.40770147,\n",
       "       0.40741275, 0.41049839, 0.41006532, 0.41345772, 0.41457649,\n",
       "       0.4135299 , 0.41677794, 0.41221264, 0.41224873, 0.40903678,\n",
       "       0.40766538, 0.40732253, 0.4069075 , 0.40616767])"
      ]
     },
     "execution_count": 71,
     "metadata": {},
     "output_type": "execute_result"
    }
   ],
   "source": [
    "X_train_np[0,:,3]"
   ]
  },
  {
   "cell_type": "code",
   "execution_count": 72,
   "metadata": {},
   "outputs": [
    {
     "name": "stdout",
     "output_type": "stream",
     "text": [
      "[-2.  2. -1.  2.  1. -2.  2.  1.  2. -1. -2. -2. -2.  0. -1.  1. -2.  2.\n",
      " -1.  0.  0.  1.  1. -1.]\n"
     ]
    }
   ],
   "source": [
    "array = y_train_np[:RANGE]\n",
    "uniques_y = uniques[array.argmax(1)]\n",
    "print(uniques_y)"
   ]
  },
  {
   "cell_type": "code",
   "execution_count": 73,
   "metadata": {},
   "outputs": [
    {
     "name": "stdout",
     "output_type": "stream",
     "text": [
      "(24, 18)\n",
      "(10251, 18)\n",
      "<bound method NDFrame.head of           Open     High      Low    Close     Volume  Open_Bid  High_Bid  \\\n",
      "0      1.10977  1.11007  1.10792  1.10920  8733.5996   1.10975   1.11004   \n",
      "1      1.10920  1.11055  1.10881  1.10996  7923.8901   1.10916   1.11053   \n",
      "2      1.10996  1.11040  1.10949  1.11013  7694.7002   1.10994   1.11039   \n",
      "3      1.11013  1.11082  1.10955  1.10964  7433.1602   1.11010   1.11081   \n",
      "4      1.10966  1.11083  1.10653  1.10722  7766.4902   1.10964   1.11080   \n",
      "...        ...      ...      ...      ...        ...       ...       ...   \n",
      "10270  1.05742  1.05769  1.05721  1.05748  6381.8799   1.05740   1.05766   \n",
      "10271  1.05748  1.05750  1.05700  1.05749  6014.2798   1.05745   1.05748   \n",
      "10272  1.05749  1.05828  1.05747  1.05817  5775.6299   1.05746   1.05826   \n",
      "10273  1.05816  1.05858  1.05808  1.05810  4960.8999   1.05814   1.05856   \n",
      "10274  1.05811  1.05833  1.05771  1.05808  5379.8398   1.05809   1.05831   \n",
      "\n",
      "       Low_Bid  Close_Bid  Volume_Bid   Spread  weekday  Pct_Range_Close  \\\n",
      "0      1.10790    1.10917   9555.7803  0.00003        4        -0.000523   \n",
      "1      1.10877    1.10995   7773.8599  0.00001        4         0.000685   \n",
      "2      1.10946    1.11011   7275.8599  0.00002        4         0.000153   \n",
      "3      1.10951    1.10962   8399.8604  0.00002        4        -0.000441   \n",
      "4      1.10650    1.10719   7515.6699  0.00003        4        -0.002181   \n",
      "...        ...        ...         ...      ...      ...              ...   \n",
      "10270  1.05720    1.05746   6769.2900  0.00002        4         0.000047   \n",
      "10271  1.05697    1.05747   6285.0400  0.00002        4         0.000009   \n",
      "10272  1.05745    1.05814   5202.2798  0.00003        4         0.000643   \n",
      "10273  1.05806    1.05807   5382.2798  0.00003        4        -0.000066   \n",
      "10274  1.05768    1.05806   4904.3301  0.00002        4        -0.000019   \n",
      "\n",
      "       Pct_Range_Close_diff  MA_Close_5  MA_Close_25  MA_Close_50  \\\n",
      "0                  0.000387    1.110414     1.109380     1.108111   \n",
      "1                  0.001208    1.110250     1.109399     1.108103   \n",
      "2                 -0.000532    1.109972     1.109468     1.108113   \n",
      "3                 -0.000595    1.109742     1.109429     1.108166   \n",
      "4                 -0.001739    1.109230     1.109356     1.108093   \n",
      "...                     ...         ...          ...          ...   \n",
      "10270              0.000983    1.057878     1.056827     1.055244   \n",
      "10271             -0.000038    1.057730     1.056916     1.055306   \n",
      "10272              0.000634    1.057798     1.057026     1.055370   \n",
      "10273             -0.000709    1.057734     1.057084     1.055427   \n",
      "10274              0.000047    1.057864     1.057157     1.055494   \n",
      "\n",
      "       MA_Close_200  \n",
      "0          1.114837  \n",
      "1          1.114746  \n",
      "2          1.114664  \n",
      "3          1.114582  \n",
      "4          1.114499  \n",
      "...             ...  \n",
      "10270      1.059191  \n",
      "10271      1.059177  \n",
      "10272      1.059168  \n",
      "10273      1.059161  \n",
      "10274      1.059152  \n",
      "\n",
      "[10275 rows x 18 columns]>\n"
     ]
    }
   ],
   "source": [
    "#\n",
    "#Obtener los ultimos valores de Train para agregarlos a Val DF\n",
    "# APPEND DE X\n",
    "last_range_training_x = data_training.tail(RANGE)\n",
    "print(last_range_training_x.shape)\n",
    "print(data_val.shape)\n",
    "data_val_x1 = last_range_training_x.append(data_val, ignore_index = True)\n",
    "data_val_x1.shape\n",
    "print(data_val_x1.head)"
   ]
  },
  {
   "cell_type": "code",
   "execution_count": 74,
   "metadata": {},
   "outputs": [
    {
     "data": {
      "text/plain": [
       "array([[0., 0., 0., 1., 0.],\n",
       "       [0., 0., 1., 0., 0.],\n",
       "       [0., 1., 0., 0., 0.],\n",
       "       [1., 0., 0., 0., 0.],\n",
       "       [0., 0., 0., 0., 1.],\n",
       "       [0., 0., 1., 0., 0.],\n",
       "       [0., 0., 0., 0., 1.],\n",
       "       [0., 0., 0., 1., 0.],\n",
       "       [1., 0., 0., 0., 0.],\n",
       "       [0., 0., 0., 0., 1.],\n",
       "       [1., 0., 0., 0., 0.],\n",
       "       [0., 0., 0., 0., 1.],\n",
       "       [0., 0., 0., 0., 1.],\n",
       "       [0., 0., 1., 0., 0.],\n",
       "       [0., 1., 0., 0., 0.],\n",
       "       [0., 1., 0., 0., 0.],\n",
       "       [0., 0., 0., 0., 1.],\n",
       "       [1., 0., 0., 0., 0.],\n",
       "       [0., 0., 0., 0., 1.],\n",
       "       [1., 0., 0., 0., 0.],\n",
       "       [1., 0., 0., 0., 0.],\n",
       "       [1., 0., 0., 0., 0.],\n",
       "       [1., 0., 0., 0., 0.],\n",
       "       [0., 0., 0., 0., 1.]], dtype=float32)"
      ]
     },
     "execution_count": 74,
     "metadata": {},
     "output_type": "execute_result"
    }
   ],
   "source": [
    "last_range_train_y = data_training_y[-RANGE:]\n",
    "last_range_train_y"
   ]
  },
  {
   "cell_type": "code",
   "execution_count": 75,
   "metadata": {},
   "outputs": [
    {
     "data": {
      "text/plain": [
       "(24, 5)"
      ]
     },
     "execution_count": 75,
     "metadata": {},
     "output_type": "execute_result"
    }
   ],
   "source": [
    "last_range_train_y.shape"
   ]
  },
  {
   "cell_type": "code",
   "execution_count": 76,
   "metadata": {},
   "outputs": [
    {
     "name": "stdout",
     "output_type": "stream",
     "text": [
      "(24, 5)\n",
      "(10251, 5)\n",
      "(10275, 5)\n",
      "[[0. 0. 0. 1. 0.]\n",
      " [0. 0. 1. 0. 0.]\n",
      " [0. 1. 0. 0. 0.]\n",
      " [1. 0. 0. 0. 0.]\n",
      " [0. 0. 0. 0. 1.]\n",
      " [0. 0. 1. 0. 0.]\n",
      " [0. 0. 0. 0. 1.]\n",
      " [0. 0. 0. 1. 0.]\n",
      " [1. 0. 0. 0. 0.]\n",
      " [0. 0. 0. 0. 1.]]\n"
     ]
    }
   ],
   "source": [
    "#Append de los datos de Train al DF de Val en Y\n",
    "last_range_train_y = data_training_y[-RANGE:]\n",
    "print(last_range_train_y.shape)\n",
    "print(data_val_y.shape)\n",
    "data_val_y1 = np.concatenate((last_range_train_y,data_val_y))\n",
    "print(data_val_y1.shape)\n",
    "print(data_val_y1[:10])"
   ]
  },
  {
   "cell_type": "code",
   "execution_count": 77,
   "metadata": {},
   "outputs": [
    {
     "name": "stdout",
     "output_type": "stream",
     "text": [
      "[[0.11300128 0.11028657 0.11158767 0.11153416 0.01776547 0.11318985\n",
      "  0.1102924  0.11159171 0.11155831 0.01615113 0.01587302 0.66666667\n",
      "  0.42472625 0.47997608 0.11223219 0.10576138 0.09876714 0.09929935]\n",
      " [0.11197301 0.11115114 0.11319833 0.11290555 0.01611833 0.11212542\n",
      "  0.11117517 0.11316623 0.1129661  0.01313929 0.00529101 0.66666667\n",
      "  0.45422469 0.49827938 0.11193447 0.10579729 0.09875194 0.09912484]\n",
      " [0.11334404 0.11088096 0.11442894 0.11321231 0.0156521  0.11353263\n",
      "  0.11092295 0.11441499 0.11325488 0.01229756 0.01058201 0.66666667\n",
      "  0.44123107 0.45949982 0.11142981 0.10592336 0.09877011 0.09896937]\n",
      " [0.11365071 0.11163746 0.11453752 0.11232812 0.01512006 0.11382128\n",
      "  0.11167961 0.11450547 0.1123705  0.01419737 0.01058201 0.66666667\n",
      "  0.4267103  0.4581061  0.11101228 0.10585153 0.09886915 0.09881352]\n",
      " [0.11280284 0.11165547 0.10907215 0.10796131 0.01579814 0.11299139\n",
      "  0.11166159 0.109058   0.10798469 0.01270289 0.01587302 0.66666667\n",
      "  0.38422622 0.43258592 0.11008282 0.10571887 0.09873339 0.09865491]\n",
      " [0.10840113 0.11044868 0.11032086 0.11243639 0.00865134 0.10858937\n",
      "  0.11045454 0.11032486 0.11238855 0.00657738 0.03703704 0.66666667\n",
      "  0.49219458 0.56989344 0.11026435 0.10572766 0.09878458 0.09852279]\n",
      " [0.112875   0.1104847  0.11408509 0.11231008 0.00386841 0.11299139\n",
      "  0.11034644 0.11392634 0.11222611 0.00343166 0.04761905 0.66666667\n",
      "  0.43594983 0.42002751 0.11014454 0.10580389 0.09886099 0.09840466]\n",
      " [0.11276676 0.11228588 0.11453752 0.11442131 0.00488494 0.11282902\n",
      "  0.11193183 0.11439689 0.11412121 0.00411608 0.11111111 0.66666667\n",
      "  0.4632424  0.49626623 0.1103878  0.10597247 0.09904497 0.09831445]\n",
      " [0.1148233  0.11331256 0.11366886 0.11577466 0.00580981 0.11461509\n",
      "  0.11283262 0.11274998 0.11471682 0.00495351 0.33333333 0.66666667\n",
      "  0.45398072 0.46290571 0.11108126 0.10619969 0.09929646 0.09826358]\n",
      " [0.09487129 0.09184243 0.09186166 0.09170306 0.00958662 0.09437298\n",
      "  0.09146594 0.09168401 0.09154243 0.01038264 0.06878307 1.\n",
      "  0.14438142 0.18880837 0.10781    0.10544107 0.09903384 0.09809278]]\n"
     ]
    }
   ],
   "source": [
    "data_val_x2 = scaler.transform(data_val_x1)\n",
    "data_val_x2.shape\n",
    "print(data_val_x2[:10])"
   ]
  },
  {
   "cell_type": "code",
   "execution_count": 78,
   "metadata": {
    "colab": {},
    "colab_type": "code",
    "id": "CePFSn77oBLn",
    "outputId": "42f59747-5fe8-44a2-af41-2a1d57cb5e1b",
    "scrolled": true
   },
   "outputs": [
    {
     "name": "stdout",
     "output_type": "stream",
     "text": [
      "(10251, 24, 18)\n",
      "(10251, 5)\n"
     ]
    }
   ],
   "source": [
    "X_val = []\n",
    "y_val = []\n",
    "for i in range(RANGE, data_val_x2.shape[0]):\n",
    "    indx_start = i-RANGE\n",
    "    X_val.append(data_val_x2[indx_start:i])\n",
    "    y_val.append(data_val_y1[i])\n",
    "\n",
    "X_val_np = np.array(X_val)\n",
    "y_val_np = np.array(y_val)\n",
    "print(X_val_np.shape)\n",
    "print(y_val_np.shape)"
   ]
  },
  {
   "cell_type": "code",
   "execution_count": 79,
   "metadata": {},
   "outputs": [
    {
     "name": "stdout",
     "output_type": "stream",
     "text": [
      "(24, 18)\n",
      "(20304, 18)\n"
     ]
    },
    {
     "data": {
      "text/plain": [
       "(20328, 18)"
      ]
     },
     "execution_count": 79,
     "metadata": {},
     "output_type": "execute_result"
    }
   ],
   "source": [
    "\n",
    "#Obtener los ultimos valores de Val para agregarlos a TEST DF\n",
    "# Append en X\n",
    "last_range_data_training_x = data_training.tail(RANGE)\n",
    "print(last_range_data_training_x.shape)\n",
    "print(data_test.shape)\n",
    "data_test_x1 = last_range_data_training_x.append(data_test, ignore_index = True)\n",
    "data_test_x1.shape\n"
   ]
  },
  {
   "cell_type": "code",
   "execution_count": 80,
   "metadata": {},
   "outputs": [
    {
     "name": "stdout",
     "output_type": "stream",
     "text": [
      "(24, 5)\n",
      "(20304, 5)\n",
      "(20328, 5)\n"
     ]
    }
   ],
   "source": [
    "#Append de los datos de Val al DF de Test de Y\n",
    "last_range_training_y = data_training_y[-RANGE:,:]\n",
    "print(last_range_training_y.shape)\n",
    "print(data_test_y.shape)\n",
    "data_test_y1 = np.concatenate((last_range_training_y,data_test_y))\n",
    "print(data_test_y1.shape)"
   ]
  },
  {
   "cell_type": "code",
   "execution_count": 81,
   "metadata": {},
   "outputs": [
    {
     "name": "stdout",
     "output_type": "stream",
     "text": [
      "[[0.11300128 0.11028657 0.11158767 0.11153416 0.01776547 0.11318985\n",
      "  0.1102924  0.11159171 0.11155831 0.01615113 0.01587302 0.66666667\n",
      "  0.42472625 0.47997608 0.11223219 0.10576138 0.09876714 0.09929935]\n",
      " [0.11197301 0.11115114 0.11319833 0.11290555 0.01611833 0.11212542\n",
      "  0.11117517 0.11316623 0.1129661  0.01313929 0.00529101 0.66666667\n",
      "  0.45422469 0.49827938 0.11193447 0.10579729 0.09875194 0.09912484]\n",
      " [0.11334404 0.11088096 0.11442894 0.11321231 0.0156521  0.11353263\n",
      "  0.11092295 0.11441499 0.11325488 0.01229756 0.01058201 0.66666667\n",
      "  0.44123107 0.45949982 0.11142981 0.10592336 0.09877011 0.09896937]\n",
      " [0.11365071 0.11163746 0.11453752 0.11232812 0.01512006 0.11382128\n",
      "  0.11167961 0.11450547 0.1123705  0.01419737 0.01058201 0.66666667\n",
      "  0.4267103  0.4581061  0.11101228 0.10585153 0.09886915 0.09881352]\n",
      " [0.11280284 0.11165547 0.10907215 0.10796131 0.01579814 0.11299139\n",
      "  0.11166159 0.109058   0.10798469 0.01270289 0.01587302 0.66666667\n",
      "  0.38422622 0.43258592 0.11008282 0.10571887 0.09873339 0.09865491]\n",
      " [0.10840113 0.11044868 0.11032086 0.11243639 0.00865134 0.10858937\n",
      "  0.11045454 0.11032486 0.11238855 0.00657738 0.03703704 0.66666667\n",
      "  0.49219458 0.56989344 0.11026435 0.10572766 0.09878458 0.09852279]\n",
      " [0.112875   0.1104847  0.11408509 0.11231008 0.00386841 0.11299139\n",
      "  0.11034644 0.11392634 0.11222611 0.00343166 0.04761905 0.66666667\n",
      "  0.43594983 0.42002751 0.11014454 0.10580389 0.09886099 0.09840466]\n",
      " [0.11276676 0.11228588 0.11453752 0.11442131 0.00488494 0.11282902\n",
      "  0.11193183 0.11439689 0.11412121 0.00411608 0.11111111 0.66666667\n",
      "  0.4632424  0.49626623 0.1103878  0.10597247 0.09904497 0.09831445]\n",
      " [0.1148233  0.11331256 0.11366886 0.11577466 0.00580981 0.11461509\n",
      "  0.11283262 0.11274998 0.11471682 0.00495351 0.33333333 0.66666667\n",
      "  0.45398072 0.46290571 0.11108126 0.10619969 0.09929646 0.09826358]\n",
      " [0.09487129 0.09184243 0.09186166 0.09170306 0.00958662 0.09437298\n",
      "  0.09146594 0.09168401 0.09154243 0.01038264 0.06878307 1.\n",
      "  0.14438142 0.18880837 0.10781    0.10544107 0.09903384 0.09809278]]\n"
     ]
    }
   ],
   "source": [
    "data_test_x2 = scaler.transform(data_test_x1)\n",
    "data_test_x2.shape\n",
    "print(data_test_x2[:10])"
   ]
  },
  {
   "cell_type": "code",
   "execution_count": 82,
   "metadata": {
    "colab": {},
    "colab_type": "code",
    "id": "CePFSn77oBLn",
    "outputId": "42f59747-5fe8-44a2-af41-2a1d57cb5e1b",
    "scrolled": true
   },
   "outputs": [
    {
     "name": "stdout",
     "output_type": "stream",
     "text": [
      "(20304, 24, 18)\n",
      "(20304, 5)\n"
     ]
    }
   ],
   "source": [
    "X_test = []\n",
    "y_test = []\n",
    "for i in range(RANGE, data_test_x2.shape[0]):\n",
    "    X_test.append(data_test_x2[i-RANGE:i])\n",
    "    y_test.append(data_test_y1[i])\n",
    "\n",
    "X_test_np = np.array(X_test)\n",
    "y_test_np = np.array(y_test)\n",
    "print(X_test_np.shape)\n",
    "print(y_test_np.shape)"
   ]
  },
  {
   "cell_type": "code",
   "execution_count": 83,
   "metadata": {},
   "outputs": [
    {
     "data": {
      "text/plain": [
       "[<matplotlib.lines.Line2D at 0x212f1d19ba8>,\n",
       " <matplotlib.lines.Line2D at 0x212f1d19cc0>,\n",
       " <matplotlib.lines.Line2D at 0x212f1d19e10>,\n",
       " <matplotlib.lines.Line2D at 0x212f1d19f60>,\n",
       " <matplotlib.lines.Line2D at 0x212f1d250f0>]"
      ]
     },
     "execution_count": 83,
     "metadata": {},
     "output_type": "execute_result"
    },
    {
     "data": {
      "image/png": "[encoded data removed]",
      "text/plain": [
       "<Figure size 432x288 with 1 Axes>"
      ]
     },
     "metadata": {
      "needs_background": "light"
     },
     "output_type": "display_data"
    }
   ],
   "source": [
    "# Y del dataset de pruebas\n",
    "pyplot.plot(y_test_np)"
   ]
  },
  {
   "cell_type": "code",
   "execution_count": 84,
   "metadata": {},
   "outputs": [
    {
     "data": {
      "text/plain": [
       "[<matplotlib.lines.Line2D at 0x212f1d74048>,\n",
       " <matplotlib.lines.Line2D at 0x212f302e0b8>,\n",
       " <matplotlib.lines.Line2D at 0x212f302e208>,\n",
       " <matplotlib.lines.Line2D at 0x212f302e358>,\n",
       " <matplotlib.lines.Line2D at 0x212f302e4a8>]"
      ]
     },
     "execution_count": 84,
     "metadata": {},
     "output_type": "execute_result"
    },
    {
     "data": {
      "image/png": "[encoded data removed]",
      "text/plain": [
       "<Figure size 432x288 with 1 Axes>"
      ]
     },
     "metadata": {
      "needs_background": "light"
     },
     "output_type": "display_data"
    }
   ],
   "source": [
    "\n",
    "# Y de Val y Test comparados\n",
    "pyplot.plot(y_train_np)\n",
    "pyplot.plot(y_test_np)\n",
    "pyplot.plot(y_val_np)\n"
   ]
  },
  {
   "cell_type": "code",
   "execution_count": 85,
   "metadata": {},
   "outputs": [
    {
     "name": "stdout",
     "output_type": "stream",
     "text": [
      "24\n",
      "18\n"
     ]
    }
   ],
   "source": [
    "x_shape = X_train_np.shape[1]\n",
    "print(x_shape)\n",
    "y_shape = X_train_np.shape[2]\n",
    "print(y_shape)"
   ]
  },
  {
   "cell_type": "markdown",
   "metadata": {},
   "source": [
    "### Oversampling Inbalanced Class"
   ]
  },
  {
   "cell_type": "code",
   "execution_count": 86,
   "metadata": {},
   "outputs": [
    {
     "name": "stdout",
     "output_type": "stream",
     "text": [
      "(71736, 24, 18)\n",
      "(71736, 5)\n"
     ]
    }
   ],
   "source": [
    "#Check Current Shape\n",
    "print(X_train_np.shape)\n",
    "print(y_train_np.shape)"
   ]
  },
  {
   "cell_type": "code",
   "execution_count": 87,
   "metadata": {
    "scrolled": true
   },
   "outputs": [
    {
     "data": {
      "text/plain": [
       "RandomOverSampler(sampling_strategy='minority')"
      ]
     },
     "execution_count": 87,
     "metadata": {},
     "output_type": "execute_result"
    }
   ],
   "source": [
    "oversample = RandomOverSampler(sampling_strategy='minority')\n",
    "oversample\n"
   ]
  },
  {
   "cell_type": "code",
   "execution_count": 343,
   "metadata": {},
   "outputs": [
    {
     "ename": "ValueError",
     "evalue": "Found array with dim 3. Estimator expected <= 2.",
     "output_type": "error",
     "traceback": [
      "\u001b[0;31m---------------------------------------------------------------------------\u001b[0m",
      "\u001b[0;31mValueError\u001b[0m                                Traceback (most recent call last)",
      "\u001b[0;32m<ipython-input-343-75b5d250975d>\u001b[0m in \u001b[0;36m<module>\u001b[0;34m\u001b[0m\n\u001b[0;32m----> 1\u001b[0;31m \u001b[0mX_over\u001b[0m\u001b[0;34m,\u001b[0m \u001b[0my_over\u001b[0m \u001b[0;34m=\u001b[0m \u001b[0moversample\u001b[0m\u001b[0;34m.\u001b[0m\u001b[0mfit_resample\u001b[0m\u001b[0;34m(\u001b[0m\u001b[0mX_train_np\u001b[0m\u001b[0;34m,\u001b[0m \u001b[0my_train_np\u001b[0m\u001b[0;34m)\u001b[0m\u001b[0;34m\u001b[0m\u001b[0;34m\u001b[0m\u001b[0m\n\u001b[0m",
      "\u001b[0;32m~/anaconda3/lib/python3.7/site-packages/imblearn/base.py\u001b[0m in \u001b[0;36mfit_resample\u001b[0;34m(self, X, y)\u001b[0m\n\u001b[1;32m     75\u001b[0m         \u001b[0mcheck_classification_targets\u001b[0m\u001b[0;34m(\u001b[0m\u001b[0my\u001b[0m\u001b[0;34m)\u001b[0m\u001b[0;34m\u001b[0m\u001b[0;34m\u001b[0m\u001b[0m\n\u001b[1;32m     76\u001b[0m         \u001b[0marrays_transformer\u001b[0m \u001b[0;34m=\u001b[0m \u001b[0mArraysTransformer\u001b[0m\u001b[0;34m(\u001b[0m\u001b[0mX\u001b[0m\u001b[0;34m,\u001b[0m \u001b[0my\u001b[0m\u001b[0;34m)\u001b[0m\u001b[0;34m\u001b[0m\u001b[0;34m\u001b[0m\u001b[0m\n\u001b[0;32m---> 77\u001b[0;31m         \u001b[0mX\u001b[0m\u001b[0;34m,\u001b[0m \u001b[0my\u001b[0m\u001b[0;34m,\u001b[0m \u001b[0mbinarize_y\u001b[0m \u001b[0;34m=\u001b[0m \u001b[0mself\u001b[0m\u001b[0;34m.\u001b[0m\u001b[0m_check_X_y\u001b[0m\u001b[0;34m(\u001b[0m\u001b[0mX\u001b[0m\u001b[0;34m,\u001b[0m \u001b[0my\u001b[0m\u001b[0;34m)\u001b[0m\u001b[0;34m\u001b[0m\u001b[0;34m\u001b[0m\u001b[0m\n\u001b[0m\u001b[1;32m     78\u001b[0m \u001b[0;34m\u001b[0m\u001b[0m\n\u001b[1;32m     79\u001b[0m         self.sampling_strategy_ = check_sampling_strategy(\n",
      "\u001b[0;32m~/anaconda3/lib/python3.7/site-packages/imblearn/over_sampling/_random_over_sampler.py\u001b[0m in \u001b[0;36m_check_X_y\u001b[0;34m(self, X, y)\u001b[0m\n\u001b[1;32m     79\u001b[0m         X, y = self._validate_data(\n\u001b[1;32m     80\u001b[0m             \u001b[0mX\u001b[0m\u001b[0;34m,\u001b[0m \u001b[0my\u001b[0m\u001b[0;34m,\u001b[0m \u001b[0mreset\u001b[0m\u001b[0;34m=\u001b[0m\u001b[0;32mTrue\u001b[0m\u001b[0;34m,\u001b[0m \u001b[0maccept_sparse\u001b[0m\u001b[0;34m=\u001b[0m\u001b[0;34m[\u001b[0m\u001b[0;34m\"csr\"\u001b[0m\u001b[0;34m,\u001b[0m \u001b[0;34m\"csc\"\u001b[0m\u001b[0;34m]\u001b[0m\u001b[0;34m,\u001b[0m \u001b[0mdtype\u001b[0m\u001b[0;34m=\u001b[0m\u001b[0;32mNone\u001b[0m\u001b[0;34m,\u001b[0m\u001b[0;34m\u001b[0m\u001b[0;34m\u001b[0m\u001b[0m\n\u001b[0;32m---> 81\u001b[0;31m             \u001b[0mforce_all_finite\u001b[0m\u001b[0;34m=\u001b[0m\u001b[0;32mFalse\u001b[0m\u001b[0;34m,\u001b[0m\u001b[0;34m\u001b[0m\u001b[0;34m\u001b[0m\u001b[0m\n\u001b[0m\u001b[1;32m     82\u001b[0m         )\n\u001b[1;32m     83\u001b[0m         \u001b[0;32mreturn\u001b[0m \u001b[0mX\u001b[0m\u001b[0;34m,\u001b[0m \u001b[0my\u001b[0m\u001b[0;34m,\u001b[0m \u001b[0mbinarize_y\u001b[0m\u001b[0;34m\u001b[0m\u001b[0;34m\u001b[0m\u001b[0m\n",
      "\u001b[0;32m~/anaconda3/lib/python3.7/site-packages/sklearn/base.py\u001b[0m in \u001b[0;36m_validate_data\u001b[0;34m(self, X, y, reset, validate_separately, **check_params)\u001b[0m\n\u001b[1;32m    430\u001b[0m                 \u001b[0my\u001b[0m \u001b[0;34m=\u001b[0m \u001b[0mcheck_array\u001b[0m\u001b[0;34m(\u001b[0m\u001b[0my\u001b[0m\u001b[0;34m,\u001b[0m \u001b[0;34m**\u001b[0m\u001b[0mcheck_y_params\u001b[0m\u001b[0;34m)\u001b[0m\u001b[0;34m\u001b[0m\u001b[0;34m\u001b[0m\u001b[0m\n\u001b[1;32m    431\u001b[0m             \u001b[0;32melse\u001b[0m\u001b[0;34m:\u001b[0m\u001b[0;34m\u001b[0m\u001b[0;34m\u001b[0m\u001b[0m\n\u001b[0;32m--> 432\u001b[0;31m                 \u001b[0mX\u001b[0m\u001b[0;34m,\u001b[0m \u001b[0my\u001b[0m \u001b[0;34m=\u001b[0m \u001b[0mcheck_X_y\u001b[0m\u001b[0;34m(\u001b[0m\u001b[0mX\u001b[0m\u001b[0;34m,\u001b[0m \u001b[0my\u001b[0m\u001b[0;34m,\u001b[0m \u001b[0;34m**\u001b[0m\u001b[0mcheck_params\u001b[0m\u001b[0;34m)\u001b[0m\u001b[0;34m\u001b[0m\u001b[0;34m\u001b[0m\u001b[0m\n\u001b[0m\u001b[1;32m    433\u001b[0m             \u001b[0mout\u001b[0m \u001b[0;34m=\u001b[0m \u001b[0mX\u001b[0m\u001b[0;34m,\u001b[0m \u001b[0my\u001b[0m\u001b[0;34m\u001b[0m\u001b[0;34m\u001b[0m\u001b[0m\n\u001b[1;32m    434\u001b[0m \u001b[0;34m\u001b[0m\u001b[0m\n",
      "\u001b[0;32m~/anaconda3/lib/python3.7/site-packages/sklearn/utils/validation.py\u001b[0m in \u001b[0;36minner_f\u001b[0;34m(*args, **kwargs)\u001b[0m\n\u001b[1;32m     71\u001b[0m                           FutureWarning)\n\u001b[1;32m     72\u001b[0m         \u001b[0mkwargs\u001b[0m\u001b[0;34m.\u001b[0m\u001b[0mupdate\u001b[0m\u001b[0;34m(\u001b[0m\u001b[0;34m{\u001b[0m\u001b[0mk\u001b[0m\u001b[0;34m:\u001b[0m \u001b[0marg\u001b[0m \u001b[0;32mfor\u001b[0m \u001b[0mk\u001b[0m\u001b[0;34m,\u001b[0m \u001b[0marg\u001b[0m \u001b[0;32min\u001b[0m \u001b[0mzip\u001b[0m\u001b[0;34m(\u001b[0m\u001b[0msig\u001b[0m\u001b[0;34m.\u001b[0m\u001b[0mparameters\u001b[0m\u001b[0;34m,\u001b[0m \u001b[0margs\u001b[0m\u001b[0;34m)\u001b[0m\u001b[0;34m}\u001b[0m\u001b[0;34m)\u001b[0m\u001b[0;34m\u001b[0m\u001b[0;34m\u001b[0m\u001b[0m\n\u001b[0;32m---> 73\u001b[0;31m         \u001b[0;32mreturn\u001b[0m \u001b[0mf\u001b[0m\u001b[0;34m(\u001b[0m\u001b[0;34m**\u001b[0m\u001b[0mkwargs\u001b[0m\u001b[0;34m)\u001b[0m\u001b[0;34m\u001b[0m\u001b[0;34m\u001b[0m\u001b[0m\n\u001b[0m\u001b[1;32m     74\u001b[0m     \u001b[0;32mreturn\u001b[0m \u001b[0minner_f\u001b[0m\u001b[0;34m\u001b[0m\u001b[0;34m\u001b[0m\u001b[0m\n\u001b[1;32m     75\u001b[0m \u001b[0;34m\u001b[0m\u001b[0m\n",
      "\u001b[0;32m~/anaconda3/lib/python3.7/site-packages/sklearn/utils/validation.py\u001b[0m in \u001b[0;36mcheck_X_y\u001b[0;34m(X, y, accept_sparse, accept_large_sparse, dtype, order, copy, force_all_finite, ensure_2d, allow_nd, multi_output, ensure_min_samples, ensure_min_features, y_numeric, estimator)\u001b[0m\n\u001b[1;32m    801\u001b[0m                     \u001b[0mensure_min_samples\u001b[0m\u001b[0;34m=\u001b[0m\u001b[0mensure_min_samples\u001b[0m\u001b[0;34m,\u001b[0m\u001b[0;34m\u001b[0m\u001b[0;34m\u001b[0m\u001b[0m\n\u001b[1;32m    802\u001b[0m                     \u001b[0mensure_min_features\u001b[0m\u001b[0;34m=\u001b[0m\u001b[0mensure_min_features\u001b[0m\u001b[0;34m,\u001b[0m\u001b[0;34m\u001b[0m\u001b[0;34m\u001b[0m\u001b[0m\n\u001b[0;32m--> 803\u001b[0;31m                     estimator=estimator)\n\u001b[0m\u001b[1;32m    804\u001b[0m     \u001b[0;32mif\u001b[0m \u001b[0mmulti_output\u001b[0m\u001b[0;34m:\u001b[0m\u001b[0;34m\u001b[0m\u001b[0;34m\u001b[0m\u001b[0m\n\u001b[1;32m    805\u001b[0m         y = check_array(y, accept_sparse='csr', force_all_finite=True,\n",
      "\u001b[0;32m~/anaconda3/lib/python3.7/site-packages/sklearn/utils/validation.py\u001b[0m in \u001b[0;36minner_f\u001b[0;34m(*args, **kwargs)\u001b[0m\n\u001b[1;32m     71\u001b[0m                           FutureWarning)\n\u001b[1;32m     72\u001b[0m         \u001b[0mkwargs\u001b[0m\u001b[0;34m.\u001b[0m\u001b[0mupdate\u001b[0m\u001b[0;34m(\u001b[0m\u001b[0;34m{\u001b[0m\u001b[0mk\u001b[0m\u001b[0;34m:\u001b[0m \u001b[0marg\u001b[0m \u001b[0;32mfor\u001b[0m \u001b[0mk\u001b[0m\u001b[0;34m,\u001b[0m \u001b[0marg\u001b[0m \u001b[0;32min\u001b[0m \u001b[0mzip\u001b[0m\u001b[0;34m(\u001b[0m\u001b[0msig\u001b[0m\u001b[0;34m.\u001b[0m\u001b[0mparameters\u001b[0m\u001b[0;34m,\u001b[0m \u001b[0margs\u001b[0m\u001b[0;34m)\u001b[0m\u001b[0;34m}\u001b[0m\u001b[0;34m)\u001b[0m\u001b[0;34m\u001b[0m\u001b[0;34m\u001b[0m\u001b[0m\n\u001b[0;32m---> 73\u001b[0;31m         \u001b[0;32mreturn\u001b[0m \u001b[0mf\u001b[0m\u001b[0;34m(\u001b[0m\u001b[0;34m**\u001b[0m\u001b[0mkwargs\u001b[0m\u001b[0;34m)\u001b[0m\u001b[0;34m\u001b[0m\u001b[0;34m\u001b[0m\u001b[0m\n\u001b[0m\u001b[1;32m     74\u001b[0m     \u001b[0;32mreturn\u001b[0m \u001b[0minner_f\u001b[0m\u001b[0;34m\u001b[0m\u001b[0;34m\u001b[0m\u001b[0m\n\u001b[1;32m     75\u001b[0m \u001b[0;34m\u001b[0m\u001b[0m\n",
      "\u001b[0;32m~/anaconda3/lib/python3.7/site-packages/sklearn/utils/validation.py\u001b[0m in \u001b[0;36mcheck_array\u001b[0;34m(array, accept_sparse, accept_large_sparse, dtype, order, copy, force_all_finite, ensure_2d, allow_nd, ensure_min_samples, ensure_min_features, estimator)\u001b[0m\n\u001b[1;32m    640\u001b[0m         \u001b[0;32mif\u001b[0m \u001b[0;32mnot\u001b[0m \u001b[0mallow_nd\u001b[0m \u001b[0;32mand\u001b[0m \u001b[0marray\u001b[0m\u001b[0;34m.\u001b[0m\u001b[0mndim\u001b[0m \u001b[0;34m>=\u001b[0m \u001b[0;36m3\u001b[0m\u001b[0;34m:\u001b[0m\u001b[0;34m\u001b[0m\u001b[0;34m\u001b[0m\u001b[0m\n\u001b[1;32m    641\u001b[0m             raise ValueError(\"Found array with dim %d. %s expected <= 2.\"\n\u001b[0;32m--> 642\u001b[0;31m                              % (array.ndim, estimator_name))\n\u001b[0m\u001b[1;32m    643\u001b[0m \u001b[0;34m\u001b[0m\u001b[0m\n\u001b[1;32m    644\u001b[0m         \u001b[0;32mif\u001b[0m \u001b[0mforce_all_finite\u001b[0m\u001b[0;34m:\u001b[0m\u001b[0;34m\u001b[0m\u001b[0;34m\u001b[0m\u001b[0m\n",
      "\u001b[0;31mValueError\u001b[0m: Found array with dim 3. Estimator expected <= 2."
     ]
    }
   ],
   "source": [
    "X_over, y_over = oversample.fit_resample(X_train_np, y_train_np)"
   ]
  },
  {
   "cell_type": "markdown",
   "metadata": {},
   "source": [
    "### BUILD LSTM MODEL "
   ]
  },
  {
   "cell_type": "code",
   "execution_count": 94,
   "metadata": {
    "colab": {},
    "colab_type": "code",
    "id": "dPyrqmjooBLu",
    "outputId": "ac844281-9522-427d-afa6-d93b642f46af"
   },
   "outputs": [],
   "source": [
    "model = Sequential()\n",
    "model.add(LSTM(units = RANGE, activation = 'relu', return_sequences = True, input_shape = (x_shape, y_shape)))\n",
    "model.add(LSTM(units = 80, activation = 'relu'))\n",
    "model.add(Dense(units = 5, activation = 'softmax'))\n",
    "model.compile(optimizer='adam', loss = 'categorical_crossentropy', metrics=[\"acc\"])\n"
   ]
  },
  {
   "cell_type": "code",
   "execution_count": 447,
   "metadata": {},
   "outputs": [
    {
     "name": "stdout",
     "output_type": "stream",
     "text": [
      "Model: \"sequential_18\"\n",
      "_________________________________________________________________\n",
      "Layer (type)                 Output Shape              Param #   \n",
      "=================================================================\n",
      "lstm_29 (LSTM)               (None, 24, 24)            4128      \n",
      "_________________________________________________________________\n",
      "lstm_30 (LSTM)               (None, 40)                10400     \n",
      "_________________________________________________________________\n",
      "dense_12 (Dense)             (None, 5)                 205       \n",
      "=================================================================\n",
      "Total params: 14,733\n",
      "Trainable params: 14,733\n",
      "Non-trainable params: 0\n",
      "_________________________________________________________________\n"
     ]
    }
   ],
   "source": [
    "model.summary()"
   ]
  },
  {
   "cell_type": "code",
   "execution_count": 95,
   "metadata": {},
   "outputs": [
    {
     "name": "stdout",
     "output_type": "stream",
     "text": [
      "Epoch 1/150\n",
      "2242/2242 [==============================] - 59s 26ms/step - loss: 1.5914 - acc: 0.2604 - val_loss: 1.6285 - val_acc: 0.1809\n",
      "Epoch 2/150\n",
      "2242/2242 [==============================] - 54s 24ms/step - loss: 1.5757 - acc: 0.2659 - val_loss: 1.6198 - val_acc: 0.1975\n",
      "Epoch 3/150\n",
      "2242/2242 [==============================] - 53s 24ms/step - loss: 1.5659 - acc: 0.2732 - val_loss: 1.6395 - val_acc: 0.1971\n",
      "Epoch 4/150\n",
      "2242/2242 [==============================] - 53s 24ms/step - loss: 1.5569 - acc: 0.2830 - val_loss: 1.5925 - val_acc: 0.2589\n",
      "Epoch 5/150\n",
      "2242/2242 [==============================] - 52s 23ms/step - loss: 1.5521 - acc: 0.2861 - val_loss: 1.5990 - val_acc: 0.2500\n",
      "Epoch 6/150\n",
      "2242/2242 [==============================] - 53s 24ms/step - loss: 1.5484 - acc: 0.2892 - val_loss: 1.6115 - val_acc: 0.2699\n",
      "Epoch 7/150\n",
      "2242/2242 [==============================] - 52s 23ms/step - loss: 1.5446 - acc: 0.2902 - val_loss: 1.6014 - val_acc: 0.2683\n",
      "Epoch 8/150\n",
      "2242/2242 [==============================] - 53s 24ms/step - loss: 1.5409 - acc: 0.2927 - val_loss: 1.6079 - val_acc: 0.2657\n",
      "Epoch 9/150\n",
      "2242/2242 [==============================] - 53s 24ms/step - loss: 1.5374 - acc: 0.2953 - val_loss: 1.5969 - val_acc: 0.2719\n",
      "Epoch 10/150\n",
      "2242/2242 [==============================] - 53s 23ms/step - loss: 1.5352 - acc: 0.2979 - val_loss: 1.6484 - val_acc: 0.2466\n",
      "Epoch 11/150\n",
      "2242/2242 [==============================] - 53s 24ms/step - loss: 1.5338 - acc: 0.2987 - val_loss: 1.6441 - val_acc: 0.2541\n",
      "Epoch 12/150\n",
      "2242/2242 [==============================] - 53s 23ms/step - loss: 1.5313 - acc: 0.2985 - val_loss: 1.6116 - val_acc: 0.2639\n",
      "Epoch 13/150\n",
      "2242/2242 [==============================] - 52s 23ms/step - loss: 1.5296 - acc: 0.3005 - val_loss: 1.6050 - val_acc: 0.2627\n",
      "Epoch 14/150\n",
      "2242/2242 [==============================] - 52s 23ms/step - loss: 1.5272 - acc: 0.3020 - val_loss: 1.6108 - val_acc: 0.2606\n",
      "Epoch 15/150\n",
      "2242/2242 [==============================] - 52s 23ms/step - loss: 1.5258 - acc: 0.3032 - val_loss: 1.6399 - val_acc: 0.2489\n",
      "Epoch 16/150\n",
      "2242/2242 [==============================] - 52s 23ms/step - loss: 1.5241 - acc: 0.3033 - val_loss: 1.5926 - val_acc: 0.2744\n",
      "Epoch 17/150\n",
      "2242/2242 [==============================] - 52s 23ms/step - loss: 1.5238 - acc: 0.3048 - val_loss: 1.6285 - val_acc: 0.2552\n",
      "Epoch 18/150\n",
      "2242/2242 [==============================] - 52s 23ms/step - loss: 1.5218 - acc: 0.3040 - val_loss: 1.6075 - val_acc: 0.2536\n",
      "Epoch 19/150\n",
      "2242/2242 [==============================] - 53s 23ms/step - loss: 1.5212 - acc: 0.3047 - val_loss: 1.6244 - val_acc: 0.2589\n",
      "Epoch 20/150\n",
      "2242/2242 [==============================] - 53s 23ms/step - loss: 1.5201 - acc: 0.3048 - val_loss: 1.6481 - val_acc: 0.2571\n",
      "Epoch 21/150\n",
      "2242/2242 [==============================] - 53s 23ms/step - loss: 1.5192 - acc: 0.3069 - val_loss: 1.6095 - val_acc: 0.2601\n",
      "Epoch 22/150\n",
      "2242/2242 [==============================] - 53s 23ms/step - loss: 1.5187 - acc: 0.3066 - val_loss: 1.6057 - val_acc: 0.2606\n",
      "Epoch 23/150\n",
      "2242/2242 [==============================] - 52s 23ms/step - loss: 1.5179 - acc: 0.3049 - val_loss: 1.5962 - val_acc: 0.2649\n",
      "Epoch 24/150\n",
      "2242/2242 [==============================] - 52s 23ms/step - loss: 1.5166 - acc: 0.3078 - val_loss: 1.6565 - val_acc: 0.2504\n",
      "Epoch 25/150\n",
      "2242/2242 [==============================] - 52s 23ms/step - loss: 1.5163 - acc: 0.3053 - val_loss: 1.6423 - val_acc: 0.2495\n",
      "Epoch 26/150\n",
      "2242/2242 [==============================] - 52s 23ms/step - loss: 1.5153 - acc: 0.3073 - val_loss: 1.6207 - val_acc: 0.2607\n",
      "Epoch 27/150\n",
      "2242/2242 [==============================] - 53s 23ms/step - loss: 1.5143 - acc: 0.3082 - val_loss: 1.6271 - val_acc: 0.2617\n",
      "Epoch 28/150\n",
      "2242/2242 [==============================] - 52s 23ms/step - loss: 1.5136 - acc: 0.3088 - val_loss: 1.6292 - val_acc: 0.2528\n",
      "Epoch 29/150\n",
      "2242/2242 [==============================] - 53s 24ms/step - loss: 1.5130 - acc: 0.3101 - val_loss: 1.6119 - val_acc: 0.2641\n",
      "Epoch 30/150\n",
      "2242/2242 [==============================] - 52s 23ms/step - loss: 1.5115 - acc: 0.3102 - val_loss: 1.6563 - val_acc: 0.2370\n",
      "Epoch 31/150\n",
      "2242/2242 [==============================] - 52s 23ms/step - loss: 1.5110 - acc: 0.3108 - val_loss: 1.6328 - val_acc: 0.2460\n",
      "Epoch 32/150\n",
      "2242/2242 [==============================] - 53s 23ms/step - loss: 1.5111 - acc: 0.3099 - val_loss: 1.6245 - val_acc: 0.2540\n",
      "Epoch 33/150\n",
      "2242/2242 [==============================] - 53s 23ms/step - loss: 1.5103 - acc: 0.3094 - val_loss: 1.6637 - val_acc: 0.2335\n",
      "Epoch 34/150\n",
      "2242/2242 [==============================] - 52s 23ms/step - loss: 1.5098 - acc: 0.3083 - val_loss: 1.6300 - val_acc: 0.2520\n",
      "Epoch 35/150\n",
      "2242/2242 [==============================] - 52s 23ms/step - loss: 1.5088 - acc: 0.3112 - val_loss: 1.6427 - val_acc: 0.2448\n",
      "Epoch 36/150\n",
      "2242/2242 [==============================] - 53s 23ms/step - loss: 1.5081 - acc: 0.3111 - val_loss: 1.6326 - val_acc: 0.2508\n",
      "Epoch 37/150\n",
      "2242/2242 [==============================] - 53s 24ms/step - loss: 1.5076 - acc: 0.3114 - val_loss: 1.6639 - val_acc: 0.2489\n",
      "Epoch 38/150\n",
      "2242/2242 [==============================] - 53s 23ms/step - loss: 1.5072 - acc: 0.3127 - val_loss: 1.6226 - val_acc: 0.2603\n",
      "Epoch 39/150\n",
      "2242/2242 [==============================] - 53s 24ms/step - loss: 1.5065 - acc: 0.3124 - val_loss: 1.6550 - val_acc: 0.2512\n",
      "Epoch 40/150\n",
      "2242/2242 [==============================] - 52s 23ms/step - loss: 1.5061 - acc: 0.3122 - val_loss: 1.6692 - val_acc: 0.2398\n",
      "Epoch 41/150\n",
      "2242/2242 [==============================] - 53s 23ms/step - loss: 1.5052 - acc: 0.3135 - val_loss: 1.6642 - val_acc: 0.2235\n",
      "Epoch 42/150\n",
      "2242/2242 [==============================] - 53s 24ms/step - loss: 1.5050 - acc: 0.3128 - val_loss: 1.6545 - val_acc: 0.2401\n",
      "Epoch 43/150\n",
      "2242/2242 [==============================] - 53s 24ms/step - loss: 1.5055 - acc: 0.3124 - val_loss: 1.6584 - val_acc: 0.2218\n",
      "Epoch 44/150\n",
      "2242/2242 [==============================] - 54s 24ms/step - loss: 1.5049 - acc: 0.3134 - val_loss: 1.7592 - val_acc: 0.2336\n",
      "Epoch 45/150\n",
      "2242/2242 [==============================] - 55s 24ms/step - loss: 1.5038 - acc: 0.3132 - val_loss: 1.6690 - val_acc: 0.2487\n",
      "Epoch 46/150\n",
      "2242/2242 [==============================] - 52s 23ms/step - loss: 1.5030 - acc: 0.3141 - val_loss: 1.6721 - val_acc: 0.2381\n",
      "Epoch 47/150\n",
      "2242/2242 [==============================] - 53s 24ms/step - loss: 1.5348 - acc: 0.2995 - val_loss: 1.6732 - val_acc: 0.2329\n",
      "Epoch 48/150\n",
      "2242/2242 [==============================] - 52s 23ms/step - loss: 1.5194 - acc: 0.3042 - val_loss: 1.6397 - val_acc: 0.2415\n",
      "Epoch 49/150\n",
      "2242/2242 [==============================] - 53s 23ms/step - loss: 1.5071 - acc: 0.3102 - val_loss: 1.6549 - val_acc: 0.2290\n",
      "Epoch 50/150\n",
      "2242/2242 [==============================] - 52s 23ms/step - loss: 1.5038 - acc: 0.3129 - val_loss: 1.6433 - val_acc: 0.2538\n",
      "Epoch 51/150\n",
      "2242/2242 [==============================] - 53s 23ms/step - loss: 1.5024 - acc: 0.3136 - val_loss: 1.6727 - val_acc: 0.2223\n",
      "Epoch 52/150\n",
      "2242/2242 [==============================] - 52s 23ms/step - loss: 1.5019 - acc: 0.3125 - val_loss: 1.6534 - val_acc: 0.2429\n",
      "Epoch 53/150\n",
      "2242/2242 [==============================] - 52s 23ms/step - loss: 1.5015 - acc: 0.3159 - val_loss: 1.6194 - val_acc: 0.2533\n",
      "Epoch 54/150\n",
      "2242/2242 [==============================] - 52s 23ms/step - loss: 1.5052 - acc: 0.3129 - val_loss: 1.9280 - val_acc: 0.2251\n",
      "Epoch 55/150\n",
      "2242/2242 [==============================] - 53s 23ms/step - loss: 1.5022 - acc: 0.3138 - val_loss: 1.7534 - val_acc: 0.2426\n",
      "Epoch 56/150\n",
      "2242/2242 [==============================] - 53s 24ms/step - loss: 1.4995 - acc: 0.3143 - val_loss: 1.7309 - val_acc: 0.2465\n",
      "Epoch 57/150\n",
      "2242/2242 [==============================] - 53s 24ms/step - loss: 1.5735 - acc: 0.3069 - val_loss: 8.4308 - val_acc: 0.2294\n",
      "Epoch 58/150\n",
      "2242/2242 [==============================] - 53s 24ms/step - loss: 1.5996 - acc: 0.2744 - val_loss: 1.8927 - val_acc: 0.1964\n",
      "Epoch 59/150\n",
      "2242/2242 [==============================] - 53s 24ms/step - loss: 1.5503 - acc: 0.2839 - val_loss: 1.7713 - val_acc: 0.2283\n",
      "Epoch 60/150\n",
      "2242/2242 [==============================] - 53s 24ms/step - loss: 1.5433 - acc: 0.2871 - val_loss: 1.9146 - val_acc: 0.2068\n",
      "Epoch 61/150\n",
      "2242/2242 [==============================] - 53s 24ms/step - loss: 1.5395 - acc: 0.2908 - val_loss: 1.6872 - val_acc: 0.2137\n",
      "Epoch 62/150\n",
      "2242/2242 [==============================] - 53s 24ms/step - loss: 1.5354 - acc: 0.2946 - val_loss: 1.7174 - val_acc: 0.2169\n",
      "Epoch 63/150\n",
      "2242/2242 [==============================] - 53s 24ms/step - loss: 1.5324 - acc: 0.2956 - val_loss: 1.6758 - val_acc: 0.2366\n",
      "Epoch 64/150\n",
      "2242/2242 [==============================] - 54s 24ms/step - loss: 1.5299 - acc: 0.2967 - val_loss: 1.6702 - val_acc: 0.2438\n",
      "Epoch 65/150\n",
      "2242/2242 [==============================] - 53s 24ms/step - loss: 1.5283 - acc: 0.2997 - val_loss: 1.6966 - val_acc: 0.2315\n",
      "Epoch 66/150\n",
      "2242/2242 [==============================] - 53s 24ms/step - loss: 1.5251 - acc: 0.2991 - val_loss: 1.6675 - val_acc: 0.2457\n",
      "Epoch 67/150\n",
      "2242/2242 [==============================] - 53s 24ms/step - loss: 1.5237 - acc: 0.3016 - val_loss: 1.7251 - val_acc: 0.2157\n",
      "Epoch 68/150\n",
      "2242/2242 [==============================] - 53s 24ms/step - loss: 1.5258 - acc: 0.3004 - val_loss: 1.6704 - val_acc: 0.2422\n",
      "Epoch 69/150\n",
      "2242/2242 [==============================] - 53s 23ms/step - loss: 1.5172 - acc: 0.3034 - val_loss: 1.7021 - val_acc: 0.2474\n",
      "Epoch 70/150\n",
      "2242/2242 [==============================] - 52s 23ms/step - loss: 1.5161 - acc: 0.3056 - val_loss: 1.6749 - val_acc: 0.2298\n",
      "Epoch 71/150\n",
      "2242/2242 [==============================] - 53s 24ms/step - loss: 1.5141 - acc: 0.3063 - val_loss: 1.6736 - val_acc: 0.2285\n",
      "Epoch 72/150\n",
      "2242/2242 [==============================] - 52s 23ms/step - loss: 1.5124 - acc: 0.3080 - val_loss: 1.7095 - val_acc: 0.2288\n",
      "Epoch 73/150\n",
      "2242/2242 [==============================] - 52s 23ms/step - loss: 1.5102 - acc: 0.3079 - val_loss: 1.6764 - val_acc: 0.2354\n",
      "Epoch 74/150\n",
      "2242/2242 [==============================] - 52s 23ms/step - loss: 1.5093 - acc: 0.3087 - val_loss: 1.6883 - val_acc: 0.2405\n",
      "Epoch 75/150\n",
      "2242/2242 [==============================] - 52s 23ms/step - loss: 1.5087 - acc: 0.3099 - val_loss: 1.6820 - val_acc: 0.2269\n",
      "Epoch 76/150\n",
      "2242/2242 [==============================] - 52s 23ms/step - loss: 1.5068 - acc: 0.3102 - val_loss: 1.6536 - val_acc: 0.2468\n",
      "Epoch 77/150\n",
      "2242/2242 [==============================] - 53s 24ms/step - loss: 1.5063 - acc: 0.3121 - val_loss: 1.6976 - val_acc: 0.2317\n",
      "Epoch 78/150\n",
      "2242/2242 [==============================] - 53s 24ms/step - loss: 1.5061 - acc: 0.3107 - val_loss: 1.6175 - val_acc: 0.2457\n",
      "Epoch 79/150\n",
      "2242/2242 [==============================] - 53s 24ms/step - loss: 1.5036 - acc: 0.3118 - val_loss: 1.6436 - val_acc: 0.2392\n",
      "Epoch 80/150\n",
      "2242/2242 [==============================] - 53s 24ms/step - loss: 1.5057 - acc: 0.3094 - val_loss: 1.6423 - val_acc: 0.2372\n",
      "Epoch 81/150\n",
      "2242/2242 [==============================] - 53s 24ms/step - loss: 1.5030 - acc: 0.3115 - val_loss: 1.6458 - val_acc: 0.2462\n",
      "Epoch 82/150\n",
      "2242/2242 [==============================] - 53s 24ms/step - loss: 1.5026 - acc: 0.3111 - val_loss: 1.6687 - val_acc: 0.2339\n",
      "Epoch 83/150\n",
      "2242/2242 [==============================] - 53s 24ms/step - loss: 1.5028 - acc: 0.3111 - val_loss: 1.6202 - val_acc: 0.2464\n",
      "Epoch 84/150\n",
      "2242/2242 [==============================] - 53s 24ms/step - loss: 1.5013 - acc: 0.3106 - val_loss: 1.6345 - val_acc: 0.2496\n",
      "Epoch 85/150\n",
      "2242/2242 [==============================] - 53s 24ms/step - loss: 1.5012 - acc: 0.3135 - val_loss: 1.6968 - val_acc: 0.2411\n",
      "Epoch 86/150\n",
      "2242/2242 [==============================] - 53s 24ms/step - loss: 1.5009 - acc: 0.3125 - val_loss: 1.7192 - val_acc: 0.2317\n",
      "Epoch 87/150\n",
      "2242/2242 [==============================] - 53s 24ms/step - loss: 1.5003 - acc: 0.3131 - val_loss: 1.7011 - val_acc: 0.2455\n",
      "Epoch 88/150\n",
      "2242/2242 [==============================] - 53s 23ms/step - loss: 1.4988 - acc: 0.3152 - val_loss: 1.7443 - val_acc: 0.2362\n",
      "Epoch 89/150\n",
      "2242/2242 [==============================] - 52s 23ms/step - loss: 1.4978 - acc: 0.3157 - val_loss: 1.7838 - val_acc: 0.2262\n",
      "Epoch 90/150\n",
      "2242/2242 [==============================] - 53s 23ms/step - loss: 1.4976 - acc: 0.3161 - val_loss: 1.7295 - val_acc: 0.2379\n",
      "Epoch 91/150\n",
      "2242/2242 [==============================] - 52s 23ms/step - loss: 1.4968 - acc: 0.3162 - val_loss: 1.6899 - val_acc: 0.2331\n",
      "Epoch 92/150\n",
      "2242/2242 [==============================] - 52s 23ms/step - loss: 1.4960 - acc: 0.3160 - val_loss: 1.7043 - val_acc: 0.2516\n",
      "Epoch 93/150\n",
      "2242/2242 [==============================] - 53s 23ms/step - loss: 1.4953 - acc: 0.3163 - val_loss: 1.7295 - val_acc: 0.2412\n",
      "Epoch 94/150\n",
      "2242/2242 [==============================] - 53s 24ms/step - loss: 1.4968 - acc: 0.3153 - val_loss: 1.6983 - val_acc: 0.2260\n",
      "Epoch 95/150\n",
      "2242/2242 [==============================] - 53s 23ms/step - loss: 1.4954 - acc: 0.3169 - val_loss: 1.6670 - val_acc: 0.2313\n",
      "Epoch 96/150\n",
      "2242/2242 [==============================] - 53s 24ms/step - loss: 1.4948 - acc: 0.3163 - val_loss: 1.6555 - val_acc: 0.2440\n",
      "Epoch 97/150\n",
      "2242/2242 [==============================] - 53s 23ms/step - loss: 1.4970 - acc: 0.3143 - val_loss: 1.6115 - val_acc: 0.2724\n",
      "Epoch 98/150\n",
      "2242/2242 [==============================] - 53s 24ms/step - loss: 1.5332 - acc: 0.2968 - val_loss: 1.6410 - val_acc: 0.2435\n",
      "Epoch 99/150\n",
      "2242/2242 [==============================] - 52s 23ms/step - loss: 1.5165 - acc: 0.3060 - val_loss: 1.7143 - val_acc: 0.2371\n",
      "Epoch 100/150\n",
      "2242/2242 [==============================] - 52s 23ms/step - loss: 1.5109 - acc: 0.3097 - val_loss: 1.7461 - val_acc: 0.2387\n",
      "Epoch 101/150\n",
      "2242/2242 [==============================] - 52s 23ms/step - loss: 1.5076 - acc: 0.3109 - val_loss: 1.7287 - val_acc: 0.2289\n",
      "Epoch 102/150\n",
      "2242/2242 [==============================] - 53s 24ms/step - loss: 1.5064 - acc: 0.3112 - val_loss: 1.6705 - val_acc: 0.2515\n",
      "Epoch 103/150\n",
      "2242/2242 [==============================] - 53s 24ms/step - loss: 1.5051 - acc: 0.3110 - val_loss: 1.6655 - val_acc: 0.2441\n",
      "Epoch 104/150\n",
      "2242/2242 [==============================] - 53s 24ms/step - loss: 1.5035 - acc: 0.3135 - val_loss: 1.6507 - val_acc: 0.2445\n",
      "Epoch 105/150\n",
      "2242/2242 [==============================] - 52s 23ms/step - loss: 2.6959 - acc: 0.2947 - val_loss: 1.9739 - val_acc: 0.2175\n",
      "Epoch 106/150\n",
      "2242/2242 [==============================] - 52s 23ms/step - loss: 28.2196 - acc: 0.2101 - val_loss: 2.0948 - val_acc: 0.2327\n",
      "Epoch 107/150\n",
      "2242/2242 [==============================] - 53s 23ms/step - loss: 3.9285 - acc: 0.2124 - val_loss: 2.0781 - val_acc: 0.2357\n",
      "Epoch 108/150\n",
      "2242/2242 [==============================] - 53s 23ms/step - loss: 2.8335 - acc: 0.2136 - val_loss: 1.7719 - val_acc: 0.2265\n",
      "Epoch 109/150\n",
      "2242/2242 [==============================] - 53s 24ms/step - loss: 3.2804 - acc: 0.2155 - val_loss: 2.2932 - val_acc: 0.2230\n",
      "Epoch 110/150\n",
      "2242/2242 [==============================] - 53s 24ms/step - loss: 7.4069 - acc: 0.2104 - val_loss: 6.2555 - val_acc: 0.2175\n",
      "Epoch 111/150\n",
      "2242/2242 [==============================] - 53s 23ms/step - loss: 79.5667 - acc: 0.2040 - val_loss: 9.3171 - val_acc: 0.2053\n",
      "Epoch 112/150\n",
      "2242/2242 [==============================] - 53s 23ms/step - loss: 71.6500 - acc: 0.2042 - val_loss: 22.6821 - val_acc: 0.2096\n",
      "Epoch 113/150\n",
      "2242/2242 [==============================] - 53s 23ms/step - loss: 55.7204 - acc: 0.2051 - val_loss: 8.9058 - val_acc: 0.2333\n",
      "Epoch 114/150\n",
      "2242/2242 [==============================] - 52s 23ms/step - loss: 80.6524 - acc: 0.2052 - val_loss: 29.9124 - val_acc: 0.2027\n",
      "Epoch 115/150\n",
      "2242/2242 [==============================] - 53s 23ms/step - loss: 32.7516 - acc: 0.2075 - val_loss: 1.6487 - val_acc: 0.2422\n",
      "Epoch 116/150\n",
      "2242/2242 [==============================] - 53s 24ms/step - loss: 3.0400 - acc: 0.2179 - val_loss: 1.6389 - val_acc: 0.2435\n",
      "Epoch 117/150\n",
      "2242/2242 [==============================] - 53s 24ms/step - loss: 6.2795 - acc: 0.2077 - val_loss: 1.9540 - val_acc: 0.2340\n",
      "Epoch 118/150\n",
      "2242/2242 [==============================] - 52s 23ms/step - loss: 5.2240 - acc: 0.2146 - val_loss: 1.6394 - val_acc: 0.2464\n",
      "Epoch 119/150\n"
     ]
    },
    {
     "name": "stdout",
     "output_type": "stream",
     "text": [
      "2242/2242 [==============================] - 53s 24ms/step - loss: 3.7126 - acc: 0.2212 - val_loss: 1.6143 - val_acc: 0.2545\n",
      "Epoch 120/150\n",
      "2242/2242 [==============================] - 53s 24ms/step - loss: 4.6270 - acc: 0.2180 - val_loss: 1.6168 - val_acc: 0.2524\n",
      "Epoch 121/150\n",
      "2242/2242 [==============================] - 53s 24ms/step - loss: 3.7252 - acc: 0.2297 - val_loss: 1.6805 - val_acc: 0.2501\n",
      "Epoch 122/150\n",
      "2242/2242 [==============================] - 53s 24ms/step - loss: 2.3758 - acc: 0.2292 - val_loss: 2.7068 - val_acc: 0.2165\n",
      "Epoch 123/150\n",
      "2242/2242 [==============================] - 53s 24ms/step - loss: 7.9815 - acc: 0.2152 - val_loss: 9.7714 - val_acc: 0.2325\n",
      "Epoch 124/150\n",
      "2242/2242 [==============================] - 53s 24ms/step - loss: 4.0496 - acc: 0.2215 - val_loss: 2.1691 - val_acc: 0.2338\n",
      "Epoch 125/150\n",
      "2242/2242 [==============================] - 53s 24ms/step - loss: 2.5859 - acc: 0.2213 - val_loss: 1.9280 - val_acc: 0.2296\n",
      "Epoch 126/150\n",
      "2242/2242 [==============================] - 53s 24ms/step - loss: 3.6908 - acc: 0.2134 - val_loss: 3.4291 - val_acc: 0.2244\n",
      "Epoch 127/150\n",
      "2242/2242 [==============================] - 53s 24ms/step - loss: 9.2023 - acc: 0.2066 - val_loss: 6.7832 - val_acc: 0.2246\n",
      "Epoch 128/150\n",
      "2242/2242 [==============================] - 52s 23ms/step - loss: 19.6726 - acc: 0.2061 - val_loss: 4.3214 - val_acc: 0.2118\n",
      "Epoch 129/150\n",
      "2242/2242 [==============================] - 52s 23ms/step - loss: 7.3136 - acc: 0.2063 - val_loss: 22.4196 - val_acc: 0.2035\n",
      "Epoch 130/150\n",
      "2242/2242 [==============================] - 53s 23ms/step - loss: 10.4419 - acc: 0.2079 - val_loss: 14.0857 - val_acc: 0.2056\n",
      "Epoch 131/150\n",
      "2242/2242 [==============================] - 53s 24ms/step - loss: 41.8174 - acc: 0.2055 - val_loss: 10.2304 - val_acc: 0.2093\n",
      "Epoch 132/150\n",
      "2242/2242 [==============================] - 52s 23ms/step - loss: 11.9133 - acc: 0.2054 - val_loss: 14.6734 - val_acc: 0.2062\n",
      "Epoch 133/150\n",
      "2242/2242 [==============================] - 53s 24ms/step - loss: 45.2735 - acc: 0.2032 - val_loss: 10.3203 - val_acc: 0.1898\n",
      "Epoch 134/150\n",
      "2242/2242 [==============================] - 53s 23ms/step - loss: 81.9554 - acc: 0.2022 - val_loss: 29.0136 - val_acc: 0.2145\n",
      "Epoch 135/150\n",
      "2242/2242 [==============================] - 52s 23ms/step - loss: 75.7364 - acc: 0.2055 - val_loss: 22.1429 - val_acc: 0.2229\n",
      "Epoch 136/150\n",
      "2242/2242 [==============================] - 52s 23ms/step - loss: 27.6107 - acc: 0.2048 - val_loss: 10.9428 - val_acc: 0.2028\n",
      "Epoch 137/150\n",
      "2242/2242 [==============================] - 53s 24ms/step - loss: 32.5007 - acc: 0.2048 - val_loss: 9.5326 - val_acc: 0.2130\n",
      "Epoch 138/150\n",
      "2242/2242 [==============================] - 52s 23ms/step - loss: 91.2903 - acc: 0.2079 - val_loss: 66.8432 - val_acc: 0.2115\n",
      "Epoch 139/150\n",
      "2242/2242 [==============================] - 53s 23ms/step - loss: 129.9474 - acc: 0.2031 - val_loss: 60.3008 - val_acc: 0.2030\n",
      "Epoch 140/150\n",
      "2242/2242 [==============================] - 52s 23ms/step - loss: 217.3596 - acc: 0.2054 - val_loss: 112.4075 - val_acc: 0.1842\n",
      "Epoch 141/150\n",
      "2242/2242 [==============================] - 52s 23ms/step - loss: 214.4496 - acc: 0.2069 - val_loss: 102.0543 - val_acc: 0.2134\n",
      "Epoch 142/150\n",
      "2242/2242 [==============================] - 52s 23ms/step - loss: 148.0075 - acc: 0.2025 - val_loss: 36.6114 - val_acc: 0.2069\n",
      "Epoch 143/150\n",
      "2242/2242 [==============================] - 53s 24ms/step - loss: 37.0704 - acc: 0.2051 - val_loss: 18.9076 - val_acc: 0.1968\n",
      "Epoch 144/150\n",
      "2242/2242 [==============================] - 53s 23ms/step - loss: 85.6687 - acc: 0.2051 - val_loss: 112.6784 - val_acc: 0.2053\n",
      "Epoch 145/150\n",
      "2242/2242 [==============================] - 53s 24ms/step - loss: 106.9265 - acc: 0.2055 - val_loss: 61.9252 - val_acc: 0.2042\n",
      "Epoch 146/150\n",
      "2242/2242 [==============================] - 53s 24ms/step - loss: 77.6752 - acc: 0.2039 - val_loss: 33.5346 - val_acc: 0.1857\n",
      "Epoch 147/150\n",
      "2242/2242 [==============================] - 52s 23ms/step - loss: 127.0803 - acc: 0.2035 - val_loss: 25.7867 - val_acc: 0.1936\n",
      "Epoch 148/150\n",
      "2242/2242 [==============================] - 53s 24ms/step - loss: 46.8333 - acc: 0.2062 - val_loss: 76.4360 - val_acc: 0.2187\n",
      "Epoch 149/150\n",
      "2242/2242 [==============================] - 53s 24ms/step - loss: 70.8474 - acc: 0.2065 - val_loss: 48.0980 - val_acc: 0.2055\n",
      "Epoch 150/150\n",
      "2242/2242 [==============================] - 53s 23ms/step - loss: 110.8135 - acc: 0.2086 - val_loss: 33.8966 - val_acc: 0.2040\n"
     ]
    }
   ],
   "source": [
    "history = model.fit(X_train_np, y_train_np, epochs=EPOCHS, batch_size=BATCH_SIZE, validation_data=(X_val_np, y_val_np),shuffle=True)"
   ]
  },
  {
   "cell_type": "code",
   "execution_count": 96,
   "metadata": {},
   "outputs": [
    {
     "name": "stdout",
     "output_type": "stream",
     "text": [
      "dict_keys(['loss', 'acc', 'val_loss', 'val_acc'])\n"
     ]
    }
   ],
   "source": [
    "print(history.history.keys())"
   ]
  },
  {
   "cell_type": "code",
   "execution_count": 97,
   "metadata": {},
   "outputs": [
    {
     "name": "stdout",
     "output_type": "stream",
     "text": [
      "C:\\Users\\maw\\Documents\\ITESO\\forex_prediction\\Jupyter Notebooks\\IDI4\\models_clasification\\../../../Models/2020/LSTM/\n"
     ]
    }
   ],
   "source": [
    "pwd = os.getcwd()\n",
    "source_data = os.path.join(pwd, r'../../../Models/2020/LSTM/')\n",
    "print(source_data)"
   ]
  },
  {
   "cell_type": "code",
   "execution_count": 98,
   "metadata": {},
   "outputs": [
    {
     "name": "stdout",
     "output_type": "stream",
     "text": [
      "C-LSTM_1H_23F_Class_02.hdf5\n"
     ]
    }
   ],
   "source": [
    "file_name = MODEL_NAME + '_' + FRECUENCIA + '_' + str(NUM_FEATURES) + 'F_' + TARGET_NAME + \"_\"+ ID + '.hdf5'\n",
    "print(file_name)\n",
    "\n"
   ]
  },
  {
   "cell_type": "code",
   "execution_count": 99,
   "metadata": {},
   "outputs": [],
   "source": [
    "model.save(source_data + file_name)"
   ]
  },
  {
   "cell_type": "code",
   "execution_count": 449,
   "metadata": {},
   "outputs": [],
   "source": [
    "#def baseline_model():\n",
    "#    model.add(LSTM(units = RANGE, activation = 'relu', return_sequences = True, input_shape = (x_shape, y_shape)))\n",
    "#    model.add(LSTM(units = 5, activation = 'softmax'))\n",
    "#    model.compile(optimizer='adam', loss = 'categorical_crossentropy', metrics=[\"acc\"])\n",
    "#    #model.summary()\n",
    "#    return model"
   ]
  },
  {
   "cell_type": "code",
   "execution_count": 450,
   "metadata": {},
   "outputs": [],
   "source": [
    "#estimator = KerasClassifier(build_fn=baseline_model, epochs=EPOCHS, batch_size=BATCH_SIZE, verbose=1)\n",
    "#kfold = KFold(n_splits=2, shuffle=True)"
   ]
  },
  {
   "cell_type": "code",
   "execution_count": 451,
   "metadata": {},
   "outputs": [],
   "source": [
    "#results = cross_val_score(estimator, X_train_np, y_train_np, cv=kfold)"
   ]
  },
  {
   "cell_type": "code",
   "execution_count": 452,
   "metadata": {},
   "outputs": [],
   "source": [
    "#print(\"Baseline: %.2f%% (%.2f%%)\" % (results.mean()*100, results.std()*100))"
   ]
  },
  {
   "cell_type": "code",
   "execution_count": 454,
   "metadata": {},
   "outputs": [],
   "source": [
    "#Model check pointer para almacenar el modelo cada epoca\n",
    "\n",
    "#checkpointer = ModelCheckpoint(filepath=source_data + '/model-{epoch:02d}.hdf5', verbose=1)"
   ]
  },
  {
   "cell_type": "code",
   "execution_count": 458,
   "metadata": {
    "colab": {},
    "colab_type": "code",
    "id": "o8XiaDVhoBL1",
    "outputId": "96632859-bb73-420f-db22-074bb47e87b2"
   },
   "outputs": [],
   "source": [
    "#%%time\n",
    "#history = regressior.fit(X_train_np, y_train_np, epochs=EPOCHS, batch_size=BATCH_SIZE, callbacks=[checkpointer])\n",
    "#history = regressior.fit(X_train_np, y_train_np, epochs=EPOCHS, batch_size=BATCH_SIZE, validation_data=(X_val_np, y_val_np))\n",
    "#history = regressior.fit(X_train_np, y_train_np, epochs=EPOCHS, batch_size=BATCH_SIZE, validation_data=(X_val_np, y_val_np), callbacks=[checkpointer], shuffle=True)\n",
    "#history = regressior.fit(X_train_np, y_train_np, epochs=EPOCHS, batch_size=BATCH_SIZE, validation_data=(X_val_np, y_val_np),shuffle=True)\n",
    "#history = regressior.fit(X_train_np, y_train_np, epochs=EPOCHS, batch_size=BATCH_SIZE)\n",
    "\n",
    "#history = model.fit(X_train_np, y_train_np, epochs=EPOCHS, batch_size=BATCH_SIZE)\n",
    "\n",
    "\n",
    "\n"
   ]
  },
  {
   "cell_type": "code",
   "execution_count": null,
   "metadata": {},
   "outputs": [],
   "source": [
    "#PLOT MSE MAE\n",
    "\n",
    "#plt.figure(figsize=(5,5))\n",
    "#plt.plot(history.history['loss'], color = 'red', label = 'loss')\n",
    "#plt.title('Loss Model')\n",
    "#plt.xlabel('Epochs')\n",
    "#plt.ylabel('Loss')\n",
    "#plt.legend()\n",
    "#plt.show()"
   ]
  },
  {
   "cell_type": "code",
   "execution_count": null,
   "metadata": {},
   "outputs": [],
   "source": [
    "#PLOT MSE MAE\n",
    "#plt.figure(figsize=(5,5))\n",
    "#plt.plot(history.history['mean_squared_error'][:], color = 'green', label = 'MAPE')\n",
    "#plt.title('Loss Model')\n",
    "#plt.xlabel('Epochs')\n",
    "#plt.ylabel('Loss - MSE')\n",
    "#plt.legend()\n",
    "#plt.show()\n"
   ]
  },
  {
   "cell_type": "code",
   "execution_count": 100,
   "metadata": {},
   "outputs": [
    {
     "name": "stdout",
     "output_type": "stream",
     "text": [
      "C:\\Users\\maw\\Documents\\ITESO\\forex_prediction\\Jupyter Notebooks\\IDI4\\models_clasification\\../../../Models/2020/LSTM/C-LSTM_1H_23F_Class_02.hdf5\n"
     ]
    }
   ],
   "source": [
    "#Load Model\n",
    "filepath = os.path.join(source_data, file_name)\n",
    "print(filepath)\n",
    "model = tf.keras.models.load_model(filepath)"
   ]
  },
  {
   "cell_type": "code",
   "execution_count": 101,
   "metadata": {},
   "outputs": [],
   "source": [
    "def precision(label, confusion_matrix):\n",
    "    #print('label',label)\n",
    "    col = confusion_matrix[:, label]\n",
    "    return confusion_matrix[label, label] / col.sum()\n",
    "    \n",
    "def recall(label, confusion_matrix):\n",
    "    row = confusion_matrix[label, :]\n",
    "    return confusion_matrix[label, label] / row.sum()\n",
    "\n",
    "def precision_macro_average(confusion_matrix):\n",
    "    rows, columns = confusion_matrix.shape\n",
    "    sum_of_precisions = 0\n",
    "    for label in range(rows):\n",
    "        sum_of_precisions += precision(label, confusion_matrix)\n",
    "    return sum_of_precisions / rows\n",
    "\n",
    "def recall_macro_average(confusion_matrix):\n",
    "    rows, columns = confusion_matrix.shape\n",
    "    sum_of_recalls = 0\n",
    "    for label in range(columns):\n",
    "        sum_of_recalls += recall(label, confusion_matrix)\n",
    "    return sum_of_recalls / columns\n",
    "\n",
    "def accuracy(confusion_matrix):\n",
    "    diagonal_sum = confusion_matrix.trace()\n",
    "    sum_of_all_elements = confusion_matrix.sum()\n",
    "    return diagonal_sum / sum_of_all_elements "
   ]
  },
  {
   "cell_type": "markdown",
   "metadata": {},
   "source": [
    "### CONFUSION MATRIX TEST"
   ]
  },
  {
   "cell_type": "code",
   "execution_count": 102,
   "metadata": {
    "colab": {},
    "colab_type": "code",
    "id": "NOvVxqGhoBMG",
    "outputId": "7b1cabe0-9caa-4e51-ad2e-19ddb4f6aa50"
   },
   "outputs": [
    {
     "name": "stdout",
     "output_type": "stream",
     "text": [
      "(20304, 24, 18)\n",
      "(20304, 5)\n",
      "(20304, 5)\n"
     ]
    }
   ],
   "source": [
    "#TEST\n",
    "y_test_pred = model.predict(X_test_np)\n",
    "print(X_test_np.shape)\n",
    "\n",
    "print(y_test_pred.shape)\n",
    "print(y_test_np.shape)"
   ]
  },
  {
   "cell_type": "code",
   "execution_count": 103,
   "metadata": {},
   "outputs": [
    {
     "name": "stdout",
     "output_type": "stream",
     "text": [
      "[1.5526043e-09 3.9554247e-01 6.9442427e-07 1.5400202e-12 6.0445690e-01]\n",
      "[[0. 0. 0. 1. 0.]\n",
      " [1. 0. 0. 0. 0.]\n",
      " [0. 0. 0. 0. 1.]\n",
      " [0. 0. 1. 0. 0.]]\n"
     ]
    }
   ],
   "source": [
    "ID = 4\n",
    "print(y_test_pred[ID])\n",
    "print(y_test_np[:ID])"
   ]
  },
  {
   "cell_type": "code",
   "execution_count": 104,
   "metadata": {},
   "outputs": [
    {
     "name": "stdout",
     "output_type": "stream",
     "text": [
      "[-1. -1.  2. ...  1. -2. -2.]\n",
      "(20304,)\n",
      "[ 1. -2.  2. ...  0.  1.  0.]\n",
      "(20304,)\n"
     ]
    }
   ],
   "source": [
    "uniques_y_test_pred = uniques[y_test_pred.argmax(1)]\n",
    "uniques_y_test_np = uniques[y_test_np.argmax(1)]\n",
    "print(uniques_y_test_pred)\n",
    "print(uniques_y_test_pred.shape)\n",
    "print(uniques_y_test_np)\n",
    "print(uniques_y_test_np.shape)"
   ]
  },
  {
   "cell_type": "code",
   "execution_count": 105,
   "metadata": {},
   "outputs": [
    {
     "name": "stdout",
     "output_type": "stream",
     "text": [
      "[-2. -1.  0.  1.  2.]\n"
     ]
    }
   ],
   "source": [
    "print(uniques)"
   ]
  },
  {
   "cell_type": "code",
   "execution_count": 106,
   "metadata": {},
   "outputs": [
    {
     "data": {
      "text/plain": [
       "array([[ 279,  658,  303,  502,  608],\n",
       "       [ 572, 1137,  538,  965, 1102],\n",
       "       [ 917, 1827,  876, 1511, 1778],\n",
       "       [ 562, 1229,  534,  968, 1146],\n",
       "       [ 282,  623,  329,  504,  554]], dtype=int64)"
      ]
     },
     "execution_count": 106,
     "metadata": {},
     "output_type": "execute_result"
    }
   ],
   "source": [
    "conf_matrix_test = confusion_matrix(uniques_y_test_np, uniques_y_test_pred)\n",
    "conf_matrix_test"
   ]
  },
  {
   "cell_type": "code",
   "execution_count": 107,
   "metadata": {},
   "outputs": [
    {
     "name": "stdout",
     "output_type": "stream",
     "text": [
      "indx Value Precision Recall\n",
      "0\n",
      "   -2        0.107     0.119\n",
      "1\n",
      "   -1        0.208     0.264\n",
      "2\n",
      "    0        0.340     0.127\n",
      "3\n",
      "    1        0.218     0.218\n",
      "4\n",
      "    2        0.107     0.242\n"
     ]
    }
   ],
   "source": [
    "print(\"indx Value Precision Recall\")\n",
    "for label in uniques:\n",
    "    indx = int(np.where(uniques == label)[0])\n",
    "    print (indx)\n",
    "    print(f\"{int(label):5d}    {precision(indx, conf_matrix_test):9.3f}    {recall(indx, conf_matrix_test):6.3f}\")"
   ]
  },
  {
   "cell_type": "code",
   "execution_count": 108,
   "metadata": {},
   "outputs": [
    {
     "name": "stdout",
     "output_type": "stream",
     "text": [
      "precision total: 0.19567434676302864\n",
      "recall total: 0.19377049517210976\n"
     ]
    }
   ],
   "source": [
    "print(\"precision total:\", precision_macro_average(conf_matrix_test))\n",
    "print(\"recall total:\", recall_macro_average(conf_matrix_test))"
   ]
  },
  {
   "cell_type": "code",
   "execution_count": 109,
   "metadata": {},
   "outputs": [
    {
     "data": {
      "text/plain": [
       "0.1878447596532703"
      ]
     },
     "execution_count": 109,
     "metadata": {},
     "output_type": "execute_result"
    }
   ],
   "source": [
    "accuracy(conf_matrix_test)"
   ]
  },
  {
   "cell_type": "markdown",
   "metadata": {},
   "source": [
    "### CONFUSION MATRIX TRAIN"
   ]
  },
  {
   "cell_type": "code",
   "execution_count": 110,
   "metadata": {},
   "outputs": [
    {
     "name": "stdout",
     "output_type": "stream",
     "text": [
      "(71736, 24, 18)\n",
      "(71736, 5)\n",
      "(71736, 5)\n"
     ]
    }
   ],
   "source": [
    "#TRAIN\n",
    "y_train_pred = model.predict(X_train_np)\n",
    "print(X_train_np.shape)\n",
    "\n",
    "print(y_train_pred.shape)\n",
    "print(y_train_np.shape)"
   ]
  },
  {
   "cell_type": "code",
   "execution_count": 112,
   "metadata": {},
   "outputs": [
    {
     "name": "stdout",
     "output_type": "stream",
     "text": [
      "[[0.0000000e+00 1.0000000e+00 0.0000000e+00 6.0225413e-30 6.4649270e-27]\n",
      " [6.5850965e-24 6.1625411e-04 3.0418505e-32 9.9932337e-01 6.0448423e-05]\n",
      " [1.4567103e-18 3.8042890e-05 4.5964472e-07 9.9996150e-01 0.0000000e+00]\n",
      " [0.0000000e+00 0.0000000e+00 0.0000000e+00 0.0000000e+00 1.0000000e+00]]\n",
      "[[1. 0. 0. 0. 0.]\n",
      " [0. 0. 0. 0. 1.]\n",
      " [0. 1. 0. 0. 0.]\n",
      " [0. 0. 0. 0. 1.]]\n"
     ]
    }
   ],
   "source": [
    "ID = 4\n",
    "print(y_train_pred[:ID])\n",
    "print(y_train_np[:ID])"
   ]
  },
  {
   "cell_type": "code",
   "execution_count": 111,
   "metadata": {},
   "outputs": [
    {
     "name": "stdout",
     "output_type": "stream",
     "text": [
      "[-1.  1.  1. ... -1.  0. -1.]\n",
      "(71736,)\n",
      "[-2.  2. -1. ... -2. -2.  2.]\n",
      "(71736,)\n"
     ]
    }
   ],
   "source": [
    "uniques_y_train_pred = uniques[y_train_pred.argmax(1)]\n",
    "uniques_y_train_np = uniques[y_train_np.argmax(1)]\n",
    "print(uniques_y_train_pred)\n",
    "print(uniques_y_train_pred.shape)\n",
    "print(uniques_y_train_np)\n",
    "print(uniques_y_train_np.shape)"
   ]
  },
  {
   "cell_type": "code",
   "execution_count": 113,
   "metadata": {},
   "outputs": [
    {
     "name": "stdout",
     "output_type": "stream",
     "text": [
      "[-2. -1.  0.  1.  2.]\n"
     ]
    }
   ],
   "source": [
    "print(uniques)"
   ]
  },
  {
   "cell_type": "code",
   "execution_count": 114,
   "metadata": {},
   "outputs": [
    {
     "data": {
      "text/plain": [
       "array([[4626, 2247, 1212, 1463, 2867],\n",
       "       [5385, 2476, 1517, 1567, 3087],\n",
       "       [7477, 2983, 1967, 2088, 4110],\n",
       "       [5400, 2447, 1469, 1683, 3244],\n",
       "       [4709, 2289, 1121, 1500, 2802]], dtype=int64)"
      ]
     },
     "execution_count": 114,
     "metadata": {},
     "output_type": "execute_result"
    }
   ],
   "source": [
    "conf_matrix_train = confusion_matrix(uniques_y_train_np, uniques_y_train_pred)\n",
    "conf_matrix_train"
   ]
  },
  {
   "cell_type": "code",
   "execution_count": 115,
   "metadata": {},
   "outputs": [
    {
     "name": "stdout",
     "output_type": "stream",
     "text": [
      "indx Value Precision Recall\n",
      "0\n",
      "   -2        0.168     0.373\n",
      "1\n",
      "   -1        0.199     0.176\n",
      "2\n",
      "    0        0.270     0.106\n",
      "3\n",
      "    1        0.203     0.118\n",
      "4\n",
      "    2        0.174     0.226\n"
     ]
    }
   ],
   "source": [
    "print(\"indx Value Precision Recall\")\n",
    "for label in uniques:\n",
    "    indx = int(np.where(uniques == label)[0])\n",
    "    print (indx)\n",
    "    print(f\"{int(label):5d}    {precision(indx, conf_matrix_train):9.3f}    {recall(indx, conf_matrix_train):6.3f}\")"
   ]
  },
  {
   "cell_type": "code",
   "execution_count": 116,
   "metadata": {},
   "outputs": [
    {
     "name": "stdout",
     "output_type": "stream",
     "text": [
      "precision total: 0.2026551980532457\n",
      "recall total: 0.19968546833648276\n"
     ]
    }
   ],
   "source": [
    "print(\"precision total:\", precision_macro_average(conf_matrix_train))\n",
    "print(\"recall total:\", recall_macro_average(conf_matrix_train))"
   ]
  },
  {
   "cell_type": "code",
   "execution_count": 117,
   "metadata": {},
   "outputs": [
    {
     "data": {
      "text/plain": [
       "0.18894279023084642"
      ]
     },
     "execution_count": 117,
     "metadata": {},
     "output_type": "execute_result"
    }
   ],
   "source": [
    "accuracy(conf_matrix_train)"
   ]
  },
  {
   "cell_type": "markdown",
   "metadata": {},
   "source": [
    "### TEST RESULTS TO CSV"
   ]
  },
  {
   "cell_type": "code",
   "execution_count": 118,
   "metadata": {},
   "outputs": [
    {
     "name": "stdout",
     "output_type": "stream",
     "text": [
      "data_test.shape:  (20304, 18)\n"
     ]
    }
   ],
   "source": [
    "print(\"data_test.shape: \", data_test.shape)\n"
   ]
  },
  {
   "cell_type": "code",
   "execution_count": 119,
   "metadata": {},
   "outputs": [
    {
     "name": "stdout",
     "output_type": "stream",
     "text": [
      "          Open     High      Low    Close      Volume\n",
      "0      1.05809  1.05898  1.05769  1.05892   6150.9399\n",
      "1      1.05891  1.05986  1.05847  1.05958  11677.7197\n",
      "2      1.05957  1.06041  1.05744  1.05765  15785.2197\n",
      "3      1.05765  1.05956  1.05708  1.05935  14816.4902\n",
      "4      1.05934  1.05946  1.05835  1.05927  10641.8301\n",
      "...        ...      ...      ...      ...         ...\n",
      "20299  1.10998  1.11070  1.10862  1.10998  12120.8398\n",
      "20300  1.10997  1.11094  1.10982  1.11071   4646.7427\n",
      "20301  1.11213  1.11217  1.11136  1.11141    417.4906\n",
      "20302  1.11138  1.11148  1.11028  1.11123   4549.1167\n",
      "20303  1.11123  1.11199  1.11119  1.11158   5159.8101\n",
      "\n",
      "[20304 rows x 5 columns]\n"
     ]
    }
   ],
   "source": [
    "data_test_res = data_test\n",
    "data_test_res.reset_index(drop=True, inplace=True)\n",
    "results_data_test = pd.DataFrame(data_test_res['Open'])\n",
    "results_data_test['High'] = data_test_res['High']\n",
    "results_data_test['Low'] = data_test_res['Low']\n",
    "results_data_test['Close'] = data_test_res['Close']\n",
    "results_data_test['Volume'] = data_test_res['Volume']\n",
    "print(results_data_test)"
   ]
  },
  {
   "cell_type": "code",
   "execution_count": 120,
   "metadata": {},
   "outputs": [
    {
     "data": {
      "text/plain": [
       "array([-1., -1.,  2., ...,  1., -2., -2.])"
      ]
     },
     "execution_count": 120,
     "metadata": {},
     "output_type": "execute_result"
    }
   ],
   "source": [
    "uniques_y_test_pred[:]"
   ]
  },
  {
   "cell_type": "code",
   "execution_count": 121,
   "metadata": {},
   "outputs": [
    {
     "name": "stdout",
     "output_type": "stream",
     "text": [
      "       Real_Class\n",
      "0            -1.0\n",
      "1            -1.0\n",
      "2             2.0\n",
      "3            -1.0\n",
      "4             2.0\n",
      "...           ...\n",
      "20299        -1.0\n",
      "20300         0.0\n",
      "20301         1.0\n",
      "20302        -2.0\n",
      "20303        -2.0\n",
      "\n",
      "[20304 rows x 1 columns]\n"
     ]
    }
   ],
   "source": [
    "\n",
    "uniques_y_test_pred_pd = pd.DataFrame({'Real_Class': uniques_y_test_pred[:]})\n",
    "print(uniques_y_test_pred_pd)"
   ]
  },
  {
   "cell_type": "code",
   "execution_count": 122,
   "metadata": {},
   "outputs": [],
   "source": [
    "results_data_test['Real_Class'] = uniques_y_test_np\n",
    "results_data_test['Predicted_Class'] = uniques_y_test_pred_pd"
   ]
  },
  {
   "cell_type": "code",
   "execution_count": 123,
   "metadata": {},
   "outputs": [
    {
     "data": {
      "text/html": [
       "<div>\n",
       "<style scoped>\n",
       "    .dataframe tbody tr th:only-of-type {\n",
       "        vertical-align: middle;\n",
       "    }\n",
       "\n",
       "    .dataframe tbody tr th {\n",
       "        vertical-align: top;\n",
       "    }\n",
       "\n",
       "    .dataframe thead th {\n",
       "        text-align: right;\n",
       "    }\n",
       "</style>\n",
       "<table border=\"1\" class=\"dataframe\">\n",
       "  <thead>\n",
       "    <tr style=\"text-align: right;\">\n",
       "      <th></th>\n",
       "      <th>Open</th>\n",
       "      <th>High</th>\n",
       "      <th>Low</th>\n",
       "      <th>Close</th>\n",
       "      <th>Volume</th>\n",
       "      <th>Real_Class</th>\n",
       "      <th>Predicted_Class</th>\n",
       "    </tr>\n",
       "  </thead>\n",
       "  <tbody>\n",
       "    <tr>\n",
       "      <th>0</th>\n",
       "      <td>1.05809</td>\n",
       "      <td>1.05898</td>\n",
       "      <td>1.05769</td>\n",
       "      <td>1.05892</td>\n",
       "      <td>6150.9399</td>\n",
       "      <td>1.0</td>\n",
       "      <td>-1.0</td>\n",
       "    </tr>\n",
       "    <tr>\n",
       "      <th>1</th>\n",
       "      <td>1.05891</td>\n",
       "      <td>1.05986</td>\n",
       "      <td>1.05847</td>\n",
       "      <td>1.05958</td>\n",
       "      <td>11677.7197</td>\n",
       "      <td>-2.0</td>\n",
       "      <td>-1.0</td>\n",
       "    </tr>\n",
       "    <tr>\n",
       "      <th>2</th>\n",
       "      <td>1.05957</td>\n",
       "      <td>1.06041</td>\n",
       "      <td>1.05744</td>\n",
       "      <td>1.05765</td>\n",
       "      <td>15785.2197</td>\n",
       "      <td>2.0</td>\n",
       "      <td>2.0</td>\n",
       "    </tr>\n",
       "    <tr>\n",
       "      <th>3</th>\n",
       "      <td>1.05765</td>\n",
       "      <td>1.05956</td>\n",
       "      <td>1.05708</td>\n",
       "      <td>1.05935</td>\n",
       "      <td>14816.4902</td>\n",
       "      <td>0.0</td>\n",
       "      <td>-1.0</td>\n",
       "    </tr>\n",
       "    <tr>\n",
       "      <th>4</th>\n",
       "      <td>1.05934</td>\n",
       "      <td>1.05946</td>\n",
       "      <td>1.05835</td>\n",
       "      <td>1.05927</td>\n",
       "      <td>10641.8301</td>\n",
       "      <td>2.0</td>\n",
       "      <td>2.0</td>\n",
       "    </tr>\n",
       "    <tr>\n",
       "      <th>5</th>\n",
       "      <td>1.05925</td>\n",
       "      <td>1.06104</td>\n",
       "      <td>1.05890</td>\n",
       "      <td>1.06081</td>\n",
       "      <td>13180.9697</td>\n",
       "      <td>0.0</td>\n",
       "      <td>-1.0</td>\n",
       "    </tr>\n",
       "    <tr>\n",
       "      <th>6</th>\n",
       "      <td>1.06082</td>\n",
       "      <td>1.06181</td>\n",
       "      <td>1.06036</td>\n",
       "      <td>1.06089</td>\n",
       "      <td>14419.7803</td>\n",
       "      <td>1.0</td>\n",
       "      <td>2.0</td>\n",
       "    </tr>\n",
       "    <tr>\n",
       "      <th>7</th>\n",
       "      <td>1.06092</td>\n",
       "      <td>1.06179</td>\n",
       "      <td>1.06055</td>\n",
       "      <td>1.06139</td>\n",
       "      <td>15307.1904</td>\n",
       "      <td>-2.0</td>\n",
       "      <td>-2.0</td>\n",
       "    </tr>\n",
       "    <tr>\n",
       "      <th>8</th>\n",
       "      <td>1.06136</td>\n",
       "      <td>1.06153</td>\n",
       "      <td>1.05658</td>\n",
       "      <td>1.05724</td>\n",
       "      <td>25968.0293</td>\n",
       "      <td>-1.0</td>\n",
       "      <td>-1.0</td>\n",
       "    </tr>\n",
       "    <tr>\n",
       "      <th>9</th>\n",
       "      <td>1.05719</td>\n",
       "      <td>1.05900</td>\n",
       "      <td>1.05668</td>\n",
       "      <td>1.05668</td>\n",
       "      <td>19795.0098</td>\n",
       "      <td>2.0</td>\n",
       "      <td>1.0</td>\n",
       "    </tr>\n",
       "  </tbody>\n",
       "</table>\n",
       "</div>"
      ],
      "text/plain": [
       "      Open     High      Low    Close      Volume  Real_Class  Predicted_Class\n",
       "0  1.05809  1.05898  1.05769  1.05892   6150.9399         1.0             -1.0\n",
       "1  1.05891  1.05986  1.05847  1.05958  11677.7197        -2.0             -1.0\n",
       "2  1.05957  1.06041  1.05744  1.05765  15785.2197         2.0              2.0\n",
       "3  1.05765  1.05956  1.05708  1.05935  14816.4902         0.0             -1.0\n",
       "4  1.05934  1.05946  1.05835  1.05927  10641.8301         2.0              2.0\n",
       "5  1.05925  1.06104  1.05890  1.06081  13180.9697         0.0             -1.0\n",
       "6  1.06082  1.06181  1.06036  1.06089  14419.7803         1.0              2.0\n",
       "7  1.06092  1.06179  1.06055  1.06139  15307.1904        -2.0             -2.0\n",
       "8  1.06136  1.06153  1.05658  1.05724  25968.0293        -1.0             -1.0\n",
       "9  1.05719  1.05900  1.05668  1.05668  19795.0098         2.0              1.0"
      ]
     },
     "execution_count": 123,
     "metadata": {},
     "output_type": "execute_result"
    }
   ],
   "source": [
    "results_data_test.head(10)"
   ]
  },
  {
   "cell_type": "markdown",
   "metadata": {},
   "source": [
    "### Test Result Save CSV File "
   ]
  },
  {
   "cell_type": "code",
   "execution_count": 126,
   "metadata": {},
   "outputs": [
    {
     "name": "stdout",
     "output_type": "stream",
     "text": [
      "C-LSTM_1H_0F_Class_Test_Results_02.csv\n"
     ]
    }
   ],
   "source": [
    "file_name = MODEL_NAME + '_' + FRECUENCIA + '_' + str(NUM_FEATURES) + 'F_' + TARGET_NAME + \"_Test_Results_\" + ID + '.csv'\n",
    "print(file_name)"
   ]
  },
  {
   "cell_type": "code",
   "execution_count": 127,
   "metadata": {},
   "outputs": [],
   "source": [
    "pwd = os.getcwd()\n",
    "filename_path = os.path.join(pwd, r'../../../Results/LSTM/' + file_name)\n",
    "results_data_test.to_csv(filename_path, header=True, index=False)"
   ]
  },
  {
   "cell_type": "markdown",
   "metadata": {},
   "source": [
    "### TRAIN RESULTS TO CSV"
   ]
  },
  {
   "cell_type": "code",
   "execution_count": 128,
   "metadata": {},
   "outputs": [
    {
     "name": "stdout",
     "output_type": "stream",
     "text": [
      "data_train.shape:  (71760, 18)\n"
     ]
    }
   ],
   "source": [
    "print(\"data_train.shape: \", data_training.shape)\n"
   ]
  },
  {
   "cell_type": "code",
   "execution_count": 129,
   "metadata": {},
   "outputs": [
    {
     "name": "stdout",
     "output_type": "stream",
     "text": [
      "          Open     High      Low    Close      Volume\n",
      "0      1.27584  1.27666  1.27351  1.27436  25980.0000\n",
      "1      1.27435  1.27891  1.27331  1.27891  24881.5996\n",
      "2      1.27890  1.27957  1.27550  1.27552  24909.9004\n",
      "3      1.27523  1.27566  1.27374  1.27462  26329.6992\n",
      "4      1.27465  1.27482  1.27195  1.27277  25984.5000\n",
      "...        ...      ...      ...      ...         ...\n",
      "71755  1.10562  1.10834  1.10450  1.10817  14604.0801\n",
      "71756  1.10816  1.10957  1.10590  1.10626  11650.4600\n",
      "71757  1.10626  1.10660  1.10445  1.10487  10436.1201\n",
      "71758  1.10488  1.10517  1.10226  1.10318  10938.0596\n",
      "71759  1.10319  1.10389  1.10084  1.10125  10399.9805\n",
      "\n",
      "[71760 rows x 5 columns]\n",
      "(71760, 5)\n",
      "(71736, 5)\n"
     ]
    }
   ],
   "source": [
    "data_training_res = data_training\n",
    "data_training_res.reset_index(drop=True, inplace=True)\n",
    "results_data_train = pd.DataFrame(data_training_res['Open'])\n",
    "results_data_train['High'] = data_training_res['High']\n",
    "results_data_train['Low'] = data_training_res['Low']\n",
    "results_data_train['Close'] = data_training_res['Close']\n",
    "results_data_train['Volume'] = data_training_res['Volume']\n",
    "print(results_data_train)\n",
    "print(results_data_train.shape)\n",
    "results_data_train = results_data_train.iloc[RANGE:]\n",
    "results_data_train.reset_index(drop=True, inplace=True)\n",
    "print(results_data_train.shape)"
   ]
  },
  {
   "cell_type": "code",
   "execution_count": 130,
   "metadata": {},
   "outputs": [
    {
     "name": "stdout",
     "output_type": "stream",
     "text": [
      "[-1.  1.  1. ... -1.  0. -1.]\n",
      "(71736,)\n"
     ]
    }
   ],
   "source": [
    "print(uniques_y_train_pred[:])\n",
    "print(uniques_y_train_pred.shape)"
   ]
  },
  {
   "cell_type": "code",
   "execution_count": 131,
   "metadata": {},
   "outputs": [
    {
     "name": "stdout",
     "output_type": "stream",
     "text": [
      "       Real_Class\n",
      "0            -1.0\n",
      "1             1.0\n",
      "2             1.0\n",
      "3             2.0\n",
      "4             0.0\n",
      "...           ...\n",
      "71731        -2.0\n",
      "71732        -1.0\n",
      "71733        -1.0\n",
      "71734         0.0\n",
      "71735        -1.0\n",
      "\n",
      "[71736 rows x 1 columns]\n",
      "(71736, 1)\n"
     ]
    }
   ],
   "source": [
    "\n",
    "uniques_y_train_pred_pd = pd.DataFrame({'Real_Class': uniques_y_train_pred[:]})\n",
    "print(uniques_y_train_pred_pd)\n",
    "print(uniques_y_train_pred_pd.shape)\n"
   ]
  },
  {
   "cell_type": "code",
   "execution_count": 132,
   "metadata": {},
   "outputs": [],
   "source": [
    "results_data_train['Real_Class'] = uniques_y_train_np\n",
    "results_data_train['Predicted_Class'] = uniques_y_train_pred_pd"
   ]
  },
  {
   "cell_type": "code",
   "execution_count": 133,
   "metadata": {},
   "outputs": [
    {
     "data": {
      "text/html": [
       "<div>\n",
       "<style scoped>\n",
       "    .dataframe tbody tr th:only-of-type {\n",
       "        vertical-align: middle;\n",
       "    }\n",
       "\n",
       "    .dataframe tbody tr th {\n",
       "        vertical-align: top;\n",
       "    }\n",
       "\n",
       "    .dataframe thead th {\n",
       "        text-align: right;\n",
       "    }\n",
       "</style>\n",
       "<table border=\"1\" class=\"dataframe\">\n",
       "  <thead>\n",
       "    <tr style=\"text-align: right;\">\n",
       "      <th></th>\n",
       "      <th>Open</th>\n",
       "      <th>High</th>\n",
       "      <th>Low</th>\n",
       "      <th>Close</th>\n",
       "      <th>Volume</th>\n",
       "      <th>Real_Class</th>\n",
       "      <th>Predicted_Class</th>\n",
       "    </tr>\n",
       "  </thead>\n",
       "  <tbody>\n",
       "    <tr>\n",
       "      <th>0</th>\n",
       "      <td>1.27248</td>\n",
       "      <td>1.27401</td>\n",
       "      <td>1.27145</td>\n",
       "      <td>1.27180</td>\n",
       "      <td>27724.0996</td>\n",
       "      <td>-2.0</td>\n",
       "      <td>-1.0</td>\n",
       "    </tr>\n",
       "    <tr>\n",
       "      <th>1</th>\n",
       "      <td>1.27114</td>\n",
       "      <td>1.27148</td>\n",
       "      <td>1.26514</td>\n",
       "      <td>1.26552</td>\n",
       "      <td>26449.0996</td>\n",
       "      <td>2.0</td>\n",
       "      <td>1.0</td>\n",
       "    </tr>\n",
       "    <tr>\n",
       "      <th>2</th>\n",
       "      <td>1.26545</td>\n",
       "      <td>1.26867</td>\n",
       "      <td>1.26503</td>\n",
       "      <td>1.26659</td>\n",
       "      <td>25657.0996</td>\n",
       "      <td>-1.0</td>\n",
       "      <td>1.0</td>\n",
       "    </tr>\n",
       "    <tr>\n",
       "      <th>3</th>\n",
       "      <td>1.26685</td>\n",
       "      <td>1.26744</td>\n",
       "      <td>1.26563</td>\n",
       "      <td>1.26614</td>\n",
       "      <td>25345.3008</td>\n",
       "      <td>2.0</td>\n",
       "      <td>2.0</td>\n",
       "    </tr>\n",
       "    <tr>\n",
       "      <th>4</th>\n",
       "      <td>1.26619</td>\n",
       "      <td>1.26832</td>\n",
       "      <td>1.26559</td>\n",
       "      <td>1.26776</td>\n",
       "      <td>25950.4004</td>\n",
       "      <td>1.0</td>\n",
       "      <td>0.0</td>\n",
       "    </tr>\n",
       "    <tr>\n",
       "      <th>5</th>\n",
       "      <td>1.26775</td>\n",
       "      <td>1.26903</td>\n",
       "      <td>1.26697</td>\n",
       "      <td>1.26842</td>\n",
       "      <td>25898.0996</td>\n",
       "      <td>-2.0</td>\n",
       "      <td>2.0</td>\n",
       "    </tr>\n",
       "    <tr>\n",
       "      <th>6</th>\n",
       "      <td>1.26823</td>\n",
       "      <td>1.26985</td>\n",
       "      <td>1.26296</td>\n",
       "      <td>1.26468</td>\n",
       "      <td>25883.6992</td>\n",
       "      <td>2.0</td>\n",
       "      <td>2.0</td>\n",
       "    </tr>\n",
       "    <tr>\n",
       "      <th>7</th>\n",
       "      <td>1.26436</td>\n",
       "      <td>1.26743</td>\n",
       "      <td>1.26398</td>\n",
       "      <td>1.26727</td>\n",
       "      <td>26862.1992</td>\n",
       "      <td>1.0</td>\n",
       "      <td>2.0</td>\n",
       "    </tr>\n",
       "    <tr>\n",
       "      <th>8</th>\n",
       "      <td>1.26706</td>\n",
       "      <td>1.26921</td>\n",
       "      <td>1.26536</td>\n",
       "      <td>1.26828</td>\n",
       "      <td>27650.5996</td>\n",
       "      <td>2.0</td>\n",
       "      <td>-1.0</td>\n",
       "    </tr>\n",
       "    <tr>\n",
       "      <th>9</th>\n",
       "      <td>1.26830</td>\n",
       "      <td>1.27318</td>\n",
       "      <td>1.26691</td>\n",
       "      <td>1.27221</td>\n",
       "      <td>244622.4063</td>\n",
       "      <td>-1.0</td>\n",
       "      <td>2.0</td>\n",
       "    </tr>\n",
       "  </tbody>\n",
       "</table>\n",
       "</div>"
      ],
      "text/plain": [
       "      Open     High      Low    Close       Volume  Real_Class  \\\n",
       "0  1.27248  1.27401  1.27145  1.27180   27724.0996        -2.0   \n",
       "1  1.27114  1.27148  1.26514  1.26552   26449.0996         2.0   \n",
       "2  1.26545  1.26867  1.26503  1.26659   25657.0996        -1.0   \n",
       "3  1.26685  1.26744  1.26563  1.26614   25345.3008         2.0   \n",
       "4  1.26619  1.26832  1.26559  1.26776   25950.4004         1.0   \n",
       "5  1.26775  1.26903  1.26697  1.26842   25898.0996        -2.0   \n",
       "6  1.26823  1.26985  1.26296  1.26468   25883.6992         2.0   \n",
       "7  1.26436  1.26743  1.26398  1.26727   26862.1992         1.0   \n",
       "8  1.26706  1.26921  1.26536  1.26828   27650.5996         2.0   \n",
       "9  1.26830  1.27318  1.26691  1.27221  244622.4063        -1.0   \n",
       "\n",
       "   Predicted_Class  \n",
       "0             -1.0  \n",
       "1              1.0  \n",
       "2              1.0  \n",
       "3              2.0  \n",
       "4              0.0  \n",
       "5              2.0  \n",
       "6              2.0  \n",
       "7              2.0  \n",
       "8             -1.0  \n",
       "9              2.0  "
      ]
     },
     "execution_count": 133,
     "metadata": {},
     "output_type": "execute_result"
    }
   ],
   "source": [
    "results_data_train.head(10)\n",
    "#results_data_train.tail(10)"
   ]
  },
  {
   "cell_type": "code",
   "execution_count": 134,
   "metadata": {},
   "outputs": [
    {
     "data": {
      "text/plain": [
       "array([-2.,  2., -1.,  2.,  1., -2.,  2.,  1.,  2., -1., -2., -2., -2.,\n",
       "        0., -1.,  1., -2.,  2., -1.,  0.])"
      ]
     },
     "execution_count": 134,
     "metadata": {},
     "output_type": "execute_result"
    }
   ],
   "source": [
    "uniques_y_train_np[:20]"
   ]
  },
  {
   "cell_type": "markdown",
   "metadata": {},
   "source": [
    "### Test Result Save CSV File "
   ]
  },
  {
   "cell_type": "code",
   "execution_count": 135,
   "metadata": {},
   "outputs": [
    {
     "name": "stdout",
     "output_type": "stream",
     "text": [
      "C-LSTM_1H_0F_Class_Train_Results_02.csv\n"
     ]
    }
   ],
   "source": [
    "file_name = MODEL_NAME + '_' + FRECUENCIA + '_' + str(NUM_FEATURES) + 'F_' + TARGET_NAME + \"_Train_Results_\" + ID + '.csv'\n",
    "print(file_name)"
   ]
  },
  {
   "cell_type": "code",
   "execution_count": 136,
   "metadata": {},
   "outputs": [],
   "source": [
    "pwd = os.getcwd()\n",
    "filename_path = os.path.join(pwd, r'../../../Results/LSTM/' + file_name)\n",
    "results_data_train.to_csv(filename_path, header=True, index=False)"
   ]
  },
  {
   "cell_type": "markdown",
   "metadata": {},
   "source": [
    "### CHARTS"
   ]
  },
  {
   "cell_type": "code",
   "execution_count": 156,
   "metadata": {},
   "outputs": [
    {
     "data": {
      "text/plain": [
       "(20304, 5)"
      ]
     },
     "execution_count": 156,
     "metadata": {},
     "output_type": "execute_result"
    }
   ],
   "source": [
    "y_test_np.shape"
   ]
  },
  {
   "cell_type": "code",
   "execution_count": null,
   "metadata": {},
   "outputs": [],
   "source": [
    "INICIO = 0\n",
    "FIN = 280\n",
    "print(y_test_np.shape)\n",
    "print(y_test_pred.shape)\n",
    "# Visualising the results\n",
    "plt.figure(figsize=(14,5))\n",
    "plt.plot(y_test_np[INICIO:FIN], color = 'red', label = 'Real')\n",
    "plt.plot(y_test_pred[INICIO:FIN], color = 'blue', label = 'Predicted')\n",
    "plt.title('Prediction - Test dataset')\n",
    "plt.xlabel('Time')\n",
    "plt.ylabel('Price')\n",
    "plt.legend()\n",
    "plt.show()\n"
   ]
  },
  {
   "cell_type": "code",
   "execution_count": null,
   "metadata": {},
   "outputs": [],
   "source": [
    "def mean_absolute_percentage_error(y_true, y_pred): \n",
    "    y_true, y_pred = np.array(y_true), np.array(y_pred)\n",
    "    return np.mean(np.abs((y_true - y_pred) / y_true)) * 100"
   ]
  },
  {
   "cell_type": "code",
   "execution_count": null,
   "metadata": {},
   "outputs": [],
   "source": [
    "print('Test MAE:', mean_absolute_error(y_test_np, y_test_pred))#Mean Absolute Error\n",
    "print('Test RMSE:',np.sqrt(mean_squared_error(y_test_np, y_test_pred)))#Root Mean Squared Error\n",
    "print('Test MSE:',mean_squared_error(y_test_np, y_test_pred))#Mean Squared Error\n",
    "print('Test MAPE:',mean_absolute_percentage_error(y_test_np, y_test_pred))#Mean Absolute Percentaje Error\n"
   ]
  },
  {
   "cell_type": "code",
   "execution_count": null,
   "metadata": {},
   "outputs": [],
   "source": [
    "print(y_train_np.shape)\n",
    "INICIO = 0\n",
    "FIN = 127\n",
    "# Visualising the results\n",
    "plt.figure(figsize=(14,5))\n",
    "plt.plot(y_train_np[INICIO:FIN], color = 'red', label = 'Real')\n",
    "plt.plot(y_train_pred[INICIO:FIN], color = 'blue', label = 'Predicted')\n",
    "plt.title('Prediction - Training dataset')\n",
    "plt.xlabel('Time')\n",
    "plt.ylabel('Price')\n",
    "plt.legend()\n",
    "plt.show()\n"
   ]
  },
  {
   "cell_type": "code",
   "execution_count": null,
   "metadata": {},
   "outputs": [],
   "source": [
    "print('Train MAE:', mean_absolute_error(y_train_np, y_train_pred))#Mean Absolute Error\n",
    "print('Train RMSE:',np.sqrt(mean_squared_error(y_train_np, y_train_pred)))#Root Mean Squared Error\n",
    "print('Train MSE:',mean_squared_error(y_train_np, y_train_pred))#Mean Squared Error\n",
    "print('Test MAPE:',mean_absolute_percentage_error(y_train_np, y_train_pred))#Mean Absolute Percentaje Error\n"
   ]
  }
 ],
 "metadata": {
  "colab": {
   "name": "RDI_hour.ipynb",
   "provenance": []
  },
  "kernelspec": {
   "display_name": "Python 3",
   "language": "python",
   "name": "python3"
  },
  "language_info": {
   "codemirror_mode": {
    "name": "ipython",
    "version": 3
   },
   "file_extension": ".py",
   "mimetype": "text/x-python",
   "name": "python",
   "nbconvert_exporter": "python",
   "pygments_lexer": "ipython3",
   "version": "3.7.3"
  }
 },
 "nbformat": 4,
 "nbformat_minor": 1
}
