{
 "cells": [
  {
   "cell_type": "code",
   "execution_count": 165,
   "metadata": {
    "colab": {},
    "colab_type": "code",
    "id": "MHL60GoYoBLT",
    "outputId": "55db4102-144e-4e32-f6b2-38133dd62787"
   },
   "outputs": [],
   "source": [
    "# Mawrer Amed Ramirez Martinez\n",
    "# Avance de TOG IDI 4\n",
    "# ms723737@iteso.mx\n",
    "# mawrer@gmail.com\n",
    "\n",
    "import numpy as np\n",
    "np.random.seed(1)\n",
    "\n",
    "#Tensorflow\n",
    "import tensorflow as tf\n",
    "tf.random.set_seed(2)\n",
    "from tensorflow.keras import Sequential\n",
    "from tensorflow.keras.layers import Dense, LSTM, Dropout\n",
    "\n",
    "#Pandas\n",
    "import pandas as pd \n",
    "\n",
    "#Keras\n",
    "from keras import backend as K\n",
    "from keras import metrics\n",
    "from keras.callbacks import ModelCheckpoint\n",
    "from keras.layers import Activation\n",
    "from keras.layers.advanced_activations import LeakyReLU\n",
    "from keras.wrappers.scikit_learn import KerasClassifier\n",
    "from keras.utils import np_utils\n",
    "\n",
    "#Statistics Libraries\n",
    "from statsmodels.tsa.arima_model import ARIMA\n",
    "from scipy import stats\n",
    "import math as m\n",
    "\n",
    "#plots\n",
    "import seaborn as sns\n",
    "import matplotlib.pyplot as plt\n",
    "from matplotlib import pyplot\n",
    "from matplotlib.pyplot import figure\n",
    "\n",
    "#OverSampling\n",
    "from imblearn.over_sampling import RandomOverSampler\n",
    "\n",
    "#SKlearn\n",
    "from sklearn.model_selection import cross_val_score\n",
    "from sklearn.model_selection import KFold\n",
    "from sklearn.preprocessing import LabelEncoder\n",
    "from sklearn.pipeline import Pipeline\n",
    "from sklearn.metrics import confusion_matrix\n",
    "from sklearn.preprocessing import MinMaxScaler\n",
    "from sklearn.model_selection import train_test_split\n",
    "from sklearn.metrics import mean_squared_error\n",
    "from sklearn.metrics import mean_absolute_error\n",
    "from sklearn.preprocessing import OneHotEncoder\n",
    "\n",
    "#global\n",
    "import os, glob"
   ]
  },
  {
   "cell_type": "code",
   "execution_count": 166,
   "metadata": {},
   "outputs": [],
   "source": [
    "import warnings\n",
    "warnings.filterwarnings(\"ignore\")"
   ]
  },
  {
   "cell_type": "code",
   "execution_count": 167,
   "metadata": {},
   "outputs": [],
   "source": [
    "ID = \"03\"\n",
    "MODEL_NAME = \"C-LSTM\"\n",
    "NUM_FEATURES = 0\n",
    "TARGET_NAME = \"Class\"\n",
    "FRECUENCIA = \"1D\"\n",
    "ACC_RESULT = 0"
   ]
  },
  {
   "cell_type": "code",
   "execution_count": 168,
   "metadata": {},
   "outputs": [],
   "source": [
    "RANGE = 5\n",
    "\n",
    "HYPER_L1_IN = RANGE\n",
    "EPOCHS = 150\n",
    "BATCH_SIZE = 32\n",
    "\n",
    "TEST_SIZE = .20\n",
    "VAL_SIZE = .10\n",
    "\n",
    "START_IN = 0\n",
    "\n",
    "TRAINING_TIME_ELAPSED = 0\n",
    "\n",
    "TRAIN_MSE=0\n",
    "TRAIN_RMSE=0\n",
    "TRAIN_MAE=0\n",
    "TEST_MSE=0\n",
    "TEST_RMSE=0\n",
    "TEST_MAE=0\n"
   ]
  },
  {
   "cell_type": "code",
   "execution_count": 169,
   "metadata": {},
   "outputs": [
    {
     "name": "stdout",
     "output_type": "stream",
     "text": [
      "C-EURUSD_FULL_1D_21F.csv\n",
      "C-EURUSD_FULL_1H_25F.csv\n",
      "C-EURUSD_FULL_1H_54F.csv\n"
     ]
    }
   ],
   "source": [
    "pwd = os.getcwd()\n",
    "datasource_path = os.path.join(pwd, r'../../../Datasets/Junio2020/procesados_classification/')\n",
    "filenames = glob.glob(datasource_path + \"/*.csv\")\n",
    "filenames.sort()\n",
    "for file in filenames:\n",
    "    print(os.path.basename(file))"
   ]
  },
  {
   "cell_type": "code",
   "execution_count": 170,
   "metadata": {
    "colab": {},
    "colab_type": "code",
    "id": "rS_SC_nwoBLb",
    "outputId": "45629160-abff-4b56-f141-eadb3244e91c"
   },
   "outputs": [
    {
     "data": {
      "text/html": [
       "<div>\n",
       "<style scoped>\n",
       "    .dataframe tbody tr th:only-of-type {\n",
       "        vertical-align: middle;\n",
       "    }\n",
       "\n",
       "    .dataframe tbody tr th {\n",
       "        vertical-align: top;\n",
       "    }\n",
       "\n",
       "    .dataframe thead th {\n",
       "        text-align: right;\n",
       "    }\n",
       "</style>\n",
       "<table border=\"1\" class=\"dataframe\">\n",
       "  <thead>\n",
       "    <tr style=\"text-align: right;\">\n",
       "      <th></th>\n",
       "      <th>Gmt time</th>\n",
       "      <th>Open</th>\n",
       "      <th>High</th>\n",
       "      <th>Low</th>\n",
       "      <th>Close</th>\n",
       "      <th>Volume</th>\n",
       "      <th>Open_Bid</th>\n",
       "      <th>High_Bid</th>\n",
       "      <th>Low_Bid</th>\n",
       "      <th>Close_Bid</th>\n",
       "      <th>...</th>\n",
       "      <th>Spread</th>\n",
       "      <th>day_name</th>\n",
       "      <th>weekday</th>\n",
       "      <th>Pct_Range_Close</th>\n",
       "      <th>Pct_Range_Close_diff</th>\n",
       "      <th>MA_Close_5</th>\n",
       "      <th>MA_Close_25</th>\n",
       "      <th>MA_Close_50</th>\n",
       "      <th>MA_Close_200</th>\n",
       "      <th>Class</th>\n",
       "    </tr>\n",
       "  </thead>\n",
       "  <tbody>\n",
       "    <tr>\n",
       "      <th>0</th>\n",
       "      <td>2004-01-01</td>\n",
       "      <td>1.25950</td>\n",
       "      <td>1.26052</td>\n",
       "      <td>1.24698</td>\n",
       "      <td>1.25733</td>\n",
       "      <td>4.621817e+05</td>\n",
       "      <td>1.25934</td>\n",
       "      <td>1.26035</td>\n",
       "      <td>1.24679</td>\n",
       "      <td>1.25723</td>\n",
       "      <td>...</td>\n",
       "      <td>0.00010</td>\n",
       "      <td>Thursday</td>\n",
       "      <td>3</td>\n",
       "      <td>0.000000</td>\n",
       "      <td>0.000000</td>\n",
       "      <td>0.000000</td>\n",
       "      <td>0.0</td>\n",
       "      <td>0.0</td>\n",
       "      <td>0.0</td>\n",
       "      <td>1.0</td>\n",
       "    </tr>\n",
       "    <tr>\n",
       "      <th>1</th>\n",
       "      <td>2004-01-02</td>\n",
       "      <td>1.25717</td>\n",
       "      <td>1.26282</td>\n",
       "      <td>1.25214</td>\n",
       "      <td>1.25832</td>\n",
       "      <td>1.066578e+06</td>\n",
       "      <td>1.25701</td>\n",
       "      <td>1.26263</td>\n",
       "      <td>1.25198</td>\n",
       "      <td>1.25806</td>\n",
       "      <td>...</td>\n",
       "      <td>0.00026</td>\n",
       "      <td>Friday</td>\n",
       "      <td>4</td>\n",
       "      <td>0.000787</td>\n",
       "      <td>0.000787</td>\n",
       "      <td>0.000000</td>\n",
       "      <td>0.0</td>\n",
       "      <td>0.0</td>\n",
       "      <td>0.0</td>\n",
       "      <td>2.0</td>\n",
       "    </tr>\n",
       "    <tr>\n",
       "      <th>2</th>\n",
       "      <td>2004-01-04</td>\n",
       "      <td>1.25925</td>\n",
       "      <td>1.26487</td>\n",
       "      <td>1.25789</td>\n",
       "      <td>1.26318</td>\n",
       "      <td>6.879980e+04</td>\n",
       "      <td>1.25855</td>\n",
       "      <td>1.26477</td>\n",
       "      <td>1.25779</td>\n",
       "      <td>1.26308</td>\n",
       "      <td>...</td>\n",
       "      <td>0.00010</td>\n",
       "      <td>Sunday</td>\n",
       "      <td>6</td>\n",
       "      <td>0.003862</td>\n",
       "      <td>0.003075</td>\n",
       "      <td>0.000000</td>\n",
       "      <td>0.0</td>\n",
       "      <td>0.0</td>\n",
       "      <td>0.0</td>\n",
       "      <td>2.0</td>\n",
       "    </tr>\n",
       "    <tr>\n",
       "      <th>3</th>\n",
       "      <td>2004-01-05</td>\n",
       "      <td>1.26324</td>\n",
       "      <td>1.26935</td>\n",
       "      <td>1.26301</td>\n",
       "      <td>1.26830</td>\n",
       "      <td>1.119689e+06</td>\n",
       "      <td>1.26308</td>\n",
       "      <td>1.26924</td>\n",
       "      <td>1.26288</td>\n",
       "      <td>1.26820</td>\n",
       "      <td>...</td>\n",
       "      <td>0.00010</td>\n",
       "      <td>Monday</td>\n",
       "      <td>0</td>\n",
       "      <td>0.004053</td>\n",
       "      <td>0.000191</td>\n",
       "      <td>0.000000</td>\n",
       "      <td>0.0</td>\n",
       "      <td>0.0</td>\n",
       "      <td>0.0</td>\n",
       "      <td>1.0</td>\n",
       "    </tr>\n",
       "    <tr>\n",
       "      <th>4</th>\n",
       "      <td>2004-01-06</td>\n",
       "      <td>1.26836</td>\n",
       "      <td>1.28093</td>\n",
       "      <td>1.26666</td>\n",
       "      <td>1.27150</td>\n",
       "      <td>1.125442e+06</td>\n",
       "      <td>1.26820</td>\n",
       "      <td>1.28083</td>\n",
       "      <td>1.26650</td>\n",
       "      <td>1.27140</td>\n",
       "      <td>...</td>\n",
       "      <td>0.00010</td>\n",
       "      <td>Tuesday</td>\n",
       "      <td>1</td>\n",
       "      <td>0.002523</td>\n",
       "      <td>-0.001530</td>\n",
       "      <td>1.263726</td>\n",
       "      <td>0.0</td>\n",
       "      <td>0.0</td>\n",
       "      <td>0.0</td>\n",
       "      <td>-2.0</td>\n",
       "    </tr>\n",
       "  </tbody>\n",
       "</table>\n",
       "<p>5 rows × 21 columns</p>\n",
       "</div>"
      ],
      "text/plain": [
       "    Gmt time     Open     High      Low    Close        Volume  Open_Bid  \\\n",
       "0 2004-01-01  1.25950  1.26052  1.24698  1.25733  4.621817e+05   1.25934   \n",
       "1 2004-01-02  1.25717  1.26282  1.25214  1.25832  1.066578e+06   1.25701   \n",
       "2 2004-01-04  1.25925  1.26487  1.25789  1.26318  6.879980e+04   1.25855   \n",
       "3 2004-01-05  1.26324  1.26935  1.26301  1.26830  1.119689e+06   1.26308   \n",
       "4 2004-01-06  1.26836  1.28093  1.26666  1.27150  1.125442e+06   1.26820   \n",
       "\n",
       "   High_Bid  Low_Bid  Close_Bid  ...   Spread  day_name weekday  \\\n",
       "0   1.26035  1.24679    1.25723  ...  0.00010  Thursday       3   \n",
       "1   1.26263  1.25198    1.25806  ...  0.00026    Friday       4   \n",
       "2   1.26477  1.25779    1.26308  ...  0.00010    Sunday       6   \n",
       "3   1.26924  1.26288    1.26820  ...  0.00010    Monday       0   \n",
       "4   1.28083  1.26650    1.27140  ...  0.00010   Tuesday       1   \n",
       "\n",
       "   Pct_Range_Close  Pct_Range_Close_diff  MA_Close_5  MA_Close_25  \\\n",
       "0         0.000000              0.000000    0.000000          0.0   \n",
       "1         0.000787              0.000787    0.000000          0.0   \n",
       "2         0.003862              0.003075    0.000000          0.0   \n",
       "3         0.004053              0.000191    0.000000          0.0   \n",
       "4         0.002523             -0.001530    1.263726          0.0   \n",
       "\n",
       "   MA_Close_50  MA_Close_200  Class  \n",
       "0          0.0           0.0    1.0  \n",
       "1          0.0           0.0    2.0  \n",
       "2          0.0           0.0    2.0  \n",
       "3          0.0           0.0    1.0  \n",
       "4          0.0           0.0   -2.0  \n",
       "\n",
       "[5 rows x 21 columns]"
      ]
     },
     "execution_count": 170,
     "metadata": {},
     "output_type": "execute_result"
    }
   ],
   "source": [
    "if FRECUENCIA ==\"1D\":\n",
    "    dateparse = lambda x: pd.datetime.strptime(x, '%Y-%m-%d')\n",
    "else:\n",
    "    dateparse = lambda x: pd.datetime.strptime(x, '%Y-%m-%d %H:%M:%S')\n",
    "DATASET = pd.read_csv(filenames[0], header=0, parse_dates=['Gmt time'], date_parser=dateparse)\n",
    "DATASET.head()\n"
   ]
  },
  {
   "cell_type": "code",
   "execution_count": 171,
   "metadata": {
    "scrolled": true
   },
   "outputs": [
    {
     "name": "stdout",
     "output_type": "stream",
     "text": [
      "Shape:  (5137, 21)\n",
      "              Open         High          Low        Close        Volume  \\\n",
      "count  5137.000000  5137.000000  5137.000000  5137.000000  5.137000e+03   \n",
      "mean      1.263948     1.268773     1.259111     1.263939  4.156849e+05   \n",
      "std       0.122827     0.123592     0.121990     0.122823  4.429918e+05   \n",
      "min       1.039090     1.041820     1.034050     1.039090  5.400000e+01   \n",
      "25%       1.149190     1.153490     1.145380     1.149120  1.159636e+05   \n",
      "50%       1.270260     1.275990     1.265560     1.270260  2.200810e+05   \n",
      "75%       1.350610     1.355180     1.345920     1.350700  7.439951e+05   \n",
      "max       1.597400     1.604030     1.589800     1.597370  2.237468e+06   \n",
      "\n",
      "          Open_Bid     High_Bid      Low_Bid    Close_Bid    Volume_Bid  \\\n",
      "count  5137.000000  5137.000000  5137.000000  5137.000000  5.137000e+03   \n",
      "mean      1.263810     1.268680     1.259015     1.263822  4.616911e+05   \n",
      "std       0.122817     0.123571     0.121969     0.122813  5.305200e+05   \n",
      "min       1.039070     1.041780     1.034030     1.039060  5.400000e+01   \n",
      "25%       1.149180     1.153450     1.145280     1.149100  1.154682e+05   \n",
      "50%       1.270030     1.275890     1.265440     1.270210  2.168718e+05   \n",
      "75%       1.350500     1.355040     1.345840     1.350580  7.692461e+05   \n",
      "max       1.597200     1.603890     1.589540     1.597210  2.697619e+06   \n",
      "\n",
      "            Spread      weekday  Pct_Range_Close  Pct_Range_Close_diff  \\\n",
      "count  5137.000000  5137.000000      5137.000000          5.137000e+03   \n",
      "mean      0.000118     2.666732        -0.000009          5.078308e-07   \n",
      "std       0.000128     1.972032         0.005475          7.765222e-03   \n",
      "min       0.000010     0.000000        -0.027025         -4.168293e-02   \n",
      "25%       0.000040     1.000000        -0.002669         -4.397991e-03   \n",
      "50%       0.000100     3.000000        -0.000053          2.239339e-05   \n",
      "75%       0.000120     4.000000         0.002737          4.297392e-03   \n",
      "max       0.002280     6.000000         0.034948          4.138606e-02   \n",
      "\n",
      "        MA_Close_5  MA_Close_25  MA_Close_50  MA_Close_200        Class  \n",
      "count  5137.000000  5137.000000  5137.000000   5137.000000  5137.000000  \n",
      "mean      1.263017     1.258427     1.252717      1.218769    -0.003309  \n",
      "std       0.127594     0.149187     0.172230      0.269736     1.437221  \n",
      "min       0.000000     0.000000     0.000000      0.000000    -2.000000  \n",
      "25%       1.147400     1.146106     1.144832      1.141230    -1.000000  \n",
      "50%       1.270952     1.270765     1.272340      1.278337     0.000000  \n",
      "75%       1.350950     1.350534     1.349397      1.347949     1.000000  \n",
      "max       1.589550     1.579363     1.568693      1.535394     2.000000  \n",
      "Open                    float64\n",
      "High                    float64\n",
      "Low                     float64\n",
      "Close                   float64\n",
      "Volume                  float64\n",
      "Open_Bid                float64\n",
      "High_Bid                float64\n",
      "Low_Bid                 float64\n",
      "Close_Bid               float64\n",
      "Volume_Bid              float64\n",
      "Spread                  float64\n",
      "weekday                   int64\n",
      "Pct_Range_Close         float64\n",
      "Pct_Range_Close_diff    float64\n",
      "MA_Close_5              float64\n",
      "MA_Close_25             float64\n",
      "MA_Close_50             float64\n",
      "MA_Close_200            float64\n",
      "Class                   float64\n",
      "dtype: object\n"
     ]
    }
   ],
   "source": [
    "#Describe DATASET\n",
    "print('Shape: ', DATASET.shape)\n",
    "print(DATASET.describe())\n",
    "DATASET = DATASET.drop(['day_name'], axis = 1)\n",
    "DATASET = DATASET.drop(['Gmt time'], axis = 1)\n",
    "print(DATASET.dtypes)\n"
   ]
  },
  {
   "cell_type": "code",
   "execution_count": 173,
   "metadata": {},
   "outputs": [
    {
     "name": "stdout",
     "output_type": "stream",
     "text": [
      "(4938, 19)\n",
      "      Open     High      Low    Close        Volume  Open_Bid  High_Bid  \\\n",
      "0  1.23655  1.23817  1.22801  1.23179  1.078729e+06   1.23639   1.23804   \n",
      "1  1.23158  1.23241  1.22967  1.23109  8.212280e+04   1.23088   1.23231   \n",
      "2  1.23140  1.23154  1.21310  1.21496  1.130388e+06   1.23124   1.23140   \n",
      "3  1.21495  1.21669  1.20594  1.20711  1.123270e+06   1.21479   1.21656   \n",
      "4  1.20718  1.21160  1.20519  1.20794  1.118725e+06   1.20702   1.21156   \n",
      "\n",
      "   Low_Bid  Close_Bid   Volume_Bid  Spread  weekday  Pct_Range_Close  \\\n",
      "0  1.22791    1.23169  1291823.750  0.0001        4        -0.003680   \n",
      "1  1.22955    1.23099    93508.000  0.0001        6        -0.000568   \n",
      "2  1.21298    1.21486  1348137.000  0.0001        0        -0.013102   \n",
      "3  1.20583    1.20701  1344214.000  0.0001        1        -0.006461   \n",
      "4  1.20504    1.20784  1355827.375  0.0001        2         0.000688   \n",
      "\n",
      "   Pct_Range_Close_diff  MA_Close_5  MA_Close_25  MA_Close_50  MA_Close_200  \\\n",
      "0             -0.005690    1.234518     1.218937     1.224729      1.226775   \n",
      "1              0.003112    1.233606     1.219812     1.225013      1.226644   \n",
      "2             -0.012534    1.229608     1.219988     1.224953      1.226427   \n",
      "3              0.006641    1.224258     1.219740     1.224762      1.226147   \n",
      "4              0.007149    1.218578     1.219801     1.224544      1.225845   \n",
      "\n",
      "   Class  \n",
      "0    0.0  \n",
      "1   -2.0  \n",
      "2   -2.0  \n",
      "3    0.0  \n",
      "4    1.0  \n"
     ]
    }
   ],
   "source": [
    "DF_Full = DATASET[199:]\n",
    "DF_Full.reset_index(drop=True, inplace=True)\n",
    "print(DF_Full.shape)\n",
    "print(DF_Full.head())"
   ]
  },
  {
   "cell_type": "code",
   "execution_count": 174,
   "metadata": {},
   "outputs": [
    {
     "name": "stdout",
     "output_type": "stream",
     "text": [
      "Total:  4938\n",
      "Start:  0\n"
     ]
    }
   ],
   "source": [
    "total = DF_Full.shape[0]\n",
    "print('Total: ', total)\n",
    "print('Start: ', START_IN)"
   ]
  },
  {
   "cell_type": "code",
   "execution_count": 175,
   "metadata": {},
   "outputs": [
    {
     "name": "stdout",
     "output_type": "stream",
     "text": [
      "(4938, 19)\n"
     ]
    }
   ],
   "source": [
    "#Shape the first START of the total\n",
    "DF_Full = DF_Full.iloc[START_IN:]\n",
    "DF_Full.reset_index(drop=True, inplace=True) #reset indexes from iloc\n",
    "NUM_FEATURES = DF_Full.shape[1]\n",
    "print(DF_Full.shape)"
   ]
  },
  {
   "cell_type": "code",
   "execution_count": 176,
   "metadata": {},
   "outputs": [
    {
     "name": "stdout",
     "output_type": "stream",
     "text": [
      "Total:  5137\n"
     ]
    }
   ],
   "source": [
    "\n",
    "total = DATASET.shape[0]\n",
    "print('Total: ', total)"
   ]
  },
  {
   "cell_type": "code",
   "execution_count": 177,
   "metadata": {},
   "outputs": [
    {
     "data": {
      "text/plain": [
       "0     0.0\n",
       "1    -2.0\n",
       "2    -2.0\n",
       "3     0.0\n",
       "4     1.0\n",
       "5    -2.0\n",
       "6     0.0\n",
       "7     1.0\n",
       "8     2.0\n",
       "9     1.0\n",
       "10   -1.0\n",
       "11   -2.0\n",
       "Name: Class, dtype: float64"
      ]
     },
     "execution_count": 177,
     "metadata": {},
     "output_type": "execute_result"
    }
   ],
   "source": [
    "DF_Full[TARGET_NAME][0:12]"
   ]
  },
  {
   "cell_type": "markdown",
   "metadata": {},
   "source": [
    "### Generate VECTOR Y"
   ]
  },
  {
   "cell_type": "code",
   "execution_count": 178,
   "metadata": {},
   "outputs": [
    {
     "name": "stdout",
     "output_type": "stream",
     "text": [
      "[2 0 0 ... 3 3 2]\n",
      "[-2. -1.  0.  1.  2.]\n",
      "[[0. 0. 1. 0. 0.]\n",
      " [1. 0. 0. 0. 0.]\n",
      " [1. 0. 0. 0. 0.]\n",
      " ...\n",
      " [0. 0. 0. 1. 0.]\n",
      " [0. 0. 0. 1. 0.]\n",
      " [0. 0. 1. 0. 0.]]\n"
     ]
    }
   ],
   "source": [
    "#generate the VECTOR Y\n",
    "uniques, ids = np.unique(DF_Full[TARGET_NAME], return_inverse=True)\n",
    "\n",
    "#target_y = np_utils.to_categorical(DF_Full[TARGET_NAME],num_classes=5)\n",
    "target_y = np_utils.to_categorical(ids,len(uniques))\n",
    "print(ids)\n",
    "print(uniques)\n",
    "print(target_y)"
   ]
  },
  {
   "cell_type": "code",
   "execution_count": 179,
   "metadata": {},
   "outputs": [
    {
     "name": "stdout",
     "output_type": "stream",
     "text": [
      "[[0. 0. 1. 0. 0.]\n",
      " [1. 0. 0. 0. 0.]\n",
      " [1. 0. 0. 0. 0.]\n",
      " [0. 0. 1. 0. 0.]\n",
      " [0. 0. 0. 1. 0.]\n",
      " [1. 0. 0. 0. 0.]\n",
      " [0. 0. 1. 0. 0.]\n",
      " [0. 0. 0. 1. 0.]\n",
      " [0. 0. 0. 0. 1.]\n",
      " [0. 0. 0. 1. 0.]]\n"
     ]
    },
    {
     "data": {
      "text/plain": [
       "(4938, 5)"
      ]
     },
     "execution_count": 179,
     "metadata": {},
     "output_type": "execute_result"
    }
   ],
   "source": [
    "close_y = target_y\n",
    "print(close_y[:10])   \n",
    "#   [1. 0. 0. 0. 0.]   =  0\n",
    "#   [0. 1. 0. 0. 0.]   =  1\n",
    "#   [0. 0. 1. 0. 0.]   =   2 \n",
    "#   [0. 0. 0. 1. 0.]   =  -2\n",
    "#   [0. 0. 0. 0. 1.]   =  -1\n",
    "close_y.shape"
   ]
  },
  {
   "cell_type": "markdown",
   "metadata": {},
   "source": [
    "### REMOVE COLUMNS "
   ]
  },
  {
   "cell_type": "code",
   "execution_count": 180,
   "metadata": {},
   "outputs": [
    {
     "name": "stdout",
     "output_type": "stream",
     "text": [
      "(4938, 19)\n"
     ]
    },
    {
     "ename": "KeyError",
     "evalue": "\"['Buy'] not found in axis\"",
     "output_type": "error",
     "traceback": [
      "\u001b[0;31m---------------------------------------------------------------------------\u001b[0m",
      "\u001b[0;31mKeyError\u001b[0m                                  Traceback (most recent call last)",
      "\u001b[0;32m<ipython-input-180-97626532b151>\u001b[0m in \u001b[0;36m<module>\u001b[0;34m\u001b[0m\n\u001b[1;32m      2\u001b[0m \u001b[0mprint\u001b[0m\u001b[0;34m(\u001b[0m\u001b[0mDF_Full\u001b[0m\u001b[0;34m.\u001b[0m\u001b[0mshape\u001b[0m\u001b[0;34m)\u001b[0m\u001b[0;34m\u001b[0m\u001b[0;34m\u001b[0m\u001b[0m\n\u001b[1;32m      3\u001b[0m \u001b[0mDF_Full\u001b[0m \u001b[0;34m=\u001b[0m \u001b[0mDF_Full\u001b[0m\u001b[0;34m.\u001b[0m\u001b[0mdrop\u001b[0m\u001b[0;34m(\u001b[0m\u001b[0;34m[\u001b[0m\u001b[0;34m'Class'\u001b[0m\u001b[0;34m]\u001b[0m\u001b[0;34m,\u001b[0m \u001b[0maxis\u001b[0m \u001b[0;34m=\u001b[0m \u001b[0;36m1\u001b[0m\u001b[0;34m)\u001b[0m\u001b[0;34m\u001b[0m\u001b[0;34m\u001b[0m\u001b[0m\n\u001b[0;32m----> 4\u001b[0;31m \u001b[0mDF_Full\u001b[0m \u001b[0;34m=\u001b[0m \u001b[0mDF_Full\u001b[0m\u001b[0;34m.\u001b[0m\u001b[0mdrop\u001b[0m\u001b[0;34m(\u001b[0m\u001b[0;34m[\u001b[0m\u001b[0;34m'Buy'\u001b[0m\u001b[0;34m]\u001b[0m\u001b[0;34m,\u001b[0m \u001b[0maxis\u001b[0m \u001b[0;34m=\u001b[0m \u001b[0;36m1\u001b[0m\u001b[0;34m)\u001b[0m\u001b[0;34m\u001b[0m\u001b[0;34m\u001b[0m\u001b[0m\n\u001b[0m\u001b[1;32m      5\u001b[0m \u001b[0mDF_Full\u001b[0m \u001b[0;34m=\u001b[0m \u001b[0mDF_Full\u001b[0m\u001b[0;34m.\u001b[0m\u001b[0mdrop\u001b[0m\u001b[0;34m(\u001b[0m\u001b[0;34m[\u001b[0m\u001b[0;34m'Buy2'\u001b[0m\u001b[0;34m]\u001b[0m\u001b[0;34m,\u001b[0m \u001b[0maxis\u001b[0m \u001b[0;34m=\u001b[0m \u001b[0;36m1\u001b[0m\u001b[0;34m)\u001b[0m\u001b[0;34m\u001b[0m\u001b[0;34m\u001b[0m\u001b[0m\n\u001b[1;32m      6\u001b[0m \u001b[0mDF_Full\u001b[0m \u001b[0;34m=\u001b[0m \u001b[0mDF_Full\u001b[0m\u001b[0;34m.\u001b[0m\u001b[0mdrop\u001b[0m\u001b[0;34m(\u001b[0m\u001b[0;34m[\u001b[0m\u001b[0;34m'Sell'\u001b[0m\u001b[0;34m]\u001b[0m\u001b[0;34m,\u001b[0m \u001b[0maxis\u001b[0m \u001b[0;34m=\u001b[0m \u001b[0;36m1\u001b[0m\u001b[0;34m)\u001b[0m\u001b[0;34m\u001b[0m\u001b[0;34m\u001b[0m\u001b[0m\n",
      "\u001b[0;32m~/anaconda3/lib/python3.7/site-packages/pandas/core/frame.py\u001b[0m in \u001b[0;36mdrop\u001b[0;34m(self, labels, axis, index, columns, level, inplace, errors)\u001b[0m\n\u001b[1;32m   3995\u001b[0m             \u001b[0mlevel\u001b[0m\u001b[0;34m=\u001b[0m\u001b[0mlevel\u001b[0m\u001b[0;34m,\u001b[0m\u001b[0;34m\u001b[0m\u001b[0;34m\u001b[0m\u001b[0m\n\u001b[1;32m   3996\u001b[0m             \u001b[0minplace\u001b[0m\u001b[0;34m=\u001b[0m\u001b[0minplace\u001b[0m\u001b[0;34m,\u001b[0m\u001b[0;34m\u001b[0m\u001b[0;34m\u001b[0m\u001b[0m\n\u001b[0;32m-> 3997\u001b[0;31m             \u001b[0merrors\u001b[0m\u001b[0;34m=\u001b[0m\u001b[0merrors\u001b[0m\u001b[0;34m,\u001b[0m\u001b[0;34m\u001b[0m\u001b[0;34m\u001b[0m\u001b[0m\n\u001b[0m\u001b[1;32m   3998\u001b[0m         )\n\u001b[1;32m   3999\u001b[0m \u001b[0;34m\u001b[0m\u001b[0m\n",
      "\u001b[0;32m~/anaconda3/lib/python3.7/site-packages/pandas/core/generic.py\u001b[0m in \u001b[0;36mdrop\u001b[0;34m(self, labels, axis, index, columns, level, inplace, errors)\u001b[0m\n\u001b[1;32m   3934\u001b[0m         \u001b[0;32mfor\u001b[0m \u001b[0maxis\u001b[0m\u001b[0;34m,\u001b[0m \u001b[0mlabels\u001b[0m \u001b[0;32min\u001b[0m \u001b[0maxes\u001b[0m\u001b[0;34m.\u001b[0m\u001b[0mitems\u001b[0m\u001b[0;34m(\u001b[0m\u001b[0;34m)\u001b[0m\u001b[0;34m:\u001b[0m\u001b[0;34m\u001b[0m\u001b[0;34m\u001b[0m\u001b[0m\n\u001b[1;32m   3935\u001b[0m             \u001b[0;32mif\u001b[0m \u001b[0mlabels\u001b[0m \u001b[0;32mis\u001b[0m \u001b[0;32mnot\u001b[0m \u001b[0;32mNone\u001b[0m\u001b[0;34m:\u001b[0m\u001b[0;34m\u001b[0m\u001b[0;34m\u001b[0m\u001b[0m\n\u001b[0;32m-> 3936\u001b[0;31m                 \u001b[0mobj\u001b[0m \u001b[0;34m=\u001b[0m \u001b[0mobj\u001b[0m\u001b[0;34m.\u001b[0m\u001b[0m_drop_axis\u001b[0m\u001b[0;34m(\u001b[0m\u001b[0mlabels\u001b[0m\u001b[0;34m,\u001b[0m \u001b[0maxis\u001b[0m\u001b[0;34m,\u001b[0m \u001b[0mlevel\u001b[0m\u001b[0;34m=\u001b[0m\u001b[0mlevel\u001b[0m\u001b[0;34m,\u001b[0m \u001b[0merrors\u001b[0m\u001b[0;34m=\u001b[0m\u001b[0merrors\u001b[0m\u001b[0;34m)\u001b[0m\u001b[0;34m\u001b[0m\u001b[0;34m\u001b[0m\u001b[0m\n\u001b[0m\u001b[1;32m   3937\u001b[0m \u001b[0;34m\u001b[0m\u001b[0m\n\u001b[1;32m   3938\u001b[0m         \u001b[0;32mif\u001b[0m \u001b[0minplace\u001b[0m\u001b[0;34m:\u001b[0m\u001b[0;34m\u001b[0m\u001b[0;34m\u001b[0m\u001b[0m\n",
      "\u001b[0;32m~/anaconda3/lib/python3.7/site-packages/pandas/core/generic.py\u001b[0m in \u001b[0;36m_drop_axis\u001b[0;34m(self, labels, axis, level, errors)\u001b[0m\n\u001b[1;32m   3968\u001b[0m                 \u001b[0mnew_axis\u001b[0m \u001b[0;34m=\u001b[0m \u001b[0maxis\u001b[0m\u001b[0;34m.\u001b[0m\u001b[0mdrop\u001b[0m\u001b[0;34m(\u001b[0m\u001b[0mlabels\u001b[0m\u001b[0;34m,\u001b[0m \u001b[0mlevel\u001b[0m\u001b[0;34m=\u001b[0m\u001b[0mlevel\u001b[0m\u001b[0;34m,\u001b[0m \u001b[0merrors\u001b[0m\u001b[0;34m=\u001b[0m\u001b[0merrors\u001b[0m\u001b[0;34m)\u001b[0m\u001b[0;34m\u001b[0m\u001b[0;34m\u001b[0m\u001b[0m\n\u001b[1;32m   3969\u001b[0m             \u001b[0;32melse\u001b[0m\u001b[0;34m:\u001b[0m\u001b[0;34m\u001b[0m\u001b[0;34m\u001b[0m\u001b[0m\n\u001b[0;32m-> 3970\u001b[0;31m                 \u001b[0mnew_axis\u001b[0m \u001b[0;34m=\u001b[0m \u001b[0maxis\u001b[0m\u001b[0;34m.\u001b[0m\u001b[0mdrop\u001b[0m\u001b[0;34m(\u001b[0m\u001b[0mlabels\u001b[0m\u001b[0;34m,\u001b[0m \u001b[0merrors\u001b[0m\u001b[0;34m=\u001b[0m\u001b[0merrors\u001b[0m\u001b[0;34m)\u001b[0m\u001b[0;34m\u001b[0m\u001b[0;34m\u001b[0m\u001b[0m\n\u001b[0m\u001b[1;32m   3971\u001b[0m             \u001b[0mresult\u001b[0m \u001b[0;34m=\u001b[0m \u001b[0mself\u001b[0m\u001b[0;34m.\u001b[0m\u001b[0mreindex\u001b[0m\u001b[0;34m(\u001b[0m\u001b[0;34m**\u001b[0m\u001b[0;34m{\u001b[0m\u001b[0maxis_name\u001b[0m\u001b[0;34m:\u001b[0m \u001b[0mnew_axis\u001b[0m\u001b[0;34m}\u001b[0m\u001b[0;34m)\u001b[0m\u001b[0;34m\u001b[0m\u001b[0;34m\u001b[0m\u001b[0m\n\u001b[1;32m   3972\u001b[0m \u001b[0;34m\u001b[0m\u001b[0m\n",
      "\u001b[0;32m~/anaconda3/lib/python3.7/site-packages/pandas/core/indexes/base.py\u001b[0m in \u001b[0;36mdrop\u001b[0;34m(self, labels, errors)\u001b[0m\n\u001b[1;32m   5016\u001b[0m         \u001b[0;32mif\u001b[0m \u001b[0mmask\u001b[0m\u001b[0;34m.\u001b[0m\u001b[0many\u001b[0m\u001b[0;34m(\u001b[0m\u001b[0;34m)\u001b[0m\u001b[0;34m:\u001b[0m\u001b[0;34m\u001b[0m\u001b[0;34m\u001b[0m\u001b[0m\n\u001b[1;32m   5017\u001b[0m             \u001b[0;32mif\u001b[0m \u001b[0merrors\u001b[0m \u001b[0;34m!=\u001b[0m \u001b[0;34m\"ignore\"\u001b[0m\u001b[0;34m:\u001b[0m\u001b[0;34m\u001b[0m\u001b[0;34m\u001b[0m\u001b[0m\n\u001b[0;32m-> 5018\u001b[0;31m                 \u001b[0;32mraise\u001b[0m \u001b[0mKeyError\u001b[0m\u001b[0;34m(\u001b[0m\u001b[0;34mf\"{labels[mask]} not found in axis\"\u001b[0m\u001b[0;34m)\u001b[0m\u001b[0;34m\u001b[0m\u001b[0;34m\u001b[0m\u001b[0m\n\u001b[0m\u001b[1;32m   5019\u001b[0m             \u001b[0mindexer\u001b[0m \u001b[0;34m=\u001b[0m \u001b[0mindexer\u001b[0m\u001b[0;34m[\u001b[0m\u001b[0;34m~\u001b[0m\u001b[0mmask\u001b[0m\u001b[0;34m]\u001b[0m\u001b[0;34m\u001b[0m\u001b[0;34m\u001b[0m\u001b[0m\n\u001b[1;32m   5020\u001b[0m         \u001b[0;32mreturn\u001b[0m \u001b[0mself\u001b[0m\u001b[0;34m.\u001b[0m\u001b[0mdelete\u001b[0m\u001b[0;34m(\u001b[0m\u001b[0mindexer\u001b[0m\u001b[0;34m)\u001b[0m\u001b[0;34m\u001b[0m\u001b[0;34m\u001b[0m\u001b[0m\n",
      "\u001b[0;31mKeyError\u001b[0m: \"['Buy'] not found in axis\""
     ]
    }
   ],
   "source": [
    "#REMOVE CLASS FROM Data\n",
    "print(DF_Full.shape)\n",
    "DF_Full = DF_Full.drop(['Class'], axis = 1)\n",
    "DF_Full = DF_Full.drop(['Buy'], axis = 1)\n",
    "DF_Full = DF_Full.drop(['Buy2'], axis = 1)\n",
    "DF_Full = DF_Full.drop(['Sell'], axis = 1)\n",
    "DF_Full = DF_Full.drop(['Sell2'], axis = 1)\n",
    "DF_Full.reset_index(drop=True, inplace=True)\n",
    "print(DF_Full.shape)\n",
    "DF_Full.head()"
   ]
  },
  {
   "cell_type": "markdown",
   "metadata": {},
   "source": [
    "### SPLIT in 3 Sub Datasets"
   ]
  },
  {
   "cell_type": "code",
   "execution_count": 181,
   "metadata": {},
   "outputs": [
    {
     "name": "stdout",
     "output_type": "stream",
     "text": [
      "Sum of %s: 0.30000000000000004\n",
      "count of Val and Test: 1541\n",
      "end of train:  3596\n",
      "count val:  513\n",
      "count test:  1027\n",
      "end_val 4109\n"
     ]
    }
   ],
   "source": [
    "s1 = TEST_SIZE + VAL_SIZE\n",
    "print('Sum of %s:',s1)\n",
    "f1 = int(total * s1)\n",
    "print('count of Val and Test:',f1)\n",
    "end_train = total - f1\n",
    "print('end of train: ', end_train)\n",
    "\n",
    "count_val= int(total * VAL_SIZE)\n",
    "print('count val: ',count_val)\n",
    "\n",
    "count_test= int(total * TEST_SIZE)\n",
    "print('count test: ',count_test)\n",
    "\n",
    "\n",
    "end_val = end_train + count_val\n",
    "print('end_val', end_val)\n",
    "\n"
   ]
  },
  {
   "cell_type": "code",
   "execution_count": 182,
   "metadata": {},
   "outputs": [
    {
     "data": {
      "text/plain": [
       "array([[0., 0., 1., 0., 0.],\n",
       "       [1., 0., 0., 0., 0.],\n",
       "       [1., 0., 0., 0., 0.],\n",
       "       ...,\n",
       "       [0., 1., 0., 0., 0.],\n",
       "       [1., 0., 0., 0., 0.],\n",
       "       [0., 1., 0., 0., 0.]], dtype=float32)"
      ]
     },
     "execution_count": 182,
     "metadata": {},
     "output_type": "execute_result"
    }
   ],
   "source": [
    "close_y[:end_train,:]"
   ]
  },
  {
   "cell_type": "code",
   "execution_count": 183,
   "metadata": {},
   "outputs": [
    {
     "name": "stdout",
     "output_type": "stream",
     "text": [
      "data_training.shape:  (3596, 18)\n",
      "data_val.shape:  (513, 18)\n",
      "data_test.shape:  (829, 18)\n",
      "data_training_y.shape:  (3596, 5)\n",
      "data_val_y.shape:  (513, 5)\n",
      "data_test_y.shape:  (829, 5)\n"
     ]
    }
   ],
   "source": [
    "data_training = DF_Full.iloc[:end_train]\n",
    "data_val = DF_Full.iloc[end_train: end_val]\n",
    "data_test = DF_Full.iloc[end_val:]\n",
    "\n",
    "print(\"data_training.shape: \",data_training.shape)\n",
    "print(\"data_val.shape: \", data_val.shape)\n",
    "print(\"data_test.shape: \", data_test.shape)\n",
    "\n",
    "data_training_y = close_y[:end_train,:]\n",
    "data_val_y = close_y[end_train: end_val,:]\n",
    "data_test_y = close_y[end_val:,:]\n",
    "\n",
    "print(\"data_training_y.shape: \", data_training_y.shape)\n",
    "print(\"data_val_y.shape: \", data_val_y.shape)\n",
    "print(\"data_test_y.shape: \", data_test_y.shape)"
   ]
  },
  {
   "cell_type": "code",
   "execution_count": 184,
   "metadata": {},
   "outputs": [
    {
     "data": {
      "text/plain": [
       "4109    1.17336\n",
       "4110    1.17427\n",
       "4111    1.17414\n",
       "4112    1.18138\n",
       "4113    1.18644\n",
       "4114    1.18314\n",
       "4115    1.18223\n",
       "4116    1.18149\n",
       "4117    1.17948\n",
       "4118    1.17716\n",
       "Name: Close, dtype: float64"
      ]
     },
     "execution_count": 184,
     "metadata": {},
     "output_type": "execute_result"
    }
   ],
   "source": [
    "data_test['Close'].head(10)"
   ]
  },
  {
   "cell_type": "code",
   "execution_count": 185,
   "metadata": {},
   "outputs": [
    {
     "data": {
      "text/plain": [
       "array([ 1.,  0.,  2.,  2., -1., -1.,  0., -1., -1.,  1.])"
      ]
     },
     "execution_count": 185,
     "metadata": {},
     "output_type": "execute_result"
    }
   ],
   "source": [
    "uniques_data_test_y = uniques[data_test_y.argmax(1)]\n",
    "uniques_data_test_y[:10]"
   ]
  },
  {
   "cell_type": "markdown",
   "metadata": {},
   "source": [
    "### SCALAR"
   ]
  },
  {
   "cell_type": "code",
   "execution_count": 186,
   "metadata": {},
   "outputs": [
    {
     "name": "stdout",
     "output_type": "stream",
     "text": [
      "[[3.44231014e-01 3.38946608e-01 3.34382014e-01 ... 2.93641673e-01\n",
      "  2.95892119e-01 2.87029679e-01]\n",
      " [3.35199084e-01 3.28539163e-01 3.37436067e-01 ... 2.95356093e-01\n",
      "  2.96474298e-01 2.86726581e-01]\n",
      " [3.34871972e-01 3.26967206e-01 3.06950730e-01 ... 2.95701015e-01\n",
      "  2.96351066e-01 2.86225730e-01]\n",
      " ...\n",
      " [1.53597325e-01 1.49643148e-01 1.38278692e-01 ... 6.00533062e-02\n",
      "  2.91191702e-02 9.58731573e-05]\n",
      " [1.39604194e-01 1.35043816e-01 1.38609854e-01 ... 6.24364050e-02\n",
      "  3.05516901e-02 1.16318397e-04]\n",
      " [1.36732877e-01 1.32532297e-01 1.22456489e-01 ... 6.44557676e-02\n",
      "  3.19166576e-02 8.55927826e-05]]\n"
     ]
    }
   ],
   "source": [
    "# DATA SET SCALER TRAINING\n",
    "scaler = MinMaxScaler(feature_range=(0, 1))\n",
    "data_training_array = np.array(data_training)\n",
    "data_training_array_scaled = scaler.fit_transform(data_training_array)\n",
    "print(data_training_array_scaled)\n",
    "    "
   ]
  },
  {
   "cell_type": "code",
   "execution_count": 187,
   "metadata": {},
   "outputs": [
    {
     "name": "stdout",
     "output_type": "stream",
     "text": [
      "(3596, 18)\n",
      "[0.37669362 0.42690746 0.22466157 0.33182137 0.44717204 0.47414792\n",
      " 0.30587499 0.43527102 0.48605834 0.61154273]\n"
     ]
    },
    {
     "data": {
      "image/png": "[encoded data removed]",
      "text/plain": [
       "<Figure size 1080x360 with 1 Axes>"
      ]
     },
     "metadata": {
      "needs_background": "light"
     },
     "output_type": "display_data"
    }
   ],
   "source": [
    "print(data_training_array_scaled.shape)\n",
    "print(data_training_array_scaled[:10,12])\n",
    "plt.figure(figsize=(15,5))\n",
    "plt.plot(data_training_array_scaled[:10,12], color = 'red', label = 'train_x')\n",
    "plt.title('train_x')\n",
    "plt.xlabel('hours')\n",
    "plt.ylabel('Loss')\n",
    "plt.legend()\n",
    "plt.show()"
   ]
  },
  {
   "cell_type": "code",
   "execution_count": 188,
   "metadata": {},
   "outputs": [
    {
     "data": {
      "text/plain": [
       "array([[0., 0., 1., 0., 0.],\n",
       "       [1., 0., 0., 0., 0.],\n",
       "       [1., 0., 0., 0., 0.],\n",
       "       [0., 0., 1., 0., 0.],\n",
       "       [0., 0., 0., 1., 0.],\n",
       "       [1., 0., 0., 0., 0.],\n",
       "       [0., 0., 1., 0., 0.],\n",
       "       [0., 0., 0., 1., 0.],\n",
       "       [0., 0., 0., 0., 1.],\n",
       "       [0., 0., 0., 1., 0.]], dtype=float32)"
      ]
     },
     "execution_count": 188,
     "metadata": {},
     "output_type": "execute_result"
    }
   ],
   "source": [
    "data_training_y[:10]"
   ]
  },
  {
   "cell_type": "markdown",
   "metadata": {},
   "source": [
    "### CHART MA's"
   ]
  },
  {
   "cell_type": "code",
   "execution_count": 189,
   "metadata": {},
   "outputs": [
    {
     "name": "stdout",
     "output_type": "stream",
     "text": [
      "(3596, 18)\n"
     ]
    },
    {
     "data": {
      "image/png": "[encoded data removed]",
      "text/plain": [
       "<Figure size 1008x360 with 1 Axes>"
      ]
     },
     "metadata": {
      "needs_background": "light"
     },
     "output_type": "display_data"
    }
   ],
   "source": [
    "INICIO = 0\n",
    "FIN = 3596\n",
    "\n",
    "IDX_Close = DF_Full.columns.get_loc(\"Close\")\n",
    "IDX_MA_Close_5 = DF_Full.columns.get_loc(\"MA_Close_5\")\n",
    "IDX_MA_Close_25 = DF_Full.columns.get_loc(\"MA_Close_25\")\n",
    "IDX_MA_Close_50 = DF_Full.columns.get_loc(\"MA_Close_50\")\n",
    "IDX_MA_Close_200 = DF_Full.columns.get_loc(\"MA_Close_200\")\n",
    "\n",
    "print(data_training_array_scaled.shape)\n",
    "plt.figure(figsize=(14,5))\n",
    "pyplot.plot(data_training_array_scaled[INICIO:FIN,IDX_Close], color = 'red', label = 'Close')\n",
    "pyplot.plot(data_training_array_scaled[INICIO:FIN,IDX_MA_Close_5], color = 'orange', label = 'MA_Close_5')\n",
    "pyplot.plot(data_training_array_scaled[INICIO:FIN,IDX_MA_Close_25], color = 'blue', label = 'MA_Close_25')\n",
    "pyplot.plot(data_training_array_scaled[INICIO:FIN,IDX_MA_Close_50], color = 'green', label = 'MA_Close_50')\n",
    "pyplot.plot(data_training_array_scaled[INICIO:FIN,IDX_MA_Close_200], color = 'gray', label = 'MA_Close_200')\n",
    "plt.title('Close, Moving Avg 5, Moving Avg 25, Moving Avg 50, Moving Avg 200')\n",
    "plt.xlabel('Time')\n",
    "plt.ylabel('Price')\n",
    "plt.legend()\n",
    "plt.show()"
   ]
  },
  {
   "cell_type": "code",
   "execution_count": 190,
   "metadata": {},
   "outputs": [
    {
     "name": "stdout",
     "output_type": "stream",
     "text": [
      "(3596, 18)\n"
     ]
    },
    {
     "data": {
      "image/png": "[encoded data removed]",
      "text/plain": [
       "<Figure size 1008x360 with 1 Axes>"
      ]
     },
     "metadata": {
      "needs_background": "light"
     },
     "output_type": "display_data"
    }
   ],
   "source": [
    "print(data_training_array_scaled.shape)\n",
    "INICIO = 0\n",
    "FIN = 710\n",
    "\n",
    "\n",
    "IDX_Close = DF_Full.columns.get_loc(\"Close\")\n",
    "IDX_Volume = DF_Full.columns.get_loc(\"Volume\")\n",
    "IDX_weekday = DF_Full.columns.get_loc(\"weekday\")\n",
    "IDX_Pct_Range_Close = DF_Full.columns.get_loc(\"Pct_Range_Close\")\n",
    "IDX_Pct_Range_Close_diff = DF_Full.columns.get_loc(\"Pct_Range_Close_diff\")\n",
    "\n",
    "plt.figure(figsize=(14,5))\n",
    "pyplot.plot(data_training_array_scaled[INICIO:FIN,IDX_Close], color = 'red', label = 'Close')\n",
    "pyplot.plot(data_training_array_scaled[INICIO:FIN,IDX_Volume], color = 'blue', label = 'Volume')\n",
    "pyplot.plot(data_training_array_scaled[INICIO:FIN,IDX_weekday], color = 'green', label = 'weekday')\n",
    "pyplot.plot(data_training_array_scaled[INICIO:FIN,IDX_Pct_Range_Close], color = 'gray', label = 'Pct_Range_Close')\n",
    "pyplot.plot(data_training_array_scaled[INICIO:FIN,IDX_Pct_Range_Close_diff], color = 'orange', label = 'Pct_Range_Close_diff')\n",
    "plt.xlabel('Time')\n",
    "plt.ylabel('Price')\n",
    "plt.legend()\n",
    "plt.show()"
   ]
  },
  {
   "cell_type": "code",
   "execution_count": 191,
   "metadata": {},
   "outputs": [
    {
     "name": "stdout",
     "output_type": "stream",
     "text": [
      "(3596, 18)\n"
     ]
    },
    {
     "data": {
      "image/png": "[encoded data removed]",
      "text/plain": [
       "<Figure size 1008x360 with 1 Axes>"
      ]
     },
     "metadata": {
      "needs_background": "light"
     },
     "output_type": "display_data"
    }
   ],
   "source": [
    "print(data_training_array_scaled.shape)\n",
    "INICIO = 0\n",
    "FIN = 710\n",
    "\n",
    "\n",
    "IDX_Close = DF_Full.columns.get_loc(\"Close\")\n",
    "IDX_Close_Bid = DF_Full.columns.get_loc(\"Close_Bid\")\n",
    "IDX_Spread = DF_Full.columns.get_loc(\"Spread\")\n",
    "\n",
    "plt.figure(figsize=(14,5))\n",
    "pyplot.plot(data_training_array_scaled[INICIO:FIN,IDX_Close], color = 'red', label = 'Close')\n",
    "pyplot.plot(data_training_array_scaled[INICIO:FIN,IDX_Close_Bid], color = 'blue', label = 'Close_Bid')\n",
    "pyplot.plot(data_training_array_scaled[INICIO:FIN,IDX_Spread], color = 'green', label = 'Spread')\n",
    "plt.xlabel('Time')\n",
    "plt.ylabel('Price')\n",
    "plt.legend()\n",
    "plt.show()"
   ]
  },
  {
   "cell_type": "code",
   "execution_count": 192,
   "metadata": {},
   "outputs": [
    {
     "data": {
      "text/plain": [
       "array([[0., 0., 1., 0., 0.],\n",
       "       [1., 0., 0., 0., 0.],\n",
       "       [1., 0., 0., 0., 0.],\n",
       "       ...,\n",
       "       [0., 1., 0., 0., 0.],\n",
       "       [1., 0., 0., 0., 0.],\n",
       "       [0., 1., 0., 0., 0.]], dtype=float32)"
      ]
     },
     "execution_count": 192,
     "metadata": {},
     "output_type": "execute_result"
    }
   ],
   "source": [
    "data_training_y"
   ]
  },
  {
   "cell_type": "code",
   "execution_count": 193,
   "metadata": {},
   "outputs": [
    {
     "data": {
      "text/plain": [
       "[<matplotlib.lines.Line2D at 0x14ddcd080>,\n",
       " <matplotlib.lines.Line2D at 0x14ddcd1d0>,\n",
       " <matplotlib.lines.Line2D at 0x14ddcd320>,\n",
       " <matplotlib.lines.Line2D at 0x14ddcd470>,\n",
       " <matplotlib.lines.Line2D at 0x14ddcd5c0>]"
      ]
     },
     "execution_count": 193,
     "metadata": {},
     "output_type": "execute_result"
    },
    {
     "data": {
      "image/png": "[encoded data removed]",
      "text/plain": [
       "<Figure size 1152x360 with 1 Axes>"
      ]
     },
     "metadata": {
      "needs_background": "light"
     },
     "output_type": "display_data"
    }
   ],
   "source": [
    "# Target para el entrenamiento\n",
    "pyplot.figure(figsize=(16,5))\n",
    "pyplot.plot(data_training_y)"
   ]
  },
  {
   "cell_type": "code",
   "execution_count": 194,
   "metadata": {
    "colab": {},
    "colab_type": "code",
    "id": "3Lf8pl2FoBLj",
    "outputId": "33ad0467-0e5b-420a-df86-b4563f3e1136"
   },
   "outputs": [
    {
     "name": "stdout",
     "output_type": "stream",
     "text": [
      "(3591, 5, 18)\n",
      "(3591, 5)\n"
     ]
    }
   ],
   "source": [
    "X_train = []\n",
    "y_train = []\n",
    "for i in range(RANGE, data_training_array_scaled.shape[0]):\n",
    "    indx_start = i-RANGE\n",
    "    X_train.append(data_training_array_scaled[indx_start:i])\n",
    "    y_train.append(data_training_y[i])\n",
    "\n",
    "X_train_np, y_train_np = np.array(X_train), np.array(y_train)\n",
    "\n",
    "print(X_train_np.shape)\n",
    "print(y_train_np.shape)"
   ]
  },
  {
   "cell_type": "code",
   "execution_count": 195,
   "metadata": {},
   "outputs": [
    {
     "data": {
      "text/plain": [
       "array([0.33404984, 0.3327747 , 0.30339187, 0.2890921 , 0.29060405])"
      ]
     },
     "execution_count": 195,
     "metadata": {},
     "output_type": "execute_result"
    }
   ],
   "source": [
    "X_train_np[0,:,3]"
   ]
  },
  {
   "cell_type": "code",
   "execution_count": 196,
   "metadata": {},
   "outputs": [
    {
     "name": "stdout",
     "output_type": "stream",
     "text": [
      "[-2.  0.  1.  2.  1.]\n"
     ]
    }
   ],
   "source": [
    "array = y_train_np[:RANGE]\n",
    "uniques_y = uniques[array.argmax(1)]\n",
    "print(uniques_y)"
   ]
  },
  {
   "cell_type": "code",
   "execution_count": 197,
   "metadata": {},
   "outputs": [
    {
     "name": "stdout",
     "output_type": "stream",
     "text": [
      "(5, 18)\n",
      "(513, 18)\n",
      "<bound method NDFrame.head of         Open     High      Low    Close       Volume  Open_Bid  High_Bid  \\\n",
      "0    1.12887  1.13117  1.11607  1.12843  450307.6563   1.12880   1.13115   \n",
      "1    1.12843  1.13765  1.12742  1.13165  421344.6875   1.12839   1.13762   \n",
      "2    1.13165  1.13340  1.12142  1.12580  363888.7188   1.13161   1.13338   \n",
      "3    1.12395  1.12532  1.12160  1.12237   12776.7197   1.12347   1.12499   \n",
      "4    1.12237  1.12393  1.11282  1.11765  264377.9688   1.12232   1.12389   \n",
      "..       ...      ...      ...      ...          ...       ...       ...   \n",
      "513  1.17944  1.18156  1.17941  1.18084    7998.0498   1.17886   1.18151   \n",
      "514  1.18083  1.18084  1.17303  1.17318  214015.8594   1.18079   1.18079   \n",
      "515  1.17321  1.17733  1.16963  1.17480  232977.6250   1.17319   1.17732   \n",
      "516  1.17480  1.17883  1.17467  1.17569  206706.3750   1.17476   1.17877   \n",
      "517  1.17569  1.17791  1.16993  1.17141  194164.4219   1.17565   1.17787   \n",
      "\n",
      "     Low_Bid  Close_Bid   Volume_Bid   Spread  weekday  Pct_Range_Close  \\\n",
      "0    1.11606    1.12838  417243.3438  0.00005        2        -0.000381   \n",
      "1    1.12741    1.13159  412261.4375  0.00006        3         0.002854   \n",
      "2    1.12141    1.12532  340865.2813  0.00048        4        -0.005169   \n",
      "3    1.12156    1.12232   12506.2500  0.00005        6        -0.003047   \n",
      "4    1.11280    1.11762  258790.3125  0.00003        0        -0.004205   \n",
      "..       ...        ...          ...      ...      ...              ...   \n",
      "513  1.17886    1.18079    8763.9297  0.00005        6        -0.000685   \n",
      "514  1.17301    1.17315  218487.7969  0.00003        0        -0.006487   \n",
      "515  1.16961    1.17477  202565.5469  0.00003        1         0.001381   \n",
      "516  1.17464    1.17566  210086.4375  0.00003        2         0.000758   \n",
      "517  1.16990    1.17138  190971.3281  0.00003        3        -0.003640   \n",
      "\n",
      "     Pct_Range_Close_diff  MA_Close_5  MA_Close_25  MA_Close_50  MA_Close_200  \n",
      "0               -0.009228    1.121374     1.096421     1.093111      1.102545  \n",
      "1                0.003234    1.124466     1.098144     1.093760      1.102530  \n",
      "2               -0.008023    1.126740     1.099746     1.094408      1.102572  \n",
      "3                0.002123    1.127422     1.100962     1.095108      1.102581  \n",
      "4               -0.001159    1.125180     1.101992     1.095774      1.102567  \n",
      "..                    ...         ...          ...          ...           ...  \n",
      "513             -0.003648    1.178814     1.191107     1.186495      1.122833  \n",
      "514             -0.005801    1.177766     1.190505     1.186411      1.123378  \n",
      "515              0.007868    1.177726     1.189925     1.186353      1.123942  \n",
      "516             -0.000623    1.177232     1.189257     1.186267      1.124521  \n",
      "517             -0.004398    1.175184     1.188406     1.186186      1.125089  \n",
      "\n",
      "[518 rows x 18 columns]>\n"
     ]
    }
   ],
   "source": [
    "#\n",
    "#Obtener los ultimos valores de Train para agregarlos a Val DF\n",
    "# APPEND DE X\n",
    "last_range_training_x = data_training.tail(RANGE)\n",
    "print(last_range_training_x.shape)\n",
    "print(data_val.shape)\n",
    "data_val_x1 = last_range_training_x.append(data_val, ignore_index = True)\n",
    "data_val_x1.shape\n",
    "print(data_val_x1.head)"
   ]
  },
  {
   "cell_type": "code",
   "execution_count": 198,
   "metadata": {},
   "outputs": [
    {
     "data": {
      "text/plain": [
       "array([[0., 0., 0., 1., 0.],\n",
       "       [1., 0., 0., 0., 0.],\n",
       "       [0., 1., 0., 0., 0.],\n",
       "       [1., 0., 0., 0., 0.],\n",
       "       [0., 1., 0., 0., 0.]], dtype=float32)"
      ]
     },
     "execution_count": 198,
     "metadata": {},
     "output_type": "execute_result"
    }
   ],
   "source": [
    "last_range_train_y = data_training_y[-RANGE:]\n",
    "last_range_train_y"
   ]
  },
  {
   "cell_type": "code",
   "execution_count": 199,
   "metadata": {},
   "outputs": [
    {
     "data": {
      "text/plain": [
       "(5, 5)"
      ]
     },
     "execution_count": 199,
     "metadata": {},
     "output_type": "execute_result"
    }
   ],
   "source": [
    "last_range_train_y.shape"
   ]
  },
  {
   "cell_type": "code",
   "execution_count": 200,
   "metadata": {},
   "outputs": [
    {
     "name": "stdout",
     "output_type": "stream",
     "text": [
      "(5, 5)\n",
      "(513, 5)\n",
      "(518, 5)\n",
      "[[0. 0. 0. 1. 0.]\n",
      " [1. 0. 0. 0. 0.]\n",
      " [0. 1. 0. 0. 0.]\n",
      " [1. 0. 0. 0. 0.]\n",
      " [0. 1. 0. 0. 0.]\n",
      " [0. 1. 0. 0. 0.]\n",
      " [0. 1. 0. 0. 0.]\n",
      " [0. 0. 0. 1. 0.]\n",
      " [0. 1. 0. 0. 0.]\n",
      " [1. 0. 0. 0. 0.]]\n"
     ]
    }
   ],
   "source": [
    "#Append de los datos de Train al DF de Val en Y\n",
    "last_range_train_y = data_training_y[-RANGE:]\n",
    "print(last_range_train_y.shape)\n",
    "print(data_val_y.shape)\n",
    "data_val_y1 = np.concatenate((last_range_train_y,data_val_y))\n",
    "print(data_val_y1.shape)\n",
    "print(data_val_y1[:10])"
   ]
  },
  {
   "cell_type": "code",
   "execution_count": 201,
   "metadata": {},
   "outputs": [
    {
     "name": "stdout",
     "output_type": "stream",
     "text": [
      "[[1.48545260e-01 1.45613877e-01 1.28435810e-01 1.45766540e-01\n",
      "  2.00649308e-01 1.48657736e-01 1.45676335e-01 1.28510952e-01\n",
      "  1.45780191e-01 1.54062253e-01 3.33333333e-02 3.33333333e-01\n",
      "  4.29930732e-01 3.90693519e-01 1.24868686e-01 5.35366284e-02\n",
      "  2.64637475e-02 3.33823403e-05]\n",
      " [1.47745652e-01 1.57322251e-01 1.49317438e-01 1.51632177e-01\n",
      "  1.87694923e-01 1.47912539e-01 1.57368754e-01 1.49401804e-01\n",
      "  1.51628890e-01 1.52214144e-01 4.16666667e-02 5.00000000e-01\n",
      "  4.82121193e-01 5.40723669e-01 1.30648363e-01 5.69129463e-02\n",
      "  2.77935059e-02 0.00000000e+00]\n",
      " [1.53597325e-01 1.49643148e-01 1.38278692e-01 1.40975663e-01\n",
      "  1.61996359e-01 1.53765063e-01 1.49706334e-01 1.38358181e-01\n",
      "  1.40204796e-01 1.25728725e-01 3.91666667e-01 6.66666667e-01\n",
      "  3.52663674e-01 4.05204968e-01 1.34899005e-01 6.00533062e-02\n",
      "  2.91191702e-02 9.58731573e-05]\n",
      " [1.39604194e-01 1.35043816e-01 1.38609854e-01 1.34727485e-01\n",
      "  4.95306816e-03 1.38970174e-01 1.34544140e-01 1.38634272e-01\n",
      "  1.34738722e-01 3.91927765e-03 3.33333333e-02 1.00000000e+00\n",
      "  3.86915616e-01 5.27340614e-01 1.36173824e-01 6.24364050e-02\n",
      "  3.05516901e-02 1.16318397e-04]\n",
      " [1.36732877e-01 1.32532297e-01 1.22456489e-01 1.26129408e-01\n",
      "  1.17487781e-01 1.36879987e-01 1.32556248e-01 1.22510583e-01\n",
      "  1.26175206e-01 9.52818496e-02 1.66666667e-02 0.00000000e+00\n",
      "  3.68219557e-01 4.87838692e-01 1.31982997e-01 6.44557676e-02\n",
      "  3.19166576e-02 8.55927826e-05]\n",
      " [1.28118923e-01 1.24220797e-01 1.21775766e-01 1.20099825e-01\n",
      "  1.42229976e-01 1.28337483e-01 1.24279389e-01 1.21811154e-01\n",
      "  1.20107864e-01 1.20692295e-01 3.33333333e-02 1.66666667e-01\n",
      "  3.88289605e-01 5.16760194e-01 1.26715491e-01 6.64194724e-02\n",
      "  3.30294295e-02 4.95537162e-05]\n",
      " [1.22140040e-01 1.21727347e-01 1.18408949e-01 1.15946517e-01\n",
      "  1.53893486e-01 1.22303204e-01 1.21731273e-01 1.18461255e-01\n",
      "  1.16008308e-01 1.24784517e-01 8.33333333e-03 3.33333333e-01\n",
      "  4.03062268e-01 5.12808074e-01 1.19391825e-01 6.80625563e-02\n",
      "  3.40558163e-02 2.17389496e-04]\n",
      " [1.18051139e-01 1.16379077e-01 1.11969680e-01 1.13651268e-01\n",
      "  1.56510179e-01 1.18213708e-01 1.16436252e-01 1.12019142e-01\n",
      "  1.13657897e-01 1.26978840e-01 3.33333333e-02 5.00000000e-01\n",
      "  4.17794668e-01 5.12778036e-01 1.13784118e-01 6.98890762e-02\n",
      "  3.48623508e-02 8.95201167e-05]\n",
      " [1.15670489e-01 1.14499955e-01 1.11215366e-01 1.18023171e-01\n",
      "  1.46203950e-01 1.15850888e-01 1.14538719e-01 1.11264495e-01\n",
      "  1.17465928e-01 1.17987862e-01 2.91666667e-01 6.66666667e-01\n",
      "  4.70940372e-01 5.41436329e-01 1.10355940e-01 7.20346490e-02\n",
      "  3.56115681e-02 8.70944103e-05]\n",
      " [1.16597307e-01 1.11880025e-01 1.19568017e-01 1.16256194e-01\n",
      "  5.74999438e-03 1.16359803e-01 1.11900244e-01 1.19215903e-01\n",
      "  1.16263392e-01 3.86532084e-03 3.33333333e-02 1.00000000e+00\n",
      "  4.22016950e-01 4.65287531e-01 1.08329688e-01 7.45455258e-02\n",
      "  3.64872926e-02 1.85508784e-04]]\n"
     ]
    }
   ],
   "source": [
    "data_val_x2 = scaler.transform(data_val_x1)\n",
    "data_val_x2.shape\n",
    "print(data_val_x2[:10])"
   ]
  },
  {
   "cell_type": "code",
   "execution_count": 202,
   "metadata": {
    "colab": {},
    "colab_type": "code",
    "id": "CePFSn77oBLn",
    "outputId": "42f59747-5fe8-44a2-af41-2a1d57cb5e1b",
    "scrolled": true
   },
   "outputs": [
    {
     "name": "stdout",
     "output_type": "stream",
     "text": [
      "(513, 5, 18)\n",
      "(513, 5)\n"
     ]
    }
   ],
   "source": [
    "X_val = []\n",
    "y_val = []\n",
    "for i in range(RANGE, data_val_x2.shape[0]):\n",
    "    indx_start = i-RANGE\n",
    "    X_val.append(data_val_x2[indx_start:i])\n",
    "    y_val.append(data_val_y1[i])\n",
    "\n",
    "X_val_np = np.array(X_val)\n",
    "y_val_np = np.array(y_val)\n",
    "print(X_val_np.shape)\n",
    "print(y_val_np.shape)"
   ]
  },
  {
   "cell_type": "code",
   "execution_count": 203,
   "metadata": {},
   "outputs": [
    {
     "name": "stdout",
     "output_type": "stream",
     "text": [
      "(5, 18)\n",
      "(829, 18)\n"
     ]
    },
    {
     "data": {
      "text/plain": [
       "(834, 18)"
      ]
     },
     "execution_count": 203,
     "metadata": {},
     "output_type": "execute_result"
    }
   ],
   "source": [
    "\n",
    "#Obtener los ultimos valores de Val para agregarlos a TEST DF\n",
    "# Append en X\n",
    "last_range_data_training_x = data_training.tail(RANGE)\n",
    "print(last_range_data_training_x.shape)\n",
    "print(data_test.shape)\n",
    "data_test_x1 = last_range_data_training_x.append(data_test, ignore_index = True)\n",
    "data_test_x1.shape\n"
   ]
  },
  {
   "cell_type": "code",
   "execution_count": 204,
   "metadata": {},
   "outputs": [
    {
     "name": "stdout",
     "output_type": "stream",
     "text": [
      "(5, 5)\n",
      "(829, 5)\n",
      "(834, 5)\n"
     ]
    }
   ],
   "source": [
    "#Append de los datos de Val al DF de Test de Y\n",
    "last_range_training_y = data_training_y[-RANGE:,:]\n",
    "print(last_range_training_y.shape)\n",
    "print(data_test_y.shape)\n",
    "data_test_y1 = np.concatenate((last_range_training_y,data_test_y))\n",
    "print(data_test_y1.shape)"
   ]
  },
  {
   "cell_type": "code",
   "execution_count": 205,
   "metadata": {},
   "outputs": [
    {
     "name": "stdout",
     "output_type": "stream",
     "text": [
      "[[1.48545260e-01 1.45613877e-01 1.28435810e-01 1.45766540e-01\n",
      "  2.00649308e-01 1.48657736e-01 1.45676335e-01 1.28510952e-01\n",
      "  1.45780191e-01 1.54062253e-01 3.33333333e-02 3.33333333e-01\n",
      "  4.29930732e-01 3.90693519e-01 1.24868686e-01 5.35366284e-02\n",
      "  2.64637475e-02 3.33823403e-05]\n",
      " [1.47745652e-01 1.57322251e-01 1.49317438e-01 1.51632177e-01\n",
      "  1.87694923e-01 1.47912539e-01 1.57368754e-01 1.49401804e-01\n",
      "  1.51628890e-01 1.52214144e-01 4.16666667e-02 5.00000000e-01\n",
      "  4.82121193e-01 5.40723669e-01 1.30648363e-01 5.69129463e-02\n",
      "  2.77935059e-02 0.00000000e+00]\n",
      " [1.53597325e-01 1.49643148e-01 1.38278692e-01 1.40975663e-01\n",
      "  1.61996359e-01 1.53765063e-01 1.49706334e-01 1.38358181e-01\n",
      "  1.40204796e-01 1.25728725e-01 3.91666667e-01 6.66666667e-01\n",
      "  3.52663674e-01 4.05204968e-01 1.34899005e-01 6.00533062e-02\n",
      "  2.91191702e-02 9.58731573e-05]\n",
      " [1.39604194e-01 1.35043816e-01 1.38609854e-01 1.34727485e-01\n",
      "  4.95306816e-03 1.38970174e-01 1.34544140e-01 1.38634272e-01\n",
      "  1.34738722e-01 3.91927765e-03 3.33333333e-02 1.00000000e+00\n",
      "  3.86915616e-01 5.27340614e-01 1.36173824e-01 6.24364050e-02\n",
      "  3.05516901e-02 1.16318397e-04]\n",
      " [1.36732877e-01 1.32532297e-01 1.22456489e-01 1.26129408e-01\n",
      "  1.17487781e-01 1.36879987e-01 1.32556248e-01 1.22510583e-01\n",
      "  1.26175206e-01 9.52818496e-02 1.66666667e-02 0.00000000e+00\n",
      "  3.68219557e-01 4.87838692e-01 1.31982997e-01 6.44557676e-02\n",
      "  3.19166576e-02 8.55927826e-05]\n",
      " [2.25925455e-01 2.22820490e-01 2.22081172e-01 2.27612212e-01\n",
      "  9.29968285e-02 2.26085534e-01 2.22878829e-01 2.22124057e-01\n",
      "  2.27060710e-01 7.86262581e-02 3.00000000e-01 6.66666667e-01\n",
      "  4.62937877e-01 5.65650400e-01 2.22655885e-01 2.31499236e-01\n",
      "  2.16870163e-01 5.34207543e-02]\n",
      " [2.29087539e-01 2.23687777e-01 2.33322295e-01 2.29269892e-01\n",
      "  3.22834837e-03 2.28466530e-01 2.23746273e-01 2.32707528e-01\n",
      "  2.29338241e-01 2.83313901e-03 1.66666667e-02 1.00000000e+00\n",
      "  4.48591314e-01 4.91083639e-01 2.23063378e-01 2.29196096e-01\n",
      "  2.16756757e-01 5.46582110e-02]\n",
      " [2.31050212e-01 2.25928268e-01 2.31298524e-01 2.29033081e-01\n",
      "  6.75200071e-02 2.31211036e-01 2.26023313e-01 2.31382293e-01\n",
      "  2.29083157e-01 5.38576445e-02 2.50000000e-02 0.00000000e+00\n",
      "  4.34290776e-01 4.91117976e-01 2.22816639e-01 2.27033277e-01\n",
      "  2.16425136e-01 5.59591982e-02]\n",
      " [2.30777618e-01 2.38521998e-01 2.35162086e-01 2.42221655e-01\n",
      "  9.52851526e-02 2.30992930e-01 2.38547032e-01 2.35247561e-01\n",
      "  2.42274616e-01 7.84882188e-02 2.50000000e-02 1.66666667e-01\n",
      "  5.35574378e-01 5.77349667e-01 2.24943829e-01 2.25902089e-01\n",
      "  2.16378054e-01 5.73318015e-02]\n",
      " [2.43916623e-01 2.46381787e-01 2.45225742e-01 2.51439085e-01\n",
      "  9.62943286e-02 2.44152020e-01 2.46426312e-01 2.45315664e-01\n",
      "  2.51512280e-01 7.96978520e-02 1.66666667e-02 3.33333333e-01\n",
      "  5.05189103e-01 4.79117938e-01 2.30562752e-01 2.25063301e-01\n",
      "  2.16740381e-01 5.87819119e-02]]\n"
     ]
    }
   ],
   "source": [
    "data_test_x2 = scaler.transform(data_test_x1)\n",
    "data_test_x2.shape\n",
    "print(data_test_x2[:10])"
   ]
  },
  {
   "cell_type": "code",
   "execution_count": 206,
   "metadata": {
    "colab": {},
    "colab_type": "code",
    "id": "CePFSn77oBLn",
    "outputId": "42f59747-5fe8-44a2-af41-2a1d57cb5e1b",
    "scrolled": true
   },
   "outputs": [
    {
     "name": "stdout",
     "output_type": "stream",
     "text": [
      "(829, 5, 18)\n",
      "(829, 5)\n"
     ]
    }
   ],
   "source": [
    "X_test = []\n",
    "y_test = []\n",
    "for i in range(RANGE, data_test_x2.shape[0]):\n",
    "    X_test.append(data_test_x2[i-RANGE:i])\n",
    "    y_test.append(data_test_y1[i])\n",
    "\n",
    "X_test_np = np.array(X_test)\n",
    "y_test_np = np.array(y_test)\n",
    "print(X_test_np.shape)\n",
    "print(y_test_np.shape)"
   ]
  },
  {
   "cell_type": "code",
   "execution_count": 207,
   "metadata": {},
   "outputs": [
    {
     "data": {
      "text/plain": [
       "[<matplotlib.lines.Line2D at 0x14ee9f198>,\n",
       " <matplotlib.lines.Line2D at 0x14ee9f2e8>,\n",
       " <matplotlib.lines.Line2D at 0x14ee9f438>,\n",
       " <matplotlib.lines.Line2D at 0x14ee9f588>,\n",
       " <matplotlib.lines.Line2D at 0x14ee9f6d8>]"
      ]
     },
     "execution_count": 207,
     "metadata": {},
     "output_type": "execute_result"
    },
    {
     "data": {
      "image/png": "[encoded data removed]",
      "text/plain": [
       "<Figure size 432x288 with 1 Axes>"
      ]
     },
     "metadata": {
      "needs_background": "light"
     },
     "output_type": "display_data"
    }
   ],
   "source": [
    "# Y del dataset de pruebas\n",
    "pyplot.plot(y_test_np)"
   ]
  },
  {
   "cell_type": "code",
   "execution_count": 208,
   "metadata": {},
   "outputs": [
    {
     "data": {
      "text/plain": [
       "[<matplotlib.lines.Line2D at 0x14ccd46a0>,\n",
       " <matplotlib.lines.Line2D at 0x14574c6d8>,\n",
       " <matplotlib.lines.Line2D at 0x14574c828>,\n",
       " <matplotlib.lines.Line2D at 0x14574c978>,\n",
       " <matplotlib.lines.Line2D at 0x14574cac8>]"
      ]
     },
     "execution_count": 208,
     "metadata": {},
     "output_type": "execute_result"
    },
    {
     "data": {
      "image/png": "[encoded data removed]",
      "text/plain": [
       "<Figure size 432x288 with 1 Axes>"
      ]
     },
     "metadata": {
      "needs_background": "light"
     },
     "output_type": "display_data"
    }
   ],
   "source": [
    "\n",
    "# Y de Val y Test comparados\n",
    "pyplot.plot(y_train_np)\n",
    "pyplot.plot(y_test_np)\n",
    "pyplot.plot(y_val_np)\n"
   ]
  },
  {
   "cell_type": "code",
   "execution_count": 209,
   "metadata": {},
   "outputs": [
    {
     "name": "stdout",
     "output_type": "stream",
     "text": [
      "5\n",
      "18\n"
     ]
    }
   ],
   "source": [
    "x_shape = X_train_np.shape[1]\n",
    "print(x_shape)\n",
    "y_shape = X_train_np.shape[2]\n",
    "print(y_shape)"
   ]
  },
  {
   "cell_type": "markdown",
   "metadata": {},
   "source": [
    "### Oversampling Inbalanced Class"
   ]
  },
  {
   "cell_type": "code",
   "execution_count": 210,
   "metadata": {},
   "outputs": [
    {
     "name": "stdout",
     "output_type": "stream",
     "text": [
      "(3591, 5, 18)\n",
      "(3591, 5)\n"
     ]
    }
   ],
   "source": [
    "#Check Current Shape\n",
    "print(X_train_np.shape)\n",
    "print(y_train_np.shape)"
   ]
  },
  {
   "cell_type": "code",
   "execution_count": 211,
   "metadata": {
    "scrolled": true
   },
   "outputs": [],
   "source": [
    "#oversample = RandomOverSampler(sampling_strategy='minority')\n",
    "#oversample\n"
   ]
  },
  {
   "cell_type": "code",
   "execution_count": 212,
   "metadata": {},
   "outputs": [],
   "source": [
    "#X_over, y_over = oversample.fit_resample(X_train_np, y_train_np)"
   ]
  },
  {
   "cell_type": "markdown",
   "metadata": {},
   "source": [
    "### BUILD LSTM MODEL "
   ]
  },
  {
   "cell_type": "code",
   "execution_count": 213,
   "metadata": {
    "colab": {},
    "colab_type": "code",
    "id": "dPyrqmjooBLu",
    "outputId": "ac844281-9522-427d-afa6-d93b642f46af"
   },
   "outputs": [],
   "source": [
    "model = Sequential()\n",
    "model.add(LSTM(units = RANGE, activation = 'relu', return_sequences = True, input_shape = (x_shape, y_shape)))\n",
    "model.add(LSTM(units = 80, activation = 'relu'))\n",
    "model.add(Dense(units = 5, activation = 'softmax'))\n",
    "model.compile(optimizer='adam', loss = 'categorical_crossentropy', metrics=[\"acc\"])\n"
   ]
  },
  {
   "cell_type": "code",
   "execution_count": 214,
   "metadata": {},
   "outputs": [
    {
     "name": "stdout",
     "output_type": "stream",
     "text": [
      "Model: \"sequential_2\"\n",
      "_________________________________________________________________\n",
      "Layer (type)                 Output Shape              Param #   \n",
      "=================================================================\n",
      "lstm_4 (LSTM)                (None, 5, 5)              480       \n",
      "_________________________________________________________________\n",
      "lstm_5 (LSTM)                (None, 80)                27520     \n",
      "_________________________________________________________________\n",
      "dense_2 (Dense)              (None, 5)                 405       \n",
      "=================================================================\n",
      "Total params: 28,405\n",
      "Trainable params: 28,405\n",
      "Non-trainable params: 0\n",
      "_________________________________________________________________\n"
     ]
    }
   ],
   "source": [
    "model.summary()"
   ]
  },
  {
   "cell_type": "code",
   "execution_count": 215,
   "metadata": {},
   "outputs": [
    {
     "name": "stdout",
     "output_type": "stream",
     "text": [
      "Epoch 1/150\n",
      "113/113 [==============================] - 1s 10ms/step - loss: 1.6073 - acc: 0.2136 - val_loss: 1.6124 - val_acc: 0.1813\n",
      "Epoch 2/150\n",
      "113/113 [==============================] - 1s 6ms/step - loss: 1.6042 - acc: 0.2242 - val_loss: 1.6078 - val_acc: 0.2105\n",
      "Epoch 3/150\n",
      "113/113 [==============================] - 1s 9ms/step - loss: 1.6017 - acc: 0.2203 - val_loss: 1.6125 - val_acc: 0.1813\n",
      "Epoch 4/150\n",
      "113/113 [==============================] - 1s 7ms/step - loss: 1.5936 - acc: 0.2320 - val_loss: 1.5981 - val_acc: 0.2008\n",
      "Epoch 5/150\n",
      "113/113 [==============================] - 1s 6ms/step - loss: 1.5832 - acc: 0.2398 - val_loss: 1.5922 - val_acc: 0.2222\n",
      "Epoch 6/150\n",
      "113/113 [==============================] - 1s 6ms/step - loss: 1.5675 - acc: 0.2721 - val_loss: 1.5820 - val_acc: 0.2515\n",
      "Epoch 7/150\n",
      "113/113 [==============================] - 1s 6ms/step - loss: 1.5580 - acc: 0.2776 - val_loss: 1.5686 - val_acc: 0.2690\n",
      "Epoch 8/150\n",
      "113/113 [==============================] - 1s 8ms/step - loss: 1.5467 - acc: 0.2835 - val_loss: 1.5649 - val_acc: 0.2476\n",
      "Epoch 9/150\n",
      "113/113 [==============================] - 1s 8ms/step - loss: 1.5392 - acc: 0.2765 - val_loss: 1.5630 - val_acc: 0.2515\n",
      "Epoch 10/150\n",
      "113/113 [==============================] - 1s 8ms/step - loss: 1.5389 - acc: 0.2774 - val_loss: 1.5749 - val_acc: 0.2495\n",
      "Epoch 11/150\n",
      "113/113 [==============================] - 1s 7ms/step - loss: 1.5337 - acc: 0.2807 - val_loss: 1.5882 - val_acc: 0.2398\n",
      "Epoch 12/150\n",
      "113/113 [==============================] - 1s 6ms/step - loss: 1.5305 - acc: 0.2821 - val_loss: 1.5557 - val_acc: 0.2534\n",
      "Epoch 13/150\n",
      "113/113 [==============================] - 1s 7ms/step - loss: 1.5279 - acc: 0.2904 - val_loss: 1.5671 - val_acc: 0.2300\n",
      "Epoch 14/150\n",
      "113/113 [==============================] - 1s 8ms/step - loss: 1.5266 - acc: 0.2852 - val_loss: 1.5714 - val_acc: 0.2183\n",
      "Epoch 15/150\n",
      "113/113 [==============================] - 1s 8ms/step - loss: 1.5272 - acc: 0.2829 - val_loss: 1.5525 - val_acc: 0.2593\n",
      "Epoch 16/150\n",
      "113/113 [==============================] - 1s 6ms/step - loss: 1.5273 - acc: 0.2874 - val_loss: 1.5596 - val_acc: 0.2320\n",
      "Epoch 17/150\n",
      "113/113 [==============================] - 1s 7ms/step - loss: 1.5260 - acc: 0.2868 - val_loss: 1.5570 - val_acc: 0.2495\n",
      "Epoch 18/150\n",
      "113/113 [==============================] - 1s 8ms/step - loss: 1.5293 - acc: 0.2899 - val_loss: 1.5514 - val_acc: 0.2437\n",
      "Epoch 19/150\n",
      "113/113 [==============================] - 1s 9ms/step - loss: 1.5239 - acc: 0.2943 - val_loss: 1.5732 - val_acc: 0.2437\n",
      "Epoch 20/150\n",
      "113/113 [==============================] - 1s 7ms/step - loss: 1.5214 - acc: 0.2943 - val_loss: 1.5595 - val_acc: 0.2476\n",
      "Epoch 21/150\n",
      "113/113 [==============================] - 1s 7ms/step - loss: 1.5230 - acc: 0.2966 - val_loss: 1.6003 - val_acc: 0.2300\n",
      "Epoch 22/150\n",
      "113/113 [==============================] - 1s 7ms/step - loss: 1.5262 - acc: 0.2813 - val_loss: 1.5619 - val_acc: 0.2320\n",
      "Epoch 23/150\n",
      "113/113 [==============================] - 1s 7ms/step - loss: 1.5225 - acc: 0.2957 - val_loss: 1.5782 - val_acc: 0.2320\n",
      "Epoch 24/150\n",
      "113/113 [==============================] - 1s 6ms/step - loss: 1.5240 - acc: 0.2918 - val_loss: 1.5589 - val_acc: 0.2242\n",
      "Epoch 25/150\n",
      "113/113 [==============================] - 1s 7ms/step - loss: 1.5183 - acc: 0.3008 - val_loss: 1.5753 - val_acc: 0.2222\n",
      "Epoch 26/150\n",
      "113/113 [==============================] - 1s 7ms/step - loss: 1.5200 - acc: 0.2957 - val_loss: 1.5786 - val_acc: 0.2300\n",
      "Epoch 27/150\n",
      "113/113 [==============================] - 1s 7ms/step - loss: 1.5186 - acc: 0.2927 - val_loss: 1.5945 - val_acc: 0.2261\n",
      "Epoch 28/150\n",
      "113/113 [==============================] - 1s 7ms/step - loss: 1.5184 - acc: 0.2924 - val_loss: 1.5712 - val_acc: 0.2222\n",
      "Epoch 29/150\n",
      "113/113 [==============================] - 1s 7ms/step - loss: 1.5216 - acc: 0.2932 - val_loss: 1.5683 - val_acc: 0.2417\n",
      "Epoch 30/150\n",
      "113/113 [==============================] - 1s 7ms/step - loss: 1.5197 - acc: 0.2874 - val_loss: 1.6279 - val_acc: 0.2281\n",
      "Epoch 31/150\n",
      "113/113 [==============================] - 1s 7ms/step - loss: 1.5171 - acc: 0.3016 - val_loss: 1.5767 - val_acc: 0.2300\n",
      "Epoch 32/150\n",
      "113/113 [==============================] - 1s 7ms/step - loss: 1.5178 - acc: 0.3005 - val_loss: 1.5643 - val_acc: 0.2437\n",
      "Epoch 33/150\n",
      "113/113 [==============================] - 1s 7ms/step - loss: 1.5178 - acc: 0.3016 - val_loss: 1.5937 - val_acc: 0.2281\n",
      "Epoch 34/150\n",
      "113/113 [==============================] - 1s 7ms/step - loss: 1.5178 - acc: 0.2943 - val_loss: 1.5634 - val_acc: 0.2456\n",
      "Epoch 35/150\n",
      "113/113 [==============================] - 1s 7ms/step - loss: 1.5142 - acc: 0.3027 - val_loss: 1.5869 - val_acc: 0.2476\n",
      "Epoch 36/150\n",
      "113/113 [==============================] - 1s 6ms/step - loss: 1.5156 - acc: 0.2941 - val_loss: 1.5709 - val_acc: 0.2398\n",
      "Epoch 37/150\n",
      "113/113 [==============================] - 1s 6ms/step - loss: 1.5143 - acc: 0.2971 - val_loss: 1.5725 - val_acc: 0.2554\n",
      "Epoch 38/150\n",
      "113/113 [==============================] - 1s 6ms/step - loss: 1.5139 - acc: 0.3085 - val_loss: 1.5780 - val_acc: 0.2320\n",
      "Epoch 39/150\n",
      "113/113 [==============================] - 1s 6ms/step - loss: 1.5156 - acc: 0.3024 - val_loss: 1.5841 - val_acc: 0.2320\n",
      "Epoch 40/150\n",
      "113/113 [==============================] - 1s 6ms/step - loss: 1.5144 - acc: 0.2991 - val_loss: 1.5751 - val_acc: 0.2456\n",
      "Epoch 41/150\n",
      "113/113 [==============================] - 1s 6ms/step - loss: 1.5131 - acc: 0.2999 - val_loss: 1.5849 - val_acc: 0.2632\n",
      "Epoch 42/150\n",
      "113/113 [==============================] - 1s 6ms/step - loss: 1.5143 - acc: 0.2991 - val_loss: 1.5951 - val_acc: 0.2515\n",
      "Epoch 43/150\n",
      "113/113 [==============================] - 1s 6ms/step - loss: 1.5135 - acc: 0.2963 - val_loss: 1.5838 - val_acc: 0.2398\n",
      "Epoch 44/150\n",
      "113/113 [==============================] - 1s 6ms/step - loss: 1.5130 - acc: 0.2974 - val_loss: 1.5811 - val_acc: 0.2534\n",
      "Epoch 45/150\n",
      "113/113 [==============================] - 1s 6ms/step - loss: 1.5107 - acc: 0.2991 - val_loss: 1.5668 - val_acc: 0.2573\n",
      "Epoch 46/150\n",
      "113/113 [==============================] - 1s 7ms/step - loss: 1.5121 - acc: 0.2963 - val_loss: 1.5867 - val_acc: 0.2261\n",
      "Epoch 47/150\n",
      "113/113 [==============================] - 1s 6ms/step - loss: 1.5116 - acc: 0.2980 - val_loss: 1.5944 - val_acc: 0.2261\n",
      "Epoch 48/150\n",
      "113/113 [==============================] - 1s 10ms/step - loss: 1.5108 - acc: 0.3010 - val_loss: 1.6068 - val_acc: 0.2281\n",
      "Epoch 49/150\n",
      "113/113 [==============================] - 1s 8ms/step - loss: 1.5097 - acc: 0.3030 - val_loss: 1.6023 - val_acc: 0.2398\n",
      "Epoch 50/150\n",
      "113/113 [==============================] - 1s 10ms/step - loss: 1.5085 - acc: 0.3005 - val_loss: 1.6042 - val_acc: 0.2359\n",
      "Epoch 51/150\n",
      "113/113 [==============================] - 1s 7ms/step - loss: 1.5110 - acc: 0.3027 - val_loss: 1.6252 - val_acc: 0.2300\n",
      "Epoch 52/150\n",
      "113/113 [==============================] - 1s 9ms/step - loss: 1.5081 - acc: 0.3074 - val_loss: 1.5920 - val_acc: 0.2456\n",
      "Epoch 53/150\n",
      "113/113 [==============================] - 1s 7ms/step - loss: 1.5076 - acc: 0.3083 - val_loss: 1.6122 - val_acc: 0.2417\n",
      "Epoch 54/150\n",
      "113/113 [==============================] - 1s 7ms/step - loss: 1.5103 - acc: 0.3085 - val_loss: 1.6183 - val_acc: 0.2281\n",
      "Epoch 55/150\n",
      "113/113 [==============================] - 1s 7ms/step - loss: 1.5086 - acc: 0.3033 - val_loss: 1.5968 - val_acc: 0.2437\n",
      "Epoch 56/150\n",
      "113/113 [==============================] - 1s 6ms/step - loss: 1.5088 - acc: 0.3055 - val_loss: 1.5979 - val_acc: 0.2378\n",
      "Epoch 57/150\n",
      "113/113 [==============================] - 1s 7ms/step - loss: 1.5082 - acc: 0.3005 - val_loss: 1.6215 - val_acc: 0.2476\n",
      "Epoch 58/150\n",
      "113/113 [==============================] - 1s 9ms/step - loss: 1.5069 - acc: 0.3116 - val_loss: 1.6171 - val_acc: 0.2417\n",
      "Epoch 59/150\n",
      "113/113 [==============================] - 1s 10ms/step - loss: 1.5062 - acc: 0.3047 - val_loss: 1.6100 - val_acc: 0.2417\n",
      "Epoch 60/150\n",
      "113/113 [==============================] - 1s 8ms/step - loss: 1.5058 - acc: 0.3094 - val_loss: 1.6025 - val_acc: 0.2417\n",
      "Epoch 61/150\n",
      "113/113 [==============================] - 1s 9ms/step - loss: 1.5042 - acc: 0.3122 - val_loss: 1.6176 - val_acc: 0.2534\n",
      "Epoch 62/150\n"
     ]
    },
    {
     "name": "stdout",
     "output_type": "stream",
     "text": [
      "113/113 [==============================] - 1s 6ms/step - loss: 1.5041 - acc: 0.3049 - val_loss: 1.6217 - val_acc: 0.2300\n",
      "Epoch 63/150\n",
      "113/113 [==============================] - 1s 6ms/step - loss: 1.5035 - acc: 0.3074 - val_loss: 1.6356 - val_acc: 0.2320\n",
      "Epoch 64/150\n",
      "113/113 [==============================] - 1s 6ms/step - loss: 1.5028 - acc: 0.3122 - val_loss: 1.6310 - val_acc: 0.2515\n",
      "Epoch 65/150\n",
      "113/113 [==============================] - 1s 6ms/step - loss: 1.5056 - acc: 0.3105 - val_loss: 1.6075 - val_acc: 0.2398\n",
      "Epoch 66/150\n",
      "113/113 [==============================] - 1s 6ms/step - loss: 1.5027 - acc: 0.3097 - val_loss: 1.6613 - val_acc: 0.2359\n",
      "Epoch 67/150\n",
      "113/113 [==============================] - 1s 6ms/step - loss: 1.5018 - acc: 0.3116 - val_loss: 1.6156 - val_acc: 0.2456\n",
      "Epoch 68/150\n",
      "113/113 [==============================] - 1s 6ms/step - loss: 1.5010 - acc: 0.3127 - val_loss: 1.6469 - val_acc: 0.2476\n",
      "Epoch 69/150\n",
      "113/113 [==============================] - 1s 6ms/step - loss: 1.5045 - acc: 0.3080 - val_loss: 1.6010 - val_acc: 0.2554\n",
      "Epoch 70/150\n",
      "113/113 [==============================] - 1s 6ms/step - loss: 1.5023 - acc: 0.3127 - val_loss: 1.5972 - val_acc: 0.2593\n",
      "Epoch 71/150\n",
      "113/113 [==============================] - 1s 6ms/step - loss: 1.5006 - acc: 0.3113 - val_loss: 1.6369 - val_acc: 0.2456\n",
      "Epoch 72/150\n",
      "113/113 [==============================] - 1s 6ms/step - loss: 1.4991 - acc: 0.3021 - val_loss: 1.6391 - val_acc: 0.2495\n",
      "Epoch 73/150\n",
      "113/113 [==============================] - 1s 6ms/step - loss: 1.4985 - acc: 0.3083 - val_loss: 1.5891 - val_acc: 0.2612\n",
      "Epoch 74/150\n",
      "113/113 [==============================] - 1s 6ms/step - loss: 1.5013 - acc: 0.3122 - val_loss: 1.6406 - val_acc: 0.2398\n",
      "Epoch 75/150\n",
      "113/113 [==============================] - 1s 6ms/step - loss: 1.4983 - acc: 0.3177 - val_loss: 1.5905 - val_acc: 0.2593\n",
      "Epoch 76/150\n",
      "113/113 [==============================] - 1s 6ms/step - loss: 1.4987 - acc: 0.3113 - val_loss: 1.6177 - val_acc: 0.2495\n",
      "Epoch 77/150\n",
      "113/113 [==============================] - 1s 6ms/step - loss: 1.4982 - acc: 0.3172 - val_loss: 1.6050 - val_acc: 0.2359\n",
      "Epoch 78/150\n",
      "113/113 [==============================] - 1s 6ms/step - loss: 1.4970 - acc: 0.3208 - val_loss: 1.6285 - val_acc: 0.2515\n",
      "Epoch 79/150\n",
      "113/113 [==============================] - 1s 6ms/step - loss: 1.4953 - acc: 0.3124 - val_loss: 1.6032 - val_acc: 0.2671\n",
      "Epoch 80/150\n",
      "113/113 [==============================] - 1s 6ms/step - loss: 1.4962 - acc: 0.3113 - val_loss: 1.6501 - val_acc: 0.2554\n",
      "Epoch 81/150\n",
      "113/113 [==============================] - 1s 6ms/step - loss: 1.4936 - acc: 0.3099 - val_loss: 1.6644 - val_acc: 0.2573\n",
      "Epoch 82/150\n",
      "113/113 [==============================] - 1s 6ms/step - loss: 1.4996 - acc: 0.3074 - val_loss: 1.6815 - val_acc: 0.2339\n",
      "Epoch 83/150\n",
      "113/113 [==============================] - 1s 6ms/step - loss: 1.4950 - acc: 0.3172 - val_loss: 1.6213 - val_acc: 0.2437\n",
      "Epoch 84/150\n",
      "113/113 [==============================] - 1s 6ms/step - loss: 1.4929 - acc: 0.3163 - val_loss: 1.6630 - val_acc: 0.2456\n",
      "Epoch 85/150\n",
      "113/113 [==============================] - 1s 6ms/step - loss: 1.4978 - acc: 0.3027 - val_loss: 1.6483 - val_acc: 0.2593\n",
      "Epoch 86/150\n",
      "113/113 [==============================] - 1s 6ms/step - loss: 1.4967 - acc: 0.3138 - val_loss: 1.6317 - val_acc: 0.2437\n",
      "Epoch 87/150\n",
      "113/113 [==============================] - 1s 6ms/step - loss: 1.4937 - acc: 0.3094 - val_loss: 1.6139 - val_acc: 0.2515\n",
      "Epoch 88/150\n",
      "113/113 [==============================] - 1s 6ms/step - loss: 1.4945 - acc: 0.3127 - val_loss: 1.6534 - val_acc: 0.2495\n",
      "Epoch 89/150\n",
      "113/113 [==============================] - 1s 6ms/step - loss: 1.4914 - acc: 0.3211 - val_loss: 1.6249 - val_acc: 0.2632\n",
      "Epoch 90/150\n",
      "113/113 [==============================] - 1s 6ms/step - loss: 1.4921 - acc: 0.3244 - val_loss: 1.7032 - val_acc: 0.2359\n",
      "Epoch 91/150\n",
      "113/113 [==============================] - 1s 6ms/step - loss: 1.4949 - acc: 0.3197 - val_loss: 1.6762 - val_acc: 0.2456\n",
      "Epoch 92/150\n",
      "113/113 [==============================] - 1s 6ms/step - loss: 1.4961 - acc: 0.3138 - val_loss: 1.6590 - val_acc: 0.2378\n",
      "Epoch 93/150\n",
      "113/113 [==============================] - 1s 7ms/step - loss: 1.4902 - acc: 0.3158 - val_loss: 1.6375 - val_acc: 0.2398\n",
      "Epoch 94/150\n",
      "113/113 [==============================] - 1s 6ms/step - loss: 1.4897 - acc: 0.3175 - val_loss: 1.6490 - val_acc: 0.2417\n",
      "Epoch 95/150\n",
      "113/113 [==============================] - 1s 6ms/step - loss: 1.4900 - acc: 0.3272 - val_loss: 1.6977 - val_acc: 0.2261\n",
      "Epoch 96/150\n",
      "113/113 [==============================] - 1s 6ms/step - loss: 1.4901 - acc: 0.3230 - val_loss: 1.6255 - val_acc: 0.2593\n",
      "Epoch 97/150\n",
      "113/113 [==============================] - 1s 6ms/step - loss: 1.4890 - acc: 0.3228 - val_loss: 1.6920 - val_acc: 0.2495\n",
      "Epoch 98/150\n",
      "113/113 [==============================] - 1s 6ms/step - loss: 1.4902 - acc: 0.3205 - val_loss: 1.6434 - val_acc: 0.2554\n",
      "Epoch 99/150\n",
      "113/113 [==============================] - 1s 6ms/step - loss: 1.4880 - acc: 0.3200 - val_loss: 1.7013 - val_acc: 0.2417\n",
      "Epoch 100/150\n",
      "113/113 [==============================] - 1s 6ms/step - loss: 1.4890 - acc: 0.3244 - val_loss: 1.6544 - val_acc: 0.2359\n",
      "Epoch 101/150\n",
      "113/113 [==============================] - 1s 7ms/step - loss: 1.4864 - acc: 0.3250 - val_loss: 1.6611 - val_acc: 0.2476\n",
      "Epoch 102/150\n",
      "113/113 [==============================] - 1s 6ms/step - loss: 1.4857 - acc: 0.3261 - val_loss: 1.6668 - val_acc: 0.2359\n",
      "Epoch 103/150\n",
      "113/113 [==============================] - 1s 6ms/step - loss: 1.4862 - acc: 0.3269 - val_loss: 1.6808 - val_acc: 0.2476\n",
      "Epoch 104/150\n",
      "113/113 [==============================] - 1s 6ms/step - loss: 1.4828 - acc: 0.3216 - val_loss: 1.7099 - val_acc: 0.2320\n",
      "Epoch 105/150\n",
      "113/113 [==============================] - 1s 6ms/step - loss: 1.4917 - acc: 0.3205 - val_loss: 1.6839 - val_acc: 0.2456\n",
      "Epoch 106/150\n",
      "113/113 [==============================] - 1s 6ms/step - loss: 1.4849 - acc: 0.3280 - val_loss: 1.7324 - val_acc: 0.2261\n",
      "Epoch 107/150\n",
      "113/113 [==============================] - 1s 6ms/step - loss: 1.4856 - acc: 0.3191 - val_loss: 1.7076 - val_acc: 0.2398\n",
      "Epoch 108/150\n",
      "113/113 [==============================] - 1s 6ms/step - loss: 1.4862 - acc: 0.3272 - val_loss: 1.7253 - val_acc: 0.2242\n",
      "Epoch 109/150\n",
      "113/113 [==============================] - 1s 6ms/step - loss: 1.4859 - acc: 0.3197 - val_loss: 1.6835 - val_acc: 0.2359\n",
      "Epoch 110/150\n",
      "113/113 [==============================] - 1s 6ms/step - loss: 1.4837 - acc: 0.3264 - val_loss: 1.6644 - val_acc: 0.2261\n",
      "Epoch 111/150\n",
      "113/113 [==============================] - 1s 6ms/step - loss: 1.4822 - acc: 0.3286 - val_loss: 1.6910 - val_acc: 0.2476\n",
      "Epoch 112/150\n",
      "113/113 [==============================] - 1s 6ms/step - loss: 1.4805 - acc: 0.3247 - val_loss: 1.6490 - val_acc: 0.2339\n",
      "Epoch 113/150\n",
      "113/113 [==============================] - 1s 6ms/step - loss: 1.4836 - acc: 0.3336 - val_loss: 1.6618 - val_acc: 0.2378\n",
      "Epoch 114/150\n",
      "113/113 [==============================] - 1s 6ms/step - loss: 1.4834 - acc: 0.3272 - val_loss: 1.7098 - val_acc: 0.2339\n",
      "Epoch 115/150\n",
      "113/113 [==============================] - 1s 6ms/step - loss: 1.4818 - acc: 0.3225 - val_loss: 1.6481 - val_acc: 0.2593\n",
      "Epoch 116/150\n",
      "113/113 [==============================] - 1s 6ms/step - loss: 1.4814 - acc: 0.3253 - val_loss: 1.6527 - val_acc: 0.2281\n",
      "Epoch 117/150\n",
      "113/113 [==============================] - 1s 6ms/step - loss: 1.4783 - acc: 0.3300 - val_loss: 1.6846 - val_acc: 0.2183\n",
      "Epoch 118/150\n",
      "113/113 [==============================] - 1s 6ms/step - loss: 1.4832 - acc: 0.3300 - val_loss: 1.6754 - val_acc: 0.2261\n",
      "Epoch 119/150\n",
      "113/113 [==============================] - 1s 6ms/step - loss: 1.4819 - acc: 0.3305 - val_loss: 1.7451 - val_acc: 0.2203\n",
      "Epoch 120/150\n",
      "113/113 [==============================] - 1s 6ms/step - loss: 1.4779 - acc: 0.3319 - val_loss: 1.7312 - val_acc: 0.2203\n",
      "Epoch 121/150\n",
      "113/113 [==============================] - 1s 6ms/step - loss: 1.4793 - acc: 0.3264 - val_loss: 1.7138 - val_acc: 0.2456\n",
      "Epoch 122/150\n",
      "113/113 [==============================] - 1s 6ms/step - loss: 1.4758 - acc: 0.3300 - val_loss: 1.6971 - val_acc: 0.2339\n",
      "Epoch 123/150\n"
     ]
    },
    {
     "name": "stdout",
     "output_type": "stream",
     "text": [
      "113/113 [==============================] - 1s 6ms/step - loss: 1.4746 - acc: 0.3331 - val_loss: 1.7191 - val_acc: 0.2281\n",
      "Epoch 124/150\n",
      "113/113 [==============================] - 1s 8ms/step - loss: 1.4767 - acc: 0.3328 - val_loss: 1.6594 - val_acc: 0.2398\n",
      "Epoch 125/150\n",
      "113/113 [==============================] - 1s 8ms/step - loss: 1.4777 - acc: 0.3308 - val_loss: 1.7044 - val_acc: 0.2183\n",
      "Epoch 126/150\n",
      "113/113 [==============================] - 1s 7ms/step - loss: 1.4753 - acc: 0.3300 - val_loss: 1.6804 - val_acc: 0.2398\n",
      "Epoch 127/150\n",
      "113/113 [==============================] - 1s 7ms/step - loss: 1.4758 - acc: 0.3297 - val_loss: 1.7120 - val_acc: 0.2339\n",
      "Epoch 128/150\n",
      "113/113 [==============================] - 1s 9ms/step - loss: 1.4762 - acc: 0.3305 - val_loss: 1.7504 - val_acc: 0.2300\n",
      "Epoch 129/150\n",
      "113/113 [==============================] - 1s 11ms/step - loss: 1.4727 - acc: 0.3386 - val_loss: 1.7954 - val_acc: 0.2339\n",
      "Epoch 130/150\n",
      "113/113 [==============================] - 1s 9ms/step - loss: 1.4777 - acc: 0.3319 - val_loss: 1.7054 - val_acc: 0.2222\n",
      "Epoch 131/150\n",
      "113/113 [==============================] - 1s 8ms/step - loss: 1.4745 - acc: 0.3331 - val_loss: 1.7197 - val_acc: 0.2515\n",
      "Epoch 132/150\n",
      "113/113 [==============================] - 1s 8ms/step - loss: 1.4741 - acc: 0.3314 - val_loss: 1.7184 - val_acc: 0.2203\n",
      "Epoch 133/150\n",
      "113/113 [==============================] - 1s 8ms/step - loss: 1.4731 - acc: 0.3297 - val_loss: 1.6889 - val_acc: 0.2456\n",
      "Epoch 134/150\n",
      "113/113 [==============================] - 1s 9ms/step - loss: 1.4728 - acc: 0.3300 - val_loss: 1.6817 - val_acc: 0.2456\n",
      "Epoch 135/150\n",
      "113/113 [==============================] - 1s 8ms/step - loss: 1.4745 - acc: 0.3339 - val_loss: 1.7230 - val_acc: 0.2378\n",
      "Epoch 136/150\n",
      "113/113 [==============================] - 1s 7ms/step - loss: 1.4712 - acc: 0.3364 - val_loss: 1.7347 - val_acc: 0.2086\n",
      "Epoch 137/150\n",
      "113/113 [==============================] - 1s 6ms/step - loss: 1.4695 - acc: 0.3370 - val_loss: 1.6971 - val_acc: 0.2359\n",
      "Epoch 138/150\n",
      "113/113 [==============================] - 1s 6ms/step - loss: 1.4697 - acc: 0.3389 - val_loss: 1.7144 - val_acc: 0.2437\n",
      "Epoch 139/150\n",
      "113/113 [==============================] - 1s 6ms/step - loss: 1.4727 - acc: 0.3342 - val_loss: 1.7242 - val_acc: 0.2437\n",
      "Epoch 140/150\n",
      "113/113 [==============================] - 1s 6ms/step - loss: 1.4689 - acc: 0.3328 - val_loss: 1.7205 - val_acc: 0.2378\n",
      "Epoch 141/150\n",
      "113/113 [==============================] - 1s 6ms/step - loss: 1.4687 - acc: 0.3395 - val_loss: 1.7316 - val_acc: 0.2339\n",
      "Epoch 142/150\n",
      "113/113 [==============================] - 1s 7ms/step - loss: 1.4681 - acc: 0.3411 - val_loss: 1.7096 - val_acc: 0.2456\n",
      "Epoch 143/150\n",
      "113/113 [==============================] - 1s 6ms/step - loss: 1.4663 - acc: 0.3397 - val_loss: 1.7121 - val_acc: 0.2222\n",
      "Epoch 144/150\n",
      "113/113 [==============================] - 1s 6ms/step - loss: 1.4665 - acc: 0.3445 - val_loss: 1.7566 - val_acc: 0.2554\n",
      "Epoch 145/150\n",
      "113/113 [==============================] - 1s 9ms/step - loss: 1.4645 - acc: 0.3411 - val_loss: 1.7587 - val_acc: 0.2300\n",
      "Epoch 146/150\n",
      "113/113 [==============================] - 1s 7ms/step - loss: 1.4655 - acc: 0.3414 - val_loss: 1.8307 - val_acc: 0.2242\n",
      "Epoch 147/150\n",
      "113/113 [==============================] - 1s 7ms/step - loss: 1.4648 - acc: 0.3400 - val_loss: 1.7570 - val_acc: 0.2398\n",
      "Epoch 148/150\n",
      "113/113 [==============================] - 1s 8ms/step - loss: 1.4620 - acc: 0.3470 - val_loss: 1.8378 - val_acc: 0.2164\n",
      "Epoch 149/150\n",
      "113/113 [==============================] - 1s 8ms/step - loss: 1.4648 - acc: 0.3495 - val_loss: 1.7324 - val_acc: 0.2456\n",
      "Epoch 150/150\n",
      "113/113 [==============================] - 1s 7ms/step - loss: 1.4619 - acc: 0.3411 - val_loss: 1.8103 - val_acc: 0.2203\n"
     ]
    }
   ],
   "source": [
    "history = model.fit(X_train_np, y_train_np, epochs=EPOCHS, batch_size=BATCH_SIZE, validation_data=(X_val_np, y_val_np),shuffle=True)"
   ]
  },
  {
   "cell_type": "code",
   "execution_count": 216,
   "metadata": {},
   "outputs": [
    {
     "name": "stdout",
     "output_type": "stream",
     "text": [
      "dict_keys(['loss', 'acc', 'val_loss', 'val_acc'])\n"
     ]
    }
   ],
   "source": [
    "print(history.history.keys())"
   ]
  },
  {
   "cell_type": "code",
   "execution_count": 217,
   "metadata": {},
   "outputs": [
    {
     "data": {
      "image/png": "[encoded data removed]",
      "text/plain": [
       "<Figure size 432x288 with 1 Axes>"
      ]
     },
     "metadata": {
      "needs_background": "light"
     },
     "output_type": "display_data"
    }
   ],
   "source": [
    "plt.plot(history.history['acc'])\n",
    "plt.plot(history.history['val_acc'])\n",
    "plt.title('model accuracy')\n",
    "plt.ylabel('accuracy')\n",
    "plt.xlabel('epoch')\n",
    "plt.legend(['train', 'val'], loc='upper left')\n",
    "plt.show()"
   ]
  },
  {
   "cell_type": "code",
   "execution_count": 218,
   "metadata": {},
   "outputs": [
    {
     "data": {
      "image/png": "[encoded data removed]",
      "text/plain": [
       "<Figure size 432x288 with 1 Axes>"
      ]
     },
     "metadata": {
      "needs_background": "light"
     },
     "output_type": "display_data"
    }
   ],
   "source": [
    "plt.plot(history.history['loss'])\n",
    "plt.plot(history.history['val_loss'])\n",
    "plt.title('model loss')\n",
    "plt.ylabel('loss')\n",
    "plt.xlabel('epoch')\n",
    "plt.legend(['train', 'val'], loc='upper left')\n",
    "plt.show()"
   ]
  },
  {
   "cell_type": "code",
   "execution_count": 221,
   "metadata": {},
   "outputs": [
    {
     "name": "stdout",
     "output_type": "stream",
     "text": [
      "/Users/marami3/Documents/ITESO/IDI4/forex_prediction/Jupyter Notebooks/IDI4/models_clasification/../../../Models/2020/LSTM/\n"
     ]
    }
   ],
   "source": [
    "pwd = os.getcwd()\n",
    "source_data = os.path.join(pwd, r'../../../Models/2020/LSTM/')\n",
    "print(source_data)"
   ]
  },
  {
   "cell_type": "code",
   "execution_count": 222,
   "metadata": {},
   "outputs": [
    {
     "name": "stdout",
     "output_type": "stream",
     "text": [
      "C-LSTM_1D_19F_Class_03\n"
     ]
    }
   ],
   "source": [
    "file_name = MODEL_NAME + '_' + FRECUENCIA + '_' + str(NUM_FEATURES) + 'F_' + TARGET_NAME + \"_\"+ ID \n",
    "print(file_name)\n",
    "\n"
   ]
  },
  {
   "cell_type": "code",
   "execution_count": 223,
   "metadata": {},
   "outputs": [],
   "source": [
    "model.save(source_data + file_name + '.hdf5')"
   ]
  },
  {
   "cell_type": "code",
   "execution_count": 225,
   "metadata": {},
   "outputs": [
    {
     "name": "stdout",
     "output_type": "stream",
     "text": [
      "/Users/marami3/Documents/ITESO/IDI4/forex_prediction/Jupyter Notebooks/IDI4/models_clasification/../../../Models/2020/LSTM/C-LSTM_1D_19F_Class_03\n"
     ]
    }
   ],
   "source": [
    "#Load Model\n",
    "filepath = os.path.join(source_data, file_name)\n",
    "print(filepath)\n",
    "model = tf.keras.models.load_model(filepath+'.hdf5')\n",
    "FILENAME = os.path.splitext(file_name)[0]\n",
    "\n",
    "\n"
   ]
  },
  {
   "cell_type": "code",
   "execution_count": 226,
   "metadata": {},
   "outputs": [],
   "source": [
    "def precision(label, confusion_matrix):\n",
    "    #print('label',label)\n",
    "    col = confusion_matrix[:, label]\n",
    "    return confusion_matrix[label, label] / col.sum()\n",
    "    \n",
    "def recall(label, confusion_matrix):\n",
    "    row = confusion_matrix[label, :]\n",
    "    return confusion_matrix[label, label] / row.sum()\n",
    "\n",
    "def precision_macro_average(confusion_matrix):\n",
    "    rows, columns = confusion_matrix.shape\n",
    "    sum_of_precisions = 0\n",
    "    for label in range(rows):\n",
    "        sum_of_precisions += precision(label, confusion_matrix)\n",
    "    return sum_of_precisions / rows\n",
    "\n",
    "def recall_macro_average(confusion_matrix):\n",
    "    rows, columns = confusion_matrix.shape\n",
    "    sum_of_recalls = 0\n",
    "    for label in range(columns):\n",
    "        sum_of_recalls += recall(label, confusion_matrix)\n",
    "    return sum_of_recalls / columns\n",
    "\n",
    "def accuracy(confusion_matrix):\n",
    "    diagonal_sum = confusion_matrix.trace()\n",
    "    sum_of_all_elements = confusion_matrix.sum()\n",
    "    return diagonal_sum / sum_of_all_elements "
   ]
  },
  {
   "cell_type": "markdown",
   "metadata": {},
   "source": [
    "### CONFUSION MATRIX TEST"
   ]
  },
  {
   "cell_type": "code",
   "execution_count": 227,
   "metadata": {
    "colab": {},
    "colab_type": "code",
    "id": "NOvVxqGhoBMG",
    "outputId": "7b1cabe0-9caa-4e51-ad2e-19ddb4f6aa50"
   },
   "outputs": [
    {
     "name": "stdout",
     "output_type": "stream",
     "text": [
      "(829, 5, 18)\n",
      "(829, 5)\n",
      "(829, 5)\n"
     ]
    }
   ],
   "source": [
    "#TEST\n",
    "y_test_pred = model.predict(X_test_np)\n",
    "print(X_test_np.shape)\n",
    "\n",
    "print(y_test_pred.shape)\n",
    "print(y_test_np.shape)"
   ]
  },
  {
   "cell_type": "code",
   "execution_count": 228,
   "metadata": {},
   "outputs": [
    {
     "name": "stdout",
     "output_type": "stream",
     "text": [
      "[0.29036668 0.28048578 0.03244226 0.2850542  0.11165107]\n",
      "[[0. 0. 0. 1. 0.]\n",
      " [0. 0. 1. 0. 0.]\n",
      " [0. 0. 0. 0. 1.]\n",
      " [0. 0. 0. 0. 1.]]\n"
     ]
    }
   ],
   "source": [
    "ID = 4\n",
    "print(y_test_pred[ID])\n",
    "print(y_test_np[:ID])"
   ]
  },
  {
   "cell_type": "code",
   "execution_count": 231,
   "metadata": {},
   "outputs": [
    {
     "name": "stdout",
     "output_type": "stream",
     "text": [
      "[ 2.  2. -2. -1. -2.  1.  0. -1. -1.  1. -2.  1.  0. -1. -1.  1.  1. -1.\n",
      "  0. -1.  1.  1. -2. -2.  0. -1.  1.  1. -2. -2.  0. -1. -1.  1. -2. -2.\n",
      "  0. -1. -1.  1.  1.  1.  0. -1. -1.  1.  1.  1.  0. -1.  1.  1.  1.  1.\n",
      "  0. -1.  1.  1. -2. -2.  0. -1.  1.  1. -2. -2.  0. -1.  1.  1. -2. -2.\n",
      "  1. -1. -1.  1.  1.  1. -1.  1.  1.  2. -1.  0. -1.  1.  1.  1.  1.  0.\n",
      " -1.  1.  1.  1.  1.  0. -1. -1.  1.  1.  1.  0. -1. -1.  1.  1.  1.  0.\n",
      " -1.  1.  1.  1.  1.  0. -1.  1.  1.  1.  1.  0. -1.  1.  1.  1.  1.  0.\n",
      " -1.  1.  1.  2. -1.  0. -1.  1.  1.  2.  1.  0. -1.  1.  1.  2. -1.  0.\n",
      " -1.  1.  1.  1.  1.  0. -1.  1.  1.  1.  1.  0. -1.  1.  1.  1.  1.  0.\n",
      " -1.  1.  1.  1.  1.  0. -1.  1.  1.  1.  1.  0. -1.  1.  1.  2.  1.  0.\n",
      " -1.  1.  2.  1.  1.  0. -1.  1.  1.  2.  2.  0. -1.  1.  2.  2. -2.  0.\n",
      " -1.  1.  2.  2. -2.  0. -1.  1.  2.  2. -2.  0. -1.  1.  1.  2. -2.  0.\n",
      " -1.  1.  2.  2. -2.  0. -1.  1.  2.  2. -2.  0. -1.  1.  2.  2. -2.  0.\n",
      " -1.  1.  2.  2. -2.  0. -1.  1.  2.  2. -2.  0. -1.  1.  2.  2. -2.  0.\n",
      " -1.  1.  2.  2. -2.  0. -1.  1.  2.  2. -2.  0. -1.  1.  2. -2. -2.  0.\n",
      " -1.  1.  2.  2.  2.  0. -1.  1.  2.  2. -2.  0. -1.  1.  2.  2. -2.  0.\n",
      " -1.  1.  1.  2. -2.  0. -1.  1.  2.  2. -2.  0. -1.  1.  1.  2. -2.  0.\n",
      " -1.  1.  1.  2. -2.  0. -1.  1.  1.  2.  2.  0. -1. -2.  1.  2. -2.  0.\n",
      " -1.  1.  1.  2. -2.  0. -1.  1.  1.  2.  2.  0. -1. -2.  2.  2.  2.  0.\n",
      "  2. -2.  2.  2.  2. -1. -1. -2.  2.  2. -1. -1.  2. -2.  1. -2. -2. -1.\n",
      "  2. -2.  1.  2. -2. -1.  2. -2.  1.  2.  2. -1.  2. -2.  2.  2.  2.  0.\n",
      "  2.  2.  2.  2.  2. -1. -2. -2.  2.  2. -2.  1. -2. -2.  2.  2.  2. -1.\n",
      "  2. -2.  1.  2.  2. -1.  2. -2.  2.  2.  2.  0.  2. -2.  1.  2.  2.  0.\n",
      "  2.  2.  2.  2. -2.  0.  2. -2.  1.  2.  2.  0.  2.  2.  2.  2. -1.  0.\n",
      "  2.  2.  1.  2. -2.  0.  2.  2.  2.  2.  2. -1.  2. -2.  2.  2. -2. -1.\n",
      " -1.  2.  1.  2. -1.  0. -1.  2.  2.  2. -1. -1.  2.  2.  2.  2. -1. -1.\n",
      "  2.  2.  2.  2.  2. -1.  2.  2.  2.  2.  2. -1.  2.  1.  1.  2.  2. -1.\n",
      "  2.  2.  1.  2.  2. -1. -1.  2.  2.  2.  2. -1.  2.  2.  2.  2.  2. -1.\n",
      " -1.  2.  2.  2. -1. -1. -1.  2.  2.  2. -1. -1. -1.  2.  2. -1. -1. -1.\n",
      " -1.  2.  2.  2. -1. -1.  2.  2.  1.  2.  2. -1. -1.  2.  2.  2. -1. -1.\n",
      "  2. -2.  1.  2.  2. -1. -1.  1.  1.  2. -2.  0. -1. -1.  1. -1. -1. -1.\n",
      " -1. -1.  1.  2. -1. -1. -1.  2.  1.  2. -2. -1. -1.  2.  2.  2. -1. -1.\n",
      "  2.  2.  1. -2. -2. -1.  2.  2.  2. -1. -1. -1. -1. -2.  1. -2.  2. -1.\n",
      " -1.  2.  2.  2. -2. -1. -1. -2.  2. -2. -2. -1. -1. -2.  2. -2. -2. -1.\n",
      " -1. -2.  2.  2. -1. -1. -1. -2.  2. -2. -2. -1. -1.  2.  2.  2. -2. -1.\n",
      " -1.  2.  2. -2. -2. -1. -1. -1. -1. -1. -1. -1. -1. -1. -1. -1. -1. -1.\n",
      " -1. -1. -1. -1. -1. -1. -1. -2. -1. -1. -1. -1. -1. -1. -1.  2. -1. -1.\n",
      " -1.  1.  1. -2. -2. -1. -1. -1.  1. -2. -2. -1. -1.  1.  1. -2.  2. -1.\n",
      " -1. -2.  1. -2. -2. -1. -1. -1. -1.  2. -1. -1. -1. -2.  1. -2.  1. -1.\n",
      " -2.  1.  1. -2.  2. -1. -1.  1.  1. -2.  2. -1. -1. -1. -1. -1. -1. -1.\n",
      " -1. -1.  1.  2. -2. -1. -1. -1. -1. -1. -1. -1. -1. -1. -1. -1. -1. -1.\n",
      " -1.  2.  2.  2. -1. -1. -1. -1. -1. -1. -1. -1. -1. -1. -1. -1. -1. -1.\n",
      " -1. -2. -2.  1.  2. -1. -1. -2. -2.  2. -1. -1.  2.  2.  2.  2.  2. -1.\n",
      " -1. -2.  1. -2. -2. -1. -1.  2.  2.  2. -1. -1. -1.  2.  2. -2.  2. -1.\n",
      " -1.  2.  2.  2. -2. -1. -1. -1. -1.  2. -1. -1. -1.  2.  2.  2. -1. -1.\n",
      " -1.  2.  2.  2. -1. -1. -1. -1. -1. -1. -1. -1. -1.  2.  2. -2.  2. -1.\n",
      " -1.]\n",
      "(829,)\n",
      "[ 1.  0.  2.  2. -1. -1.  0. -1. -1.  1.  2. -2. -1.  0.  0.  2. -2. -1.\n",
      "  0.  2.  0. -1.  1. -2.  0.  0. -1.  0.  2.  1.  0.  0.  2.  0.  0.  1.\n",
      " -2.  0.  0.  2.  1.  2.  0. -1. -2.  0.  2.  0. -2.  1. -1. -1. -1.  0.\n",
      "  0.  1. -1.  2. -2. -1. -1.  1.  2.  1. -1.  1.  0.  1. -1.  2.  1.  2.\n",
      "  0.  2. -2.  2. -1.  0. -2. -1.  1.  2.  2. -1.  2.  0. -2.  2. -1.  1.\n",
      "  0.  2.  2.  0.  1.  0. -2.  1.  0.  2. -2. -1. -2.  1. -2. -1.  0.  0.\n",
      "  2.  2.  2.  1. -2.  0. -1. -2. -2.  2. -1. -1.  1. -2. -1.  2.  2.  0.\n",
      "  1.  2.  0. -2.  0.  0.  1.  2. -1. -2. -1. -1.  2. -2.  2. -1.  1.  0.\n",
      "  2. -2. -2. -1.  1. -1. -1. -1.  1. -1.  1. -1.  2.  1.  1. -1.  0.  0.\n",
      "  2. -1.  0. -1. -2. -1. -2.  1. -2. -2.  1. -1. -1. -2. -1.  1. -1. -1.\n",
      " -1. -2. -1.  2.  1.  0. -1. -2.  0. -1. -1. -1.  1.  0. -2.  1. -2.  1.\n",
      " -2. -2.  2.  1. -1.  0.  1.  1.  2.  1. -1.  1. -1. -1.  2. -2.  2. -1.\n",
      "  1. -2. -1.  1.  2.  0.  2. -2. -2.  0.  2.  0. -1.  1.  0.  1.  2.  0.\n",
      "  0. -1. -2. -1.  1. -1.  1. -2.  0.  1.  2.  1. -2. -1.  2. -2.  1.  0.\n",
      "  2. -1. -1. -2. -1.  0.  0.  2.  0. -2. -2. -1.  0. -2.  0.  1.  2.  0.\n",
      "  2.  2.  1. -2.  2.  1.  1.  1.  1. -2. -2.  0.  1. -1.  2. -1. -2.  0.\n",
      "  1.  0.  1.  2. -2.  0.  2.  1.  0.  2. -1.  0.  0.  1. -1. -2. -1.  0.\n",
      " -1. -1. -2.  2.  0.  0. -1.  1.  1.  2. -1. -1.  1.  0. -2. -2.  2.  0.\n",
      " -2.  0. -2. -1.  1.  0. -1. -1. -1.  2. -1.  1.  1.  1. -1. -2. -1. -1.\n",
      " -2.  2.  0.  1.  2.  0.  2. -2.  1.  1. -2.  0.  0. -1.  2.  1. -2.  1.\n",
      "  1. -1.  0.  1.  0.  1. -2. -1.  2. -1. -2.  0.  2.  1.  1.  2. -2.  0.\n",
      "  1.  1. -2.  2.  1.  0.  1. -1. -2.  2.  0.  1.  2. -1.  2. -2. -1. -1.\n",
      "  1. -2. -1.  0. -1.  0.  0.  0.  1. -2.  2.  0.  1.  0.  2. -1.  1.  0.\n",
      " -1. -1. -2. -1. -1.  0. -2.  2. -2.  1.  0.  0.  1.  1.  0.  0.  0.  0.\n",
      "  1.  1. -1.  0.  0.  1. -1. -1.  0. -2.  1.  0.  1.  1.  2. -1.  1.  0.\n",
      "  1.  1.  2. -2. -2.  0.  1. -2. -1. -1. -1.  0. -1.  0.  2. -1.  0.  0.\n",
      "  1.  1.  1. -1.  2.  0.  0. -1.  1. -2.  1.  0.  1. -1. -2. -1.  1.  0.\n",
      "  1.  1. -1. -1.  1. -1.  1. -1.  1.  1.  1.  0.  0. -1.  0. -1. -1.  0.\n",
      "  0.  0. -1.  1.  1.  0. -1. -1. -1.  0.  2.  0.  2.  1. -1.  2.  2. -1.\n",
      "  0.  1. -1. -1. -2.  0.  1. -1.  1.  2.  2.  1.  1. -1.  0.  0.  0. -1.\n",
      " -2.  0.  0.  0. -2.  0. -1. -1.  2. -1.  1.  0. -1. -2.  1.  1. -1.  0.\n",
      " -1. -2. -1.  0. -1.  0.  1.  1. -2.  0.  1.  0.  2. -1.  0. -1.  1.  0.\n",
      "  1. -2. -1. -1. -1.  0. -1.  1.  0.  0.  2.  0. -2. -1.  0. -1. -2.  0.\n",
      " -1.  1.  2.  0.  0. -1.  1.  0. -1.  2.  1.  0. -2.  2. -2.  1. -1.  0.\n",
      " -1.  1. -2. -1.  1.  0. -2.  1.  1.  1.  0.  0. -1. -1.  1.  1.  1. -1.\n",
      "  0.  1.  2.  2.  2. -1.  0. -1.  0. -1. -1.  0.  1.  1.  2.  0.  1.  0.\n",
      " -1. -2.  0. -1. -1.  0.  1. -1.  0.  1.  1.  0.  1.  0.  0. -1. -2.  0.\n",
      " -1.  1. -1.  0.  1.  0.  2.  0.  0.  1. -2.  0.  0.  1.  2.  2. -2.  0.\n",
      "  1.  1. -1.  1. -2.  0.  1.  0.  0.  0.  2.  0.  1.  1.  0. -2. -1.  0.\n",
      "  1. -2. -2.  0.  1. -1.  1.  0.  1. -1. -2.  0.  0. -1.  1. -2. -1.  0.\n",
      "  0.  0. -1.  1.  2.  0. -1. -1. -2. -1. -1.  0. -2.  1. -2. -1. -1.  1.\n",
      "  0. -2.  1. -1.  2. -1.  1.  1.  0.  2.  1.  1.  2.  1. -1.  2.  2.  2.\n",
      "  1. -2. -2. -2. -2.  2.  0. -2. -2. -2.  2. -1.  2.  1.  2.  2.  2. -1.\n",
      " -2.  0. -2. -2. -2.  0.  0.  2. -1.  2.  1. -1. -1.  2. -2. -2.  1. -1.\n",
      "  0.  0. -2. -1.  2.  0.  0.  1.  2.  2.  1. -1. -2. -2. -2.  2.  0.  0.\n",
      " -1.  1. -1. -1.  1.  0.  2.  1.  2. -1. -2.  0.  0.  2.  1.  2.  1.  1.\n",
      "  0.]\n",
      "(829,)\n"
     ]
    }
   ],
   "source": [
    "uniques_y_test_pred = uniques[y_test_pred.argmax(1)]\n",
    "uniques_y_test_np = uniques[y_test_np.argmax(1)]\n",
    "print(uniques_y_test_pred)\n",
    "print(uniques_y_test_pred.shape)\n",
    "print(uniques_y_test_np)\n",
    "print(uniques_y_test_np.shape)"
   ]
  },
  {
   "cell_type": "code",
   "execution_count": 232,
   "metadata": {},
   "outputs": [
    {
     "name": "stdout",
     "output_type": "stream",
     "text": [
      "[-2. -1.  0.  1.  2.]\n"
     ]
    }
   ],
   "source": [
    "print(uniques)"
   ]
  },
  {
   "cell_type": "code",
   "execution_count": 233,
   "metadata": {},
   "outputs": [
    {
     "data": {
      "text/plain": [
       "array([[20, 26,  2, 33, 43],\n",
       "       [21, 57, 17, 44, 56],\n",
       "       [15, 91, 38, 25, 32],\n",
       "       [29, 58,  7, 28, 64],\n",
       "       [22, 36,  0, 30, 35]])"
      ]
     },
     "execution_count": 233,
     "metadata": {},
     "output_type": "execute_result"
    }
   ],
   "source": [
    "conf_matrix_test = confusion_matrix(uniques_y_test_np, uniques_y_test_pred)\n",
    "conf_matrix_test"
   ]
  },
  {
   "cell_type": "code",
   "execution_count": 234,
   "metadata": {},
   "outputs": [
    {
     "name": "stdout",
     "output_type": "stream",
     "text": [
      "indx Value Precision Recall\n",
      "0\n",
      "   -2        0.187     0.161\n",
      "1\n",
      "   -1        0.213     0.292\n",
      "2\n",
      "    0        0.594     0.189\n",
      "3\n",
      "    1        0.175     0.151\n",
      "4\n",
      "    2        0.152     0.285\n"
     ]
    }
   ],
   "source": [
    "print(\"indx Value Precision Recall\")\n",
    "for label in uniques:\n",
    "    indx = int(np.where(uniques == label)[0])\n",
    "    print (indx)\n",
    "    print(f\"{int(label):5d}    {precision(indx, conf_matrix_test):9.3f}    {recall(indx, conf_matrix_test):6.3f}\")"
   ]
  },
  {
   "cell_type": "code",
   "execution_count": 235,
   "metadata": {},
   "outputs": [
    {
     "name": "stdout",
     "output_type": "stream",
     "text": [
      "precision total: 0.26410527361162495\n",
      "recall total: 0.2155486442387108\n"
     ]
    }
   ],
   "source": [
    "print(\"precision total:\", precision_macro_average(conf_matrix_test))\n",
    "print(\"recall total:\", recall_macro_average(conf_matrix_test))"
   ]
  },
  {
   "cell_type": "code",
   "execution_count": 236,
   "metadata": {},
   "outputs": [
    {
     "data": {
      "text/plain": [
       "0.2147165259348613"
      ]
     },
     "execution_count": 236,
     "metadata": {},
     "output_type": "execute_result"
    }
   ],
   "source": [
    "accuracy(conf_matrix_test)"
   ]
  },
  {
   "cell_type": "markdown",
   "metadata": {},
   "source": [
    "### CONFUSION MATRIX TRAIN"
   ]
  },
  {
   "cell_type": "code",
   "execution_count": 237,
   "metadata": {},
   "outputs": [
    {
     "name": "stdout",
     "output_type": "stream",
     "text": [
      "(3591, 5, 18)\n",
      "(3591, 5)\n",
      "(3591, 5)\n"
     ]
    }
   ],
   "source": [
    "#TRAIN\n",
    "y_train_pred = model.predict(X_train_np)\n",
    "print(X_train_np.shape)\n",
    "\n",
    "print(y_train_pred.shape)\n",
    "print(y_train_np.shape)"
   ]
  },
  {
   "cell_type": "code",
   "execution_count": 238,
   "metadata": {},
   "outputs": [
    {
     "name": "stdout",
     "output_type": "stream",
     "text": [
      "[[0.27612227 0.17113468 0.1685345  0.13924116 0.24496736]\n",
      " [0.01817922 0.2841083  0.4448891  0.21739848 0.03542484]\n",
      " [0.2573087  0.26231223 0.13223618 0.17698655 0.17115626]\n",
      " [0.18301488 0.22516577 0.12099075 0.21583049 0.25499812]]\n",
      "[[1. 0. 0. 0. 0.]\n",
      " [0. 0. 1. 0. 0.]\n",
      " [0. 0. 0. 1. 0.]\n",
      " [0. 0. 0. 0. 1.]]\n"
     ]
    }
   ],
   "source": [
    "ID = 4\n",
    "print(y_train_pred[:ID])\n",
    "print(y_train_np[:ID])"
   ]
  },
  {
   "cell_type": "code",
   "execution_count": 239,
   "metadata": {},
   "outputs": [
    {
     "name": "stdout",
     "output_type": "stream",
     "text": [
      "[-2.  0. -1. ... -1.  2.  2.]\n",
      "(3591,)\n",
      "[-2.  0.  1. ... -1. -2. -1.]\n",
      "(3591,)\n"
     ]
    }
   ],
   "source": [
    "uniques_y_train_pred = uniques[y_train_pred.argmax(1)]\n",
    "uniques_y_train_np = uniques[y_train_np.argmax(1)]\n",
    "print(uniques_y_train_pred)\n",
    "print(uniques_y_train_pred.shape)\n",
    "print(uniques_y_train_np)\n",
    "print(uniques_y_train_np.shape)"
   ]
  },
  {
   "cell_type": "code",
   "execution_count": 240,
   "metadata": {},
   "outputs": [
    {
     "name": "stdout",
     "output_type": "stream",
     "text": [
      "[-2. -1.  0.  1.  2.]\n"
     ]
    }
   ],
   "source": [
    "print(uniques)"
   ]
  },
  {
   "cell_type": "code",
   "execution_count": 241,
   "metadata": {},
   "outputs": [
    {
     "data": {
      "text/plain": [
       "array([[378,  81,  23,  39, 269],\n",
       "       [163, 142, 150,  58, 187],\n",
       "       [109,  76, 239,  43, 142],\n",
       "       [159, 105, 105,  98, 227],\n",
       "       [233,  86,  18,  53, 408]])"
      ]
     },
     "execution_count": 241,
     "metadata": {},
     "output_type": "execute_result"
    }
   ],
   "source": [
    "conf_matrix_train = confusion_matrix(uniques_y_train_np, uniques_y_train_pred)\n",
    "conf_matrix_train"
   ]
  },
  {
   "cell_type": "code",
   "execution_count": 242,
   "metadata": {},
   "outputs": [
    {
     "name": "stdout",
     "output_type": "stream",
     "text": [
      "indx Value Precision Recall\n",
      "0\n",
      "   -2        0.363     0.478\n",
      "1\n",
      "   -1        0.290     0.203\n",
      "2\n",
      "    0        0.447     0.392\n",
      "3\n",
      "    1        0.337     0.141\n",
      "4\n",
      "    2        0.331     0.511\n"
     ]
    }
   ],
   "source": [
    "print(\"indx Value Precision Recall\")\n",
    "for label in uniques:\n",
    "    indx = int(np.where(uniques == label)[0])\n",
    "    print (indx)\n",
    "    print(f\"{int(label):5d}    {precision(indx, conf_matrix_train):9.3f}    {recall(indx, conf_matrix_train):6.3f}\")"
   ]
  },
  {
   "cell_type": "code",
   "execution_count": 243,
   "metadata": {},
   "outputs": [
    {
     "name": "stdout",
     "output_type": "stream",
     "text": [
      "precision total: 0.35339176172723263\n",
      "recall total: 0.3452546718939612\n"
     ]
    }
   ],
   "source": [
    "print(\"precision total:\", precision_macro_average(conf_matrix_train))\n",
    "print(\"recall total:\", recall_macro_average(conf_matrix_train))"
   ]
  },
  {
   "cell_type": "code",
   "execution_count": 244,
   "metadata": {},
   "outputs": [
    {
     "data": {
      "text/plain": [
       "0.35226956279587857"
      ]
     },
     "execution_count": 244,
     "metadata": {},
     "output_type": "execute_result"
    }
   ],
   "source": [
    "accuracy(conf_matrix_train)"
   ]
  },
  {
   "cell_type": "markdown",
   "metadata": {},
   "source": [
    "### TEST RESULTS TO CSV"
   ]
  },
  {
   "cell_type": "code",
   "execution_count": 245,
   "metadata": {},
   "outputs": [
    {
     "name": "stdout",
     "output_type": "stream",
     "text": [
      "data_test.shape:  (829, 18)\n"
     ]
    }
   ],
   "source": [
    "print(\"data_test.shape: \", data_test.shape)\n"
   ]
  },
  {
   "cell_type": "code",
   "execution_count": 246,
   "metadata": {},
   "outputs": [
    {
     "name": "stdout",
     "output_type": "stream",
     "text": [
      "        Open     High      Low    Close       Volume\n",
      "0    1.17145  1.17390  1.16697  1.17336  209621.9375\n",
      "1    1.17319  1.17438  1.17308  1.17427    8920.6504\n",
      "2    1.17427  1.17562  1.17198  1.17414  152661.7344\n",
      "3    1.17412  1.18259  1.17408  1.18138  214738.0938\n",
      "4    1.18135  1.18694  1.17955  1.18644  216994.3750\n",
      "..       ...      ...      ...      ...          ...\n",
      "824  1.09019  1.09960  1.08970  1.09787  221915.4388\n",
      "825  1.09788  1.10311  1.09342  1.10169  339215.8879\n",
      "826  1.10168  1.10937  1.09919  1.10782  290715.4826\n",
      "827  1.10780  1.11452  1.10702  1.11071  330692.3901\n",
      "828  1.11213  1.11217  1.11028  1.11158   10126.4174\n",
      "\n",
      "[829 rows x 5 columns]\n"
     ]
    }
   ],
   "source": [
    "data_test_res = data_test\n",
    "data_test_res.reset_index(drop=True, inplace=True)\n",
    "results_data_test = pd.DataFrame(data_test_res['Open'])\n",
    "results_data_test['High'] = data_test_res['High']\n",
    "results_data_test['Low'] = data_test_res['Low']\n",
    "results_data_test['Close'] = data_test_res['Close']\n",
    "results_data_test['Volume'] = data_test_res['Volume']\n",
    "print(results_data_test)"
   ]
  },
  {
   "cell_type": "code",
   "execution_count": 247,
   "metadata": {},
   "outputs": [
    {
     "data": {
      "text/plain": [
       "array([ 2.,  2., -2., -1., -2.,  1.,  0., -1., -1.,  1., -2.,  1.,  0.,\n",
       "       -1., -1.,  1.,  1., -1.,  0., -1.,  1.,  1., -2., -2.,  0., -1.,\n",
       "        1.,  1., -2., -2.,  0., -1., -1.,  1., -2., -2.,  0., -1., -1.,\n",
       "        1.,  1.,  1.,  0., -1., -1.,  1.,  1.,  1.,  0., -1.,  1.,  1.,\n",
       "        1.,  1.,  0., -1.,  1.,  1., -2., -2.,  0., -1.,  1.,  1., -2.,\n",
       "       -2.,  0., -1.,  1.,  1., -2., -2.,  1., -1., -1.,  1.,  1.,  1.,\n",
       "       -1.,  1.,  1.,  2., -1.,  0., -1.,  1.,  1.,  1.,  1.,  0., -1.,\n",
       "        1.,  1.,  1.,  1.,  0., -1., -1.,  1.,  1.,  1.,  0., -1., -1.,\n",
       "        1.,  1.,  1.,  0., -1.,  1.,  1.,  1.,  1.,  0., -1.,  1.,  1.,\n",
       "        1.,  1.,  0., -1.,  1.,  1.,  1.,  1.,  0., -1.,  1.,  1.,  2.,\n",
       "       -1.,  0., -1.,  1.,  1.,  2.,  1.,  0., -1.,  1.,  1.,  2., -1.,\n",
       "        0., -1.,  1.,  1.,  1.,  1.,  0., -1.,  1.,  1.,  1.,  1.,  0.,\n",
       "       -1.,  1.,  1.,  1.,  1.,  0., -1.,  1.,  1.,  1.,  1.,  0., -1.,\n",
       "        1.,  1.,  1.,  1.,  0., -1.,  1.,  1.,  2.,  1.,  0., -1.,  1.,\n",
       "        2.,  1.,  1.,  0., -1.,  1.,  1.,  2.,  2.,  0., -1.,  1.,  2.,\n",
       "        2., -2.,  0., -1.,  1.,  2.,  2., -2.,  0., -1.,  1.,  2.,  2.,\n",
       "       -2.,  0., -1.,  1.,  1.,  2., -2.,  0., -1.,  1.,  2.,  2., -2.,\n",
       "        0., -1.,  1.,  2.,  2., -2.,  0., -1.,  1.,  2.,  2., -2.,  0.,\n",
       "       -1.,  1.,  2.,  2., -2.,  0., -1.,  1.,  2.,  2., -2.,  0., -1.,\n",
       "        1.,  2.,  2., -2.,  0., -1.,  1.,  2.,  2., -2.,  0., -1.,  1.,\n",
       "        2.,  2., -2.,  0., -1.,  1.,  2., -2., -2.,  0., -1.,  1.,  2.,\n",
       "        2.,  2.,  0., -1.,  1.,  2.,  2., -2.,  0., -1.,  1.,  2.,  2.,\n",
       "       -2.,  0., -1.,  1.,  1.,  2., -2.,  0., -1.,  1.,  2.,  2., -2.,\n",
       "        0., -1.,  1.,  1.,  2., -2.,  0., -1.,  1.,  1.,  2., -2.,  0.,\n",
       "       -1.,  1.,  1.,  2.,  2.,  0., -1., -2.,  1.,  2., -2.,  0., -1.,\n",
       "        1.,  1.,  2., -2.,  0., -1.,  1.,  1.,  2.,  2.,  0., -1., -2.,\n",
       "        2.,  2.,  2.,  0.,  2., -2.,  2.,  2.,  2., -1., -1., -2.,  2.,\n",
       "        2., -1., -1.,  2., -2.,  1., -2., -2., -1.,  2., -2.,  1.,  2.,\n",
       "       -2., -1.,  2., -2.,  1.,  2.,  2., -1.,  2., -2.,  2.,  2.,  2.,\n",
       "        0.,  2.,  2.,  2.,  2.,  2., -1., -2., -2.,  2.,  2., -2.,  1.,\n",
       "       -2., -2.,  2.,  2.,  2., -1.,  2., -2.,  1.,  2.,  2., -1.,  2.,\n",
       "       -2.,  2.,  2.,  2.,  0.,  2., -2.,  1.,  2.,  2.,  0.,  2.,  2.,\n",
       "        2.,  2., -2.,  0.,  2., -2.,  1.,  2.,  2.,  0.,  2.,  2.,  2.,\n",
       "        2., -1.,  0.,  2.,  2.,  1.,  2., -2.,  0.,  2.,  2.,  2.,  2.,\n",
       "        2., -1.,  2., -2.,  2.,  2., -2., -1., -1.,  2.,  1.,  2., -1.,\n",
       "        0., -1.,  2.,  2.,  2., -1., -1.,  2.,  2.,  2.,  2., -1., -1.,\n",
       "        2.,  2.,  2.,  2.,  2., -1.,  2.,  2.,  2.,  2.,  2., -1.,  2.,\n",
       "        1.,  1.,  2.,  2., -1.,  2.,  2.,  1.,  2.,  2., -1., -1.,  2.,\n",
       "        2.,  2.,  2., -1.,  2.,  2.,  2.,  2.,  2., -1., -1.,  2.,  2.,\n",
       "        2., -1., -1., -1.,  2.,  2.,  2., -1., -1., -1.,  2.,  2., -1.,\n",
       "       -1., -1., -1.,  2.,  2.,  2., -1., -1.,  2.,  2.,  1.,  2.,  2.,\n",
       "       -1., -1.,  2.,  2.,  2., -1., -1.,  2., -2.,  1.,  2.,  2., -1.,\n",
       "       -1.,  1.,  1.,  2., -2.,  0., -1., -1.,  1., -1., -1., -1., -1.,\n",
       "       -1.,  1.,  2., -1., -1., -1.,  2.,  1.,  2., -2., -1., -1.,  2.,\n",
       "        2.,  2., -1., -1.,  2.,  2.,  1., -2., -2., -1.,  2.,  2.,  2.,\n",
       "       -1., -1., -1., -1., -2.,  1., -2.,  2., -1., -1.,  2.,  2.,  2.,\n",
       "       -2., -1., -1., -2.,  2., -2., -2., -1., -1., -2.,  2., -2., -2.,\n",
       "       -1., -1., -2.,  2.,  2., -1., -1., -1., -2.,  2., -2., -2., -1.,\n",
       "       -1.,  2.,  2.,  2., -2., -1., -1.,  2.,  2., -2., -2., -1., -1.,\n",
       "       -1., -1., -1., -1., -1., -1., -1., -1., -1., -1., -1., -1., -1.,\n",
       "       -1., -1., -1., -1., -1., -2., -1., -1., -1., -1., -1., -1., -1.,\n",
       "        2., -1., -1., -1.,  1.,  1., -2., -2., -1., -1., -1.,  1., -2.,\n",
       "       -2., -1., -1.,  1.,  1., -2.,  2., -1., -1., -2.,  1., -2., -2.,\n",
       "       -1., -1., -1., -1.,  2., -1., -1., -1., -2.,  1., -2.,  1., -1.,\n",
       "       -2.,  1.,  1., -2.,  2., -1., -1.,  1.,  1., -2.,  2., -1., -1.,\n",
       "       -1., -1., -1., -1., -1., -1., -1.,  1.,  2., -2., -1., -1., -1.,\n",
       "       -1., -1., -1., -1., -1., -1., -1., -1., -1., -1., -1.,  2.,  2.,\n",
       "        2., -1., -1., -1., -1., -1., -1., -1., -1., -1., -1., -1., -1.,\n",
       "       -1., -1., -1., -2., -2.,  1.,  2., -1., -1., -2., -2.,  2., -1.,\n",
       "       -1.,  2.,  2.,  2.,  2.,  2., -1., -1., -2.,  1., -2., -2., -1.,\n",
       "       -1.,  2.,  2.,  2., -1., -1., -1.,  2.,  2., -2.,  2., -1., -1.,\n",
       "        2.,  2.,  2., -2., -1., -1., -1., -1.,  2., -1., -1., -1.,  2.,\n",
       "        2.,  2., -1., -1., -1.,  2.,  2.,  2., -1., -1., -1., -1., -1.,\n",
       "       -1., -1., -1., -1.,  2.,  2., -2.,  2., -1., -1.])"
      ]
     },
     "execution_count": 247,
     "metadata": {},
     "output_type": "execute_result"
    }
   ],
   "source": [
    "uniques_y_test_pred[:]"
   ]
  },
  {
   "cell_type": "code",
   "execution_count": 248,
   "metadata": {},
   "outputs": [
    {
     "name": "stdout",
     "output_type": "stream",
     "text": [
      "     Real_Class\n",
      "0           2.0\n",
      "1           2.0\n",
      "2          -2.0\n",
      "3          -1.0\n",
      "4          -2.0\n",
      "..          ...\n",
      "824         2.0\n",
      "825        -2.0\n",
      "826         2.0\n",
      "827        -1.0\n",
      "828        -1.0\n",
      "\n",
      "[829 rows x 1 columns]\n"
     ]
    }
   ],
   "source": [
    "\n",
    "uniques_y_test_pred_pd = pd.DataFrame({'Real_Class': uniques_y_test_pred[:]})\n",
    "print(uniques_y_test_pred_pd)"
   ]
  },
  {
   "cell_type": "code",
   "execution_count": 249,
   "metadata": {},
   "outputs": [],
   "source": [
    "results_data_test['Real_Class'] = uniques_y_test_np\n",
    "results_data_test['Predicted_Class'] = uniques_y_test_pred_pd"
   ]
  },
  {
   "cell_type": "code",
   "execution_count": 250,
   "metadata": {},
   "outputs": [
    {
     "data": {
      "text/html": [
       "<div>\n",
       "<style scoped>\n",
       "    .dataframe tbody tr th:only-of-type {\n",
       "        vertical-align: middle;\n",
       "    }\n",
       "\n",
       "    .dataframe tbody tr th {\n",
       "        vertical-align: top;\n",
       "    }\n",
       "\n",
       "    .dataframe thead th {\n",
       "        text-align: right;\n",
       "    }\n",
       "</style>\n",
       "<table border=\"1\" class=\"dataframe\">\n",
       "  <thead>\n",
       "    <tr style=\"text-align: right;\">\n",
       "      <th></th>\n",
       "      <th>Open</th>\n",
       "      <th>High</th>\n",
       "      <th>Low</th>\n",
       "      <th>Close</th>\n",
       "      <th>Volume</th>\n",
       "      <th>Real_Class</th>\n",
       "      <th>Predicted_Class</th>\n",
       "    </tr>\n",
       "  </thead>\n",
       "  <tbody>\n",
       "    <tr>\n",
       "      <th>0</th>\n",
       "      <td>1.17145</td>\n",
       "      <td>1.17390</td>\n",
       "      <td>1.16697</td>\n",
       "      <td>1.17336</td>\n",
       "      <td>209621.9375</td>\n",
       "      <td>1.0</td>\n",
       "      <td>2.0</td>\n",
       "    </tr>\n",
       "    <tr>\n",
       "      <th>1</th>\n",
       "      <td>1.17319</td>\n",
       "      <td>1.17438</td>\n",
       "      <td>1.17308</td>\n",
       "      <td>1.17427</td>\n",
       "      <td>8920.6504</td>\n",
       "      <td>0.0</td>\n",
       "      <td>2.0</td>\n",
       "    </tr>\n",
       "    <tr>\n",
       "      <th>2</th>\n",
       "      <td>1.17427</td>\n",
       "      <td>1.17562</td>\n",
       "      <td>1.17198</td>\n",
       "      <td>1.17414</td>\n",
       "      <td>152661.7344</td>\n",
       "      <td>2.0</td>\n",
       "      <td>-2.0</td>\n",
       "    </tr>\n",
       "    <tr>\n",
       "      <th>3</th>\n",
       "      <td>1.17412</td>\n",
       "      <td>1.18259</td>\n",
       "      <td>1.17408</td>\n",
       "      <td>1.18138</td>\n",
       "      <td>214738.0938</td>\n",
       "      <td>2.0</td>\n",
       "      <td>-1.0</td>\n",
       "    </tr>\n",
       "    <tr>\n",
       "      <th>4</th>\n",
       "      <td>1.18135</td>\n",
       "      <td>1.18694</td>\n",
       "      <td>1.17955</td>\n",
       "      <td>1.18644</td>\n",
       "      <td>216994.3750</td>\n",
       "      <td>-1.0</td>\n",
       "      <td>-2.0</td>\n",
       "    </tr>\n",
       "    <tr>\n",
       "      <th>5</th>\n",
       "      <td>1.18641</td>\n",
       "      <td>1.18799</td>\n",
       "      <td>1.18254</td>\n",
       "      <td>1.18314</td>\n",
       "      <td>204817.6406</td>\n",
       "      <td>-1.0</td>\n",
       "      <td>1.0</td>\n",
       "    </tr>\n",
       "    <tr>\n",
       "      <th>6</th>\n",
       "      <td>1.18314</td>\n",
       "      <td>1.18750</td>\n",
       "      <td>1.18055</td>\n",
       "      <td>1.18223</td>\n",
       "      <td>199182.5000</td>\n",
       "      <td>0.0</td>\n",
       "      <td>0.0</td>\n",
       "    </tr>\n",
       "    <tr>\n",
       "      <th>7</th>\n",
       "      <td>1.18150</td>\n",
       "      <td>1.18183</td>\n",
       "      <td>1.18059</td>\n",
       "      <td>1.18149</td>\n",
       "      <td>7389.2700</td>\n",
       "      <td>-1.0</td>\n",
       "      <td>-1.0</td>\n",
       "    </tr>\n",
       "    <tr>\n",
       "      <th>8</th>\n",
       "      <td>1.18149</td>\n",
       "      <td>1.18199</td>\n",
       "      <td>1.17808</td>\n",
       "      <td>1.17948</td>\n",
       "      <td>187651.9063</td>\n",
       "      <td>-1.0</td>\n",
       "      <td>-1.0</td>\n",
       "    </tr>\n",
       "    <tr>\n",
       "      <th>9</th>\n",
       "      <td>1.17946</td>\n",
       "      <td>1.17953</td>\n",
       "      <td>1.17362</td>\n",
       "      <td>1.17716</td>\n",
       "      <td>192445.1250</td>\n",
       "      <td>1.0</td>\n",
       "      <td>1.0</td>\n",
       "    </tr>\n",
       "  </tbody>\n",
       "</table>\n",
       "</div>"
      ],
      "text/plain": [
       "      Open     High      Low    Close       Volume  Real_Class  \\\n",
       "0  1.17145  1.17390  1.16697  1.17336  209621.9375         1.0   \n",
       "1  1.17319  1.17438  1.17308  1.17427    8920.6504         0.0   \n",
       "2  1.17427  1.17562  1.17198  1.17414  152661.7344         2.0   \n",
       "3  1.17412  1.18259  1.17408  1.18138  214738.0938         2.0   \n",
       "4  1.18135  1.18694  1.17955  1.18644  216994.3750        -1.0   \n",
       "5  1.18641  1.18799  1.18254  1.18314  204817.6406        -1.0   \n",
       "6  1.18314  1.18750  1.18055  1.18223  199182.5000         0.0   \n",
       "7  1.18150  1.18183  1.18059  1.18149    7389.2700        -1.0   \n",
       "8  1.18149  1.18199  1.17808  1.17948  187651.9063        -1.0   \n",
       "9  1.17946  1.17953  1.17362  1.17716  192445.1250         1.0   \n",
       "\n",
       "   Predicted_Class  \n",
       "0              2.0  \n",
       "1              2.0  \n",
       "2             -2.0  \n",
       "3             -1.0  \n",
       "4             -2.0  \n",
       "5              1.0  \n",
       "6              0.0  \n",
       "7             -1.0  \n",
       "8             -1.0  \n",
       "9              1.0  "
      ]
     },
     "execution_count": 250,
     "metadata": {},
     "output_type": "execute_result"
    }
   ],
   "source": [
    "results_data_test.head(10)"
   ]
  },
  {
   "cell_type": "markdown",
   "metadata": {},
   "source": [
    "### Test Result Save CSV File "
   ]
  },
  {
   "cell_type": "code",
   "execution_count": 251,
   "metadata": {},
   "outputs": [
    {
     "name": "stdout",
     "output_type": "stream",
     "text": [
      "/Users/marami3/Documents/ITESO/IDI4/forex_prediction/Jupyter Notebooks/IDI4/models_clasification/../../../Results/LSTM/C-LSTM_1D_19F_Class_03_Test.csv\n"
     ]
    }
   ],
   "source": [
    "pwd = os.getcwd()\n",
    "filename_path = os.path.join(pwd, r'../../../Results/LSTM/' + FILENAME + '_Test.csv')\n",
    "print(filename_path)"
   ]
  },
  {
   "cell_type": "code",
   "execution_count": 252,
   "metadata": {},
   "outputs": [],
   "source": [
    "#SAVE\n",
    "results_data_test.to_csv(filename_path, header=True, index=False)"
   ]
  },
  {
   "cell_type": "markdown",
   "metadata": {},
   "source": [
    "### TRAIN RESULTS TO CSV"
   ]
  },
  {
   "cell_type": "code",
   "execution_count": 253,
   "metadata": {},
   "outputs": [
    {
     "name": "stdout",
     "output_type": "stream",
     "text": [
      "data_train.shape:  (3596, 18)\n"
     ]
    }
   ],
   "source": [
    "print(\"data_train.shape: \", data_training.shape)\n"
   ]
  },
  {
   "cell_type": "code",
   "execution_count": 254,
   "metadata": {},
   "outputs": [
    {
     "name": "stdout",
     "output_type": "stream",
     "text": [
      "         Open     High      Low    Close        Volume\n",
      "0     1.23655  1.23817  1.22801  1.23179  1.078729e+06\n",
      "1     1.23158  1.23241  1.22967  1.23109  8.212280e+04\n",
      "2     1.23140  1.23154  1.21310  1.21496  1.130388e+06\n",
      "3     1.21495  1.21669  1.20594  1.20711  1.123270e+06\n",
      "4     1.20718  1.21160  1.20519  1.20794  1.118725e+06\n",
      "...       ...      ...      ...      ...           ...\n",
      "3591  1.12887  1.13117  1.11607  1.12843  4.503077e+05\n",
      "3592  1.12843  1.13765  1.12742  1.13165  4.213447e+05\n",
      "3593  1.13165  1.13340  1.12142  1.12580  3.638887e+05\n",
      "3594  1.12395  1.12532  1.12160  1.12237  1.277672e+04\n",
      "3595  1.12237  1.12393  1.11282  1.11765  2.643780e+05\n",
      "\n",
      "[3596 rows x 5 columns]\n",
      "(3596, 5)\n",
      "(3591, 5)\n"
     ]
    }
   ],
   "source": [
    "data_training_res = data_training\n",
    "data_training_res.reset_index(drop=True, inplace=True)\n",
    "results_data_train = pd.DataFrame(data_training_res['Open'])\n",
    "results_data_train['High'] = data_training_res['High']\n",
    "results_data_train['Low'] = data_training_res['Low']\n",
    "results_data_train['Close'] = data_training_res['Close']\n",
    "results_data_train['Volume'] = data_training_res['Volume']\n",
    "print(results_data_train)\n",
    "print(results_data_train.shape)\n",
    "results_data_train = results_data_train.iloc[RANGE:]\n",
    "results_data_train.reset_index(drop=True, inplace=True)\n",
    "print(results_data_train.shape)"
   ]
  },
  {
   "cell_type": "code",
   "execution_count": 255,
   "metadata": {},
   "outputs": [
    {
     "name": "stdout",
     "output_type": "stream",
     "text": [
      "[-2.  0. -1. ... -1.  2.  2.]\n",
      "(3591,)\n"
     ]
    }
   ],
   "source": [
    "print(uniques_y_train_pred[:])\n",
    "print(uniques_y_train_pred.shape)"
   ]
  },
  {
   "cell_type": "code",
   "execution_count": 256,
   "metadata": {},
   "outputs": [
    {
     "name": "stdout",
     "output_type": "stream",
     "text": [
      "      Real_Class\n",
      "0           -2.0\n",
      "1            0.0\n",
      "2           -1.0\n",
      "3            2.0\n",
      "4            2.0\n",
      "...          ...\n",
      "3586         2.0\n",
      "3587        -2.0\n",
      "3588        -1.0\n",
      "3589         2.0\n",
      "3590         2.0\n",
      "\n",
      "[3591 rows x 1 columns]\n",
      "(3591, 1)\n"
     ]
    }
   ],
   "source": [
    "\n",
    "uniques_y_train_pred_pd = pd.DataFrame({'Real_Class': uniques_y_train_pred[:]})\n",
    "print(uniques_y_train_pred_pd)\n",
    "print(uniques_y_train_pred_pd.shape)\n"
   ]
  },
  {
   "cell_type": "code",
   "execution_count": 257,
   "metadata": {},
   "outputs": [],
   "source": [
    "results_data_train['Real_Class'] = uniques_y_train_np\n",
    "results_data_train['Predicted_Class'] = uniques_y_train_pred_pd"
   ]
  },
  {
   "cell_type": "code",
   "execution_count": 258,
   "metadata": {},
   "outputs": [
    {
     "data": {
      "text/html": [
       "<div>\n",
       "<style scoped>\n",
       "    .dataframe tbody tr th:only-of-type {\n",
       "        vertical-align: middle;\n",
       "    }\n",
       "\n",
       "    .dataframe tbody tr th {\n",
       "        vertical-align: top;\n",
       "    }\n",
       "\n",
       "    .dataframe thead th {\n",
       "        text-align: right;\n",
       "    }\n",
       "</style>\n",
       "<table border=\"1\" class=\"dataframe\">\n",
       "  <thead>\n",
       "    <tr style=\"text-align: right;\">\n",
       "      <th></th>\n",
       "      <th>Open</th>\n",
       "      <th>High</th>\n",
       "      <th>Low</th>\n",
       "      <th>Close</th>\n",
       "      <th>Volume</th>\n",
       "      <th>Real_Class</th>\n",
       "      <th>Predicted_Class</th>\n",
       "    </tr>\n",
       "  </thead>\n",
       "  <tbody>\n",
       "    <tr>\n",
       "      <th>0</th>\n",
       "      <td>1.20780</td>\n",
       "      <td>1.21167</td>\n",
       "      <td>1.20465</td>\n",
       "      <td>1.21079</td>\n",
       "      <td>1.126558e+06</td>\n",
       "      <td>-2.0</td>\n",
       "      <td>-2.0</td>\n",
       "    </tr>\n",
       "    <tr>\n",
       "      <th>1</th>\n",
       "      <td>1.21063</td>\n",
       "      <td>1.21349</td>\n",
       "      <td>1.20005</td>\n",
       "      <td>1.20102</td>\n",
       "      <td>1.065118e+06</td>\n",
       "      <td>0.0</td>\n",
       "      <td>0.0</td>\n",
       "    </tr>\n",
       "    <tr>\n",
       "      <th>2</th>\n",
       "      <td>1.20131</td>\n",
       "      <td>1.20189</td>\n",
       "      <td>1.20019</td>\n",
       "      <td>1.20096</td>\n",
       "      <td>7.733910e+04</td>\n",
       "      <td>1.0</td>\n",
       "      <td>-1.0</td>\n",
       "    </tr>\n",
       "    <tr>\n",
       "      <th>3</th>\n",
       "      <td>1.20087</td>\n",
       "      <td>1.20685</td>\n",
       "      <td>1.19860</td>\n",
       "      <td>1.20468</td>\n",
       "      <td>1.124832e+06</td>\n",
       "      <td>2.0</td>\n",
       "      <td>2.0</td>\n",
       "    </tr>\n",
       "    <tr>\n",
       "      <th>4</th>\n",
       "      <td>1.20455</td>\n",
       "      <td>1.21946</td>\n",
       "      <td>1.20442</td>\n",
       "      <td>1.21778</td>\n",
       "      <td>1.117748e+06</td>\n",
       "      <td>1.0</td>\n",
       "      <td>2.0</td>\n",
       "    </tr>\n",
       "    <tr>\n",
       "      <th>5</th>\n",
       "      <td>1.21754</td>\n",
       "      <td>1.22208</td>\n",
       "      <td>1.21466</td>\n",
       "      <td>1.21889</td>\n",
       "      <td>1.106444e+06</td>\n",
       "      <td>-1.0</td>\n",
       "      <td>2.0</td>\n",
       "    </tr>\n",
       "    <tr>\n",
       "      <th>6</th>\n",
       "      <td>1.21899</td>\n",
       "      <td>1.21999</td>\n",
       "      <td>1.21408</td>\n",
       "      <td>1.21666</td>\n",
       "      <td>1.132577e+06</td>\n",
       "      <td>-2.0</td>\n",
       "      <td>-2.0</td>\n",
       "    </tr>\n",
       "    <tr>\n",
       "      <th>7</th>\n",
       "      <td>1.21663</td>\n",
       "      <td>1.21931</td>\n",
       "      <td>1.20414</td>\n",
       "      <td>1.20558</td>\n",
       "      <td>1.063896e+06</td>\n",
       "      <td>1.0</td>\n",
       "      <td>0.0</td>\n",
       "    </tr>\n",
       "    <tr>\n",
       "      <th>8</th>\n",
       "      <td>1.20628</td>\n",
       "      <td>1.20701</td>\n",
       "      <td>1.20509</td>\n",
       "      <td>1.20662</td>\n",
       "      <td>7.789710e+04</td>\n",
       "      <td>0.0</td>\n",
       "      <td>-2.0</td>\n",
       "    </tr>\n",
       "    <tr>\n",
       "      <th>9</th>\n",
       "      <td>1.20657</td>\n",
       "      <td>1.20802</td>\n",
       "      <td>1.20459</td>\n",
       "      <td>1.20650</td>\n",
       "      <td>1.110041e+06</td>\n",
       "      <td>1.0</td>\n",
       "      <td>-1.0</td>\n",
       "    </tr>\n",
       "  </tbody>\n",
       "</table>\n",
       "</div>"
      ],
      "text/plain": [
       "      Open     High      Low    Close        Volume  Real_Class  \\\n",
       "0  1.20780  1.21167  1.20465  1.21079  1.126558e+06        -2.0   \n",
       "1  1.21063  1.21349  1.20005  1.20102  1.065118e+06         0.0   \n",
       "2  1.20131  1.20189  1.20019  1.20096  7.733910e+04         1.0   \n",
       "3  1.20087  1.20685  1.19860  1.20468  1.124832e+06         2.0   \n",
       "4  1.20455  1.21946  1.20442  1.21778  1.117748e+06         1.0   \n",
       "5  1.21754  1.22208  1.21466  1.21889  1.106444e+06        -1.0   \n",
       "6  1.21899  1.21999  1.21408  1.21666  1.132577e+06        -2.0   \n",
       "7  1.21663  1.21931  1.20414  1.20558  1.063896e+06         1.0   \n",
       "8  1.20628  1.20701  1.20509  1.20662  7.789710e+04         0.0   \n",
       "9  1.20657  1.20802  1.20459  1.20650  1.110041e+06         1.0   \n",
       "\n",
       "   Predicted_Class  \n",
       "0             -2.0  \n",
       "1              0.0  \n",
       "2             -1.0  \n",
       "3              2.0  \n",
       "4              2.0  \n",
       "5              2.0  \n",
       "6             -2.0  \n",
       "7              0.0  \n",
       "8             -2.0  \n",
       "9             -1.0  "
      ]
     },
     "execution_count": 258,
     "metadata": {},
     "output_type": "execute_result"
    }
   ],
   "source": [
    "results_data_train.head(10)\n",
    "#results_data_train.tail(10)"
   ]
  },
  {
   "cell_type": "code",
   "execution_count": 259,
   "metadata": {},
   "outputs": [
    {
     "data": {
      "text/plain": [
       "array([-2.,  0.,  1.,  2.,  1., -1., -2.,  1.,  0.,  1.,  2.,  2.,  1.,\n",
       "        1., -1., -1., -2.,  1.,  0., -1.])"
      ]
     },
     "execution_count": 259,
     "metadata": {},
     "output_type": "execute_result"
    }
   ],
   "source": [
    "uniques_y_train_np[:20]"
   ]
  },
  {
   "cell_type": "markdown",
   "metadata": {},
   "source": [
    "### Test Result Save CSV File "
   ]
  },
  {
   "cell_type": "code",
   "execution_count": 263,
   "metadata": {},
   "outputs": [
    {
     "name": "stdout",
     "output_type": "stream",
     "text": [
      "/Users/marami3/Documents/ITESO/IDI4/forex_prediction/Jupyter Notebooks/IDI4/models_clasification/../../../Results/LSTM/C-LSTM_1D_19F_Class_03_Train.csv\n"
     ]
    }
   ],
   "source": [
    "pwd = os.getcwd()\n",
    "filename_path = os.path.join(pwd, r'../../../Results/LSTM/' + FILENAME + '_Train.csv')\n",
    "print(filename_path)"
   ]
  },
  {
   "cell_type": "code",
   "execution_count": 264,
   "metadata": {},
   "outputs": [],
   "source": [
    "#Save\n",
    "results_data_train.to_csv(filename_path, header=True, index=False)"
   ]
  }
 ],
 "metadata": {
  "colab": {
   "name": "RDI_hour.ipynb",
   "provenance": []
  },
  "kernelspec": {
   "display_name": "Python 3",
   "language": "python",
   "name": "python3"
  },
  "language_info": {
   "codemirror_mode": {
    "name": "ipython",
    "version": 3
   },
   "file_extension": ".py",
   "mimetype": "text/x-python",
   "name": "python",
   "nbconvert_exporter": "python",
   "pygments_lexer": "ipython3",
   "version": "3.7.3"
  }
 },
 "nbformat": 4,
 "nbformat_minor": 1
}
