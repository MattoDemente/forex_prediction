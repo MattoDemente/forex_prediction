{
 "cells": [
  {
   "cell_type": "code",
   "execution_count": 322,
   "metadata": {
    "colab": {},
    "colab_type": "code",
    "id": "MHL60GoYoBLT",
    "outputId": "55db4102-144e-4e32-f6b2-38133dd62787"
   },
   "outputs": [],
   "source": [
    "# Mawrer Amed Ramirez Martinez\n",
    "# Avance de TOG IDI 4\n",
    "# ms723737@iteso.mx\n",
    "# mawrer@gmail.com\n",
    "\n",
    "import numpy as np\n",
    "np.random.seed(1)\n",
    "\n",
    "#Tensorflow\n",
    "import tensorflow as tf\n",
    "tf.random.set_seed(2)\n",
    "from tensorflow.keras import Sequential\n",
    "from tensorflow.keras.layers import Dense, LSTM, Dropout\n",
    "\n",
    "#Pandas\n",
    "import pandas as pd \n",
    "\n",
    "#Keras\n",
    "from keras import backend as K\n",
    "from keras import metrics\n",
    "from keras.callbacks import ModelCheckpoint\n",
    "from keras.layers import Activation, Dense\n",
    "from keras.layers.advanced_activations import LeakyReLU\n",
    "from keras.wrappers.scikit_learn import KerasClassifier\n",
    "from keras.utils import np_utils\n",
    "\n",
    "#Statistics Libraries\n",
    "from statsmodels.tsa.arima_model import ARIMA\n",
    "from scipy import stats\n",
    "import math as m\n",
    "\n",
    "#plots\n",
    "import seaborn as sns\n",
    "import matplotlib.pyplot as plt\n",
    "from matplotlib import pyplot\n",
    "from matplotlib.pyplot import figure\n",
    "\n",
    "#OverSampling\n",
    "from imblearn.over_sampling import RandomOverSampler\n",
    "\n",
    "#SKlearn\n",
    "from sklearn.model_selection import cross_val_score\n",
    "from sklearn.model_selection import KFold\n",
    "from sklearn.preprocessing import LabelEncoder\n",
    "from sklearn.pipeline import Pipeline\n",
    "from sklearn.metrics import confusion_matrix\n",
    "from sklearn.preprocessing import MinMaxScaler\n",
    "from sklearn.model_selection import train_test_split\n",
    "from sklearn.metrics import mean_squared_error\n",
    "from sklearn.metrics import mean_absolute_error\n",
    "from sklearn.preprocessing import OneHotEncoder\n",
    "\n",
    "#global\n",
    "import os, glob"
   ]
  },
  {
   "cell_type": "code",
   "execution_count": 323,
   "metadata": {},
   "outputs": [],
   "source": [
    "import warnings\n",
    "warnings.filterwarnings(\"ignore\")"
   ]
  },
  {
   "cell_type": "code",
   "execution_count": 324,
   "metadata": {},
   "outputs": [],
   "source": [
    "ID = \"01\"\n",
    "MODEL_NAME = \"C-LSTM\"\n",
    "NUM_FEATURES = 0\n",
    "TARGET_NAME = \"Class\"\n",
    "FRECUENCIA = \"1H\"\n",
    "MSE_RESULT = 0"
   ]
  },
  {
   "cell_type": "code",
   "execution_count": 325,
   "metadata": {},
   "outputs": [],
   "source": [
    "RANGE = 24\n",
    "\n",
    "HYPER_L1_IN = RANGE\n",
    "EPOCHS = 100\n",
    "BATCH_SIZE = 32\n",
    "\n",
    "TEST_SIZE = .20\n",
    "VAL_SIZE = .10\n",
    "\n",
    "START_IN = 0\n",
    "\n",
    "TRAINING_TIME_ELAPSED = 0\n",
    "\n",
    "TRAIN_MSE=0\n",
    "TRAIN_RMSE=0\n",
    "TRAIN_MAE=0\n",
    "TEST_MSE=0\n",
    "TEST_RMSE=0\n",
    "TEST_MAE=0\n"
   ]
  },
  {
   "cell_type": "code",
   "execution_count": 326,
   "metadata": {},
   "outputs": [
    {
     "name": "stdout",
     "output_type": "stream",
     "text": [
      "C-EURUSD_FULL_1D_21F.csv\n",
      "C-EURUSD_FULL_1H_25F.csv\n"
     ]
    }
   ],
   "source": [
    "pwd = os.getcwd()\n",
    "datasource_path = os.path.join(pwd, r'../../../Datasets/Junio2020/procesados_classification/')\n",
    "filenames = glob.glob(datasource_path + \"/*.csv\")\n",
    "filenames.sort()\n",
    "for file in filenames:\n",
    "    print(os.path.basename(file))"
   ]
  },
  {
   "cell_type": "code",
   "execution_count": 327,
   "metadata": {
    "colab": {},
    "colab_type": "code",
    "id": "rS_SC_nwoBLb",
    "outputId": "45629160-abff-4b56-f141-eadb3244e91c"
   },
   "outputs": [
    {
     "data": {
      "text/html": [
       "<div>\n",
       "<style scoped>\n",
       "    .dataframe tbody tr th:only-of-type {\n",
       "        vertical-align: middle;\n",
       "    }\n",
       "\n",
       "    .dataframe tbody tr th {\n",
       "        vertical-align: top;\n",
       "    }\n",
       "\n",
       "    .dataframe thead th {\n",
       "        text-align: right;\n",
       "    }\n",
       "</style>\n",
       "<table border=\"1\" class=\"dataframe\">\n",
       "  <thead>\n",
       "    <tr style=\"text-align: right;\">\n",
       "      <th></th>\n",
       "      <th>Gmt time</th>\n",
       "      <th>Open</th>\n",
       "      <th>High</th>\n",
       "      <th>Low</th>\n",
       "      <th>Close</th>\n",
       "      <th>Volume</th>\n",
       "      <th>Open_Bid</th>\n",
       "      <th>High_Bid</th>\n",
       "      <th>Low_Bid</th>\n",
       "      <th>Close_Bid</th>\n",
       "      <th>...</th>\n",
       "      <th>Pct_Range_Close_diff</th>\n",
       "      <th>MA_Close_5</th>\n",
       "      <th>MA_Close_25</th>\n",
       "      <th>MA_Close_50</th>\n",
       "      <th>MA_Close_200</th>\n",
       "      <th>Class</th>\n",
       "      <th>Sell</th>\n",
       "      <th>Sell2</th>\n",
       "      <th>Buy</th>\n",
       "      <th>Buy2</th>\n",
       "    </tr>\n",
       "  </thead>\n",
       "  <tbody>\n",
       "    <tr>\n",
       "      <th>0</th>\n",
       "      <td>2004-01-01 00:00:00</td>\n",
       "      <td>1.25950</td>\n",
       "      <td>1.25960</td>\n",
       "      <td>1.25826</td>\n",
       "      <td>1.25910</td>\n",
       "      <td>6654.2002</td>\n",
       "      <td>1.25934</td>\n",
       "      <td>1.25948</td>\n",
       "      <td>1.25814</td>\n",
       "      <td>1.25900</td>\n",
       "      <td>...</td>\n",
       "      <td>0.000000</td>\n",
       "      <td>0.000000</td>\n",
       "      <td>0.0</td>\n",
       "      <td>0.0</td>\n",
       "      <td>0.0</td>\n",
       "      <td>1.0</td>\n",
       "      <td>NaN</td>\n",
       "      <td>NaN</td>\n",
       "      <td>1.25910</td>\n",
       "      <td>NaN</td>\n",
       "    </tr>\n",
       "    <tr>\n",
       "      <th>1</th>\n",
       "      <td>2004-01-01 01:00:00</td>\n",
       "      <td>1.25958</td>\n",
       "      <td>1.25960</td>\n",
       "      <td>1.25947</td>\n",
       "      <td>1.25951</td>\n",
       "      <td>660.6000</td>\n",
       "      <td>1.25942</td>\n",
       "      <td>1.25948</td>\n",
       "      <td>1.25934</td>\n",
       "      <td>1.25941</td>\n",
       "      <td>...</td>\n",
       "      <td>0.000326</td>\n",
       "      <td>0.000000</td>\n",
       "      <td>0.0</td>\n",
       "      <td>0.0</td>\n",
       "      <td>0.0</td>\n",
       "      <td>0.0</td>\n",
       "      <td>NaN</td>\n",
       "      <td>NaN</td>\n",
       "      <td>NaN</td>\n",
       "      <td>NaN</td>\n",
       "    </tr>\n",
       "    <tr>\n",
       "      <th>2</th>\n",
       "      <td>2004-01-01 02:00:00</td>\n",
       "      <td>1.25955</td>\n",
       "      <td>1.25962</td>\n",
       "      <td>1.25944</td>\n",
       "      <td>1.25951</td>\n",
       "      <td>2091.0000</td>\n",
       "      <td>1.25945</td>\n",
       "      <td>1.25948</td>\n",
       "      <td>1.25927</td>\n",
       "      <td>1.25936</td>\n",
       "      <td>...</td>\n",
       "      <td>-0.000326</td>\n",
       "      <td>0.000000</td>\n",
       "      <td>0.0</td>\n",
       "      <td>0.0</td>\n",
       "      <td>0.0</td>\n",
       "      <td>-1.0</td>\n",
       "      <td>1.25951</td>\n",
       "      <td>NaN</td>\n",
       "      <td>NaN</td>\n",
       "      <td>NaN</td>\n",
       "    </tr>\n",
       "    <tr>\n",
       "      <th>3</th>\n",
       "      <td>2004-01-01 03:00:00</td>\n",
       "      <td>1.25950</td>\n",
       "      <td>1.25965</td>\n",
       "      <td>1.25834</td>\n",
       "      <td>1.25869</td>\n",
       "      <td>10003.0996</td>\n",
       "      <td>1.25934</td>\n",
       "      <td>1.25953</td>\n",
       "      <td>1.25821</td>\n",
       "      <td>1.25854</td>\n",
       "      <td>...</td>\n",
       "      <td>-0.000651</td>\n",
       "      <td>0.000000</td>\n",
       "      <td>0.0</td>\n",
       "      <td>0.0</td>\n",
       "      <td>0.0</td>\n",
       "      <td>1.0</td>\n",
       "      <td>NaN</td>\n",
       "      <td>NaN</td>\n",
       "      <td>1.25869</td>\n",
       "      <td>NaN</td>\n",
       "    </tr>\n",
       "    <tr>\n",
       "      <th>4</th>\n",
       "      <td>2004-01-01 04:00:00</td>\n",
       "      <td>1.25908</td>\n",
       "      <td>1.25960</td>\n",
       "      <td>1.25843</td>\n",
       "      <td>1.25950</td>\n",
       "      <td>7603.3999</td>\n",
       "      <td>1.25898</td>\n",
       "      <td>1.25948</td>\n",
       "      <td>1.25829</td>\n",
       "      <td>1.25940</td>\n",
       "      <td>...</td>\n",
       "      <td>0.001295</td>\n",
       "      <td>1.259262</td>\n",
       "      <td>0.0</td>\n",
       "      <td>0.0</td>\n",
       "      <td>0.0</td>\n",
       "      <td>0.0</td>\n",
       "      <td>NaN</td>\n",
       "      <td>NaN</td>\n",
       "      <td>NaN</td>\n",
       "      <td>NaN</td>\n",
       "    </tr>\n",
       "  </tbody>\n",
       "</table>\n",
       "<p>5 rows × 25 columns</p>\n",
       "</div>"
      ],
      "text/plain": [
       "             Gmt time     Open     High      Low    Close      Volume  \\\n",
       "0 2004-01-01 00:00:00  1.25950  1.25960  1.25826  1.25910   6654.2002   \n",
       "1 2004-01-01 01:00:00  1.25958  1.25960  1.25947  1.25951    660.6000   \n",
       "2 2004-01-01 02:00:00  1.25955  1.25962  1.25944  1.25951   2091.0000   \n",
       "3 2004-01-01 03:00:00  1.25950  1.25965  1.25834  1.25869  10003.0996   \n",
       "4 2004-01-01 04:00:00  1.25908  1.25960  1.25843  1.25950   7603.3999   \n",
       "\n",
       "   Open_Bid  High_Bid  Low_Bid  Close_Bid  ...  Pct_Range_Close_diff  \\\n",
       "0   1.25934   1.25948  1.25814    1.25900  ...              0.000000   \n",
       "1   1.25942   1.25948  1.25934    1.25941  ...              0.000326   \n",
       "2   1.25945   1.25948  1.25927    1.25936  ...             -0.000326   \n",
       "3   1.25934   1.25953  1.25821    1.25854  ...             -0.000651   \n",
       "4   1.25898   1.25948  1.25829    1.25940  ...              0.001295   \n",
       "\n",
       "   MA_Close_5 MA_Close_25  MA_Close_50  MA_Close_200  Class     Sell  Sell2  \\\n",
       "0    0.000000         0.0          0.0           0.0    1.0      NaN    NaN   \n",
       "1    0.000000         0.0          0.0           0.0    0.0      NaN    NaN   \n",
       "2    0.000000         0.0          0.0           0.0   -1.0  1.25951    NaN   \n",
       "3    0.000000         0.0          0.0           0.0    1.0      NaN    NaN   \n",
       "4    1.259262         0.0          0.0           0.0    0.0      NaN    NaN   \n",
       "\n",
       "       Buy  Buy2  \n",
       "0  1.25910   NaN  \n",
       "1      NaN   NaN  \n",
       "2      NaN   NaN  \n",
       "3  1.25869   NaN  \n",
       "4      NaN   NaN  \n",
       "\n",
       "[5 rows x 25 columns]"
      ]
     },
     "execution_count": 327,
     "metadata": {},
     "output_type": "execute_result"
    }
   ],
   "source": [
    "if FRECUENCIA ==\"1D\":\n",
    "    dateparse = lambda x: pd.datetime.strptime(x, '%Y-%m-%d')\n",
    "else:\n",
    "    dateparse = lambda x: pd.datetime.strptime(x, '%Y-%m-%d %H:%M:%S')\n",
    "DATASET = pd.read_csv(filenames[1], header=0, parse_dates=['Gmt time'], date_parser=dateparse)\n",
    "DATASET.head()\n"
   ]
  },
  {
   "cell_type": "code",
   "execution_count": 328,
   "metadata": {
    "scrolled": true
   },
   "outputs": [
    {
     "name": "stdout",
     "output_type": "stream",
     "text": [
      "Shape:  (102514, 25)\n",
      "                Open           High            Low          Close  \\\n",
      "count  102514.000000  102514.000000  102514.000000  102514.000000   \n",
      "mean        1.264046       1.265085       1.263008       1.264047   \n",
      "std         0.122828       0.123008       0.122629       0.122829   \n",
      "min         1.035600       1.037040       1.034050       1.035630   \n",
      "25%         1.149838       1.150705       1.149015       1.149833   \n",
      "50%         1.270655       1.271820       1.269425       1.270670   \n",
      "75%         1.350917       1.352038       1.349740       1.350920   \n",
      "max         1.601460       1.604030       1.598830       1.601570   \n",
      "\n",
      "              Volume       Open_Bid       High_Bid        Low_Bid  \\\n",
      "count  102514.000000  102514.000000  102514.000000  102514.000000   \n",
      "mean    20711.113359       1.263956       1.265001       1.262923   \n",
      "std     32706.529958       0.122803       0.122983       0.122604   \n",
      "min         0.380000       1.035580       1.037020       1.034030   \n",
      "25%      4984.647625       1.149787       1.150692       1.148982   \n",
      "50%     11612.515150       1.270550       1.271705       1.269300   \n",
      "75%     25196.404325       1.350840       1.351958       1.349618   \n",
      "max    491584.312500       1.601300       1.603890       1.598790   \n",
      "\n",
      "           Close_Bid     Volume_Bid  ...  Pct_Range_Close_diff     MA_Close_5  \\\n",
      "count  102514.000000  102514.000000  ...          1.025140e+05  102514.000000   \n",
      "mean        1.263959   23001.976952  ...         -1.579847e-09       1.264001   \n",
      "std         0.122804   39147.465272  ...          1.728898e-03       0.123072   \n",
      "min         1.035620       0.150000  ...         -2.114724e-02       0.000000   \n",
      "25%         1.149785    4935.717375  ...         -7.487611e-04       1.149927   \n",
      "50%         1.270560   11578.579550  ...         -7.915322e-08       1.270633   \n",
      "75%         1.350838   29609.950200  ...          7.520317e-04       1.350909   \n",
      "max         1.601420  591638.812500  ...          2.371723e-02       1.599448   \n",
      "\n",
      "         MA_Close_25    MA_Close_50   MA_Close_200          Class  \\\n",
      "count  102514.000000  102514.000000  102514.000000  102514.000000   \n",
      "mean        1.263770       1.263481       1.261751       0.001951   \n",
      "std         0.124291       0.125796       0.134455       1.299852   \n",
      "min         0.000000       0.000000       0.000000      -2.000000   \n",
      "25%         1.149598       1.149289       1.146064      -1.000000   \n",
      "50%         1.270757       1.270856       1.271671       0.000000   \n",
      "75%         1.350919       1.351020       1.350574       1.000000   \n",
      "max         1.597393       1.594045       1.587591       2.000000   \n",
      "\n",
      "               Sell         Sell2           Buy          Buy2  \n",
      "count  20466.000000  16534.000000  20862.000000  16436.000000  \n",
      "mean       1.260869      1.273033      1.260702      1.273418  \n",
      "std        0.122375      0.123900      0.122819      0.124542  \n",
      "min        1.038900      1.037880      1.037160      1.035630  \n",
      "25%        1.144303      1.174872      1.142815      1.175898  \n",
      "50%        1.265400      1.277200      1.265545      1.277900  \n",
      "75%        1.346098      1.358190      1.346288      1.358305  \n",
      "max        1.599850      1.601570      1.599120      1.599150  \n",
      "\n",
      "[8 rows x 23 columns]\n",
      "Open                    float64\n",
      "High                    float64\n",
      "Low                     float64\n",
      "Close                   float64\n",
      "Volume                  float64\n",
      "Open_Bid                float64\n",
      "High_Bid                float64\n",
      "Low_Bid                 float64\n",
      "Close_Bid               float64\n",
      "Volume_Bid              float64\n",
      "Spread                  float64\n",
      "weekday                   int64\n",
      "Pct_Range_Close         float64\n",
      "Pct_Range_Close_diff    float64\n",
      "MA_Close_5              float64\n",
      "MA_Close_25             float64\n",
      "MA_Close_50             float64\n",
      "MA_Close_200            float64\n",
      "Class                   float64\n",
      "Sell                    float64\n",
      "Sell2                   float64\n",
      "Buy                     float64\n",
      "Buy2                    float64\n",
      "dtype: object\n"
     ]
    }
   ],
   "source": [
    "#Describe DATASET\n",
    "print('Shape: ', DATASET.shape)\n",
    "print(DATASET.describe())\n",
    "DATASET = DATASET.drop(['day_name'], axis = 1)\n",
    "DATASET = DATASET.drop(['Gmt time'], axis = 1)\n",
    "print(DATASET.dtypes)\n"
   ]
  },
  {
   "cell_type": "code",
   "execution_count": 329,
   "metadata": {},
   "outputs": [
    {
     "name": "stdout",
     "output_type": "stream",
     "text": [
      "(102315, 23)\n",
      "      Open     High      Low    Close      Volume  Open_Bid  High_Bid  \\\n",
      "0  1.27584  1.27666  1.27351  1.27436  25980.0000   1.27580   1.27649   \n",
      "1  1.27435  1.27891  1.27331  1.27891  24881.5996   1.27419   1.27884   \n",
      "2  1.27890  1.27957  1.27550  1.27552  24909.9004   1.27880   1.27947   \n",
      "3  1.27523  1.27566  1.27374  1.27462  26329.6992   1.27513   1.27555   \n",
      "4  1.27465  1.27482  1.27195  1.27277  25984.5000   1.27449   1.27467   \n",
      "\n",
      "   Low_Bid  Close_Bid  Volume_Bid  ...  Pct_Range_Close_diff  MA_Close_5  \\\n",
      "0  1.27341    1.27426  30272.0996  ...             -0.001270    1.275586   \n",
      "1  1.27318    1.27871  28934.9004  ...              0.004746    1.276222   \n",
      "2  1.27536    1.27538  32662.0000  ...             -0.006221    1.276078   \n",
      "3  1.27358    1.27452  31190.5996  ...              0.001945    1.275854   \n",
      "4  1.27184    1.27262  32288.5996  ...             -0.000746    1.275236   \n",
      "\n",
      "   MA_Close_25  MA_Close_50  MA_Close_200  Class     Sell    Sell2  Buy  \\\n",
      "0     1.278516     1.279646      1.269048    2.0      NaN      NaN  NaN   \n",
      "1     1.278232     1.279762      1.269147   -2.0      NaN  1.27891  NaN   \n",
      "2     1.277701     1.279831      1.269227   -1.0  1.27552      NaN  NaN   \n",
      "3     1.277153     1.279893      1.269302   -2.0      NaN  1.27462  NaN   \n",
      "4     1.276572     1.279881      1.269373    2.0      NaN      NaN  NaN   \n",
      "\n",
      "      Buy2  \n",
      "0  1.27436  \n",
      "1      NaN  \n",
      "2      NaN  \n",
      "3      NaN  \n",
      "4  1.27277  \n",
      "\n",
      "[5 rows x 23 columns]\n"
     ]
    }
   ],
   "source": [
    "DF_Full = DATASET[199:]\n",
    "DF_Full.reset_index(drop=True, inplace=True)\n",
    "print(DF_Full.shape)\n",
    "print(DF_Full.head())"
   ]
  },
  {
   "cell_type": "code",
   "execution_count": 330,
   "metadata": {},
   "outputs": [
    {
     "name": "stdout",
     "output_type": "stream",
     "text": [
      "Total:  102315\n",
      "Start:  0\n"
     ]
    }
   ],
   "source": [
    "total = DF_Full.shape[0]\n",
    "print('Total: ', total)\n",
    "print('Start: ', START_IN)"
   ]
  },
  {
   "cell_type": "code",
   "execution_count": 331,
   "metadata": {},
   "outputs": [
    {
     "name": "stdout",
     "output_type": "stream",
     "text": [
      "(102315, 23)\n"
     ]
    }
   ],
   "source": [
    "#Shape the first START of the total\n",
    "DF_Full = DF_Full.iloc[START_IN:]\n",
    "DF_Full.reset_index(drop=True, inplace=True) #reset indexes from iloc\n",
    "NUM_FEATURES = DF_Full.shape[1]\n",
    "print(DF_Full.shape)"
   ]
  },
  {
   "cell_type": "code",
   "execution_count": 332,
   "metadata": {},
   "outputs": [
    {
     "name": "stdout",
     "output_type": "stream",
     "text": [
      "Total:  102514\n"
     ]
    }
   ],
   "source": [
    "\n",
    "total = DATASET.shape[0]\n",
    "print('Total: ', total)"
   ]
  },
  {
   "cell_type": "code",
   "execution_count": 333,
   "metadata": {},
   "outputs": [
    {
     "data": {
      "text/plain": [
       "0     2.0\n",
       "1    -2.0\n",
       "2    -1.0\n",
       "3    -2.0\n",
       "4     2.0\n",
       "5     0.0\n",
       "6     2.0\n",
       "7     2.0\n",
       "8    -2.0\n",
       "9     0.0\n",
       "10    2.0\n",
       "11    0.0\n",
       "Name: Class, dtype: float64"
      ]
     },
     "execution_count": 333,
     "metadata": {},
     "output_type": "execute_result"
    }
   ],
   "source": [
    "DF_Full[TARGET_NAME][0:12]"
   ]
  },
  {
   "cell_type": "markdown",
   "metadata": {},
   "source": [
    "### Generate VECTOR Y"
   ]
  },
  {
   "cell_type": "code",
   "execution_count": 334,
   "metadata": {},
   "outputs": [
    {
     "name": "stdout",
     "output_type": "stream",
     "text": [
      "[4 0 1 ... 2 3 2]\n"
     ]
    }
   ],
   "source": [
    "#generate the VECTOR Y\n",
    "uniques, ids = np.unique(DF_Full[TARGET_NAME], return_inverse=True)\n",
    "print(ids)\n",
    "#target_y = np_utils.to_categorical(DF_Full[TARGET_NAME],num_classes=5)\n",
    "target_y = np_utils.to_categorical(ids,len(uniques))"
   ]
  },
  {
   "cell_type": "code",
   "execution_count": 335,
   "metadata": {},
   "outputs": [
    {
     "name": "stdout",
     "output_type": "stream",
     "text": [
      "[[0. 0. 0. 0. 1.]\n",
      " [1. 0. 0. 0. 0.]\n",
      " [0. 1. 0. 0. 0.]\n",
      " [1. 0. 0. 0. 0.]\n",
      " [0. 0. 0. 0. 1.]\n",
      " [0. 0. 1. 0. 0.]\n",
      " [0. 0. 0. 0. 1.]\n",
      " [0. 0. 0. 0. 1.]\n",
      " [1. 0. 0. 0. 0.]\n",
      " [0. 0. 1. 0. 0.]]\n"
     ]
    },
    {
     "data": {
      "text/plain": [
       "(102315, 5)"
      ]
     },
     "execution_count": 335,
     "metadata": {},
     "output_type": "execute_result"
    }
   ],
   "source": [
    "close_y = target_y\n",
    "print(close_y[:10])   \n",
    "#   [1. 0. 0. 0. 0.]   =  0\n",
    "#   [0. 1. 0. 0. 0.]   =  1\n",
    "#   [0. 0. 1. 0. 0.]   =   2 \n",
    "#   [0. 0. 0. 1. 0.]   =  -2\n",
    "#   [0. 0. 0. 0. 1.]   =  -1\n",
    "close_y.shape"
   ]
  },
  {
   "cell_type": "markdown",
   "metadata": {},
   "source": [
    "### REMOVE COLUMNS "
   ]
  },
  {
   "cell_type": "code",
   "execution_count": 336,
   "metadata": {},
   "outputs": [
    {
     "name": "stdout",
     "output_type": "stream",
     "text": [
      "(102315, 23)\n",
      "(102315, 18)\n"
     ]
    },
    {
     "data": {
      "text/html": [
       "<div>\n",
       "<style scoped>\n",
       "    .dataframe tbody tr th:only-of-type {\n",
       "        vertical-align: middle;\n",
       "    }\n",
       "\n",
       "    .dataframe tbody tr th {\n",
       "        vertical-align: top;\n",
       "    }\n",
       "\n",
       "    .dataframe thead th {\n",
       "        text-align: right;\n",
       "    }\n",
       "</style>\n",
       "<table border=\"1\" class=\"dataframe\">\n",
       "  <thead>\n",
       "    <tr style=\"text-align: right;\">\n",
       "      <th></th>\n",
       "      <th>Open</th>\n",
       "      <th>High</th>\n",
       "      <th>Low</th>\n",
       "      <th>Close</th>\n",
       "      <th>Volume</th>\n",
       "      <th>Open_Bid</th>\n",
       "      <th>High_Bid</th>\n",
       "      <th>Low_Bid</th>\n",
       "      <th>Close_Bid</th>\n",
       "      <th>Volume_Bid</th>\n",
       "      <th>Spread</th>\n",
       "      <th>weekday</th>\n",
       "      <th>Pct_Range_Close</th>\n",
       "      <th>Pct_Range_Close_diff</th>\n",
       "      <th>MA_Close_5</th>\n",
       "      <th>MA_Close_25</th>\n",
       "      <th>MA_Close_50</th>\n",
       "      <th>MA_Close_200</th>\n",
       "    </tr>\n",
       "  </thead>\n",
       "  <tbody>\n",
       "    <tr>\n",
       "      <th>0</th>\n",
       "      <td>1.27584</td>\n",
       "      <td>1.27666</td>\n",
       "      <td>1.27351</td>\n",
       "      <td>1.27436</td>\n",
       "      <td>25980.0000</td>\n",
       "      <td>1.27580</td>\n",
       "      <td>1.27649</td>\n",
       "      <td>1.27341</td>\n",
       "      <td>1.27426</td>\n",
       "      <td>30272.0996</td>\n",
       "      <td>0.00010</td>\n",
       "      <td>1</td>\n",
       "      <td>-0.001176</td>\n",
       "      <td>-0.001270</td>\n",
       "      <td>1.275586</td>\n",
       "      <td>1.278516</td>\n",
       "      <td>1.279646</td>\n",
       "      <td>1.269048</td>\n",
       "    </tr>\n",
       "    <tr>\n",
       "      <th>1</th>\n",
       "      <td>1.27435</td>\n",
       "      <td>1.27891</td>\n",
       "      <td>1.27331</td>\n",
       "      <td>1.27891</td>\n",
       "      <td>24881.5996</td>\n",
       "      <td>1.27419</td>\n",
       "      <td>1.27884</td>\n",
       "      <td>1.27318</td>\n",
       "      <td>1.27871</td>\n",
       "      <td>28934.9004</td>\n",
       "      <td>0.00020</td>\n",
       "      <td>1</td>\n",
       "      <td>0.003570</td>\n",
       "      <td>0.004746</td>\n",
       "      <td>1.276222</td>\n",
       "      <td>1.278232</td>\n",
       "      <td>1.279762</td>\n",
       "      <td>1.269147</td>\n",
       "    </tr>\n",
       "    <tr>\n",
       "      <th>2</th>\n",
       "      <td>1.27890</td>\n",
       "      <td>1.27957</td>\n",
       "      <td>1.27550</td>\n",
       "      <td>1.27552</td>\n",
       "      <td>24909.9004</td>\n",
       "      <td>1.27880</td>\n",
       "      <td>1.27947</td>\n",
       "      <td>1.27536</td>\n",
       "      <td>1.27538</td>\n",
       "      <td>32662.0000</td>\n",
       "      <td>0.00014</td>\n",
       "      <td>1</td>\n",
       "      <td>-0.002651</td>\n",
       "      <td>-0.006221</td>\n",
       "      <td>1.276078</td>\n",
       "      <td>1.277701</td>\n",
       "      <td>1.279831</td>\n",
       "      <td>1.269227</td>\n",
       "    </tr>\n",
       "    <tr>\n",
       "      <th>3</th>\n",
       "      <td>1.27523</td>\n",
       "      <td>1.27566</td>\n",
       "      <td>1.27374</td>\n",
       "      <td>1.27462</td>\n",
       "      <td>26329.6992</td>\n",
       "      <td>1.27513</td>\n",
       "      <td>1.27555</td>\n",
       "      <td>1.27358</td>\n",
       "      <td>1.27452</td>\n",
       "      <td>31190.5996</td>\n",
       "      <td>0.00010</td>\n",
       "      <td>1</td>\n",
       "      <td>-0.000706</td>\n",
       "      <td>0.001945</td>\n",
       "      <td>1.275854</td>\n",
       "      <td>1.277153</td>\n",
       "      <td>1.279893</td>\n",
       "      <td>1.269302</td>\n",
       "    </tr>\n",
       "    <tr>\n",
       "      <th>4</th>\n",
       "      <td>1.27465</td>\n",
       "      <td>1.27482</td>\n",
       "      <td>1.27195</td>\n",
       "      <td>1.27277</td>\n",
       "      <td>25984.5000</td>\n",
       "      <td>1.27449</td>\n",
       "      <td>1.27467</td>\n",
       "      <td>1.27184</td>\n",
       "      <td>1.27262</td>\n",
       "      <td>32288.5996</td>\n",
       "      <td>0.00015</td>\n",
       "      <td>1</td>\n",
       "      <td>-0.001451</td>\n",
       "      <td>-0.000746</td>\n",
       "      <td>1.275236</td>\n",
       "      <td>1.276572</td>\n",
       "      <td>1.279881</td>\n",
       "      <td>1.269373</td>\n",
       "    </tr>\n",
       "  </tbody>\n",
       "</table>\n",
       "</div>"
      ],
      "text/plain": [
       "      Open     High      Low    Close      Volume  Open_Bid  High_Bid  \\\n",
       "0  1.27584  1.27666  1.27351  1.27436  25980.0000   1.27580   1.27649   \n",
       "1  1.27435  1.27891  1.27331  1.27891  24881.5996   1.27419   1.27884   \n",
       "2  1.27890  1.27957  1.27550  1.27552  24909.9004   1.27880   1.27947   \n",
       "3  1.27523  1.27566  1.27374  1.27462  26329.6992   1.27513   1.27555   \n",
       "4  1.27465  1.27482  1.27195  1.27277  25984.5000   1.27449   1.27467   \n",
       "\n",
       "   Low_Bid  Close_Bid  Volume_Bid   Spread  weekday  Pct_Range_Close  \\\n",
       "0  1.27341    1.27426  30272.0996  0.00010        1        -0.001176   \n",
       "1  1.27318    1.27871  28934.9004  0.00020        1         0.003570   \n",
       "2  1.27536    1.27538  32662.0000  0.00014        1        -0.002651   \n",
       "3  1.27358    1.27452  31190.5996  0.00010        1        -0.000706   \n",
       "4  1.27184    1.27262  32288.5996  0.00015        1        -0.001451   \n",
       "\n",
       "   Pct_Range_Close_diff  MA_Close_5  MA_Close_25  MA_Close_50  MA_Close_200  \n",
       "0             -0.001270    1.275586     1.278516     1.279646      1.269048  \n",
       "1              0.004746    1.276222     1.278232     1.279762      1.269147  \n",
       "2             -0.006221    1.276078     1.277701     1.279831      1.269227  \n",
       "3              0.001945    1.275854     1.277153     1.279893      1.269302  \n",
       "4             -0.000746    1.275236     1.276572     1.279881      1.269373  "
      ]
     },
     "execution_count": 336,
     "metadata": {},
     "output_type": "execute_result"
    }
   ],
   "source": [
    "#REMOVE CLASS FROM Data\n",
    "print(DF_Full.shape)\n",
    "DF_Full = DF_Full.drop(['Class'], axis = 1)\n",
    "DF_Full = DF_Full.drop(['Buy'], axis = 1)\n",
    "DF_Full = DF_Full.drop(['Buy2'], axis = 1)\n",
    "DF_Full = DF_Full.drop(['Sell'], axis = 1)\n",
    "DF_Full = DF_Full.drop(['Sell2'], axis = 1)\n",
    "DF_Full.reset_index(drop=True, inplace=True)\n",
    "print(DF_Full.shape)\n",
    "DF_Full.head()"
   ]
  },
  {
   "cell_type": "markdown",
   "metadata": {},
   "source": [
    "### SPLIT in 3 Sub Datasets"
   ]
  },
  {
   "cell_type": "code",
   "execution_count": 165,
   "metadata": {},
   "outputs": [
    {
     "name": "stdout",
     "output_type": "stream",
     "text": [
      "Sum of %s: 0.30000000000000004\n",
      "count of Val and Test: 30754\n",
      "end of train:  71760\n",
      "count val:  10251\n",
      "count test:  20502\n",
      "end_val 82011\n"
     ]
    }
   ],
   "source": [
    "s1 = TEST_SIZE + VAL_SIZE\n",
    "print('Sum of %s:',s1)\n",
    "f1 = int(total * s1)\n",
    "print('count of Val and Test:',f1)\n",
    "end_train = total - f1\n",
    "print('end of train: ', end_train)\n",
    "\n",
    "count_val= int(total * VAL_SIZE)\n",
    "print('count val: ',count_val)\n",
    "\n",
    "count_test= int(total * TEST_SIZE)\n",
    "print('count test: ',count_test)\n",
    "\n",
    "\n",
    "end_val = end_train + count_val\n",
    "print('end_val', end_val)\n",
    "\n"
   ]
  },
  {
   "cell_type": "code",
   "execution_count": 166,
   "metadata": {},
   "outputs": [
    {
     "data": {
      "text/plain": [
       "array([[0., 0., 0., 0., 1.],\n",
       "       [1., 0., 0., 0., 0.],\n",
       "       [0., 1., 0., 0., 0.],\n",
       "       ...,\n",
       "       [1., 0., 0., 0., 0.],\n",
       "       [1., 0., 0., 0., 0.],\n",
       "       [0., 0., 0., 0., 1.]], dtype=float32)"
      ]
     },
     "execution_count": 166,
     "metadata": {},
     "output_type": "execute_result"
    }
   ],
   "source": [
    "close_y[:end_train,:]"
   ]
  },
  {
   "cell_type": "code",
   "execution_count": 271,
   "metadata": {},
   "outputs": [
    {
     "name": "stdout",
     "output_type": "stream",
     "text": [
      "data_training.shape:  (71760, 18)\n",
      "data_val.shape:  (10251, 18)\n",
      "data_test.shape:  (20304, 18)\n",
      "data_training_y.shape:  (71760, 5)\n",
      "data_val_y.shape:  (10251, 5)\n",
      "data_test_y.shape:  (20304, 5)\n"
     ]
    }
   ],
   "source": [
    "data_training = DF_Full.iloc[:end_train]\n",
    "data_val = DF_Full.iloc[end_train: end_val]\n",
    "data_test = DF_Full.iloc[end_val:]\n",
    "\n",
    "print(\"data_training.shape: \",data_training.shape)\n",
    "print(\"data_val.shape: \", data_val.shape)\n",
    "print(\"data_test.shape: \", data_test.shape)\n",
    "\n",
    "data_training_y = close_y[:end_train,:]\n",
    "data_val_y = close_y[end_train: end_val,:]\n",
    "data_test_y = close_y[end_val:,:]\n",
    "\n",
    "print(\"data_training_y.shape: \", data_training_y.shape)\n",
    "print(\"data_val_y.shape: \", data_val_y.shape)\n",
    "print(\"data_test_y.shape: \", data_test_y.shape)"
   ]
  },
  {
   "cell_type": "code",
   "execution_count": 168,
   "metadata": {},
   "outputs": [
    {
     "data": {
      "text/plain": [
       "82011    1.05892\n",
       "82012    1.05958\n",
       "82013    1.05765\n",
       "82014    1.05935\n",
       "82015    1.05927\n",
       "82016    1.06081\n",
       "82017    1.06089\n",
       "82018    1.06139\n",
       "82019    1.05724\n",
       "82020    1.05668\n",
       "Name: Close, dtype: float64"
      ]
     },
     "execution_count": 168,
     "metadata": {},
     "output_type": "execute_result"
    }
   ],
   "source": [
    "data_test['Close'].head(10)"
   ]
  },
  {
   "cell_type": "code",
   "execution_count": 125,
   "metadata": {},
   "outputs": [
    {
     "data": {
      "text/plain": [
       "array([ 1., -2.,  2.,  0.,  2.,  0.,  1., -2., -1.,  2.])"
      ]
     },
     "execution_count": 125,
     "metadata": {},
     "output_type": "execute_result"
    }
   ],
   "source": [
    "uniques_data_test_y = uniques[data_test_y.argmax(1)]\n",
    "uniques_data_test_y[:10]"
   ]
  },
  {
   "cell_type": "markdown",
   "metadata": {},
   "source": [
    "### SCALAR"
   ]
  },
  {
   "cell_type": "code",
   "execution_count": 169,
   "metadata": {},
   "outputs": [
    {
     "name": "stdout",
     "output_type": "stream",
     "text": [
      "[[0.41258817 0.41034601 0.41126011 ... 0.41568877 0.41690292 0.39310481]\n",
      " [0.40990024 0.41439867 0.41089817 ... 0.41516764 0.41711768 0.39329353]\n",
      " [0.41810835 0.41558746 0.41486147 ... 0.41419426 0.41724491 0.39344604]\n",
      " ...\n",
      " [0.10666931 0.10403646 0.10530792 ... 0.10094948 0.09827863 0.09661671]\n",
      " [0.10417982 0.10146076 0.10134463 ... 0.10033819 0.0981106  0.09646963]\n",
      " [0.1011311  0.09915524 0.09877482 ... 0.09963894 0.09785911 0.09630416]]\n"
     ]
    }
   ],
   "source": [
    "# DATA SET SCALER TRAINING\n",
    "scaler = MinMaxScaler(feature_range=(0, 1))\n",
    "data_training_array = np.array(data_training)\n",
    "data_training_array_scaled = scaler.fit_transform(data_training_array)\n",
    "print(data_training_array_scaled)\n",
    "    "
   ]
  },
  {
   "cell_type": "code",
   "execution_count": 170,
   "metadata": {},
   "outputs": [
    {
     "name": "stdout",
     "output_type": "stream",
     "text": [
      "(71760, 18)\n",
      "[0.40877665 0.52469149 0.37275203 0.42025758 0.40204232 0.48047382\n",
      " 0.44247083 0.47617625 0.45947971 0.33986952]\n"
     ]
    },
    {
     "data": {
      "image/png": "[encoded data removed]",
      "text/plain": [
       "<Figure size 1080x360 with 1 Axes>"
      ]
     },
     "metadata": {
      "needs_background": "light"
     },
     "output_type": "display_data"
    }
   ],
   "source": [
    "print(data_training_array_scaled.shape)\n",
    "print(data_training_array_scaled[:10,12])\n",
    "plt.figure(figsize=(15,5))\n",
    "plt.plot(data_training_array_scaled[:10,12], color = 'red', label = 'train_x')\n",
    "plt.title('train_x')\n",
    "plt.xlabel('hours')\n",
    "plt.ylabel('Loss')\n",
    "plt.legend()\n",
    "plt.show()"
   ]
  },
  {
   "cell_type": "code",
   "execution_count": 171,
   "metadata": {},
   "outputs": [
    {
     "data": {
      "text/plain": [
       "array([[0., 0., 0., 0., 1.],\n",
       "       [1., 0., 0., 0., 0.],\n",
       "       [0., 1., 0., 0., 0.],\n",
       "       [1., 0., 0., 0., 0.],\n",
       "       [0., 0., 0., 0., 1.],\n",
       "       [0., 0., 1., 0., 0.],\n",
       "       [0., 0., 0., 0., 1.],\n",
       "       [0., 0., 0., 0., 1.],\n",
       "       [1., 0., 0., 0., 0.],\n",
       "       [0., 0., 1., 0., 0.]], dtype=float32)"
      ]
     },
     "execution_count": 171,
     "metadata": {},
     "output_type": "execute_result"
    }
   ],
   "source": [
    "data_training_y[:10]"
   ]
  },
  {
   "cell_type": "markdown",
   "metadata": {},
   "source": [
    "### CHART MA's"
   ]
  },
  {
   "cell_type": "code",
   "execution_count": 172,
   "metadata": {},
   "outputs": [
    {
     "name": "stdout",
     "output_type": "stream",
     "text": [
      "(71760, 18)\n"
     ]
    },
    {
     "data": {
      "image/png": "[encoded data removed]",
      "text/plain": [
       "<Figure size 1008x360 with 1 Axes>"
      ]
     },
     "metadata": {
      "needs_background": "light"
     },
     "output_type": "display_data"
    }
   ],
   "source": [
    "INICIO = 0\n",
    "FIN = 100\n",
    "\n",
    "IDX_Close = DF_Full.columns.get_loc(\"Close\")\n",
    "IDX_MA_Close_5 = DF_Full.columns.get_loc(\"MA_Close_5\")\n",
    "IDX_MA_Close_25 = DF_Full.columns.get_loc(\"MA_Close_25\")\n",
    "IDX_MA_Close_50 = DF_Full.columns.get_loc(\"MA_Close_50\")\n",
    "IDX_MA_Close_200 = DF_Full.columns.get_loc(\"MA_Close_200\")\n",
    "\n",
    "print(data_training_array_scaled.shape)\n",
    "plt.figure(figsize=(14,5))\n",
    "pyplot.plot(data_training_array_scaled[INICIO:FIN,IDX_Close], color = 'red', label = 'Close')\n",
    "pyplot.plot(data_training_array_scaled[INICIO:FIN,IDX_MA_Close_5], color = 'orange', label = 'MA_Close_5')\n",
    "pyplot.plot(data_training_array_scaled[INICIO:FIN,IDX_MA_Close_25], color = 'blue', label = 'MA_Close_25')\n",
    "pyplot.plot(data_training_array_scaled[INICIO:FIN,IDX_MA_Close_50], color = 'green', label = 'MA_Close_50')\n",
    "pyplot.plot(data_training_array_scaled[INICIO:FIN,IDX_MA_Close_200], color = 'gray', label = 'MA_Close_200')\n",
    "plt.title('Close, Moving Avg 5, Moving Avg 25, Moving Avg 50, Moving Avg 200')\n",
    "plt.xlabel('Time')\n",
    "plt.ylabel('Price')\n",
    "plt.legend()\n",
    "plt.show()"
   ]
  },
  {
   "cell_type": "code",
   "execution_count": 173,
   "metadata": {},
   "outputs": [
    {
     "name": "stdout",
     "output_type": "stream",
     "text": [
      "(71760, 18)\n"
     ]
    },
    {
     "data": {
      "image/png": "[encoded data removed]",
      "text/plain": [
       "<Figure size 1008x360 with 1 Axes>"
      ]
     },
     "metadata": {
      "needs_background": "light"
     },
     "output_type": "display_data"
    }
   ],
   "source": [
    "print(data_training_array_scaled.shape)\n",
    "INICIO = 0\n",
    "FIN = 710\n",
    "\n",
    "\n",
    "IDX_Close = DF_Full.columns.get_loc(\"Close\")\n",
    "IDX_Volume = DF_Full.columns.get_loc(\"Volume\")\n",
    "IDX_weekday = DF_Full.columns.get_loc(\"weekday\")\n",
    "IDX_Pct_Range_Close = DF_Full.columns.get_loc(\"Pct_Range_Close\")\n",
    "IDX_Pct_Range_Close_diff = DF_Full.columns.get_loc(\"Pct_Range_Close_diff\")\n",
    "\n",
    "plt.figure(figsize=(14,5))\n",
    "pyplot.plot(data_training_array_scaled[INICIO:FIN,IDX_Close], color = 'red', label = 'Close')\n",
    "pyplot.plot(data_training_array_scaled[INICIO:FIN,IDX_Volume], color = 'blue', label = 'Volume')\n",
    "pyplot.plot(data_training_array_scaled[INICIO:FIN,IDX_weekday], color = 'green', label = 'weekday')\n",
    "pyplot.plot(data_training_array_scaled[INICIO:FIN,IDX_Pct_Range_Close], color = 'gray', label = 'Pct_Range_Close')\n",
    "pyplot.plot(data_training_array_scaled[INICIO:FIN,IDX_Pct_Range_Close_diff], color = 'orange', label = 'Pct_Range_Close_diff')\n",
    "plt.xlabel('Time')\n",
    "plt.ylabel('Price')\n",
    "plt.legend()\n",
    "plt.show()"
   ]
  },
  {
   "cell_type": "code",
   "execution_count": 174,
   "metadata": {},
   "outputs": [
    {
     "name": "stdout",
     "output_type": "stream",
     "text": [
      "(71760, 18)\n"
     ]
    },
    {
     "data": {
      "image/png": "[encoded data removed]",
      "text/plain": [
       "<Figure size 1008x360 with 1 Axes>"
      ]
     },
     "metadata": {
      "needs_background": "light"
     },
     "output_type": "display_data"
    }
   ],
   "source": [
    "print(data_training_array_scaled.shape)\n",
    "INICIO = 0\n",
    "FIN = 710\n",
    "\n",
    "\n",
    "IDX_Close = DF_Full.columns.get_loc(\"Close\")\n",
    "IDX_Close_Bid = DF_Full.columns.get_loc(\"Close_Bid\")\n",
    "IDX_Spread = DF_Full.columns.get_loc(\"Spread\")\n",
    "\n",
    "plt.figure(figsize=(14,5))\n",
    "pyplot.plot(data_training_array_scaled[INICIO:FIN,IDX_Close], color = 'red', label = 'Close')\n",
    "pyplot.plot(data_training_array_scaled[INICIO:FIN,IDX_Close_Bid], color = 'blue', label = 'Close_Bid')\n",
    "pyplot.plot(data_training_array_scaled[INICIO:FIN,IDX_Spread], color = 'green', label = 'Spread')\n",
    "plt.xlabel('Time')\n",
    "plt.ylabel('Price')\n",
    "plt.legend()\n",
    "plt.show()"
   ]
  },
  {
   "cell_type": "code",
   "execution_count": 175,
   "metadata": {},
   "outputs": [
    {
     "data": {
      "text/plain": [
       "array([[0., 0., 0., 0., 1.],\n",
       "       [1., 0., 0., 0., 0.],\n",
       "       [0., 1., 0., 0., 0.],\n",
       "       ...,\n",
       "       [1., 0., 0., 0., 0.],\n",
       "       [1., 0., 0., 0., 0.],\n",
       "       [0., 0., 0., 0., 1.]], dtype=float32)"
      ]
     },
     "execution_count": 175,
     "metadata": {},
     "output_type": "execute_result"
    }
   ],
   "source": [
    "data_training_y"
   ]
  },
  {
   "cell_type": "code",
   "execution_count": 176,
   "metadata": {},
   "outputs": [
    {
     "data": {
      "text/plain": [
       "[<matplotlib.lines.Line2D at 0x144629eb8>,\n",
       " <matplotlib.lines.Line2D at 0x143b9f198>,\n",
       " <matplotlib.lines.Line2D at 0x143b9fcc0>,\n",
       " <matplotlib.lines.Line2D at 0x143b9fd68>,\n",
       " <matplotlib.lines.Line2D at 0x143b9fd30>]"
      ]
     },
     "execution_count": 176,
     "metadata": {},
     "output_type": "execute_result"
    },
    {
     "data": {
      "image/png": "[encoded data removed]",
      "text/plain": [
       "<Figure size 1152x360 with 1 Axes>"
      ]
     },
     "metadata": {
      "needs_background": "light"
     },
     "output_type": "display_data"
    }
   ],
   "source": [
    "# Target para el entrenamiento\n",
    "pyplot.figure(figsize=(16,5))\n",
    "pyplot.plot(data_training_y)"
   ]
  },
  {
   "cell_type": "code",
   "execution_count": 303,
   "metadata": {
    "colab": {},
    "colab_type": "code",
    "id": "3Lf8pl2FoBLj",
    "outputId": "33ad0467-0e5b-420a-df86-b4563f3e1136"
   },
   "outputs": [
    {
     "name": "stdout",
     "output_type": "stream",
     "text": [
      "(71736, 24, 18)\n",
      "(71736, 5)\n"
     ]
    }
   ],
   "source": [
    "X_train = []\n",
    "y_train = []\n",
    "for i in range(RANGE, data_training_array_scaled.shape[0]):\n",
    "    indx_start = i-RANGE\n",
    "    X_train.append(data_training_array_scaled[indx_start:i])\n",
    "    y_train.append(data_training_y[i])\n",
    "\n",
    "X_train_np, y_train_np = np.array(X_train), np.array(y_train)\n",
    "\n",
    "print(X_train_np.shape)\n",
    "print(y_train_np.shape)"
   ]
  },
  {
   "cell_type": "code",
   "execution_count": 298,
   "metadata": {},
   "outputs": [
    {
     "data": {
      "text/plain": [
       "array([0.40956007, 0.4177704 , 0.41165325, 0.41002923, 0.40669097,\n",
       "       0.41073297, 0.41120214, 0.41484716, 0.4169223 , 0.40770147,\n",
       "       0.40741275, 0.41049839, 0.41006532, 0.41345772, 0.41457649,\n",
       "       0.4135299 , 0.41677794, 0.41221264, 0.41224873, 0.40903678,\n",
       "       0.40766538, 0.40732253, 0.4069075 , 0.40616767])"
      ]
     },
     "execution_count": 298,
     "metadata": {},
     "output_type": "execute_result"
    }
   ],
   "source": [
    "X_train_np[0,:,3]"
   ]
  },
  {
   "cell_type": "code",
   "execution_count": 292,
   "metadata": {},
   "outputs": [
    {
     "name": "stdout",
     "output_type": "stream",
     "text": [
      "[-2.  2. -1.  2.  1. -2.  2.  1.  2. -1. -2. -2. -2.  0. -1.  1. -2.  2.\n",
      " -1.  0.  0.  1.  1. -1.]\n"
     ]
    }
   ],
   "source": [
    "array = y_train_np[:RANGE]\n",
    "uniques_y = uniques[array.argmax(1)]\n",
    "print(uniques_y)"
   ]
  },
  {
   "cell_type": "code",
   "execution_count": 178,
   "metadata": {},
   "outputs": [
    {
     "name": "stdout",
     "output_type": "stream",
     "text": [
      "(24, 18)\n",
      "(10251, 18)\n",
      "<bound method NDFrame.head of           Open     High      Low    Close     Volume  Open_Bid  High_Bid  \\\n",
      "0      1.10977  1.11007  1.10792  1.10920  8733.5996   1.10975   1.11004   \n",
      "1      1.10920  1.11055  1.10881  1.10996  7923.8901   1.10916   1.11053   \n",
      "2      1.10996  1.11040  1.10949  1.11013  7694.7002   1.10994   1.11039   \n",
      "3      1.11013  1.11082  1.10955  1.10964  7433.1602   1.11010   1.11081   \n",
      "4      1.10966  1.11083  1.10653  1.10722  7766.4902   1.10964   1.11080   \n",
      "...        ...      ...      ...      ...        ...       ...       ...   \n",
      "10270  1.05742  1.05769  1.05721  1.05748  6381.8799   1.05740   1.05766   \n",
      "10271  1.05748  1.05750  1.05700  1.05749  6014.2798   1.05745   1.05748   \n",
      "10272  1.05749  1.05828  1.05747  1.05817  5775.6299   1.05746   1.05826   \n",
      "10273  1.05816  1.05858  1.05808  1.05810  4960.8999   1.05814   1.05856   \n",
      "10274  1.05811  1.05833  1.05771  1.05808  5379.8398   1.05809   1.05831   \n",
      "\n",
      "       Low_Bid  Close_Bid  Volume_Bid   Spread  weekday  Pct_Range_Close  \\\n",
      "0      1.10790    1.10917   9555.7803  0.00003        4        -0.000523   \n",
      "1      1.10877    1.10995   7773.8599  0.00001        4         0.000685   \n",
      "2      1.10946    1.11011   7275.8599  0.00002        4         0.000153   \n",
      "3      1.10951    1.10962   8399.8604  0.00002        4        -0.000441   \n",
      "4      1.10650    1.10719   7515.6699  0.00003        4        -0.002181   \n",
      "...        ...        ...         ...      ...      ...              ...   \n",
      "10270  1.05720    1.05746   6769.2900  0.00002        4         0.000047   \n",
      "10271  1.05697    1.05747   6285.0400  0.00002        4         0.000009   \n",
      "10272  1.05745    1.05814   5202.2798  0.00003        4         0.000643   \n",
      "10273  1.05806    1.05807   5382.2798  0.00003        4        -0.000066   \n",
      "10274  1.05768    1.05806   4904.3301  0.00002        4        -0.000019   \n",
      "\n",
      "       Pct_Range_Close_diff  MA_Close_5  MA_Close_25  MA_Close_50  \\\n",
      "0                  0.000387    1.110414     1.109380     1.108111   \n",
      "1                  0.001208    1.110250     1.109399     1.108103   \n",
      "2                 -0.000532    1.109972     1.109468     1.108113   \n",
      "3                 -0.000595    1.109742     1.109429     1.108166   \n",
      "4                 -0.001739    1.109230     1.109356     1.108093   \n",
      "...                     ...         ...          ...          ...   \n",
      "10270              0.000983    1.057878     1.056827     1.055244   \n",
      "10271             -0.000038    1.057730     1.056916     1.055306   \n",
      "10272              0.000634    1.057798     1.057026     1.055370   \n",
      "10273             -0.000709    1.057734     1.057084     1.055427   \n",
      "10274              0.000047    1.057864     1.057157     1.055494   \n",
      "\n",
      "       MA_Close_200  \n",
      "0          1.114837  \n",
      "1          1.114746  \n",
      "2          1.114664  \n",
      "3          1.114582  \n",
      "4          1.114499  \n",
      "...             ...  \n",
      "10270      1.059191  \n",
      "10271      1.059177  \n",
      "10272      1.059168  \n",
      "10273      1.059161  \n",
      "10274      1.059152  \n",
      "\n",
      "[10275 rows x 18 columns]>\n"
     ]
    }
   ],
   "source": [
    "#\n",
    "#Obtener los ultimos valores de Train para agregarlos a Val DF\n",
    "# APPEND DE X\n",
    "last_range_training_x = data_training.tail(RANGE)\n",
    "print(last_range_training_x.shape)\n",
    "print(data_val.shape)\n",
    "data_val_x1 = last_range_training_x.append(data_val, ignore_index = True)\n",
    "data_val_x1.shape\n",
    "print(data_val_x1.head)"
   ]
  },
  {
   "cell_type": "code",
   "execution_count": 179,
   "metadata": {},
   "outputs": [
    {
     "data": {
      "text/plain": [
       "array([[0., 0., 0., 1., 0.],\n",
       "       [0., 0., 1., 0., 0.],\n",
       "       [0., 1., 0., 0., 0.],\n",
       "       [1., 0., 0., 0., 0.],\n",
       "       [0., 0., 0., 0., 1.],\n",
       "       [0., 0., 1., 0., 0.],\n",
       "       [0., 0., 0., 0., 1.],\n",
       "       [0., 0., 0., 1., 0.],\n",
       "       [1., 0., 0., 0., 0.],\n",
       "       [0., 0., 0., 0., 1.],\n",
       "       [1., 0., 0., 0., 0.],\n",
       "       [0., 0., 0., 0., 1.],\n",
       "       [0., 0., 0., 0., 1.],\n",
       "       [0., 0., 1., 0., 0.],\n",
       "       [0., 1., 0., 0., 0.],\n",
       "       [0., 1., 0., 0., 0.],\n",
       "       [0., 0., 0., 0., 1.],\n",
       "       [1., 0., 0., 0., 0.],\n",
       "       [0., 0., 0., 0., 1.],\n",
       "       [1., 0., 0., 0., 0.],\n",
       "       [1., 0., 0., 0., 0.],\n",
       "       [1., 0., 0., 0., 0.],\n",
       "       [1., 0., 0., 0., 0.],\n",
       "       [0., 0., 0., 0., 1.]], dtype=float32)"
      ]
     },
     "execution_count": 179,
     "metadata": {},
     "output_type": "execute_result"
    }
   ],
   "source": [
    "last_range_train_y = data_training_y[-RANGE:]\n",
    "last_range_train_y"
   ]
  },
  {
   "cell_type": "code",
   "execution_count": 180,
   "metadata": {},
   "outputs": [
    {
     "data": {
      "text/plain": [
       "(24, 5)"
      ]
     },
     "execution_count": 180,
     "metadata": {},
     "output_type": "execute_result"
    }
   ],
   "source": [
    "last_range_train_y.shape"
   ]
  },
  {
   "cell_type": "code",
   "execution_count": 181,
   "metadata": {},
   "outputs": [
    {
     "name": "stdout",
     "output_type": "stream",
     "text": [
      "(24, 5)\n",
      "(10251, 5)\n",
      "(10275, 5)\n",
      "[[0. 0. 0. 1. 0.]\n",
      " [0. 0. 1. 0. 0.]\n",
      " [0. 1. 0. 0. 0.]\n",
      " [1. 0. 0. 0. 0.]\n",
      " [0. 0. 0. 0. 1.]\n",
      " [0. 0. 1. 0. 0.]\n",
      " [0. 0. 0. 0. 1.]\n",
      " [0. 0. 0. 1. 0.]\n",
      " [1. 0. 0. 0. 0.]\n",
      " [0. 0. 0. 0. 1.]]\n"
     ]
    }
   ],
   "source": [
    "#Append de los datos de Train al DF de Val en Y\n",
    "last_range_train_y = data_training_y[-RANGE:]\n",
    "print(last_range_train_y.shape)\n",
    "print(data_val_y.shape)\n",
    "data_val_y1 = np.concatenate((last_range_train_y,data_val_y))\n",
    "print(data_val_y1.shape)\n",
    "print(data_val_y1[:10])"
   ]
  },
  {
   "cell_type": "code",
   "execution_count": 182,
   "metadata": {},
   "outputs": [
    {
     "name": "stdout",
     "output_type": "stream",
     "text": [
      "[[0.11300128 0.11028657 0.11158767 0.11153416 0.01776547 0.11318985\n",
      "  0.1102924  0.11159171 0.11155831 0.01615113 0.01587302 0.66666667\n",
      "  0.42472625 0.47997608 0.11223219 0.10576138 0.09876714 0.09929935]\n",
      " [0.11197301 0.11115114 0.11319833 0.11290555 0.01611833 0.11212542\n",
      "  0.11117517 0.11316623 0.1129661  0.01313929 0.00529101 0.66666667\n",
      "  0.45422469 0.49827938 0.11193447 0.10579729 0.09875194 0.09912484]\n",
      " [0.11334404 0.11088096 0.11442894 0.11321231 0.0156521  0.11353263\n",
      "  0.11092295 0.11441499 0.11325488 0.01229756 0.01058201 0.66666667\n",
      "  0.44123107 0.45949982 0.11142981 0.10592336 0.09877011 0.09896937]\n",
      " [0.11365071 0.11163746 0.11453752 0.11232812 0.01512006 0.11382128\n",
      "  0.11167961 0.11450547 0.1123705  0.01419737 0.01058201 0.66666667\n",
      "  0.4267103  0.4581061  0.11101228 0.10585153 0.09886915 0.09881352]\n",
      " [0.11280284 0.11165547 0.10907215 0.10796131 0.01579814 0.11299139\n",
      "  0.11166159 0.109058   0.10798469 0.01270289 0.01587302 0.66666667\n",
      "  0.38422622 0.43258592 0.11008282 0.10571887 0.09873339 0.09865491]\n",
      " [0.10840113 0.11044868 0.11032086 0.11243639 0.00865134 0.10858937\n",
      "  0.11045454 0.11032486 0.11238855 0.00657738 0.03703704 0.66666667\n",
      "  0.49219458 0.56989344 0.11026435 0.10572766 0.09878458 0.09852279]\n",
      " [0.112875   0.1104847  0.11408509 0.11231008 0.00386841 0.11299139\n",
      "  0.11034644 0.11392634 0.11222611 0.00343166 0.04761905 0.66666667\n",
      "  0.43594983 0.42002751 0.11014454 0.10580389 0.09886099 0.09840466]\n",
      " [0.11276676 0.11228588 0.11453752 0.11442131 0.00488494 0.11282902\n",
      "  0.11193183 0.11439689 0.11412121 0.00411608 0.11111111 0.66666667\n",
      "  0.4632424  0.49626623 0.1103878  0.10597247 0.09904497 0.09831445]\n",
      " [0.1148233  0.11331256 0.11366886 0.11577466 0.00580981 0.11461509\n",
      "  0.11283262 0.11274998 0.11471682 0.00495351 0.33333333 0.66666667\n",
      "  0.45398072 0.46290571 0.11108126 0.10619969 0.09929646 0.09826358]\n",
      " [0.09487129 0.09184243 0.09186166 0.09170306 0.00958662 0.09437298\n",
      "  0.09146594 0.09168401 0.09154243 0.01038264 0.06878307 1.\n",
      "  0.14438142 0.18880837 0.10781    0.10544107 0.09903384 0.09809278]]\n"
     ]
    }
   ],
   "source": [
    "data_val_x2 = scaler.transform(data_val_x1)\n",
    "data_val_x2.shape\n",
    "print(data_val_x2[:10])"
   ]
  },
  {
   "cell_type": "code",
   "execution_count": 183,
   "metadata": {
    "colab": {},
    "colab_type": "code",
    "id": "CePFSn77oBLn",
    "outputId": "42f59747-5fe8-44a2-af41-2a1d57cb5e1b",
    "scrolled": true
   },
   "outputs": [
    {
     "name": "stdout",
     "output_type": "stream",
     "text": [
      "(10251, 24, 18)\n",
      "(10251, 5)\n"
     ]
    }
   ],
   "source": [
    "X_val = []\n",
    "y_val = []\n",
    "for i in range(RANGE, data_val_x2.shape[0]):\n",
    "    indx_start = i-RANGE\n",
    "    X_val.append(data_val_x2[indx_start:i])\n",
    "    y_val.append(data_val_y1[i])\n",
    "\n",
    "X_val_np = np.array(X_val)\n",
    "y_val_np = np.array(y_val)\n",
    "print(X_val_np.shape)\n",
    "print(y_val_np.shape)"
   ]
  },
  {
   "cell_type": "code",
   "execution_count": 184,
   "metadata": {},
   "outputs": [
    {
     "name": "stdout",
     "output_type": "stream",
     "text": [
      "(24, 18)\n",
      "(20304, 18)\n"
     ]
    },
    {
     "data": {
      "text/plain": [
       "(20328, 18)"
      ]
     },
     "execution_count": 184,
     "metadata": {},
     "output_type": "execute_result"
    }
   ],
   "source": [
    "\n",
    "#Obtener los ultimos valores de Val para agregarlos a TEST DF\n",
    "# Append en X\n",
    "last_range_data_training_x = data_training.tail(RANGE)\n",
    "print(last_range_data_training_x.shape)\n",
    "print(data_test.shape)\n",
    "data_test_x1 = last_range_data_training_x.append(data_test, ignore_index = True)\n",
    "data_test_x1.shape\n"
   ]
  },
  {
   "cell_type": "code",
   "execution_count": 185,
   "metadata": {},
   "outputs": [
    {
     "name": "stdout",
     "output_type": "stream",
     "text": [
      "(24, 5)\n",
      "(20304, 5)\n",
      "(20328, 5)\n"
     ]
    }
   ],
   "source": [
    "#Append de los datos de Val al DF de Test de Y\n",
    "last_range_training_y = data_training_y[-RANGE:,:]\n",
    "print(last_range_training_y.shape)\n",
    "print(data_test_y.shape)\n",
    "data_test_y1 = np.concatenate((last_range_training_y,data_test_y))\n",
    "print(data_test_y1.shape)"
   ]
  },
  {
   "cell_type": "code",
   "execution_count": 186,
   "metadata": {},
   "outputs": [
    {
     "name": "stdout",
     "output_type": "stream",
     "text": [
      "[[0.11300128 0.11028657 0.11158767 0.11153416 0.01776547 0.11318985\n",
      "  0.1102924  0.11159171 0.11155831 0.01615113 0.01587302 0.66666667\n",
      "  0.42472625 0.47997608 0.11223219 0.10576138 0.09876714 0.09929935]\n",
      " [0.11197301 0.11115114 0.11319833 0.11290555 0.01611833 0.11212542\n",
      "  0.11117517 0.11316623 0.1129661  0.01313929 0.00529101 0.66666667\n",
      "  0.45422469 0.49827938 0.11193447 0.10579729 0.09875194 0.09912484]\n",
      " [0.11334404 0.11088096 0.11442894 0.11321231 0.0156521  0.11353263\n",
      "  0.11092295 0.11441499 0.11325488 0.01229756 0.01058201 0.66666667\n",
      "  0.44123107 0.45949982 0.11142981 0.10592336 0.09877011 0.09896937]\n",
      " [0.11365071 0.11163746 0.11453752 0.11232812 0.01512006 0.11382128\n",
      "  0.11167961 0.11450547 0.1123705  0.01419737 0.01058201 0.66666667\n",
      "  0.4267103  0.4581061  0.11101228 0.10585153 0.09886915 0.09881352]\n",
      " [0.11280284 0.11165547 0.10907215 0.10796131 0.01579814 0.11299139\n",
      "  0.11166159 0.109058   0.10798469 0.01270289 0.01587302 0.66666667\n",
      "  0.38422622 0.43258592 0.11008282 0.10571887 0.09873339 0.09865491]\n",
      " [0.10840113 0.11044868 0.11032086 0.11243639 0.00865134 0.10858937\n",
      "  0.11045454 0.11032486 0.11238855 0.00657738 0.03703704 0.66666667\n",
      "  0.49219458 0.56989344 0.11026435 0.10572766 0.09878458 0.09852279]\n",
      " [0.112875   0.1104847  0.11408509 0.11231008 0.00386841 0.11299139\n",
      "  0.11034644 0.11392634 0.11222611 0.00343166 0.04761905 0.66666667\n",
      "  0.43594983 0.42002751 0.11014454 0.10580389 0.09886099 0.09840466]\n",
      " [0.11276676 0.11228588 0.11453752 0.11442131 0.00488494 0.11282902\n",
      "  0.11193183 0.11439689 0.11412121 0.00411608 0.11111111 0.66666667\n",
      "  0.4632424  0.49626623 0.1103878  0.10597247 0.09904497 0.09831445]\n",
      " [0.1148233  0.11331256 0.11366886 0.11577466 0.00580981 0.11461509\n",
      "  0.11283262 0.11274998 0.11471682 0.00495351 0.33333333 0.66666667\n",
      "  0.45398072 0.46290571 0.11108126 0.10619969 0.09929646 0.09826358]\n",
      " [0.09487129 0.09184243 0.09186166 0.09170306 0.00958662 0.09437298\n",
      "  0.09146594 0.09168401 0.09154243 0.01038264 0.06878307 1.\n",
      "  0.14438142 0.18880837 0.10781    0.10544107 0.09903384 0.09809278]]\n"
     ]
    }
   ],
   "source": [
    "data_test_x2 = scaler.transform(data_test_x1)\n",
    "data_test_x2.shape\n",
    "print(data_test_x2[:10])"
   ]
  },
  {
   "cell_type": "code",
   "execution_count": 187,
   "metadata": {
    "colab": {},
    "colab_type": "code",
    "id": "CePFSn77oBLn",
    "outputId": "42f59747-5fe8-44a2-af41-2a1d57cb5e1b",
    "scrolled": true
   },
   "outputs": [
    {
     "name": "stdout",
     "output_type": "stream",
     "text": [
      "(20304, 24, 18)\n",
      "(20304, 5)\n"
     ]
    }
   ],
   "source": [
    "X_test = []\n",
    "y_test = []\n",
    "for i in range(RANGE, data_test_x2.shape[0]):\n",
    "    X_test.append(data_test_x2[i-RANGE:i])\n",
    "    y_test.append(data_test_y1[i])\n",
    "\n",
    "X_test_np = np.array(X_test)\n",
    "y_test_np = np.array(y_test)\n",
    "print(X_test_np.shape)\n",
    "print(y_test_np.shape)"
   ]
  },
  {
   "cell_type": "code",
   "execution_count": 188,
   "metadata": {},
   "outputs": [
    {
     "data": {
      "text/plain": [
       "[<matplotlib.lines.Line2D at 0x142ba97b8>,\n",
       " <matplotlib.lines.Line2D at 0x142ba9908>,\n",
       " <matplotlib.lines.Line2D at 0x142ba9a58>,\n",
       " <matplotlib.lines.Line2D at 0x142ba9ba8>,\n",
       " <matplotlib.lines.Line2D at 0x142ba9cf8>]"
      ]
     },
     "execution_count": 188,
     "metadata": {},
     "output_type": "execute_result"
    },
    {
     "data": {
      "image/png": "[encoded data removed]",
      "text/plain": [
       "<Figure size 432x288 with 1 Axes>"
      ]
     },
     "metadata": {
      "needs_background": "light"
     },
     "output_type": "display_data"
    }
   ],
   "source": [
    "# Y del dataset de pruebas\n",
    "pyplot.plot(y_test_np)"
   ]
  },
  {
   "cell_type": "code",
   "execution_count": 189,
   "metadata": {},
   "outputs": [
    {
     "data": {
      "text/plain": [
       "[<matplotlib.lines.Line2D at 0x142bb5be0>,\n",
       " <matplotlib.lines.Line2D at 0x140f58f60>,\n",
       " <matplotlib.lines.Line2D at 0x140f630f0>,\n",
       " <matplotlib.lines.Line2D at 0x140f63240>,\n",
       " <matplotlib.lines.Line2D at 0x140f63390>]"
      ]
     },
     "execution_count": 189,
     "metadata": {},
     "output_type": "execute_result"
    },
    {
     "data": {
      "image/png": "[encoded data removed]",
      "text/plain": [
       "<Figure size 432x288 with 1 Axes>"
      ]
     },
     "metadata": {
      "needs_background": "light"
     },
     "output_type": "display_data"
    }
   ],
   "source": [
    "\n",
    "# Y de Val y Test comparados\n",
    "pyplot.plot(y_train_np)\n",
    "pyplot.plot(y_test_np)\n",
    "pyplot.plot(y_val_np)\n"
   ]
  },
  {
   "cell_type": "code",
   "execution_count": 190,
   "metadata": {},
   "outputs": [
    {
     "name": "stdout",
     "output_type": "stream",
     "text": [
      "24\n",
      "18\n"
     ]
    }
   ],
   "source": [
    "x_shape = X_train_np.shape[1]\n",
    "print(x_shape)\n",
    "y_shape = X_train_np.shape[2]\n",
    "print(y_shape)"
   ]
  },
  {
   "cell_type": "markdown",
   "metadata": {},
   "source": [
    "### Oversampling Inbalanced Class"
   ]
  },
  {
   "cell_type": "code",
   "execution_count": 341,
   "metadata": {},
   "outputs": [
    {
     "name": "stdout",
     "output_type": "stream",
     "text": [
      "(71736, 24, 18)\n",
      "(71736, 5)\n"
     ]
    }
   ],
   "source": [
    "#Check Current Shape\n",
    "print(X_train_np.shape)\n",
    "print(y_train_np.shape)"
   ]
  },
  {
   "cell_type": "code",
   "execution_count": 342,
   "metadata": {
    "scrolled": true
   },
   "outputs": [
    {
     "data": {
      "text/plain": [
       "RandomOverSampler(sampling_strategy='minority')"
      ]
     },
     "execution_count": 342,
     "metadata": {},
     "output_type": "execute_result"
    }
   ],
   "source": [
    "oversample = RandomOverSampler(sampling_strategy='minority')\n",
    "oversample\n"
   ]
  },
  {
   "cell_type": "code",
   "execution_count": 343,
   "metadata": {},
   "outputs": [
    {
     "ename": "ValueError",
     "evalue": "Found array with dim 3. Estimator expected <= 2.",
     "output_type": "error",
     "traceback": [
      "\u001b[0;31m---------------------------------------------------------------------------\u001b[0m",
      "\u001b[0;31mValueError\u001b[0m                                Traceback (most recent call last)",
      "\u001b[0;32m<ipython-input-343-75b5d250975d>\u001b[0m in \u001b[0;36m<module>\u001b[0;34m\u001b[0m\n\u001b[0;32m----> 1\u001b[0;31m \u001b[0mX_over\u001b[0m\u001b[0;34m,\u001b[0m \u001b[0my_over\u001b[0m \u001b[0;34m=\u001b[0m \u001b[0moversample\u001b[0m\u001b[0;34m.\u001b[0m\u001b[0mfit_resample\u001b[0m\u001b[0;34m(\u001b[0m\u001b[0mX_train_np\u001b[0m\u001b[0;34m,\u001b[0m \u001b[0my_train_np\u001b[0m\u001b[0;34m)\u001b[0m\u001b[0;34m\u001b[0m\u001b[0;34m\u001b[0m\u001b[0m\n\u001b[0m",
      "\u001b[0;32m~/anaconda3/lib/python3.7/site-packages/imblearn/base.py\u001b[0m in \u001b[0;36mfit_resample\u001b[0;34m(self, X, y)\u001b[0m\n\u001b[1;32m     75\u001b[0m         \u001b[0mcheck_classification_targets\u001b[0m\u001b[0;34m(\u001b[0m\u001b[0my\u001b[0m\u001b[0;34m)\u001b[0m\u001b[0;34m\u001b[0m\u001b[0;34m\u001b[0m\u001b[0m\n\u001b[1;32m     76\u001b[0m         \u001b[0marrays_transformer\u001b[0m \u001b[0;34m=\u001b[0m \u001b[0mArraysTransformer\u001b[0m\u001b[0;34m(\u001b[0m\u001b[0mX\u001b[0m\u001b[0;34m,\u001b[0m \u001b[0my\u001b[0m\u001b[0;34m)\u001b[0m\u001b[0;34m\u001b[0m\u001b[0;34m\u001b[0m\u001b[0m\n\u001b[0;32m---> 77\u001b[0;31m         \u001b[0mX\u001b[0m\u001b[0;34m,\u001b[0m \u001b[0my\u001b[0m\u001b[0;34m,\u001b[0m \u001b[0mbinarize_y\u001b[0m \u001b[0;34m=\u001b[0m \u001b[0mself\u001b[0m\u001b[0;34m.\u001b[0m\u001b[0m_check_X_y\u001b[0m\u001b[0;34m(\u001b[0m\u001b[0mX\u001b[0m\u001b[0;34m,\u001b[0m \u001b[0my\u001b[0m\u001b[0;34m)\u001b[0m\u001b[0;34m\u001b[0m\u001b[0;34m\u001b[0m\u001b[0m\n\u001b[0m\u001b[1;32m     78\u001b[0m \u001b[0;34m\u001b[0m\u001b[0m\n\u001b[1;32m     79\u001b[0m         self.sampling_strategy_ = check_sampling_strategy(\n",
      "\u001b[0;32m~/anaconda3/lib/python3.7/site-packages/imblearn/over_sampling/_random_over_sampler.py\u001b[0m in \u001b[0;36m_check_X_y\u001b[0;34m(self, X, y)\u001b[0m\n\u001b[1;32m     79\u001b[0m         X, y = self._validate_data(\n\u001b[1;32m     80\u001b[0m             \u001b[0mX\u001b[0m\u001b[0;34m,\u001b[0m \u001b[0my\u001b[0m\u001b[0;34m,\u001b[0m \u001b[0mreset\u001b[0m\u001b[0;34m=\u001b[0m\u001b[0;32mTrue\u001b[0m\u001b[0;34m,\u001b[0m \u001b[0maccept_sparse\u001b[0m\u001b[0;34m=\u001b[0m\u001b[0;34m[\u001b[0m\u001b[0;34m\"csr\"\u001b[0m\u001b[0;34m,\u001b[0m \u001b[0;34m\"csc\"\u001b[0m\u001b[0;34m]\u001b[0m\u001b[0;34m,\u001b[0m \u001b[0mdtype\u001b[0m\u001b[0;34m=\u001b[0m\u001b[0;32mNone\u001b[0m\u001b[0;34m,\u001b[0m\u001b[0;34m\u001b[0m\u001b[0;34m\u001b[0m\u001b[0m\n\u001b[0;32m---> 81\u001b[0;31m             \u001b[0mforce_all_finite\u001b[0m\u001b[0;34m=\u001b[0m\u001b[0;32mFalse\u001b[0m\u001b[0;34m,\u001b[0m\u001b[0;34m\u001b[0m\u001b[0;34m\u001b[0m\u001b[0m\n\u001b[0m\u001b[1;32m     82\u001b[0m         )\n\u001b[1;32m     83\u001b[0m         \u001b[0;32mreturn\u001b[0m \u001b[0mX\u001b[0m\u001b[0;34m,\u001b[0m \u001b[0my\u001b[0m\u001b[0;34m,\u001b[0m \u001b[0mbinarize_y\u001b[0m\u001b[0;34m\u001b[0m\u001b[0;34m\u001b[0m\u001b[0m\n",
      "\u001b[0;32m~/anaconda3/lib/python3.7/site-packages/sklearn/base.py\u001b[0m in \u001b[0;36m_validate_data\u001b[0;34m(self, X, y, reset, validate_separately, **check_params)\u001b[0m\n\u001b[1;32m    430\u001b[0m                 \u001b[0my\u001b[0m \u001b[0;34m=\u001b[0m \u001b[0mcheck_array\u001b[0m\u001b[0;34m(\u001b[0m\u001b[0my\u001b[0m\u001b[0;34m,\u001b[0m \u001b[0;34m**\u001b[0m\u001b[0mcheck_y_params\u001b[0m\u001b[0;34m)\u001b[0m\u001b[0;34m\u001b[0m\u001b[0;34m\u001b[0m\u001b[0m\n\u001b[1;32m    431\u001b[0m             \u001b[0;32melse\u001b[0m\u001b[0;34m:\u001b[0m\u001b[0;34m\u001b[0m\u001b[0;34m\u001b[0m\u001b[0m\n\u001b[0;32m--> 432\u001b[0;31m                 \u001b[0mX\u001b[0m\u001b[0;34m,\u001b[0m \u001b[0my\u001b[0m \u001b[0;34m=\u001b[0m \u001b[0mcheck_X_y\u001b[0m\u001b[0;34m(\u001b[0m\u001b[0mX\u001b[0m\u001b[0;34m,\u001b[0m \u001b[0my\u001b[0m\u001b[0;34m,\u001b[0m \u001b[0;34m**\u001b[0m\u001b[0mcheck_params\u001b[0m\u001b[0;34m)\u001b[0m\u001b[0;34m\u001b[0m\u001b[0;34m\u001b[0m\u001b[0m\n\u001b[0m\u001b[1;32m    433\u001b[0m             \u001b[0mout\u001b[0m \u001b[0;34m=\u001b[0m \u001b[0mX\u001b[0m\u001b[0;34m,\u001b[0m \u001b[0my\u001b[0m\u001b[0;34m\u001b[0m\u001b[0;34m\u001b[0m\u001b[0m\n\u001b[1;32m    434\u001b[0m \u001b[0;34m\u001b[0m\u001b[0m\n",
      "\u001b[0;32m~/anaconda3/lib/python3.7/site-packages/sklearn/utils/validation.py\u001b[0m in \u001b[0;36minner_f\u001b[0;34m(*args, **kwargs)\u001b[0m\n\u001b[1;32m     71\u001b[0m                           FutureWarning)\n\u001b[1;32m     72\u001b[0m         \u001b[0mkwargs\u001b[0m\u001b[0;34m.\u001b[0m\u001b[0mupdate\u001b[0m\u001b[0;34m(\u001b[0m\u001b[0;34m{\u001b[0m\u001b[0mk\u001b[0m\u001b[0;34m:\u001b[0m \u001b[0marg\u001b[0m \u001b[0;32mfor\u001b[0m \u001b[0mk\u001b[0m\u001b[0;34m,\u001b[0m \u001b[0marg\u001b[0m \u001b[0;32min\u001b[0m \u001b[0mzip\u001b[0m\u001b[0;34m(\u001b[0m\u001b[0msig\u001b[0m\u001b[0;34m.\u001b[0m\u001b[0mparameters\u001b[0m\u001b[0;34m,\u001b[0m \u001b[0margs\u001b[0m\u001b[0;34m)\u001b[0m\u001b[0;34m}\u001b[0m\u001b[0;34m)\u001b[0m\u001b[0;34m\u001b[0m\u001b[0;34m\u001b[0m\u001b[0m\n\u001b[0;32m---> 73\u001b[0;31m         \u001b[0;32mreturn\u001b[0m \u001b[0mf\u001b[0m\u001b[0;34m(\u001b[0m\u001b[0;34m**\u001b[0m\u001b[0mkwargs\u001b[0m\u001b[0;34m)\u001b[0m\u001b[0;34m\u001b[0m\u001b[0;34m\u001b[0m\u001b[0m\n\u001b[0m\u001b[1;32m     74\u001b[0m     \u001b[0;32mreturn\u001b[0m \u001b[0minner_f\u001b[0m\u001b[0;34m\u001b[0m\u001b[0;34m\u001b[0m\u001b[0m\n\u001b[1;32m     75\u001b[0m \u001b[0;34m\u001b[0m\u001b[0m\n",
      "\u001b[0;32m~/anaconda3/lib/python3.7/site-packages/sklearn/utils/validation.py\u001b[0m in \u001b[0;36mcheck_X_y\u001b[0;34m(X, y, accept_sparse, accept_large_sparse, dtype, order, copy, force_all_finite, ensure_2d, allow_nd, multi_output, ensure_min_samples, ensure_min_features, y_numeric, estimator)\u001b[0m\n\u001b[1;32m    801\u001b[0m                     \u001b[0mensure_min_samples\u001b[0m\u001b[0;34m=\u001b[0m\u001b[0mensure_min_samples\u001b[0m\u001b[0;34m,\u001b[0m\u001b[0;34m\u001b[0m\u001b[0;34m\u001b[0m\u001b[0m\n\u001b[1;32m    802\u001b[0m                     \u001b[0mensure_min_features\u001b[0m\u001b[0;34m=\u001b[0m\u001b[0mensure_min_features\u001b[0m\u001b[0;34m,\u001b[0m\u001b[0;34m\u001b[0m\u001b[0;34m\u001b[0m\u001b[0m\n\u001b[0;32m--> 803\u001b[0;31m                     estimator=estimator)\n\u001b[0m\u001b[1;32m    804\u001b[0m     \u001b[0;32mif\u001b[0m \u001b[0mmulti_output\u001b[0m\u001b[0;34m:\u001b[0m\u001b[0;34m\u001b[0m\u001b[0;34m\u001b[0m\u001b[0m\n\u001b[1;32m    805\u001b[0m         y = check_array(y, accept_sparse='csr', force_all_finite=True,\n",
      "\u001b[0;32m~/anaconda3/lib/python3.7/site-packages/sklearn/utils/validation.py\u001b[0m in \u001b[0;36minner_f\u001b[0;34m(*args, **kwargs)\u001b[0m\n\u001b[1;32m     71\u001b[0m                           FutureWarning)\n\u001b[1;32m     72\u001b[0m         \u001b[0mkwargs\u001b[0m\u001b[0;34m.\u001b[0m\u001b[0mupdate\u001b[0m\u001b[0;34m(\u001b[0m\u001b[0;34m{\u001b[0m\u001b[0mk\u001b[0m\u001b[0;34m:\u001b[0m \u001b[0marg\u001b[0m \u001b[0;32mfor\u001b[0m \u001b[0mk\u001b[0m\u001b[0;34m,\u001b[0m \u001b[0marg\u001b[0m \u001b[0;32min\u001b[0m \u001b[0mzip\u001b[0m\u001b[0;34m(\u001b[0m\u001b[0msig\u001b[0m\u001b[0;34m.\u001b[0m\u001b[0mparameters\u001b[0m\u001b[0;34m,\u001b[0m \u001b[0margs\u001b[0m\u001b[0;34m)\u001b[0m\u001b[0;34m}\u001b[0m\u001b[0;34m)\u001b[0m\u001b[0;34m\u001b[0m\u001b[0;34m\u001b[0m\u001b[0m\n\u001b[0;32m---> 73\u001b[0;31m         \u001b[0;32mreturn\u001b[0m \u001b[0mf\u001b[0m\u001b[0;34m(\u001b[0m\u001b[0;34m**\u001b[0m\u001b[0mkwargs\u001b[0m\u001b[0;34m)\u001b[0m\u001b[0;34m\u001b[0m\u001b[0;34m\u001b[0m\u001b[0m\n\u001b[0m\u001b[1;32m     74\u001b[0m     \u001b[0;32mreturn\u001b[0m \u001b[0minner_f\u001b[0m\u001b[0;34m\u001b[0m\u001b[0;34m\u001b[0m\u001b[0m\n\u001b[1;32m     75\u001b[0m \u001b[0;34m\u001b[0m\u001b[0m\n",
      "\u001b[0;32m~/anaconda3/lib/python3.7/site-packages/sklearn/utils/validation.py\u001b[0m in \u001b[0;36mcheck_array\u001b[0;34m(array, accept_sparse, accept_large_sparse, dtype, order, copy, force_all_finite, ensure_2d, allow_nd, ensure_min_samples, ensure_min_features, estimator)\u001b[0m\n\u001b[1;32m    640\u001b[0m         \u001b[0;32mif\u001b[0m \u001b[0;32mnot\u001b[0m \u001b[0mallow_nd\u001b[0m \u001b[0;32mand\u001b[0m \u001b[0marray\u001b[0m\u001b[0;34m.\u001b[0m\u001b[0mndim\u001b[0m \u001b[0;34m>=\u001b[0m \u001b[0;36m3\u001b[0m\u001b[0;34m:\u001b[0m\u001b[0;34m\u001b[0m\u001b[0;34m\u001b[0m\u001b[0m\n\u001b[1;32m    641\u001b[0m             raise ValueError(\"Found array with dim %d. %s expected <= 2.\"\n\u001b[0;32m--> 642\u001b[0;31m                              % (array.ndim, estimator_name))\n\u001b[0m\u001b[1;32m    643\u001b[0m \u001b[0;34m\u001b[0m\u001b[0m\n\u001b[1;32m    644\u001b[0m         \u001b[0;32mif\u001b[0m \u001b[0mforce_all_finite\u001b[0m\u001b[0;34m:\u001b[0m\u001b[0;34m\u001b[0m\u001b[0;34m\u001b[0m\u001b[0m\n",
      "\u001b[0;31mValueError\u001b[0m: Found array with dim 3. Estimator expected <= 2."
     ]
    }
   ],
   "source": [
    "X_over, y_over = oversample.fit_resample(X_train_np, y_train_np)"
   ]
  },
  {
   "cell_type": "markdown",
   "metadata": {},
   "source": [
    "### BUILD LSTM MODEL "
   ]
  },
  {
   "cell_type": "code",
   "execution_count": 445,
   "metadata": {
    "colab": {},
    "colab_type": "code",
    "id": "dPyrqmjooBLu",
    "outputId": "ac844281-9522-427d-afa6-d93b642f46af"
   },
   "outputs": [],
   "source": [
    "model = Sequential()\n",
    "model.add(LSTM(units = RANGE, activation = 'relu', return_sequences = True, input_shape = (x_shape, y_shape)))\n",
    "model.add(LSTM(units = 40, activation = 'relu'))\n",
    "model.add(Dense(units = 5, activation = 'softmax'))\n",
    "model.compile(optimizer='adam', loss = 'categorical_crossentropy', metrics=[\"acc\"])\n"
   ]
  },
  {
   "cell_type": "code",
   "execution_count": 447,
   "metadata": {},
   "outputs": [
    {
     "name": "stdout",
     "output_type": "stream",
     "text": [
      "Model: \"sequential_18\"\n",
      "_________________________________________________________________\n",
      "Layer (type)                 Output Shape              Param #   \n",
      "=================================================================\n",
      "lstm_29 (LSTM)               (None, 24, 24)            4128      \n",
      "_________________________________________________________________\n",
      "lstm_30 (LSTM)               (None, 40)                10400     \n",
      "_________________________________________________________________\n",
      "dense_12 (Dense)             (None, 5)                 205       \n",
      "=================================================================\n",
      "Total params: 14,733\n",
      "Trainable params: 14,733\n",
      "Non-trainable params: 0\n",
      "_________________________________________________________________\n"
     ]
    }
   ],
   "source": [
    "model.summary()"
   ]
  },
  {
   "cell_type": "code",
   "execution_count": 448,
   "metadata": {},
   "outputs": [
    {
     "name": "stdout",
     "output_type": "stream",
     "text": [
      "Epoch 1/100\n",
      "2242/2242 [==============================] - 48s 21ms/step - loss: 0.1585 - mean_squared_error: 0.1585 - mean_absolute_error: 0.3170 - mean_absolute_percentage_error: 158521552.0000 - cosine_proximity: 0.4554 - val_loss: 0.1608 - val_mean_squared_error: 0.1608 - val_mean_absolute_error: 0.3203 - val_mean_absolute_percentage_error: 160138576.0000 - val_cosine_proximity: 0.4427\n",
      "Epoch 2/100\n",
      "2242/2242 [==============================] - 47s 21ms/step - loss: 0.1572 - mean_squared_error: 0.1572 - mean_absolute_error: 0.3143 - mean_absolute_percentage_error: 157160944.0000 - cosine_proximity: 0.4622 - val_loss: 0.1614 - val_mean_squared_error: 0.1614 - val_mean_absolute_error: 0.3207 - val_mean_absolute_percentage_error: 160359920.0000 - val_cosine_proximity: 0.4398\n",
      "Epoch 3/100\n",
      "2242/2242 [==============================] - 47s 21ms/step - loss: 0.1562 - mean_squared_error: 0.1562 - mean_absolute_error: 0.3125 - mean_absolute_percentage_error: 156233792.0000 - cosine_proximity: 0.4668 - val_loss: 0.1631 - val_mean_squared_error: 0.1631 - val_mean_absolute_error: 0.3209 - val_mean_absolute_percentage_error: 160426368.0000 - val_cosine_proximity: 0.4316\n",
      "Epoch 4/100\n",
      "2242/2242 [==============================] - 47s 21ms/step - loss: 0.1558 - mean_squared_error: 0.1558 - mean_absolute_error: 0.3115 - mean_absolute_percentage_error: 155743216.0000 - cosine_proximity: 0.4693 - val_loss: 0.1589 - val_mean_squared_error: 0.1589 - val_mean_absolute_error: 0.3177 - val_mean_absolute_percentage_error: 158866832.0000 - val_cosine_proximity: 0.4534\n",
      "Epoch 5/100\n",
      "2242/2242 [==============================] - 47s 21ms/step - loss: 0.1554 - mean_squared_error: 0.1554 - mean_absolute_error: 0.3108 - mean_absolute_percentage_error: 155389984.0000 - cosine_proximity: 0.4708 - val_loss: 0.1587 - val_mean_squared_error: 0.1587 - val_mean_absolute_error: 0.3166 - val_mean_absolute_percentage_error: 158323104.0000 - val_cosine_proximity: 0.4544\n",
      "Epoch 6/100\n",
      "2242/2242 [==============================] - 49s 22ms/step - loss: 0.1551 - mean_squared_error: 0.1551 - mean_absolute_error: 0.3102 - mean_absolute_percentage_error: 155116144.0000 - cosine_proximity: 0.4722 - val_loss: 0.1586 - val_mean_squared_error: 0.1586 - val_mean_absolute_error: 0.3131 - val_mean_absolute_percentage_error: 156568944.0000 - val_cosine_proximity: 0.4560\n",
      "Epoch 7/100\n",
      "2242/2242 [==============================] - 49s 22ms/step - loss: 0.1550 - mean_squared_error: 0.1550 - mean_absolute_error: 0.3098 - mean_absolute_percentage_error: 154908928.0000 - cosine_proximity: 0.4731 - val_loss: 0.1578 - val_mean_squared_error: 0.1578 - val_mean_absolute_error: 0.3120 - val_mean_absolute_percentage_error: 155978640.0000 - val_cosine_proximity: 0.4599\n",
      "Epoch 8/100\n",
      "2242/2242 [==============================] - 49s 22ms/step - loss: 0.1550 - mean_squared_error: 0.1550 - mean_absolute_error: 0.3099 - mean_absolute_percentage_error: 154964896.0000 - cosine_proximity: 0.4730 - val_loss: 0.1577 - val_mean_squared_error: 0.1577 - val_mean_absolute_error: 0.3141 - val_mean_absolute_percentage_error: 157059952.0000 - val_cosine_proximity: 0.4599\n",
      "Epoch 9/100\n",
      "2242/2242 [==============================] - 49s 22ms/step - loss: 0.1544 - mean_squared_error: 0.1544 - mean_absolute_error: 0.3088 - mean_absolute_percentage_error: 154379264.0000 - cosine_proximity: 0.4757 - val_loss: 0.1571 - val_mean_squared_error: 0.1571 - val_mean_absolute_error: 0.3130 - val_mean_absolute_percentage_error: 156489456.0000 - val_cosine_proximity: 0.4635\n",
      "Epoch 10/100\n",
      "2242/2242 [==============================] - 49s 22ms/step - loss: 0.1543 - mean_squared_error: 0.1543 - mean_absolute_error: 0.3084 - mean_absolute_percentage_error: 154212192.0000 - cosine_proximity: 0.4766 - val_loss: 0.1598 - val_mean_squared_error: 0.1598 - val_mean_absolute_error: 0.3144 - val_mean_absolute_percentage_error: 157181024.0000 - val_cosine_proximity: 0.4501\n",
      "Epoch 11/100\n",
      "2242/2242 [==============================] - 49s 22ms/step - loss: 0.1541 - mean_squared_error: 0.1541 - mean_absolute_error: 0.3082 - mean_absolute_percentage_error: 154085280.0000 - cosine_proximity: 0.4772 - val_loss: 0.1627 - val_mean_squared_error: 0.1627 - val_mean_absolute_error: 0.3165 - val_mean_absolute_percentage_error: 158275088.0000 - val_cosine_proximity: 0.4362\n",
      "Epoch 12/100\n",
      "2242/2242 [==============================] - 49s 22ms/step - loss: 0.1539 - mean_squared_error: 0.1539 - mean_absolute_error: 0.3078 - mean_absolute_percentage_error: 153910880.0000 - cosine_proximity: 0.4781 - val_loss: 0.1590 - val_mean_squared_error: 0.1590 - val_mean_absolute_error: 0.3138 - val_mean_absolute_percentage_error: 156876272.0000 - val_cosine_proximity: 0.4542\n",
      "Epoch 13/100\n",
      "2242/2242 [==============================] - 49s 22ms/step - loss: 0.1539 - mean_squared_error: 0.1539 - mean_absolute_error: 0.3076 - mean_absolute_percentage_error: 153811568.0000 - cosine_proximity: 0.4785 - val_loss: 0.1601 - val_mean_squared_error: 0.1601 - val_mean_absolute_error: 0.3150 - val_mean_absolute_percentage_error: 157514896.0000 - val_cosine_proximity: 0.4484\n",
      "Epoch 14/100\n",
      "2242/2242 [==============================] - 47s 21ms/step - loss: 0.1537 - mean_squared_error: 0.1537 - mean_absolute_error: 0.3073 - mean_absolute_percentage_error: 153674144.0000 - cosine_proximity: 0.4792 - val_loss: 0.1608 - val_mean_squared_error: 0.1608 - val_mean_absolute_error: 0.3158 - val_mean_absolute_percentage_error: 157891088.0000 - val_cosine_proximity: 0.4451\n",
      "Epoch 15/100\n",
      "2242/2242 [==============================] - 48s 21ms/step - loss: 0.1536 - mean_squared_error: 0.1536 - mean_absolute_error: 0.3071 - mean_absolute_percentage_error: 153535120.0000 - cosine_proximity: 0.4799 - val_loss: 0.1622 - val_mean_squared_error: 0.1622 - val_mean_absolute_error: 0.3157 - val_mean_absolute_percentage_error: 157850736.0000 - val_cosine_proximity: 0.4394\n",
      "Epoch 16/100\n",
      "2242/2242 [==============================] - 47s 21ms/step - loss: 0.1535 - mean_squared_error: 0.1535 - mean_absolute_error: 0.3069 - mean_absolute_percentage_error: 153443568.0000 - cosine_proximity: 0.4802 - val_loss: 0.1603 - val_mean_squared_error: 0.1603 - val_mean_absolute_error: 0.3149 - val_mean_absolute_percentage_error: 157448384.0000 - val_cosine_proximity: 0.4477\n",
      "Epoch 17/100\n",
      "2242/2242 [==============================] - 48s 21ms/step - loss: 0.1534 - mean_squared_error: 0.1534 - mean_absolute_error: 0.3068 - mean_absolute_percentage_error: 153381248.0000 - cosine_proximity: 0.4806 - val_loss: 0.1609 - val_mean_squared_error: 0.1609 - val_mean_absolute_error: 0.3148 - val_mean_absolute_percentage_error: 157387248.0000 - val_cosine_proximity: 0.4448\n",
      "Epoch 18/100\n",
      "2242/2242 [==============================] - 47s 21ms/step - loss: 0.1533 - mean_squared_error: 0.1533 - mean_absolute_error: 0.3065 - mean_absolute_percentage_error: 153269120.0000 - cosine_proximity: 0.4811 - val_loss: 0.1606 - val_mean_squared_error: 0.1606 - val_mean_absolute_error: 0.3160 - val_mean_absolute_percentage_error: 157980336.0000 - val_cosine_proximity: 0.4459\n",
      "Epoch 19/100\n",
      "2242/2242 [==============================] - 49s 22ms/step - loss: 0.1532 - mean_squared_error: 0.1532 - mean_absolute_error: 0.3063 - mean_absolute_percentage_error: 153170704.0000 - cosine_proximity: 0.4817 - val_loss: 0.1616 - val_mean_squared_error: 0.1616 - val_mean_absolute_error: 0.3160 - val_mean_absolute_percentage_error: 158009440.0000 - val_cosine_proximity: 0.4416\n",
      "Epoch 20/100\n",
      "2242/2242 [==============================] - 45s 20ms/step - loss: 0.1532 - mean_squared_error: 0.1532 - mean_absolute_error: 0.3062 - mean_absolute_percentage_error: 153107520.0000 - cosine_proximity: 0.4818 - val_loss: 0.1637 - val_mean_squared_error: 0.1637 - val_mean_absolute_error: 0.3147 - val_mean_absolute_percentage_error: 157353136.0000 - val_cosine_proximity: 0.4366\n",
      "Epoch 21/100\n",
      "2242/2242 [==============================] - 45s 20ms/step - loss: 0.1531 - mean_squared_error: 0.1531 - mean_absolute_error: 0.3061 - mean_absolute_percentage_error: 153047888.0000 - cosine_proximity: 0.4822 - val_loss: 0.1603 - val_mean_squared_error: 0.1603 - val_mean_absolute_error: 0.3149 - val_mean_absolute_percentage_error: 157465072.0000 - val_cosine_proximity: 0.4480\n"
     ]
    },
    {
     "name": "stdout",
     "output_type": "stream",
     "text": [
      "Epoch 22/100\n",
      "2242/2242 [==============================] - 45s 20ms/step - loss: 0.1530 - mean_squared_error: 0.1530 - mean_absolute_error: 0.3059 - mean_absolute_percentage_error: 152970912.0000 - cosine_proximity: 0.4825 - val_loss: 0.1603 - val_mean_squared_error: 0.1603 - val_mean_absolute_error: 0.3145 - val_mean_absolute_percentage_error: 157254304.0000 - val_cosine_proximity: 0.4493\n",
      "Epoch 23/100\n",
      "2242/2242 [==============================] - 45s 20ms/step - loss: 0.1530 - mean_squared_error: 0.1530 - mean_absolute_error: 0.3058 - mean_absolute_percentage_error: 152919120.0000 - cosine_proximity: 0.4827 - val_loss: 0.1592 - val_mean_squared_error: 0.1592 - val_mean_absolute_error: 0.3138 - val_mean_absolute_percentage_error: 156882528.0000 - val_cosine_proximity: 0.4536\n",
      "Epoch 24/100\n",
      "2242/2242 [==============================] - 45s 20ms/step - loss: 0.1529 - mean_squared_error: 0.1529 - mean_absolute_error: 0.3058 - mean_absolute_percentage_error: 152892928.0000 - cosine_proximity: 0.4829 - val_loss: 0.1652 - val_mean_squared_error: 0.1652 - val_mean_absolute_error: 0.3157 - val_mean_absolute_percentage_error: 157835936.0000 - val_cosine_proximity: 0.4270\n",
      "Epoch 25/100\n",
      "2242/2242 [==============================] - 45s 20ms/step - loss: 0.1529 - mean_squared_error: 0.1529 - mean_absolute_error: 0.3056 - mean_absolute_percentage_error: 152806560.0000 - cosine_proximity: 0.4833 - val_loss: 0.1654 - val_mean_squared_error: 0.1654 - val_mean_absolute_error: 0.3174 - val_mean_absolute_percentage_error: 158676256.0000 - val_cosine_proximity: 0.4278\n",
      "Epoch 26/100\n",
      "2242/2242 [==============================] - 45s 20ms/step - loss: 0.1528 - mean_squared_error: 0.1528 - mean_absolute_error: 0.3055 - mean_absolute_percentage_error: 152736176.0000 - cosine_proximity: 0.4836 - val_loss: 0.1604 - val_mean_squared_error: 0.1604 - val_mean_absolute_error: 0.3138 - val_mean_absolute_percentage_error: 156877264.0000 - val_cosine_proximity: 0.4480\n",
      "Epoch 27/100\n",
      "2242/2242 [==============================] - 45s 20ms/step - loss: 0.1527 - mean_squared_error: 0.1527 - mean_absolute_error: 0.3054 - mean_absolute_percentage_error: 152676816.0000 - cosine_proximity: 0.4839 - val_loss: 0.1605 - val_mean_squared_error: 0.1605 - val_mean_absolute_error: 0.3138 - val_mean_absolute_percentage_error: 156877824.0000 - val_cosine_proximity: 0.4480\n",
      "Epoch 28/100\n",
      "2242/2242 [==============================] - 45s 20ms/step - loss: 0.1526 - mean_squared_error: 0.1526 - mean_absolute_error: 0.3052 - mean_absolute_percentage_error: 152576848.0000 - cosine_proximity: 0.4842 - val_loss: 0.1639 - val_mean_squared_error: 0.1639 - val_mean_absolute_error: 0.3156 - val_mean_absolute_percentage_error: 157793536.0000 - val_cosine_proximity: 0.4335\n",
      "Epoch 29/100\n",
      "2242/2242 [==============================] - 45s 20ms/step - loss: 0.1526 - mean_squared_error: 0.1526 - mean_absolute_error: 0.3052 - mean_absolute_percentage_error: 152580240.0000 - cosine_proximity: 0.4843 - val_loss: 0.1616 - val_mean_squared_error: 0.1616 - val_mean_absolute_error: 0.3148 - val_mean_absolute_percentage_error: 157390608.0000 - val_cosine_proximity: 0.4419\n",
      "Epoch 30/100\n",
      "2242/2242 [==============================] - 45s 20ms/step - loss: 0.1526 - mean_squared_error: 0.1526 - mean_absolute_error: 0.3052 - mean_absolute_percentage_error: 152594352.0000 - cosine_proximity: 0.4844 - val_loss: 0.1669 - val_mean_squared_error: 0.1669 - val_mean_absolute_error: 0.3170 - val_mean_absolute_percentage_error: 158493536.0000 - val_cosine_proximity: 0.4201\n",
      "Epoch 31/100\n",
      "2242/2242 [==============================] - 45s 20ms/step - loss: 0.1525 - mean_squared_error: 0.1525 - mean_absolute_error: 0.3050 - mean_absolute_percentage_error: 152487984.0000 - cosine_proximity: 0.4847 - val_loss: 0.1607 - val_mean_squared_error: 0.1607 - val_mean_absolute_error: 0.3138 - val_mean_absolute_percentage_error: 156895456.0000 - val_cosine_proximity: 0.4474\n",
      "Epoch 32/100\n",
      "2242/2242 [==============================] - 45s 20ms/step - loss: 0.1525 - mean_squared_error: 0.1525 - mean_absolute_error: 0.3050 - mean_absolute_percentage_error: 152491952.0000 - cosine_proximity: 0.4847 - val_loss: 0.1626 - val_mean_squared_error: 0.1626 - val_mean_absolute_error: 0.3153 - val_mean_absolute_percentage_error: 157635152.0000 - val_cosine_proximity: 0.4391\n",
      "Epoch 33/100\n",
      "2242/2242 [==============================] - 45s 20ms/step - loss: 0.1525 - mean_squared_error: 0.1525 - mean_absolute_error: 0.3050 - mean_absolute_percentage_error: 152482816.0000 - cosine_proximity: 0.4848 - val_loss: 0.1614 - val_mean_squared_error: 0.1614 - val_mean_absolute_error: 0.3140 - val_mean_absolute_percentage_error: 157024032.0000 - val_cosine_proximity: 0.4444\n",
      "Epoch 34/100\n",
      "2242/2242 [==============================] - 45s 20ms/step - loss: 0.1524 - mean_squared_error: 0.1524 - mean_absolute_error: 0.3047 - mean_absolute_percentage_error: 152338384.0000 - cosine_proximity: 0.4852 - val_loss: 0.1599 - val_mean_squared_error: 0.1599 - val_mean_absolute_error: 0.3141 - val_mean_absolute_percentage_error: 157028976.0000 - val_cosine_proximity: 0.4508\n",
      "Epoch 35/100\n",
      "2242/2242 [==============================] - 45s 20ms/step - loss: 0.1524 - mean_squared_error: 0.1524 - mean_absolute_error: 0.3046 - mean_absolute_percentage_error: 152320656.0000 - cosine_proximity: 0.4855 - val_loss: 0.1620 - val_mean_squared_error: 0.1620 - val_mean_absolute_error: 0.3154 - val_mean_absolute_percentage_error: 157691280.0000 - val_cosine_proximity: 0.4405\n",
      "Epoch 36/100\n",
      "2242/2242 [==============================] - 45s 20ms/step - loss: 0.1523 - mean_squared_error: 0.1523 - mean_absolute_error: 0.3046 - mean_absolute_percentage_error: 152284816.0000 - cosine_proximity: 0.4857 - val_loss: 0.1619 - val_mean_squared_error: 0.1619 - val_mean_absolute_error: 0.3141 - val_mean_absolute_percentage_error: 157069584.0000 - val_cosine_proximity: 0.4423\n",
      "Epoch 37/100\n",
      "2242/2242 [==============================] - 45s 20ms/step - loss: 0.1523 - mean_squared_error: 0.1523 - mean_absolute_error: 0.3044 - mean_absolute_percentage_error: 152193328.0000 - cosine_proximity: 0.4860 - val_loss: 0.1598 - val_mean_squared_error: 0.1598 - val_mean_absolute_error: 0.3139 - val_mean_absolute_percentage_error: 156965840.0000 - val_cosine_proximity: 0.4520\n",
      "Epoch 38/100\n",
      "2242/2242 [==============================] - 45s 20ms/step - loss: 0.1522 - mean_squared_error: 0.1522 - mean_absolute_error: 0.3044 - mean_absolute_percentage_error: 152198784.0000 - cosine_proximity: 0.4861 - val_loss: 0.1629 - val_mean_squared_error: 0.1629 - val_mean_absolute_error: 0.3141 - val_mean_absolute_percentage_error: 157071984.0000 - val_cosine_proximity: 0.4376\n",
      "Epoch 39/100\n",
      "2242/2242 [==============================] - 45s 20ms/step - loss: 0.1522 - mean_squared_error: 0.1522 - mean_absolute_error: 0.3043 - mean_absolute_percentage_error: 152136112.0000 - cosine_proximity: 0.4862 - val_loss: 0.1590 - val_mean_squared_error: 0.1590 - val_mean_absolute_error: 0.3124 - val_mean_absolute_percentage_error: 156205136.0000 - val_cosine_proximity: 0.4552\n",
      "Epoch 40/100\n",
      "2242/2242 [==============================] - 45s 20ms/step - loss: 0.1522 - mean_squared_error: 0.1522 - mean_absolute_error: 0.3043 - mean_absolute_percentage_error: 152141328.0000 - cosine_proximity: 0.4863 - val_loss: 0.1615 - val_mean_squared_error: 0.1615 - val_mean_absolute_error: 0.3134 - val_mean_absolute_percentage_error: 156713456.0000 - val_cosine_proximity: 0.4445\n",
      "Epoch 41/100\n",
      "2242/2242 [==============================] - 45s 20ms/step - loss: 0.1522 - mean_squared_error: 0.1522 - mean_absolute_error: 0.3042 - mean_absolute_percentage_error: 152096016.0000 - cosine_proximity: 0.4865 - val_loss: 0.1613 - val_mean_squared_error: 0.1613 - val_mean_absolute_error: 0.3142 - val_mean_absolute_percentage_error: 157112640.0000 - val_cosine_proximity: 0.4446\n",
      "Epoch 42/100\n",
      "2242/2242 [==============================] - 45s 20ms/step - loss: 0.1521 - mean_squared_error: 0.1521 - mean_absolute_error: 0.3041 - mean_absolute_percentage_error: 152069328.0000 - cosine_proximity: 0.4867 - val_loss: 0.1627 - val_mean_squared_error: 0.1627 - val_mean_absolute_error: 0.3144 - val_mean_absolute_percentage_error: 157222384.0000 - val_cosine_proximity: 0.4401\n"
     ]
    },
    {
     "name": "stdout",
     "output_type": "stream",
     "text": [
      "Epoch 43/100\n",
      "2242/2242 [==============================] - 45s 20ms/step - loss: 0.1521 - mean_squared_error: 0.1521 - mean_absolute_error: 0.3041 - mean_absolute_percentage_error: 152074016.0000 - cosine_proximity: 0.4867 - val_loss: 0.1671 - val_mean_squared_error: 0.1671 - val_mean_absolute_error: 0.3164 - val_mean_absolute_percentage_error: 158220864.0000 - val_cosine_proximity: 0.4219\n",
      "Epoch 44/100\n",
      "2242/2242 [==============================] - 45s 20ms/step - loss: 0.1520 - mean_squared_error: 0.1520 - mean_absolute_error: 0.3039 - mean_absolute_percentage_error: 151959312.0000 - cosine_proximity: 0.4870 - val_loss: 0.1629 - val_mean_squared_error: 0.1629 - val_mean_absolute_error: 0.3151 - val_mean_absolute_percentage_error: 157548848.0000 - val_cosine_proximity: 0.4378\n",
      "Epoch 45/100\n",
      "2242/2242 [==============================] - 45s 20ms/step - loss: 0.1520 - mean_squared_error: 0.1520 - mean_absolute_error: 0.3040 - mean_absolute_percentage_error: 151980976.0000 - cosine_proximity: 0.4871 - val_loss: 0.1622 - val_mean_squared_error: 0.1622 - val_mean_absolute_error: 0.3137 - val_mean_absolute_percentage_error: 156829728.0000 - val_cosine_proximity: 0.4421\n",
      "Epoch 46/100\n",
      "2242/2242 [==============================] - 45s 20ms/step - loss: 0.1519 - mean_squared_error: 0.1519 - mean_absolute_error: 0.3038 - mean_absolute_percentage_error: 151887024.0000 - cosine_proximity: 0.4875 - val_loss: 0.1654 - val_mean_squared_error: 0.1654 - val_mean_absolute_error: 0.3157 - val_mean_absolute_percentage_error: 157842144.0000 - val_cosine_proximity: 0.4275\n",
      "Epoch 47/100\n",
      "2242/2242 [==============================] - 45s 20ms/step - loss: 0.1520 - mean_squared_error: 0.1520 - mean_absolute_error: 0.3038 - mean_absolute_percentage_error: 151887184.0000 - cosine_proximity: 0.4873 - val_loss: 0.1637 - val_mean_squared_error: 0.1637 - val_mean_absolute_error: 0.3152 - val_mean_absolute_percentage_error: 157578000.0000 - val_cosine_proximity: 0.4343\n",
      "Epoch 48/100\n",
      "2242/2242 [==============================] - 45s 20ms/step - loss: 0.1519 - mean_squared_error: 0.1519 - mean_absolute_error: 0.3036 - mean_absolute_percentage_error: 151816064.0000 - cosine_proximity: 0.4878 - val_loss: 0.1632 - val_mean_squared_error: 0.1632 - val_mean_absolute_error: 0.3139 - val_mean_absolute_percentage_error: 156969744.0000 - val_cosine_proximity: 0.4382\n",
      "Epoch 49/100\n",
      "2242/2242 [==============================] - 45s 20ms/step - loss: 0.1518 - mean_squared_error: 0.1518 - mean_absolute_error: 0.3035 - mean_absolute_percentage_error: 151763808.0000 - cosine_proximity: 0.4880 - val_loss: 0.1634 - val_mean_squared_error: 0.1634 - val_mean_absolute_error: 0.3145 - val_mean_absolute_percentage_error: 157248288.0000 - val_cosine_proximity: 0.4366\n",
      "Epoch 50/100\n",
      "2242/2242 [==============================] - 45s 20ms/step - loss: 0.1518 - mean_squared_error: 0.1518 - mean_absolute_error: 0.3035 - mean_absolute_percentage_error: 151739440.0000 - cosine_proximity: 0.4881 - val_loss: 0.1618 - val_mean_squared_error: 0.1618 - val_mean_absolute_error: 0.3133 - val_mean_absolute_percentage_error: 156643856.0000 - val_cosine_proximity: 0.4436\n",
      "Epoch 51/100\n",
      "2242/2242 [==============================] - 45s 20ms/step - loss: 0.1518 - mean_squared_error: 0.1518 - mean_absolute_error: 0.3034 - mean_absolute_percentage_error: 151696816.0000 - cosine_proximity: 0.4882 - val_loss: 0.1645 - val_mean_squared_error: 0.1645 - val_mean_absolute_error: 0.3143 - val_mean_absolute_percentage_error: 157153712.0000 - val_cosine_proximity: 0.4334\n",
      "Epoch 52/100\n",
      "2242/2242 [==============================] - 45s 20ms/step - loss: 0.1517 - mean_squared_error: 0.1517 - mean_absolute_error: 0.3034 - mean_absolute_percentage_error: 151698672.0000 - cosine_proximity: 0.4884 - val_loss: 0.1644 - val_mean_squared_error: 0.1644 - val_mean_absolute_error: 0.3151 - val_mean_absolute_percentage_error: 157563344.0000 - val_cosine_proximity: 0.4320\n",
      "Epoch 53/100\n",
      "2242/2242 [==============================] - 45s 20ms/step - loss: 0.1517 - mean_squared_error: 0.1517 - mean_absolute_error: 0.3033 - mean_absolute_percentage_error: 151639824.0000 - cosine_proximity: 0.4884 - val_loss: 0.1614 - val_mean_squared_error: 0.1614 - val_mean_absolute_error: 0.3138 - val_mean_absolute_percentage_error: 156923600.0000 - val_cosine_proximity: 0.4454\n",
      "Epoch 54/100\n",
      "2242/2242 [==============================] - 45s 20ms/step - loss: 0.1517 - mean_squared_error: 0.1517 - mean_absolute_error: 0.3033 - mean_absolute_percentage_error: 151658336.0000 - cosine_proximity: 0.4885 - val_loss: 0.1643 - val_mean_squared_error: 0.1643 - val_mean_absolute_error: 0.3154 - val_mean_absolute_percentage_error: 157717840.0000 - val_cosine_proximity: 0.4327\n",
      "Epoch 55/100\n",
      "2242/2242 [==============================] - 45s 20ms/step - loss: 0.1516 - mean_squared_error: 0.1516 - mean_absolute_error: 0.3031 - mean_absolute_percentage_error: 151560448.0000 - cosine_proximity: 0.4888 - val_loss: 0.1657 - val_mean_squared_error: 0.1657 - val_mean_absolute_error: 0.3161 - val_mean_absolute_percentage_error: 158062560.0000 - val_cosine_proximity: 0.4263\n",
      "Epoch 56/100\n",
      "2242/2242 [==============================] - 45s 20ms/step - loss: 0.1516 - mean_squared_error: 0.1516 - mean_absolute_error: 0.3031 - mean_absolute_percentage_error: 151546560.0000 - cosine_proximity: 0.4889 - val_loss: 0.1659 - val_mean_squared_error: 0.1659 - val_mean_absolute_error: 0.3154 - val_mean_absolute_percentage_error: 157721120.0000 - val_cosine_proximity: 0.4265\n",
      "Epoch 57/100\n",
      "2242/2242 [==============================] - 45s 20ms/step - loss: 0.1516 - mean_squared_error: 0.1516 - mean_absolute_error: 0.3031 - mean_absolute_percentage_error: 151533888.0000 - cosine_proximity: 0.4889 - val_loss: 0.1619 - val_mean_squared_error: 0.1619 - val_mean_absolute_error: 0.3128 - val_mean_absolute_percentage_error: 156397264.0000 - val_cosine_proximity: 0.4441\n",
      "Epoch 58/100\n",
      "2242/2242 [==============================] - 45s 20ms/step - loss: 0.1516 - mean_squared_error: 0.1516 - mean_absolute_error: 0.3030 - mean_absolute_percentage_error: 151485888.0000 - cosine_proximity: 0.4893 - val_loss: 0.1658 - val_mean_squared_error: 0.1658 - val_mean_absolute_error: 0.3157 - val_mean_absolute_percentage_error: 157840560.0000 - val_cosine_proximity: 0.4286\n",
      "Epoch 59/100\n",
      "2242/2242 [==============================] - 45s 20ms/step - loss: 0.1515 - mean_squared_error: 0.1515 - mean_absolute_error: 0.3030 - mean_absolute_percentage_error: 151476448.0000 - cosine_proximity: 0.4893 - val_loss: 0.1613 - val_mean_squared_error: 0.1613 - val_mean_absolute_error: 0.3126 - val_mean_absolute_percentage_error: 156284752.0000 - val_cosine_proximity: 0.4474\n",
      "Epoch 60/100\n",
      "2242/2242 [==============================] - 45s 20ms/step - loss: 0.1515 - mean_squared_error: 0.1515 - mean_absolute_error: 0.3028 - mean_absolute_percentage_error: 151378640.0000 - cosine_proximity: 0.4895 - val_loss: 0.1622 - val_mean_squared_error: 0.1622 - val_mean_absolute_error: 0.3144 - val_mean_absolute_percentage_error: 157199376.0000 - val_cosine_proximity: 0.4409\n",
      "Epoch 61/100\n",
      "2242/2242 [==============================] - 45s 20ms/step - loss: 0.1514 - mean_squared_error: 0.1514 - mean_absolute_error: 0.3027 - mean_absolute_percentage_error: 151369984.0000 - cosine_proximity: 0.4898 - val_loss: 0.1676 - val_mean_squared_error: 0.1676 - val_mean_absolute_error: 0.3156 - val_mean_absolute_percentage_error: 157818256.0000 - val_cosine_proximity: 0.4225\n",
      "Epoch 62/100\n",
      "2242/2242 [==============================] - 45s 20ms/step - loss: 0.1514 - mean_squared_error: 0.1514 - mean_absolute_error: 0.3027 - mean_absolute_percentage_error: 151351520.0000 - cosine_proximity: 0.4899 - val_loss: 0.1619 - val_mean_squared_error: 0.1619 - val_mean_absolute_error: 0.3143 - val_mean_absolute_percentage_error: 157164800.0000 - val_cosine_proximity: 0.4439\n",
      "Epoch 63/100\n",
      "2242/2242 [==============================] - 45s 20ms/step - loss: 0.1514 - mean_squared_error: 0.1514 - mean_absolute_error: 0.3026 - mean_absolute_percentage_error: 151282112.0000 - cosine_proximity: 0.4899 - val_loss: 0.1626 - val_mean_squared_error: 0.1626 - val_mean_absolute_error: 0.3144 - val_mean_absolute_percentage_error: 157199760.0000 - val_cosine_proximity: 0.4416\n"
     ]
    },
    {
     "name": "stdout",
     "output_type": "stream",
     "text": [
      "Epoch 64/100\n",
      "2242/2242 [==============================] - 45s 20ms/step - loss: 0.1513 - mean_squared_error: 0.1513 - mean_absolute_error: 0.3025 - mean_absolute_percentage_error: 151262288.0000 - cosine_proximity: 0.4903 - val_loss: 0.1619 - val_mean_squared_error: 0.1619 - val_mean_absolute_error: 0.3124 - val_mean_absolute_percentage_error: 156193680.0000 - val_cosine_proximity: 0.4447\n",
      "Epoch 65/100\n",
      "2242/2242 [==============================] - 45s 20ms/step - loss: 0.1513 - mean_squared_error: 0.1513 - mean_absolute_error: 0.3025 - mean_absolute_percentage_error: 151271040.0000 - cosine_proximity: 0.4902 - val_loss: 0.1617 - val_mean_squared_error: 0.1617 - val_mean_absolute_error: 0.3133 - val_mean_absolute_percentage_error: 156627504.0000 - val_cosine_proximity: 0.4445\n",
      "Epoch 66/100\n",
      "2242/2242 [==============================] - 45s 20ms/step - loss: 0.1513 - mean_squared_error: 0.1513 - mean_absolute_error: 0.3024 - mean_absolute_percentage_error: 151192368.0000 - cosine_proximity: 0.4905 - val_loss: 0.1641 - val_mean_squared_error: 0.1641 - val_mean_absolute_error: 0.3140 - val_mean_absolute_percentage_error: 157018384.0000 - val_cosine_proximity: 0.4347\n",
      "Epoch 67/100\n",
      "2242/2242 [==============================] - 45s 20ms/step - loss: 0.1514 - mean_squared_error: 0.1514 - mean_absolute_error: 0.3025 - mean_absolute_percentage_error: 151269728.0000 - cosine_proximity: 0.4900 - val_loss: 0.1631 - val_mean_squared_error: 0.1631 - val_mean_absolute_error: 0.3147 - val_mean_absolute_percentage_error: 157341936.0000 - val_cosine_proximity: 0.4381\n",
      "Epoch 68/100\n",
      "2242/2242 [==============================] - 45s 20ms/step - loss: 0.1512 - mean_squared_error: 0.1512 - mean_absolute_error: 0.3022 - mean_absolute_percentage_error: 151124240.0000 - cosine_proximity: 0.4908 - val_loss: 0.1648 - val_mean_squared_error: 0.1648 - val_mean_absolute_error: 0.3147 - val_mean_absolute_percentage_error: 157361104.0000 - val_cosine_proximity: 0.4321\n",
      "Epoch 69/100\n",
      "2242/2242 [==============================] - 45s 20ms/step - loss: 0.1513 - mean_squared_error: 0.1513 - mean_absolute_error: 0.3025 - mean_absolute_percentage_error: 151258064.0000 - cosine_proximity: 0.4904 - val_loss: 0.1650 - val_mean_squared_error: 0.1650 - val_mean_absolute_error: 0.3141 - val_mean_absolute_percentage_error: 157046016.0000 - val_cosine_proximity: 0.4318\n",
      "Epoch 70/100\n",
      "2242/2242 [==============================] - 45s 20ms/step - loss: 0.1512 - mean_squared_error: 0.1512 - mean_absolute_error: 0.3021 - mean_absolute_percentage_error: 151070144.0000 - cosine_proximity: 0.4910 - val_loss: 0.1621 - val_mean_squared_error: 0.1621 - val_mean_absolute_error: 0.3138 - val_mean_absolute_percentage_error: 156900688.0000 - val_cosine_proximity: 0.4421\n",
      "Epoch 71/100\n",
      "2242/2242 [==============================] - 45s 20ms/step - loss: 0.1511 - mean_squared_error: 0.1511 - mean_absolute_error: 0.3021 - mean_absolute_percentage_error: 151049088.0000 - cosine_proximity: 0.4911 - val_loss: 0.1633 - val_mean_squared_error: 0.1633 - val_mean_absolute_error: 0.3143 - val_mean_absolute_percentage_error: 157162960.0000 - val_cosine_proximity: 0.4373\n",
      "Epoch 72/100\n",
      "2242/2242 [==============================] - 45s 20ms/step - loss: 0.1511 - mean_squared_error: 0.1511 - mean_absolute_error: 0.3021 - mean_absolute_percentage_error: 151074016.0000 - cosine_proximity: 0.4910 - val_loss: 0.1679 - val_mean_squared_error: 0.1679 - val_mean_absolute_error: 0.3163 - val_mean_absolute_percentage_error: 158130912.0000 - val_cosine_proximity: 0.4189\n",
      "Epoch 73/100\n",
      "2242/2242 [==============================] - 45s 20ms/step - loss: 0.1511 - mean_squared_error: 0.1511 - mean_absolute_error: 0.3021 - mean_absolute_percentage_error: 151045184.0000 - cosine_proximity: 0.4912 - val_loss: 0.1616 - val_mean_squared_error: 0.1616 - val_mean_absolute_error: 0.3130 - val_mean_absolute_percentage_error: 156477472.0000 - val_cosine_proximity: 0.4456\n",
      "Epoch 74/100\n",
      "2242/2242 [==============================] - 45s 20ms/step - loss: 0.1511 - mean_squared_error: 0.1511 - mean_absolute_error: 0.3020 - mean_absolute_percentage_error: 151005184.0000 - cosine_proximity: 0.4911 - val_loss: 0.1675 - val_mean_squared_error: 0.1675 - val_mean_absolute_error: 0.3164 - val_mean_absolute_percentage_error: 158209184.0000 - val_cosine_proximity: 0.4186\n",
      "Epoch 75/100\n",
      "2242/2242 [==============================] - 45s 20ms/step - loss: 0.1511 - mean_squared_error: 0.1511 - mean_absolute_error: 0.3020 - mean_absolute_percentage_error: 150997744.0000 - cosine_proximity: 0.4914 - val_loss: 0.1642 - val_mean_squared_error: 0.1642 - val_mean_absolute_error: 0.3158 - val_mean_absolute_percentage_error: 157898544.0000 - val_cosine_proximity: 0.4322\n",
      "Epoch 76/100\n",
      "2242/2242 [==============================] - 45s 20ms/step - loss: 0.1510 - mean_squared_error: 0.1510 - mean_absolute_error: 0.3019 - mean_absolute_percentage_error: 150968512.0000 - cosine_proximity: 0.4915 - val_loss: 0.1618 - val_mean_squared_error: 0.1618 - val_mean_absolute_error: 0.3137 - val_mean_absolute_percentage_error: 156841744.0000 - val_cosine_proximity: 0.4435\n",
      "Epoch 77/100\n",
      "2242/2242 [==============================] - 45s 20ms/step - loss: 0.1511 - mean_squared_error: 0.1511 - mean_absolute_error: 0.3020 - mean_absolute_percentage_error: 150978448.0000 - cosine_proximity: 0.4913 - val_loss: 0.1617 - val_mean_squared_error: 0.1617 - val_mean_absolute_error: 0.3133 - val_mean_absolute_percentage_error: 156644656.0000 - val_cosine_proximity: 0.4439\n",
      "Epoch 78/100\n",
      "2242/2242 [==============================] - 45s 20ms/step - loss: 0.1510 - mean_squared_error: 0.1510 - mean_absolute_error: 0.3018 - mean_absolute_percentage_error: 150890976.0000 - cosine_proximity: 0.4918 - val_loss: 0.1644 - val_mean_squared_error: 0.1644 - val_mean_absolute_error: 0.3143 - val_mean_absolute_percentage_error: 157139296.0000 - val_cosine_proximity: 0.4341\n",
      "Epoch 79/100\n",
      "2242/2242 [==============================] - 45s 20ms/step - loss: 0.1509 - mean_squared_error: 0.1509 - mean_absolute_error: 0.3016 - mean_absolute_percentage_error: 150817040.0000 - cosine_proximity: 0.4920 - val_loss: 0.1646 - val_mean_squared_error: 0.1646 - val_mean_absolute_error: 0.3147 - val_mean_absolute_percentage_error: 157373808.0000 - val_cosine_proximity: 0.4331\n",
      "Epoch 80/100\n",
      "2242/2242 [==============================] - 633s 282ms/step - loss: 0.1509 - mean_squared_error: 0.1509 - mean_absolute_error: 0.3016 - mean_absolute_percentage_error: 150790576.0000 - cosine_proximity: 0.4922 - val_loss: 0.1661 - val_mean_squared_error: 0.1661 - val_mean_absolute_error: 0.3150 - val_mean_absolute_percentage_error: 157475568.0000 - val_cosine_proximity: 0.4265\n",
      "Epoch 81/100\n",
      "2242/2242 [==============================] - 52s 23ms/step - loss: 0.1512 - mean_squared_error: 0.1512 - mean_absolute_error: 0.3023 - mean_absolute_percentage_error: 151159328.0000 - cosine_proximity: 0.4908 - val_loss: 0.1636 - val_mean_squared_error: 0.1636 - val_mean_absolute_error: 0.3157 - val_mean_absolute_percentage_error: 157860944.0000 - val_cosine_proximity: 0.4355\n",
      "Epoch 82/100\n",
      "2242/2242 [==============================] - 54s 24ms/step - loss: 0.1509 - mean_squared_error: 0.1509 - mean_absolute_error: 0.3017 - mean_absolute_percentage_error: 150828896.0000 - cosine_proximity: 0.4920 - val_loss: 0.1653 - val_mean_squared_error: 0.1653 - val_mean_absolute_error: 0.3159 - val_mean_absolute_percentage_error: 157955408.0000 - val_cosine_proximity: 0.4281\n",
      "Epoch 83/100\n",
      "2242/2242 [==============================] - 54s 24ms/step - loss: 0.1509 - mean_squared_error: 0.1509 - mean_absolute_error: 0.3016 - mean_absolute_percentage_error: 150784800.0000 - cosine_proximity: 0.4921 - val_loss: 0.1627 - val_mean_squared_error: 0.1627 - val_mean_absolute_error: 0.3150 - val_mean_absolute_percentage_error: 157492736.0000 - val_cosine_proximity: 0.4404\n",
      "Epoch 84/100\n",
      "2242/2242 [==============================] - 47s 21ms/step - loss: 0.1509 - mean_squared_error: 0.1509 - mean_absolute_error: 0.3017 - mean_absolute_percentage_error: 150844480.0000 - cosine_proximity: 0.4921 - val_loss: 0.1653 - val_mean_squared_error: 0.1653 - val_mean_absolute_error: 0.3148 - val_mean_absolute_percentage_error: 157418352.0000 - val_cosine_proximity: 0.4288\n"
     ]
    },
    {
     "name": "stdout",
     "output_type": "stream",
     "text": [
      "Epoch 85/100\n",
      "2242/2242 [==============================] - 49s 22ms/step - loss: 0.1508 - mean_squared_error: 0.1508 - mean_absolute_error: 0.3015 - mean_absolute_percentage_error: 150744368.0000 - cosine_proximity: 0.4924 - val_loss: 0.1620 - val_mean_squared_error: 0.1620 - val_mean_absolute_error: 0.3141 - val_mean_absolute_percentage_error: 157065744.0000 - val_cosine_proximity: 0.4430\n",
      "Epoch 86/100\n",
      "2242/2242 [==============================] - 45s 20ms/step - loss: 0.1509 - mean_squared_error: 0.1509 - mean_absolute_error: 0.3017 - mean_absolute_percentage_error: 150828976.0000 - cosine_proximity: 0.4920 - val_loss: 0.1640 - val_mean_squared_error: 0.1640 - val_mean_absolute_error: 0.3146 - val_mean_absolute_percentage_error: 157291568.0000 - val_cosine_proximity: 0.4349\n",
      "Epoch 87/100\n",
      "2242/2242 [==============================] - 45s 20ms/step - loss: 0.1507 - mean_squared_error: 0.1507 - mean_absolute_error: 0.3012 - mean_absolute_percentage_error: 150612960.0000 - cosine_proximity: 0.4929 - val_loss: 0.1664 - val_mean_squared_error: 0.1664 - val_mean_absolute_error: 0.3146 - val_mean_absolute_percentage_error: 157319440.0000 - val_cosine_proximity: 0.4260\n",
      "Epoch 88/100\n",
      "2242/2242 [==============================] - 45s 20ms/step - loss: 0.1510 - mean_squared_error: 0.1510 - mean_absolute_error: 0.3017 - mean_absolute_percentage_error: 150853920.0000 - cosine_proximity: 0.4916 - val_loss: 0.1656 - val_mean_squared_error: 0.1656 - val_mean_absolute_error: 0.3144 - val_mean_absolute_percentage_error: 157190752.0000 - val_cosine_proximity: 0.4303\n",
      "Epoch 89/100\n",
      "2242/2242 [==============================] - 45s 20ms/step - loss: 0.1510 - mean_squared_error: 0.1510 - mean_absolute_error: 0.3017 - mean_absolute_percentage_error: 150859312.0000 - cosine_proximity: 0.4917 - val_loss: 0.1649 - val_mean_squared_error: 0.1649 - val_mean_absolute_error: 0.3159 - val_mean_absolute_percentage_error: 157927648.0000 - val_cosine_proximity: 0.4304\n",
      "Epoch 90/100\n",
      "2242/2242 [==============================] - 45s 20ms/step - loss: 0.1541 - mean_squared_error: 0.1541 - mean_absolute_error: 0.3065 - mean_absolute_percentage_error: 153231440.0000 - cosine_proximity: 0.4774 - val_loss: 0.1662 - val_mean_squared_error: 0.1662 - val_mean_absolute_error: 0.3171 - val_mean_absolute_percentage_error: 158558144.0000 - val_cosine_proximity: 0.4264\n",
      "Epoch 91/100\n",
      "2242/2242 [==============================] - 45s 20ms/step - loss: 0.1545 - mean_squared_error: 0.1545 - mean_absolute_error: 0.3086 - mean_absolute_percentage_error: 154310816.0000 - cosine_proximity: 0.4753 - val_loss: 0.1622 - val_mean_squared_error: 0.1622 - val_mean_absolute_error: 0.3207 - val_mean_absolute_percentage_error: 160327696.0000 - val_cosine_proximity: 0.4375\n",
      "Epoch 92/100\n",
      "2242/2242 [==============================] - 45s 20ms/step - loss: 0.1546 - mean_squared_error: 0.1546 - mean_absolute_error: 0.3095 - mean_absolute_percentage_error: 154747680.0000 - cosine_proximity: 0.4746 - val_loss: 0.1647 - val_mean_squared_error: 0.1647 - val_mean_absolute_error: 0.3206 - val_mean_absolute_percentage_error: 160286832.0000 - val_cosine_proximity: 0.4262\n",
      "Epoch 93/100\n",
      "2242/2242 [==============================] - 45s 20ms/step - loss: 0.1531 - mean_squared_error: 0.1531 - mean_absolute_error: 0.3061 - mean_absolute_percentage_error: 153054976.0000 - cosine_proximity: 0.4820 - val_loss: 0.1624 - val_mean_squared_error: 0.1624 - val_mean_absolute_error: 0.3174 - val_mean_absolute_percentage_error: 158700928.0000 - val_cosine_proximity: 0.4382\n",
      "Epoch 94/100\n",
      "2242/2242 [==============================] - 45s 20ms/step - loss: 0.1523 - mean_squared_error: 0.1523 - mean_absolute_error: 0.3045 - mean_absolute_percentage_error: 152237712.0000 - cosine_proximity: 0.4857 - val_loss: 0.1621 - val_mean_squared_error: 0.1621 - val_mean_absolute_error: 0.3150 - val_mean_absolute_percentage_error: 157487440.0000 - val_cosine_proximity: 0.4409\n",
      "Epoch 95/100\n",
      "2242/2242 [==============================] - 45s 20ms/step - loss: 0.1525 - mean_squared_error: 0.1525 - mean_absolute_error: 0.3046 - mean_absolute_percentage_error: 152277248.0000 - cosine_proximity: 0.4848 - val_loss: 0.1616 - val_mean_squared_error: 0.1616 - val_mean_absolute_error: 0.3147 - val_mean_absolute_percentage_error: 157369488.0000 - val_cosine_proximity: 0.4449\n",
      "Epoch 96/100\n",
      "2242/2242 [==============================] - 45s 20ms/step - loss: 0.1688 - mean_squared_error: 0.1688 - mean_absolute_error: 0.3093 - mean_absolute_percentage_error: 154651424.0000 - cosine_proximity: 0.4505 - val_loss: 0.3196 - val_mean_squared_error: 0.3196 - val_mean_absolute_error: 0.3227 - val_mean_absolute_percentage_error: 161337264.0000 - val_cosine_proximity: 0.1957\n",
      "Epoch 97/100\n",
      "2242/2242 [==============================] - 45s 20ms/step - loss: 0.3103 - mean_squared_error: 0.3103 - mean_absolute_error: 0.3117 - mean_absolute_percentage_error: 155826000.0000 - cosine_proximity: 0.2220 - val_loss: 0.3063 - val_mean_squared_error: 0.3063 - val_mean_absolute_error: 0.3067 - val_mean_absolute_percentage_error: 153373808.0000 - val_cosine_proximity: 0.2335\n",
      "Epoch 98/100\n",
      "2242/2242 [==============================] - 46s 20ms/step - loss: 0.3076 - mean_squared_error: 0.3076 - mean_absolute_error: 0.3077 - mean_absolute_percentage_error: 153874304.0000 - cosine_proximity: 0.2308 - val_loss: 0.3123 - val_mean_squared_error: 0.3123 - val_mean_absolute_error: 0.3126 - val_mean_absolute_percentage_error: 156280832.0000 - val_cosine_proximity: 0.2188\n",
      "Epoch 99/100\n",
      "2242/2242 [==============================] - 46s 20ms/step - loss: 0.3116 - mean_squared_error: 0.3116 - mean_absolute_error: 0.3117 - mean_absolute_percentage_error: 155847792.0000 - cosine_proximity: 0.2208 - val_loss: 0.3139 - val_mean_squared_error: 0.3139 - val_mean_absolute_error: 0.3141 - val_mean_absolute_percentage_error: 157033584.0000 - val_cosine_proximity: 0.2149\n",
      "Epoch 100/100\n",
      "2242/2242 [==============================] - 45s 20ms/step - loss: 0.3145 - mean_squared_error: 0.3145 - mean_absolute_error: 0.3146 - mean_absolute_percentage_error: 157281280.0000 - cosine_proximity: 0.2136 - val_loss: 0.3068 - val_mean_squared_error: 0.3068 - val_mean_absolute_error: 0.3070 - val_mean_absolute_percentage_error: 153478256.0000 - val_cosine_proximity: 0.2328\n"
     ]
    }
   ],
   "source": [
    "history = model.fit(X_train_np, y_train_np, epochs=EPOCHS, batch_size=BATCH_SIZE, validation_data=(X_val_np, y_val_np),shuffle=True)"
   ]
  },
  {
   "cell_type": "code",
   "execution_count": null,
   "metadata": {},
   "outputs": [],
   "source": [
    "print(history.history.keys())"
   ]
  },
  {
   "cell_type": "code",
   "execution_count": 191,
   "metadata": {},
   "outputs": [
    {
     "name": "stdout",
     "output_type": "stream",
     "text": [
      "/Users/marami3/Documents/ITESO/IDI4/forex_prediction/Jupyter Notebooks/IDI4/models_clasification/../../../Models/2020/LSTM/\n"
     ]
    }
   ],
   "source": [
    "pwd = os.getcwd()\n",
    "source_data = os.path.join(pwd, r'../../../Models/2020/LSTM/')\n",
    "print(source_data)"
   ]
  },
  {
   "cell_type": "code",
   "execution_count": 192,
   "metadata": {},
   "outputs": [
    {
     "name": "stdout",
     "output_type": "stream",
     "text": [
      "C-LSTM_1H_23F_Class_01.hdf5\n"
     ]
    }
   ],
   "source": [
    "file_name = MODEL_NAME + '_' + FRECUENCIA + '_' + str(NUM_FEATURES) + 'F_' + TARGET_NAME + \"_\"+ ID + '.hdf5'\n",
    "print(file_name)\n",
    "\n"
   ]
  },
  {
   "cell_type": "code",
   "execution_count": 464,
   "metadata": {},
   "outputs": [],
   "source": [
    "model.save(source_data + file_name)"
   ]
  },
  {
   "cell_type": "code",
   "execution_count": 449,
   "metadata": {},
   "outputs": [],
   "source": [
    "#def baseline_model():\n",
    "#    model.add(LSTM(units = RANGE, activation = 'relu', return_sequences = True, input_shape = (x_shape, y_shape)))\n",
    "#    model.add(LSTM(units = 5, activation = 'softmax'))\n",
    "#    model.compile(optimizer='adam', loss = 'categorical_crossentropy', metrics=[\"acc\"])\n",
    "#    #model.summary()\n",
    "#    return model"
   ]
  },
  {
   "cell_type": "code",
   "execution_count": 450,
   "metadata": {},
   "outputs": [],
   "source": [
    "#estimator = KerasClassifier(build_fn=baseline_model, epochs=EPOCHS, batch_size=BATCH_SIZE, verbose=1)\n",
    "#kfold = KFold(n_splits=2, shuffle=True)"
   ]
  },
  {
   "cell_type": "code",
   "execution_count": 451,
   "metadata": {},
   "outputs": [],
   "source": [
    "#results = cross_val_score(estimator, X_train_np, y_train_np, cv=kfold)"
   ]
  },
  {
   "cell_type": "code",
   "execution_count": 452,
   "metadata": {},
   "outputs": [],
   "source": [
    "#print(\"Baseline: %.2f%% (%.2f%%)\" % (results.mean()*100, results.std()*100))"
   ]
  },
  {
   "cell_type": "code",
   "execution_count": 454,
   "metadata": {},
   "outputs": [],
   "source": [
    "#Model check pointer para almacenar el modelo cada epoca\n",
    "\n",
    "#checkpointer = ModelCheckpoint(filepath=source_data + '/model-{epoch:02d}.hdf5', verbose=1)"
   ]
  },
  {
   "cell_type": "code",
   "execution_count": 458,
   "metadata": {
    "colab": {},
    "colab_type": "code",
    "id": "o8XiaDVhoBL1",
    "outputId": "96632859-bb73-420f-db22-074bb47e87b2"
   },
   "outputs": [],
   "source": [
    "#%%time\n",
    "#history = regressior.fit(X_train_np, y_train_np, epochs=EPOCHS, batch_size=BATCH_SIZE, callbacks=[checkpointer])\n",
    "#history = regressior.fit(X_train_np, y_train_np, epochs=EPOCHS, batch_size=BATCH_SIZE, validation_data=(X_val_np, y_val_np))\n",
    "#history = regressior.fit(X_train_np, y_train_np, epochs=EPOCHS, batch_size=BATCH_SIZE, validation_data=(X_val_np, y_val_np), callbacks=[checkpointer], shuffle=True)\n",
    "#history = regressior.fit(X_train_np, y_train_np, epochs=EPOCHS, batch_size=BATCH_SIZE, validation_data=(X_val_np, y_val_np),shuffle=True)\n",
    "#history = regressior.fit(X_train_np, y_train_np, epochs=EPOCHS, batch_size=BATCH_SIZE)\n",
    "\n",
    "#history = model.fit(X_train_np, y_train_np, epochs=EPOCHS, batch_size=BATCH_SIZE)\n",
    "\n",
    "\n",
    "\n"
   ]
  },
  {
   "cell_type": "code",
   "execution_count": null,
   "metadata": {},
   "outputs": [],
   "source": [
    "#PLOT MSE MAE\n",
    "\n",
    "#plt.figure(figsize=(5,5))\n",
    "#plt.plot(history.history['loss'], color = 'red', label = 'loss')\n",
    "#plt.title('Loss Model')\n",
    "#plt.xlabel('Epochs')\n",
    "#plt.ylabel('Loss')\n",
    "#plt.legend()\n",
    "#plt.show()"
   ]
  },
  {
   "cell_type": "code",
   "execution_count": null,
   "metadata": {},
   "outputs": [],
   "source": [
    "#PLOT MSE MAE\n",
    "#plt.figure(figsize=(5,5))\n",
    "#plt.plot(history.history['mean_squared_error'][:], color = 'green', label = 'MAPE')\n",
    "#plt.title('Loss Model')\n",
    "#plt.xlabel('Epochs')\n",
    "#plt.ylabel('Loss - MSE')\n",
    "#plt.legend()\n",
    "#plt.show()\n"
   ]
  },
  {
   "cell_type": "code",
   "execution_count": 193,
   "metadata": {},
   "outputs": [
    {
     "name": "stdout",
     "output_type": "stream",
     "text": [
      "/Users/marami3/Documents/ITESO/IDI4/forex_prediction/Jupyter Notebooks/IDI4/models_clasification/../../../Models/2020/LSTM/C-LSTM_1H_23F_Class_01.hdf5\n"
     ]
    }
   ],
   "source": [
    "#Load Model\n",
    "filepath = os.path.join(source_data, file_name)\n",
    "print(filepath)\n",
    "model = tf.keras.models.load_model(filepath)"
   ]
  },
  {
   "cell_type": "code",
   "execution_count": 194,
   "metadata": {},
   "outputs": [],
   "source": [
    "def precision(label, confusion_matrix):\n",
    "    #print('label',label)\n",
    "    col = confusion_matrix[:, label]\n",
    "    return confusion_matrix[label, label] / col.sum()\n",
    "    \n",
    "def recall(label, confusion_matrix):\n",
    "    row = confusion_matrix[label, :]\n",
    "    return confusion_matrix[label, label] / row.sum()\n",
    "\n",
    "def precision_macro_average(confusion_matrix):\n",
    "    rows, columns = confusion_matrix.shape\n",
    "    sum_of_precisions = 0\n",
    "    for label in range(rows):\n",
    "        sum_of_precisions += precision(label, confusion_matrix)\n",
    "    return sum_of_precisions / rows\n",
    "\n",
    "def recall_macro_average(confusion_matrix):\n",
    "    rows, columns = confusion_matrix.shape\n",
    "    sum_of_recalls = 0\n",
    "    for label in range(columns):\n",
    "        sum_of_recalls += recall(label, confusion_matrix)\n",
    "    return sum_of_recalls / columns\n",
    "\n",
    "def accuracy(confusion_matrix):\n",
    "    diagonal_sum = confusion_matrix.trace()\n",
    "    sum_of_all_elements = confusion_matrix.sum()\n",
    "    return diagonal_sum / sum_of_all_elements "
   ]
  },
  {
   "cell_type": "markdown",
   "metadata": {},
   "source": [
    "### CONFUSION MATRIX TEST"
   ]
  },
  {
   "cell_type": "code",
   "execution_count": 195,
   "metadata": {
    "colab": {},
    "colab_type": "code",
    "id": "NOvVxqGhoBMG",
    "outputId": "7b1cabe0-9caa-4e51-ad2e-19ddb4f6aa50"
   },
   "outputs": [
    {
     "name": "stdout",
     "output_type": "stream",
     "text": [
      "(20304, 24, 18)\n",
      "(20304, 5)\n",
      "(20304, 5)\n"
     ]
    }
   ],
   "source": [
    "#TEST\n",
    "y_test_pred = model.predict(X_test_np)\n",
    "print(X_test_np.shape)\n",
    "\n",
    "print(y_test_pred.shape)\n",
    "print(y_test_np.shape)"
   ]
  },
  {
   "cell_type": "code",
   "execution_count": 196,
   "metadata": {},
   "outputs": [
    {
     "name": "stdout",
     "output_type": "stream",
     "text": [
      "[1. 0. 0. 0. 0.]\n",
      "[[0. 0. 0. 1. 0.]\n",
      " [1. 0. 0. 0. 0.]\n",
      " [0. 0. 0. 0. 1.]\n",
      " [0. 0. 1. 0. 0.]]\n"
     ]
    }
   ],
   "source": [
    "ID = 4\n",
    "print(y_test_pred[ID])\n",
    "print(y_test_np[:ID])"
   ]
  },
  {
   "cell_type": "code",
   "execution_count": 197,
   "metadata": {},
   "outputs": [
    {
     "name": "stdout",
     "output_type": "stream",
     "text": [
      "[ 2. -2. -2. ...  0. -2.  2.]\n",
      "(20304,)\n",
      "[ 1. -2.  2. ...  0.  1.  0.]\n",
      "(20304,)\n"
     ]
    }
   ],
   "source": [
    "uniques_y_test_pred = uniques[y_test_pred.argmax(1)]\n",
    "uniques_y_test_np = uniques[y_test_np.argmax(1)]\n",
    "print(uniques_y_test_pred)\n",
    "print(uniques_y_test_pred.shape)\n",
    "print(uniques_y_test_np)\n",
    "print(uniques_y_test_np.shape)"
   ]
  },
  {
   "cell_type": "code",
   "execution_count": 198,
   "metadata": {},
   "outputs": [
    {
     "name": "stdout",
     "output_type": "stream",
     "text": [
      "[-2. -1.  0.  1.  2.]\n"
     ]
    }
   ],
   "source": [
    "print(uniques)"
   ]
  },
  {
   "cell_type": "code",
   "execution_count": 199,
   "metadata": {},
   "outputs": [
    {
     "data": {
      "text/plain": [
       "array([[ 282,   14, 1459,    6,  589],\n",
       "       [ 555,   20, 2540,    9, 1190],\n",
       "       [ 800,   38, 4059,   16, 1996],\n",
       "       [ 523,   26, 2666,    9, 1215],\n",
       "       [ 275,   15, 1379,    1,  622]])"
      ]
     },
     "execution_count": 199,
     "metadata": {},
     "output_type": "execute_result"
    }
   ],
   "source": [
    "conf_matrix_test = confusion_matrix(uniques_y_test_np, uniques_y_test_pred)\n",
    "conf_matrix_test"
   ]
  },
  {
   "cell_type": "code",
   "execution_count": 200,
   "metadata": {},
   "outputs": [
    {
     "name": "stdout",
     "output_type": "stream",
     "text": [
      "indx Value Precision Recall\n",
      "0\n",
      "   -2        0.116     0.120\n",
      "1\n",
      "   -1        0.177     0.005\n",
      "2\n",
      "    0        0.335     0.587\n",
      "3\n",
      "    1        0.220     0.002\n",
      "4\n",
      "    2        0.111     0.271\n"
     ]
    }
   ],
   "source": [
    "print(\"indx Value Precision Recall\")\n",
    "for label in uniques:\n",
    "    indx = int(np.where(uniques == label)[0])\n",
    "    print (indx)\n",
    "    print(f\"{int(label):5d}    {precision(indx, conf_matrix_test):9.3f}    {recall(indx, conf_matrix_test):6.3f}\")"
   ]
  },
  {
   "cell_type": "code",
   "execution_count": 201,
   "metadata": {},
   "outputs": [
    {
     "name": "stdout",
     "output_type": "stream",
     "text": [
      "precision total: 0.19170395133610682\n",
      "recall total: 0.19710736662595912\n"
     ]
    }
   ],
   "source": [
    "print(\"precision total:\", precision_macro_average(conf_matrix_test))\n",
    "print(\"recall total:\", recall_macro_average(conf_matrix_test))"
   ]
  },
  {
   "cell_type": "code",
   "execution_count": 202,
   "metadata": {},
   "outputs": [
    {
     "data": {
      "text/plain": [
       "0.2458628841607565"
      ]
     },
     "execution_count": 202,
     "metadata": {},
     "output_type": "execute_result"
    }
   ],
   "source": [
    "accuracy(conf_matrix_test)"
   ]
  },
  {
   "cell_type": "markdown",
   "metadata": {},
   "source": [
    "### CONFUSION MATRIX TRAIN"
   ]
  },
  {
   "cell_type": "code",
   "execution_count": 203,
   "metadata": {},
   "outputs": [
    {
     "name": "stdout",
     "output_type": "stream",
     "text": [
      "(71736, 24, 18)\n",
      "(71736, 5)\n",
      "(71736, 5)\n"
     ]
    }
   ],
   "source": [
    "#TRAIN\n",
    "y_train_pred = model.predict(X_train_np)\n",
    "print(X_train_np.shape)\n",
    "\n",
    "print(y_train_pred.shape)\n",
    "print(y_train_np.shape)"
   ]
  },
  {
   "cell_type": "code",
   "execution_count": 204,
   "metadata": {},
   "outputs": [
    {
     "name": "stdout",
     "output_type": "stream",
     "text": [
      "[[0. 0. 1. 0. 0.]\n",
      " [0. 0. 1. 0. 0.]\n",
      " [0. 0. 0. 0. 1.]\n",
      " [0. 0. 1. 0. 0.]]\n",
      "[[1. 0. 0. 0. 0.]\n",
      " [0. 0. 0. 0. 1.]\n",
      " [0. 1. 0. 0. 0.]\n",
      " [0. 0. 0. 0. 1.]]\n"
     ]
    }
   ],
   "source": [
    "ID = 4\n",
    "print(y_train_pred[:ID])\n",
    "print(y_train_np[:ID])"
   ]
  },
  {
   "cell_type": "code",
   "execution_count": 205,
   "metadata": {},
   "outputs": [
    {
     "name": "stdout",
     "output_type": "stream",
     "text": [
      "[ 0.  0.  2. ...  2.  2. -2.]\n",
      "(71736,)\n",
      "[-2.  2. -1. ... -2. -2.  2.]\n",
      "(71736,)\n"
     ]
    }
   ],
   "source": [
    "uniques_y_train_pred = uniques[y_train_pred.argmax(1)]\n",
    "uniques_y_train_np = uniques[y_train_np.argmax(1)]\n",
    "print(uniques_y_train_pred)\n",
    "print(uniques_y_train_pred.shape)\n",
    "print(uniques_y_train_np)\n",
    "print(uniques_y_train_np.shape)"
   ]
  },
  {
   "cell_type": "code",
   "execution_count": 206,
   "metadata": {},
   "outputs": [
    {
     "name": "stdout",
     "output_type": "stream",
     "text": [
      "[-2. -1.  0.  1.  2.]\n"
     ]
    }
   ],
   "source": [
    "print(uniques)"
   ]
  },
  {
   "cell_type": "code",
   "execution_count": 207,
   "metadata": {},
   "outputs": [
    {
     "data": {
      "text/plain": [
       "array([[ 542,   12, 7051,   26, 4784],\n",
       "       [ 609,   13, 7577,   23, 5810],\n",
       "       [ 804,   15, 9431,   19, 8356],\n",
       "       [ 678,   14, 7606,   27, 5918],\n",
       "       [ 564,   14, 6891,   17, 4935]])"
      ]
     },
     "execution_count": 207,
     "metadata": {},
     "output_type": "execute_result"
    }
   ],
   "source": [
    "conf_matrix_train = confusion_matrix(uniques_y_train_np, uniques_y_train_pred)\n",
    "conf_matrix_train"
   ]
  },
  {
   "cell_type": "code",
   "execution_count": 208,
   "metadata": {},
   "outputs": [
    {
     "name": "stdout",
     "output_type": "stream",
     "text": [
      "indx Value Precision Recall\n",
      "0\n",
      "   -2        0.170     0.044\n",
      "1\n",
      "   -1        0.191     0.001\n",
      "2\n",
      "    0        0.245     0.506\n",
      "3\n",
      "    1        0.241     0.002\n",
      "4\n",
      "    2        0.166     0.397\n"
     ]
    }
   ],
   "source": [
    "print(\"indx Value Precision Recall\")\n",
    "for label in uniques:\n",
    "    indx = int(np.where(uniques == label)[0])\n",
    "    print (indx)\n",
    "    print(f\"{int(label):5d}    {precision(indx, conf_matrix_train):9.3f}    {recall(indx, conf_matrix_train):6.3f}\")"
   ]
  },
  {
   "cell_type": "code",
   "execution_count": 209,
   "metadata": {},
   "outputs": [
    {
     "name": "stdout",
     "output_type": "stream",
     "text": [
      "precision total: 0.20239488874225947\n",
      "recall total: 0.1900304820446618\n"
     ]
    }
   ],
   "source": [
    "print(\"precision total:\", precision_macro_average(conf_matrix_train))\n",
    "print(\"recall total:\", recall_macro_average(conf_matrix_train))"
   ]
  },
  {
   "cell_type": "code",
   "execution_count": 210,
   "metadata": {},
   "outputs": [
    {
     "data": {
      "text/plain": [
       "0.20837515334002454"
      ]
     },
     "execution_count": 210,
     "metadata": {},
     "output_type": "execute_result"
    }
   ],
   "source": [
    "accuracy(conf_matrix_train)"
   ]
  },
  {
   "cell_type": "markdown",
   "metadata": {},
   "source": [
    "### TEST RESULTS TO CSV"
   ]
  },
  {
   "cell_type": "code",
   "execution_count": 211,
   "metadata": {},
   "outputs": [
    {
     "name": "stdout",
     "output_type": "stream",
     "text": [
      "data_test.shape:  (20304, 18)\n"
     ]
    }
   ],
   "source": [
    "print(\"data_test.shape: \", data_test.shape)\n"
   ]
  },
  {
   "cell_type": "code",
   "execution_count": 212,
   "metadata": {},
   "outputs": [
    {
     "name": "stdout",
     "output_type": "stream",
     "text": [
      "          Open     High      Low    Close      Volume\n",
      "0      1.05809  1.05898  1.05769  1.05892   6150.9399\n",
      "1      1.05891  1.05986  1.05847  1.05958  11677.7197\n",
      "2      1.05957  1.06041  1.05744  1.05765  15785.2197\n",
      "3      1.05765  1.05956  1.05708  1.05935  14816.4902\n",
      "4      1.05934  1.05946  1.05835  1.05927  10641.8301\n",
      "...        ...      ...      ...      ...         ...\n",
      "20299  1.10998  1.11070  1.10862  1.10998  12120.8398\n",
      "20300  1.10997  1.11094  1.10982  1.11071   4646.7427\n",
      "20301  1.11213  1.11217  1.11136  1.11141    417.4906\n",
      "20302  1.11138  1.11148  1.11028  1.11123   4549.1167\n",
      "20303  1.11123  1.11199  1.11119  1.11158   5159.8101\n",
      "\n",
      "[20304 rows x 5 columns]\n"
     ]
    }
   ],
   "source": [
    "data_test_res = data_test\n",
    "data_test_res.reset_index(drop=True, inplace=True)\n",
    "results_data_test = pd.DataFrame(data_test_res['Open'])\n",
    "results_data_test['High'] = data_test_res['High']\n",
    "results_data_test['Low'] = data_test_res['Low']\n",
    "results_data_test['Close'] = data_test_res['Close']\n",
    "results_data_test['Volume'] = data_test_res['Volume']\n",
    "print(results_data_test)"
   ]
  },
  {
   "cell_type": "code",
   "execution_count": 213,
   "metadata": {},
   "outputs": [
    {
     "data": {
      "text/plain": [
       "array([ 2., -2., -2., ...,  0., -2.,  2.])"
      ]
     },
     "execution_count": 213,
     "metadata": {},
     "output_type": "execute_result"
    }
   ],
   "source": [
    "uniques_y_test_pred[:]"
   ]
  },
  {
   "cell_type": "code",
   "execution_count": 214,
   "metadata": {},
   "outputs": [
    {
     "name": "stdout",
     "output_type": "stream",
     "text": [
      "       Real_Class\n",
      "0             2.0\n",
      "1            -2.0\n",
      "2            -2.0\n",
      "3            -2.0\n",
      "4            -2.0\n",
      "...           ...\n",
      "20299         0.0\n",
      "20300         0.0\n",
      "20301         0.0\n",
      "20302        -2.0\n",
      "20303         2.0\n",
      "\n",
      "[20304 rows x 1 columns]\n"
     ]
    }
   ],
   "source": [
    "\n",
    "uniques_y_test_pred_pd = pd.DataFrame({'Real_Class': uniques_y_test_pred[:]})\n",
    "print(uniques_y_test_pred_pd)"
   ]
  },
  {
   "cell_type": "code",
   "execution_count": 215,
   "metadata": {},
   "outputs": [],
   "source": [
    "results_data_test['Real_Class'] = uniques_y_test_np\n",
    "results_data_test['Predicted_Class'] = uniques_y_test_pred_pd"
   ]
  },
  {
   "cell_type": "code",
   "execution_count": 216,
   "metadata": {},
   "outputs": [
    {
     "data": {
      "text/html": [
       "<div>\n",
       "<style scoped>\n",
       "    .dataframe tbody tr th:only-of-type {\n",
       "        vertical-align: middle;\n",
       "    }\n",
       "\n",
       "    .dataframe tbody tr th {\n",
       "        vertical-align: top;\n",
       "    }\n",
       "\n",
       "    .dataframe thead th {\n",
       "        text-align: right;\n",
       "    }\n",
       "</style>\n",
       "<table border=\"1\" class=\"dataframe\">\n",
       "  <thead>\n",
       "    <tr style=\"text-align: right;\">\n",
       "      <th></th>\n",
       "      <th>Open</th>\n",
       "      <th>High</th>\n",
       "      <th>Low</th>\n",
       "      <th>Close</th>\n",
       "      <th>Volume</th>\n",
       "      <th>Real_Class</th>\n",
       "      <th>Predicted_Class</th>\n",
       "    </tr>\n",
       "  </thead>\n",
       "  <tbody>\n",
       "    <tr>\n",
       "      <th>0</th>\n",
       "      <td>1.05809</td>\n",
       "      <td>1.05898</td>\n",
       "      <td>1.05769</td>\n",
       "      <td>1.05892</td>\n",
       "      <td>6150.9399</td>\n",
       "      <td>1.0</td>\n",
       "      <td>2.0</td>\n",
       "    </tr>\n",
       "    <tr>\n",
       "      <th>1</th>\n",
       "      <td>1.05891</td>\n",
       "      <td>1.05986</td>\n",
       "      <td>1.05847</td>\n",
       "      <td>1.05958</td>\n",
       "      <td>11677.7197</td>\n",
       "      <td>-2.0</td>\n",
       "      <td>-2.0</td>\n",
       "    </tr>\n",
       "    <tr>\n",
       "      <th>2</th>\n",
       "      <td>1.05957</td>\n",
       "      <td>1.06041</td>\n",
       "      <td>1.05744</td>\n",
       "      <td>1.05765</td>\n",
       "      <td>15785.2197</td>\n",
       "      <td>2.0</td>\n",
       "      <td>-2.0</td>\n",
       "    </tr>\n",
       "    <tr>\n",
       "      <th>3</th>\n",
       "      <td>1.05765</td>\n",
       "      <td>1.05956</td>\n",
       "      <td>1.05708</td>\n",
       "      <td>1.05935</td>\n",
       "      <td>14816.4902</td>\n",
       "      <td>0.0</td>\n",
       "      <td>-2.0</td>\n",
       "    </tr>\n",
       "    <tr>\n",
       "      <th>4</th>\n",
       "      <td>1.05934</td>\n",
       "      <td>1.05946</td>\n",
       "      <td>1.05835</td>\n",
       "      <td>1.05927</td>\n",
       "      <td>10641.8301</td>\n",
       "      <td>2.0</td>\n",
       "      <td>-2.0</td>\n",
       "    </tr>\n",
       "    <tr>\n",
       "      <th>5</th>\n",
       "      <td>1.05925</td>\n",
       "      <td>1.06104</td>\n",
       "      <td>1.05890</td>\n",
       "      <td>1.06081</td>\n",
       "      <td>13180.9697</td>\n",
       "      <td>0.0</td>\n",
       "      <td>0.0</td>\n",
       "    </tr>\n",
       "    <tr>\n",
       "      <th>6</th>\n",
       "      <td>1.06082</td>\n",
       "      <td>1.06181</td>\n",
       "      <td>1.06036</td>\n",
       "      <td>1.06089</td>\n",
       "      <td>14419.7803</td>\n",
       "      <td>1.0</td>\n",
       "      <td>0.0</td>\n",
       "    </tr>\n",
       "    <tr>\n",
       "      <th>7</th>\n",
       "      <td>1.06092</td>\n",
       "      <td>1.06179</td>\n",
       "      <td>1.06055</td>\n",
       "      <td>1.06139</td>\n",
       "      <td>15307.1904</td>\n",
       "      <td>-2.0</td>\n",
       "      <td>2.0</td>\n",
       "    </tr>\n",
       "    <tr>\n",
       "      <th>8</th>\n",
       "      <td>1.06136</td>\n",
       "      <td>1.06153</td>\n",
       "      <td>1.05658</td>\n",
       "      <td>1.05724</td>\n",
       "      <td>25968.0293</td>\n",
       "      <td>-1.0</td>\n",
       "      <td>2.0</td>\n",
       "    </tr>\n",
       "    <tr>\n",
       "      <th>9</th>\n",
       "      <td>1.05719</td>\n",
       "      <td>1.05900</td>\n",
       "      <td>1.05668</td>\n",
       "      <td>1.05668</td>\n",
       "      <td>19795.0098</td>\n",
       "      <td>2.0</td>\n",
       "      <td>0.0</td>\n",
       "    </tr>\n",
       "  </tbody>\n",
       "</table>\n",
       "</div>"
      ],
      "text/plain": [
       "      Open     High      Low    Close      Volume  Real_Class  Predicted_Class\n",
       "0  1.05809  1.05898  1.05769  1.05892   6150.9399         1.0              2.0\n",
       "1  1.05891  1.05986  1.05847  1.05958  11677.7197        -2.0             -2.0\n",
       "2  1.05957  1.06041  1.05744  1.05765  15785.2197         2.0             -2.0\n",
       "3  1.05765  1.05956  1.05708  1.05935  14816.4902         0.0             -2.0\n",
       "4  1.05934  1.05946  1.05835  1.05927  10641.8301         2.0             -2.0\n",
       "5  1.05925  1.06104  1.05890  1.06081  13180.9697         0.0              0.0\n",
       "6  1.06082  1.06181  1.06036  1.06089  14419.7803         1.0              0.0\n",
       "7  1.06092  1.06179  1.06055  1.06139  15307.1904        -2.0              2.0\n",
       "8  1.06136  1.06153  1.05658  1.05724  25968.0293        -1.0              2.0\n",
       "9  1.05719  1.05900  1.05668  1.05668  19795.0098         2.0              0.0"
      ]
     },
     "execution_count": 216,
     "metadata": {},
     "output_type": "execute_result"
    }
   ],
   "source": [
    "results_data_test.head(10)"
   ]
  },
  {
   "cell_type": "markdown",
   "metadata": {},
   "source": [
    "### Test Result Save CSV File "
   ]
  },
  {
   "cell_type": "code",
   "execution_count": 219,
   "metadata": {},
   "outputs": [
    {
     "name": "stdout",
     "output_type": "stream",
     "text": [
      "C-LSTM_1H_0F_Class_Test_Results_01.csv\n"
     ]
    }
   ],
   "source": [
    "file_name = MODEL_NAME + '_' + FRECUENCIA + '_' + str(NUM_FEATURES) + 'F_' + TARGET_NAME + \"_Test_Results_\" + ID + '.csv'\n",
    "print(file_name)"
   ]
  },
  {
   "cell_type": "code",
   "execution_count": 220,
   "metadata": {},
   "outputs": [],
   "source": [
    "pwd = os.getcwd()\n",
    "filename_path = os.path.join(pwd, r'../../../Results/LSTM/' + file_name)\n",
    "results_data_test.to_csv(filename_path, header=True, index=False)"
   ]
  },
  {
   "cell_type": "markdown",
   "metadata": {},
   "source": [
    "### TRAIN RESULTS TO CSV"
   ]
  },
  {
   "cell_type": "code",
   "execution_count": 270,
   "metadata": {},
   "outputs": [
    {
     "name": "stdout",
     "output_type": "stream",
     "text": [
      "data_train.shape:  (71760, 18)\n"
     ]
    }
   ],
   "source": [
    "print(\"data_train.shape: \", data_training.shape)\n"
   ]
  },
  {
   "cell_type": "code",
   "execution_count": 304,
   "metadata": {},
   "outputs": [
    {
     "name": "stdout",
     "output_type": "stream",
     "text": [
      "          Open     High      Low    Close      Volume\n",
      "0      1.27584  1.27666  1.27351  1.27436  25980.0000\n",
      "1      1.27435  1.27891  1.27331  1.27891  24881.5996\n",
      "2      1.27890  1.27957  1.27550  1.27552  24909.9004\n",
      "3      1.27523  1.27566  1.27374  1.27462  26329.6992\n",
      "4      1.27465  1.27482  1.27195  1.27277  25984.5000\n",
      "...        ...      ...      ...      ...         ...\n",
      "71755  1.10562  1.10834  1.10450  1.10817  14604.0801\n",
      "71756  1.10816  1.10957  1.10590  1.10626  11650.4600\n",
      "71757  1.10626  1.10660  1.10445  1.10487  10436.1201\n",
      "71758  1.10488  1.10517  1.10226  1.10318  10938.0596\n",
      "71759  1.10319  1.10389  1.10084  1.10125  10399.9805\n",
      "\n",
      "[71760 rows x 5 columns]\n",
      "(71760, 5)\n",
      "(71736, 5)\n"
     ]
    }
   ],
   "source": [
    "data_training_res = data_training\n",
    "data_training_res.reset_index(drop=True, inplace=True)\n",
    "results_data_train = pd.DataFrame(data_training_res['Open'])\n",
    "results_data_train['High'] = data_training_res['High']\n",
    "results_data_train['Low'] = data_training_res['Low']\n",
    "results_data_train['Close'] = data_training_res['Close']\n",
    "results_data_train['Volume'] = data_training_res['Volume']\n",
    "print(results_data_train)\n",
    "print(results_data_train.shape)\n",
    "results_data_train = results_data_train.iloc[RANGE:]\n",
    "results_data_train.reset_index(drop=True, inplace=True)\n",
    "print(results_data_train.shape)"
   ]
  },
  {
   "cell_type": "code",
   "execution_count": 305,
   "metadata": {},
   "outputs": [
    {
     "name": "stdout",
     "output_type": "stream",
     "text": [
      "[ 0.  0.  2. ...  2.  2. -2.]\n",
      "(71736,)\n"
     ]
    }
   ],
   "source": [
    "print(uniques_y_train_pred[:])\n",
    "print(uniques_y_train_pred.shape)"
   ]
  },
  {
   "cell_type": "code",
   "execution_count": 306,
   "metadata": {},
   "outputs": [
    {
     "name": "stdout",
     "output_type": "stream",
     "text": [
      "       Real_Class\n",
      "0             0.0\n",
      "1             0.0\n",
      "2             2.0\n",
      "3             0.0\n",
      "4             0.0\n",
      "...           ...\n",
      "71731         2.0\n",
      "71732         2.0\n",
      "71733         2.0\n",
      "71734         2.0\n",
      "71735        -2.0\n",
      "\n",
      "[71736 rows x 1 columns]\n",
      "(71736, 1)\n"
     ]
    }
   ],
   "source": [
    "\n",
    "uniques_y_train_pred_pd = pd.DataFrame({'Real_Class': uniques_y_train_pred[:]})\n",
    "print(uniques_y_train_pred_pd)\n",
    "print(uniques_y_train_pred_pd.shape)\n"
   ]
  },
  {
   "cell_type": "code",
   "execution_count": 307,
   "metadata": {},
   "outputs": [],
   "source": [
    "results_data_train['Real_Class'] = uniques_y_train_np\n",
    "results_data_train['Predicted_Class'] = uniques_y_train_pred_pd"
   ]
  },
  {
   "cell_type": "code",
   "execution_count": 308,
   "metadata": {},
   "outputs": [
    {
     "data": {
      "text/html": [
       "<div>\n",
       "<style scoped>\n",
       "    .dataframe tbody tr th:only-of-type {\n",
       "        vertical-align: middle;\n",
       "    }\n",
       "\n",
       "    .dataframe tbody tr th {\n",
       "        vertical-align: top;\n",
       "    }\n",
       "\n",
       "    .dataframe thead th {\n",
       "        text-align: right;\n",
       "    }\n",
       "</style>\n",
       "<table border=\"1\" class=\"dataframe\">\n",
       "  <thead>\n",
       "    <tr style=\"text-align: right;\">\n",
       "      <th></th>\n",
       "      <th>Open</th>\n",
       "      <th>High</th>\n",
       "      <th>Low</th>\n",
       "      <th>Close</th>\n",
       "      <th>Volume</th>\n",
       "      <th>Real_Class</th>\n",
       "      <th>Predicted_Class</th>\n",
       "    </tr>\n",
       "  </thead>\n",
       "  <tbody>\n",
       "    <tr>\n",
       "      <th>0</th>\n",
       "      <td>1.27248</td>\n",
       "      <td>1.27401</td>\n",
       "      <td>1.27145</td>\n",
       "      <td>1.27180</td>\n",
       "      <td>27724.0996</td>\n",
       "      <td>-2.0</td>\n",
       "      <td>0.0</td>\n",
       "    </tr>\n",
       "    <tr>\n",
       "      <th>1</th>\n",
       "      <td>1.27114</td>\n",
       "      <td>1.27148</td>\n",
       "      <td>1.26514</td>\n",
       "      <td>1.26552</td>\n",
       "      <td>26449.0996</td>\n",
       "      <td>2.0</td>\n",
       "      <td>0.0</td>\n",
       "    </tr>\n",
       "    <tr>\n",
       "      <th>2</th>\n",
       "      <td>1.26545</td>\n",
       "      <td>1.26867</td>\n",
       "      <td>1.26503</td>\n",
       "      <td>1.26659</td>\n",
       "      <td>25657.0996</td>\n",
       "      <td>-1.0</td>\n",
       "      <td>2.0</td>\n",
       "    </tr>\n",
       "    <tr>\n",
       "      <th>3</th>\n",
       "      <td>1.26685</td>\n",
       "      <td>1.26744</td>\n",
       "      <td>1.26563</td>\n",
       "      <td>1.26614</td>\n",
       "      <td>25345.3008</td>\n",
       "      <td>2.0</td>\n",
       "      <td>0.0</td>\n",
       "    </tr>\n",
       "    <tr>\n",
       "      <th>4</th>\n",
       "      <td>1.26619</td>\n",
       "      <td>1.26832</td>\n",
       "      <td>1.26559</td>\n",
       "      <td>1.26776</td>\n",
       "      <td>25950.4004</td>\n",
       "      <td>1.0</td>\n",
       "      <td>0.0</td>\n",
       "    </tr>\n",
       "    <tr>\n",
       "      <th>5</th>\n",
       "      <td>1.26775</td>\n",
       "      <td>1.26903</td>\n",
       "      <td>1.26697</td>\n",
       "      <td>1.26842</td>\n",
       "      <td>25898.0996</td>\n",
       "      <td>-2.0</td>\n",
       "      <td>2.0</td>\n",
       "    </tr>\n",
       "    <tr>\n",
       "      <th>6</th>\n",
       "      <td>1.26823</td>\n",
       "      <td>1.26985</td>\n",
       "      <td>1.26296</td>\n",
       "      <td>1.26468</td>\n",
       "      <td>25883.6992</td>\n",
       "      <td>2.0</td>\n",
       "      <td>2.0</td>\n",
       "    </tr>\n",
       "    <tr>\n",
       "      <th>7</th>\n",
       "      <td>1.26436</td>\n",
       "      <td>1.26743</td>\n",
       "      <td>1.26398</td>\n",
       "      <td>1.26727</td>\n",
       "      <td>26862.1992</td>\n",
       "      <td>1.0</td>\n",
       "      <td>0.0</td>\n",
       "    </tr>\n",
       "    <tr>\n",
       "      <th>8</th>\n",
       "      <td>1.26706</td>\n",
       "      <td>1.26921</td>\n",
       "      <td>1.26536</td>\n",
       "      <td>1.26828</td>\n",
       "      <td>27650.5996</td>\n",
       "      <td>2.0</td>\n",
       "      <td>0.0</td>\n",
       "    </tr>\n",
       "    <tr>\n",
       "      <th>9</th>\n",
       "      <td>1.26830</td>\n",
       "      <td>1.27318</td>\n",
       "      <td>1.26691</td>\n",
       "      <td>1.27221</td>\n",
       "      <td>244622.4063</td>\n",
       "      <td>-1.0</td>\n",
       "      <td>0.0</td>\n",
       "    </tr>\n",
       "  </tbody>\n",
       "</table>\n",
       "</div>"
      ],
      "text/plain": [
       "      Open     High      Low    Close       Volume  Real_Class  \\\n",
       "0  1.27248  1.27401  1.27145  1.27180   27724.0996        -2.0   \n",
       "1  1.27114  1.27148  1.26514  1.26552   26449.0996         2.0   \n",
       "2  1.26545  1.26867  1.26503  1.26659   25657.0996        -1.0   \n",
       "3  1.26685  1.26744  1.26563  1.26614   25345.3008         2.0   \n",
       "4  1.26619  1.26832  1.26559  1.26776   25950.4004         1.0   \n",
       "5  1.26775  1.26903  1.26697  1.26842   25898.0996        -2.0   \n",
       "6  1.26823  1.26985  1.26296  1.26468   25883.6992         2.0   \n",
       "7  1.26436  1.26743  1.26398  1.26727   26862.1992         1.0   \n",
       "8  1.26706  1.26921  1.26536  1.26828   27650.5996         2.0   \n",
       "9  1.26830  1.27318  1.26691  1.27221  244622.4063        -1.0   \n",
       "\n",
       "   Predicted_Class  \n",
       "0              0.0  \n",
       "1              0.0  \n",
       "2              2.0  \n",
       "3              0.0  \n",
       "4              0.0  \n",
       "5              2.0  \n",
       "6              2.0  \n",
       "7              0.0  \n",
       "8              0.0  \n",
       "9              0.0  "
      ]
     },
     "execution_count": 308,
     "metadata": {},
     "output_type": "execute_result"
    }
   ],
   "source": [
    "results_data_train.head(10)\n",
    "#results_data_train.tail(10)"
   ]
  },
  {
   "cell_type": "code",
   "execution_count": 310,
   "metadata": {},
   "outputs": [
    {
     "data": {
      "text/plain": [
       "array([-2.,  2., -1.,  2.,  1., -2.,  2.,  1.,  2., -1., -2., -2., -2.,\n",
       "        0., -1.,  1., -2.,  2., -1.,  0.])"
      ]
     },
     "execution_count": 310,
     "metadata": {},
     "output_type": "execute_result"
    }
   ],
   "source": [
    "uniques_y_train_np[:20]"
   ]
  },
  {
   "cell_type": "markdown",
   "metadata": {},
   "source": [
    "### Test Result Save CSV File "
   ]
  },
  {
   "cell_type": "code",
   "execution_count": 311,
   "metadata": {},
   "outputs": [
    {
     "name": "stdout",
     "output_type": "stream",
     "text": [
      "C-LSTM_1H_0F_Class_Train_Results_01.csv\n"
     ]
    }
   ],
   "source": [
    "file_name = MODEL_NAME + '_' + FRECUENCIA + '_' + str(NUM_FEATURES) + 'F_' + TARGET_NAME + \"_Train_Results_\" + ID + '.csv'\n",
    "print(file_name)"
   ]
  },
  {
   "cell_type": "code",
   "execution_count": 312,
   "metadata": {},
   "outputs": [],
   "source": [
    "pwd = os.getcwd()\n",
    "filename_path = os.path.join(pwd, r'../../../Results/LSTM/' + file_name)\n",
    "results_data_train.to_csv(filename_path, header=True, index=False)"
   ]
  },
  {
   "cell_type": "markdown",
   "metadata": {},
   "source": [
    "### CHARTS"
   ]
  },
  {
   "cell_type": "code",
   "execution_count": 156,
   "metadata": {},
   "outputs": [
    {
     "data": {
      "text/plain": [
       "(20304, 5)"
      ]
     },
     "execution_count": 156,
     "metadata": {},
     "output_type": "execute_result"
    }
   ],
   "source": [
    "y_test_np.shape"
   ]
  },
  {
   "cell_type": "code",
   "execution_count": null,
   "metadata": {},
   "outputs": [],
   "source": [
    "INICIO = 0\n",
    "FIN = 280\n",
    "print(y_test_np.shape)\n",
    "print(y_test_pred.shape)\n",
    "# Visualising the results\n",
    "plt.figure(figsize=(14,5))\n",
    "plt.plot(y_test_np[INICIO:FIN], color = 'red', label = 'Real')\n",
    "plt.plot(y_test_pred[INICIO:FIN], color = 'blue', label = 'Predicted')\n",
    "plt.title('Prediction - Test dataset')\n",
    "plt.xlabel('Time')\n",
    "plt.ylabel('Price')\n",
    "plt.legend()\n",
    "plt.show()\n"
   ]
  },
  {
   "cell_type": "code",
   "execution_count": null,
   "metadata": {},
   "outputs": [],
   "source": [
    "def mean_absolute_percentage_error(y_true, y_pred): \n",
    "    y_true, y_pred = np.array(y_true), np.array(y_pred)\n",
    "    return np.mean(np.abs((y_true - y_pred) / y_true)) * 100"
   ]
  },
  {
   "cell_type": "code",
   "execution_count": null,
   "metadata": {},
   "outputs": [],
   "source": [
    "print('Test MAE:', mean_absolute_error(y_test_np, y_test_pred))#Mean Absolute Error\n",
    "print('Test RMSE:',np.sqrt(mean_squared_error(y_test_np, y_test_pred)))#Root Mean Squared Error\n",
    "print('Test MSE:',mean_squared_error(y_test_np, y_test_pred))#Mean Squared Error\n",
    "print('Test MAPE:',mean_absolute_percentage_error(y_test_np, y_test_pred))#Mean Absolute Percentaje Error\n"
   ]
  },
  {
   "cell_type": "code",
   "execution_count": null,
   "metadata": {},
   "outputs": [],
   "source": [
    "print(y_train_np.shape)\n",
    "INICIO = 0\n",
    "FIN = 127\n",
    "# Visualising the results\n",
    "plt.figure(figsize=(14,5))\n",
    "plt.plot(y_train_np[INICIO:FIN], color = 'red', label = 'Real')\n",
    "plt.plot(y_train_pred[INICIO:FIN], color = 'blue', label = 'Predicted')\n",
    "plt.title('Prediction - Training dataset')\n",
    "plt.xlabel('Time')\n",
    "plt.ylabel('Price')\n",
    "plt.legend()\n",
    "plt.show()\n"
   ]
  },
  {
   "cell_type": "code",
   "execution_count": null,
   "metadata": {},
   "outputs": [],
   "source": [
    "print('Train MAE:', mean_absolute_error(y_train_np, y_train_pred))#Mean Absolute Error\n",
    "print('Train RMSE:',np.sqrt(mean_squared_error(y_train_np, y_train_pred)))#Root Mean Squared Error\n",
    "print('Train MSE:',mean_squared_error(y_train_np, y_train_pred))#Mean Squared Error\n",
    "print('Test MAPE:',mean_absolute_percentage_error(y_train_np, y_train_pred))#Mean Absolute Percentaje Error\n"
   ]
  }
 ],
 "metadata": {
  "colab": {
   "name": "RDI_hour.ipynb",
   "provenance": []
  },
  "kernelspec": {
   "display_name": "Python 3",
   "language": "python",
   "name": "python3"
  },
  "language_info": {
   "codemirror_mode": {
    "name": "ipython",
    "version": 3
   },
   "file_extension": ".py",
   "mimetype": "text/x-python",
   "name": "python",
   "nbconvert_exporter": "python",
   "pygments_lexer": "ipython3",
   "version": "3.7.3"
  }
 },
 "nbformat": 4,
 "nbformat_minor": 1
}
