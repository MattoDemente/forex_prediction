{
 "cells": [
  {
   "cell_type": "code",
   "execution_count": 1,
   "metadata": {
    "colab": {},
    "colab_type": "code",
    "id": "MHL60GoYoBLT",
    "outputId": "55db4102-144e-4e32-f6b2-38133dd62787"
   },
   "outputs": [],
   "source": [
    "# Mawrer Amed Ramirez Martinez\n",
    "# Avance de TOG IDI 4\n",
    "# ms723737@iteso.mx\n",
    "# Notebook para integrar los multiples CSV files \n",
    "# obtenidos de https://www.histdata.com/download-free-forex-historical-data/?/ascii/1-minute-bar-quotes/EURUSD\n",
    "# en un solo Dataset y realizar resampling\n",
    "\n",
    "import numpy as np\n",
    "np.random.seed(1)\n",
    "from tensorflow import set_random_seed \n",
    "set_random_seed(2)\n",
    "\n",
    "from datetime import datetime\n",
    "\n",
    "import matplotlib.pyplot as plt\n",
    "from matplotlib import pyplot\n",
    "from matplotlib.pyplot import figure\n",
    "import matplotlib.dates as mdates\n",
    "import plotly.graph_objects as go\n",
    "\n",
    "import pandas as pd\n",
    "from pandas.plotting import autocorrelation_plot\n",
    "from pandas.plotting import scatter_matrix\n",
    "import math as m\n",
    "import os, glob"
   ]
  },
  {
   "cell_type": "code",
   "execution_count": 2,
   "metadata": {},
   "outputs": [],
   "source": [
    "import warnings\n",
    "warnings.filterwarnings(\"ignore\")"
   ]
  },
  {
   "cell_type": "code",
   "execution_count": 3,
   "metadata": {
    "colab": {},
    "colab_type": "code",
    "id": "rS_SC_nwoBLb",
    "outputId": "45629160-abff-4b56-f141-eadb3244e91c"
   },
   "outputs": [
    {
     "name": "stdout",
     "output_type": "stream",
     "text": [
      "DAT_ASCII_EURUSD_M1_2000.csv\n",
      "DAT_ASCII_EURUSD_M1_2001.csv\n",
      "DAT_ASCII_EURUSD_M1_2002.csv\n",
      "DAT_ASCII_EURUSD_M1_2003.csv\n",
      "DAT_ASCII_EURUSD_M1_2004.csv\n",
      "DAT_ASCII_EURUSD_M1_2005.csv\n",
      "DAT_ASCII_EURUSD_M1_2006.csv\n",
      "DAT_ASCII_EURUSD_M1_2007.csv\n",
      "DAT_ASCII_EURUSD_M1_2008.csv\n",
      "DAT_ASCII_EURUSD_M1_2009.csv\n",
      "DAT_ASCII_EURUSD_M1_2010.csv\n",
      "DAT_ASCII_EURUSD_M1_2011.csv\n",
      "DAT_ASCII_EURUSD_M1_2012.csv\n",
      "DAT_ASCII_EURUSD_M1_2013.csv\n",
      "DAT_ASCII_EURUSD_M1_2014.csv\n",
      "DAT_ASCII_EURUSD_M1_2015.csv\n",
      "DAT_ASCII_EURUSD_M1_2016.csv\n",
      "DAT_ASCII_EURUSD_M1_2017.csv\n",
      "DAT_ASCII_EURUSD_M1_2018.csv\n",
      "DAT_ASCII_EURUSD_M1_2019.csv\n"
     ]
    }
   ],
   "source": [
    "#LOAD DATASET for ASK\n",
    "# change column names\n",
    "#load Dataset for BID\n",
    "#change column names\n",
    "\n",
    "pwd = os.getcwd()\n",
    "source_data = os.path.join(pwd, r'../../../Datasets/histdata/eurusd/')\n",
    "filenames = glob.glob(source_data + \"/*.*\")\n",
    "filenames.sort()\n",
    "for file in filenames:\n",
    "    print(os.path.basename(file))\n"
   ]
  },
  {
   "cell_type": "code",
   "execution_count": 4,
   "metadata": {},
   "outputs": [
    {
     "name": "stdout",
     "output_type": "stream",
     "text": [
      "20\n"
     ]
    }
   ],
   "source": [
    "print(int(len(filenames)))"
   ]
  },
  {
   "cell_type": "code",
   "execution_count": 5,
   "metadata": {},
   "outputs": [],
   "source": [
    "dataset_list = list()\n",
    "#for i in range(len(filenames)):\n",
    "for i in range(20):\n",
    "    dateparse = lambda x: pd.datetime.strptime(x, '%Y%m%d %H%M%S')\n",
    "    #header_list = ['datetime', 'Open' , 'High','Low', 'Close', 'Volume']\n",
    "    dataset = pd.read_csv(filenames[i], date_parser=dateparse, parse_dates=[0], index_col=0, header=None, sep=';')\n",
    "    dataset.columns = ['Open' , 'High','Low', 'Close', 'Volume']\n",
    "    dataset_list.append(dataset)\n",
    "    "
   ]
  },
  {
   "cell_type": "code",
   "execution_count": 6,
   "metadata": {},
   "outputs": [
    {
     "name": "stdout",
     "output_type": "stream",
     "text": [
      "Index(['Open', 'High', 'Low', 'Close', 'Volume'], dtype='object')\n",
      "Open      float64\n",
      "High      float64\n",
      "Low       float64\n",
      "Close     float64\n",
      "Volume      int64\n",
      "dtype: object\n",
      "(143167, 5)\n"
     ]
    }
   ],
   "source": [
    "dataset_2000 = dataset_list[0]\n",
    "print(dataset_2000.columns)\n",
    "print(dataset_2000.dtypes)\n",
    "print(dataset_2000.shape)\n"
   ]
  },
  {
   "cell_type": "code",
   "execution_count": 7,
   "metadata": {},
   "outputs": [
    {
     "name": "stdout",
     "output_type": "stream",
     "text": [
      "Index(['Open', 'High', 'Low', 'Close', 'Volume'], dtype='object')\n",
      "Open      float64\n",
      "High      float64\n",
      "Low       float64\n",
      "Close     float64\n",
      "Volume      int64\n",
      "dtype: object\n",
      "(352320, 5)\n"
     ]
    }
   ],
   "source": [
    "dataset_2010= dataset_list[10]\n",
    "print(dataset_2010.columns)\n",
    "print(dataset_2010.dtypes)\n",
    "print(dataset_2010.shape)"
   ]
  },
  {
   "cell_type": "code",
   "execution_count": 8,
   "metadata": {},
   "outputs": [
    {
     "name": "stdout",
     "output_type": "stream",
     "text": [
      "Index(['Open', 'High', 'Low', 'Close', 'Volume'], dtype='object')\n",
      "Open      float64\n",
      "High      float64\n",
      "Low       float64\n",
      "Close     float64\n",
      "Volume      int64\n",
      "dtype: object\n",
      "(372530, 5)\n"
     ]
    }
   ],
   "source": [
    "dataset_2019 = dataset_list[19]\n",
    "print(dataset_2019.columns)\n",
    "print(dataset_2019.dtypes)\n",
    "print(dataset_2019.shape)"
   ]
  },
  {
   "cell_type": "code",
   "execution_count": 9,
   "metadata": {},
   "outputs": [
    {
     "name": "stdout",
     "output_type": "stream",
     "text": [
      "                       Open    High     Low   Close  Volume\n",
      "0                                                          \n",
      "2000-05-30 17:27:00  0.9302  0.9302  0.9302  0.9302       0\n",
      "                       Open    High     Low   Close  Volume\n",
      "0                                                          \n",
      "2000-12-29 11:25:00  0.9373  0.9374  0.9373  0.9373       0\n"
     ]
    }
   ],
   "source": [
    "print(dataset_2000.head(1))\n",
    "print(dataset_2000.tail(1))"
   ]
  },
  {
   "cell_type": "code",
   "execution_count": 10,
   "metadata": {},
   "outputs": [
    {
     "name": "stdout",
     "output_type": "stream",
     "text": [
      "                       Open    High     Low   Close  Volume\n",
      "0                                                          \n",
      "2010-01-03 17:00:00  1.4301  1.4304  1.4301  1.4304       0\n",
      "                       Open    High    Low   Close  Volume\n",
      "0                                                         \n",
      "2010-12-31 14:58:00  1.3361  1.3366  1.336  1.3364       0\n"
     ]
    }
   ],
   "source": [
    "print(dataset_2010.head(1))\n",
    "print(dataset_2010.tail(1))"
   ]
  },
  {
   "cell_type": "code",
   "execution_count": 11,
   "metadata": {},
   "outputs": [
    {
     "name": "stdout",
     "output_type": "stream",
     "text": [
      "                        Open     High      Low    Close  Volume\n",
      "0                                                              \n",
      "2019-01-01 17:02:00  1.14598  1.14599  1.14598  1.14598       0\n",
      "                        Open     High      Low    Close  Volume\n",
      "0                                                              \n",
      "2019-12-31 16:59:00  1.12099  1.12115  1.12076  1.12076       0\n"
     ]
    }
   ],
   "source": [
    "print(dataset_2019.head(1))\n",
    "print(dataset_2019.tail(1))"
   ]
  },
  {
   "cell_type": "code",
   "execution_count": 12,
   "metadata": {},
   "outputs": [],
   "source": [
    "df = pd.concat(dataset_list)"
   ]
  },
  {
   "cell_type": "code",
   "execution_count": 13,
   "metadata": {},
   "outputs": [
    {
     "name": "stdout",
     "output_type": "stream",
     "text": [
      "Index(['Open', 'High', 'Low', 'Close', 'Volume'], dtype='object')\n",
      "Open      float64\n",
      "High      float64\n",
      "Low       float64\n",
      "Close     float64\n",
      "Volume      int64\n",
      "dtype: object\n",
      "(6539138, 5)\n"
     ]
    }
   ],
   "source": [
    "print(df.columns)\n",
    "print(df.dtypes)\n",
    "print(df.shape)"
   ]
  },
  {
   "cell_type": "code",
   "execution_count": 14,
   "metadata": {},
   "outputs": [
    {
     "name": "stdout",
     "output_type": "stream",
     "text": [
      "                       Open    High     Low   Close  Volume\n",
      "0                                                          \n",
      "2000-05-30 17:27:00  0.9302  0.9302  0.9302  0.9302       0\n",
      "                        Open     High      Low    Close  Volume\n",
      "0                                                              \n",
      "2019-12-31 16:59:00  1.12099  1.12115  1.12076  1.12076       0\n"
     ]
    }
   ],
   "source": [
    "print(df.head(1))\n",
    "print(df.tail(1))"
   ]
  },
  {
   "cell_type": "code",
   "execution_count": 16,
   "metadata": {},
   "outputs": [],
   "source": [
    "pwd = os.getcwd()\n",
    "source_data = os.path.join(pwd, r'../../../Datasets/histdata/eurusd/FULL/full_data.csv')\n",
    "df.to_csv (source_data, index = True, header=True)"
   ]
  }
 ],
 "metadata": {
  "colab": {
   "name": "RDI_hour.ipynb",
   "provenance": []
  },
  "kernelspec": {
   "display_name": "Python 3",
   "language": "python",
   "name": "python3"
  },
  "language_info": {
   "codemirror_mode": {
    "name": "ipython",
    "version": 3
   },
   "file_extension": ".py",
   "mimetype": "text/x-python",
   "name": "python",
   "nbconvert_exporter": "python",
   "pygments_lexer": "ipython3",
   "version": "3.7.3"
  }
 },
 "nbformat": 4,
 "nbformat_minor": 1
}
