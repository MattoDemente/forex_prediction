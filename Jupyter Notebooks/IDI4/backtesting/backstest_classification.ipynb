{
 "cells": [
  {
   "cell_type": "code",
   "execution_count": 77,
   "metadata": {},
   "outputs": [],
   "source": [
    "from backtesting import Backtest, Strategy\n",
    "from backtesting.lib import crossover, SignalStrategy, TrailingStrategy, resample_apply\n",
    "from backtesting.test import SMA\n",
    "from backtesting import Backtest\n",
    "\n",
    "import matplotlib.pyplot as plt\n",
    "from matplotlib.pyplot import figure\n",
    "import numpy as np\n",
    "import pandas as pd \n",
    "import math as m\n",
    "import os, glob"
   ]
  },
  {
   "cell_type": "code",
   "execution_count": 78,
   "metadata": {},
   "outputs": [],
   "source": [
    "import warnings\n",
    "warnings.filterwarnings(\"ignore\")"
   ]
  },
  {
   "cell_type": "code",
   "execution_count": 80,
   "metadata": {},
   "outputs": [],
   "source": [
    "PRED = False"
   ]
  },
  {
   "cell_type": "code",
   "execution_count": 81,
   "metadata": {},
   "outputs": [
    {
     "name": "stdout",
     "output_type": "stream",
     "text": [
      "C-LSTM_1D_19F_Class_03_Test.csv\n",
      "C-LSTM_1D_19F_Class_03_Train.csv\n",
      "C-LSTM_1H_0F_Class_Test_Results_01.csv\n",
      "C-LSTM_1H_0F_Class_Test_Results_02.csv\n",
      "C-LSTM_1H_0F_Class_Train_Results_01.csv\n",
      "C-LSTM_1H_0F_Class_Train_Results_02.csv\n"
     ]
    }
   ],
   "source": [
    "pwd = os.getcwd()\n",
    "datasource_path = os.path.join(pwd, r'../../../Results/LSTM/')\n",
    "filenames = glob.glob(datasource_path + \"/*.csv\")\n",
    "filenames.sort()\n",
    "for file in filenames:\n",
    "    print(os.path.basename(file))"
   ]
  },
  {
   "cell_type": "code",
   "execution_count": 82,
   "metadata": {},
   "outputs": [
    {
     "name": "stdout",
     "output_type": "stream",
     "text": [
      "       Open     High      Low    Close        Volume  Real_Class  \\\n",
      "0   1.20780  1.21167  1.20465  1.21079  1.126558e+06        -2.0   \n",
      "1   1.21063  1.21349  1.20005  1.20102  1.065118e+06         0.0   \n",
      "2   1.20131  1.20189  1.20019  1.20096  7.733910e+04         1.0   \n",
      "3   1.20087  1.20685  1.19860  1.20468  1.124832e+06         2.0   \n",
      "4   1.20455  1.21946  1.20442  1.21778  1.117748e+06         1.0   \n",
      "5   1.21754  1.22208  1.21466  1.21889  1.106444e+06        -1.0   \n",
      "6   1.21899  1.21999  1.21408  1.21666  1.132577e+06        -2.0   \n",
      "7   1.21663  1.21931  1.20414  1.20558  1.063896e+06         1.0   \n",
      "8   1.20628  1.20701  1.20509  1.20662  7.789710e+04         0.0   \n",
      "9   1.20657  1.20802  1.20459  1.20650  1.110041e+06         1.0   \n",
      "10  1.20640  1.21142  1.20518  1.20860  1.116064e+06         2.0   \n",
      "11  1.20851  1.21929  1.20256  1.21814  1.108055e+06         2.0   \n",
      "12  1.21808  1.22491  1.21587  1.22336  1.122153e+06         1.0   \n",
      "13  1.22333  1.23084  1.21984  1.22690  1.056604e+06         1.0   \n",
      "14  1.22640  1.22853  1.22591  1.22834  7.461340e+04        -1.0   \n",
      "15  1.22829  1.22875  1.22225  1.22653  1.114383e+06        -1.0   \n",
      "16  1.22665  1.22948  1.22249  1.22491  1.106661e+06        -2.0   \n",
      "17  1.22493  1.22603  1.21337  1.21473  1.116639e+06         1.0   \n",
      "18  1.21471  1.21981  1.21200  1.21845  1.116046e+06         0.0   \n",
      "19  1.21846  1.22227  1.21573  1.21868  1.061680e+06        -1.0   \n",
      "\n",
      "    Predicted_Class  \n",
      "0              -2.0  \n",
      "1               0.0  \n",
      "2              -1.0  \n",
      "3               2.0  \n",
      "4               2.0  \n",
      "5               2.0  \n",
      "6              -2.0  \n",
      "7               0.0  \n",
      "8              -2.0  \n",
      "9              -1.0  \n",
      "10              2.0  \n",
      "11              2.0  \n",
      "12              2.0  \n",
      "13              0.0  \n",
      "14             -2.0  \n",
      "15             -1.0  \n",
      "16              2.0  \n",
      "17              2.0  \n",
      "18              2.0  \n",
      "19              0.0  \n",
      "(3591, 7)\n"
     ]
    }
   ],
   "source": [
    "dateparse = lambda x: pd.datetime.strptime(x, '%Y-%m-%d %H:%M:%S')\n",
    "DATASET = pd.read_csv(filenames[1], header=0)\n",
    "print(DATASET.head(20))\n",
    "print(DATASET.shape)\n"
   ]
  },
  {
   "cell_type": "code",
   "execution_count": 83,
   "metadata": {},
   "outputs": [
    {
     "data": {
      "text/html": [
       "<div>\n",
       "<style scoped>\n",
       "    .dataframe tbody tr th:only-of-type {\n",
       "        vertical-align: middle;\n",
       "    }\n",
       "\n",
       "    .dataframe tbody tr th {\n",
       "        vertical-align: top;\n",
       "    }\n",
       "\n",
       "    .dataframe thead th {\n",
       "        text-align: right;\n",
       "    }\n",
       "</style>\n",
       "<table border=\"1\" class=\"dataframe\">\n",
       "  <thead>\n",
       "    <tr style=\"text-align: right;\">\n",
       "      <th></th>\n",
       "      <th>Open</th>\n",
       "      <th>High</th>\n",
       "      <th>Low</th>\n",
       "      <th>Close</th>\n",
       "      <th>Volume</th>\n",
       "      <th>Real_Class</th>\n",
       "      <th>Predicted_Class</th>\n",
       "      <th>Position</th>\n",
       "    </tr>\n",
       "  </thead>\n",
       "  <tbody>\n",
       "    <tr>\n",
       "      <th>0</th>\n",
       "      <td>1.20780</td>\n",
       "      <td>1.21167</td>\n",
       "      <td>1.20465</td>\n",
       "      <td>1.21079</td>\n",
       "      <td>1.126558e+06</td>\n",
       "      <td>-2.0</td>\n",
       "      <td>-2.0</td>\n",
       "      <td>-1.0</td>\n",
       "    </tr>\n",
       "    <tr>\n",
       "      <th>1</th>\n",
       "      <td>1.21063</td>\n",
       "      <td>1.21349</td>\n",
       "      <td>1.20005</td>\n",
       "      <td>1.20102</td>\n",
       "      <td>1.065118e+06</td>\n",
       "      <td>0.0</td>\n",
       "      <td>0.0</td>\n",
       "      <td>0.0</td>\n",
       "    </tr>\n",
       "    <tr>\n",
       "      <th>2</th>\n",
       "      <td>1.20131</td>\n",
       "      <td>1.20189</td>\n",
       "      <td>1.20019</td>\n",
       "      <td>1.20096</td>\n",
       "      <td>7.733910e+04</td>\n",
       "      <td>1.0</td>\n",
       "      <td>-1.0</td>\n",
       "      <td>0.0</td>\n",
       "    </tr>\n",
       "    <tr>\n",
       "      <th>3</th>\n",
       "      <td>1.20087</td>\n",
       "      <td>1.20685</td>\n",
       "      <td>1.19860</td>\n",
       "      <td>1.20468</td>\n",
       "      <td>1.124832e+06</td>\n",
       "      <td>2.0</td>\n",
       "      <td>2.0</td>\n",
       "      <td>1.0</td>\n",
       "    </tr>\n",
       "    <tr>\n",
       "      <th>4</th>\n",
       "      <td>1.20455</td>\n",
       "      <td>1.21946</td>\n",
       "      <td>1.20442</td>\n",
       "      <td>1.21778</td>\n",
       "      <td>1.117748e+06</td>\n",
       "      <td>1.0</td>\n",
       "      <td>2.0</td>\n",
       "      <td>1.0</td>\n",
       "    </tr>\n",
       "    <tr>\n",
       "      <th>5</th>\n",
       "      <td>1.21754</td>\n",
       "      <td>1.22208</td>\n",
       "      <td>1.21466</td>\n",
       "      <td>1.21889</td>\n",
       "      <td>1.106444e+06</td>\n",
       "      <td>-1.0</td>\n",
       "      <td>2.0</td>\n",
       "      <td>-1.0</td>\n",
       "    </tr>\n",
       "    <tr>\n",
       "      <th>6</th>\n",
       "      <td>1.21899</td>\n",
       "      <td>1.21999</td>\n",
       "      <td>1.21408</td>\n",
       "      <td>1.21666</td>\n",
       "      <td>1.132577e+06</td>\n",
       "      <td>-2.0</td>\n",
       "      <td>-2.0</td>\n",
       "      <td>-1.0</td>\n",
       "    </tr>\n",
       "    <tr>\n",
       "      <th>7</th>\n",
       "      <td>1.21663</td>\n",
       "      <td>1.21931</td>\n",
       "      <td>1.20414</td>\n",
       "      <td>1.20558</td>\n",
       "      <td>1.063896e+06</td>\n",
       "      <td>1.0</td>\n",
       "      <td>0.0</td>\n",
       "      <td>1.0</td>\n",
       "    </tr>\n",
       "    <tr>\n",
       "      <th>8</th>\n",
       "      <td>1.20628</td>\n",
       "      <td>1.20701</td>\n",
       "      <td>1.20509</td>\n",
       "      <td>1.20662</td>\n",
       "      <td>7.789710e+04</td>\n",
       "      <td>0.0</td>\n",
       "      <td>-2.0</td>\n",
       "      <td>0.0</td>\n",
       "    </tr>\n",
       "    <tr>\n",
       "      <th>9</th>\n",
       "      <td>1.20657</td>\n",
       "      <td>1.20802</td>\n",
       "      <td>1.20459</td>\n",
       "      <td>1.20650</td>\n",
       "      <td>1.110041e+06</td>\n",
       "      <td>1.0</td>\n",
       "      <td>-1.0</td>\n",
       "      <td>0.0</td>\n",
       "    </tr>\n",
       "  </tbody>\n",
       "</table>\n",
       "</div>"
      ],
      "text/plain": [
       "      Open     High      Low    Close        Volume  Real_Class  \\\n",
       "0  1.20780  1.21167  1.20465  1.21079  1.126558e+06        -2.0   \n",
       "1  1.21063  1.21349  1.20005  1.20102  1.065118e+06         0.0   \n",
       "2  1.20131  1.20189  1.20019  1.20096  7.733910e+04         1.0   \n",
       "3  1.20087  1.20685  1.19860  1.20468  1.124832e+06         2.0   \n",
       "4  1.20455  1.21946  1.20442  1.21778  1.117748e+06         1.0   \n",
       "5  1.21754  1.22208  1.21466  1.21889  1.106444e+06        -1.0   \n",
       "6  1.21899  1.21999  1.21408  1.21666  1.132577e+06        -2.0   \n",
       "7  1.21663  1.21931  1.20414  1.20558  1.063896e+06         1.0   \n",
       "8  1.20628  1.20701  1.20509  1.20662  7.789710e+04         0.0   \n",
       "9  1.20657  1.20802  1.20459  1.20650  1.110041e+06         1.0   \n",
       "\n",
       "   Predicted_Class  Position  \n",
       "0             -2.0      -1.0  \n",
       "1              0.0       0.0  \n",
       "2             -1.0       0.0  \n",
       "3              2.0       1.0  \n",
       "4              2.0       1.0  \n",
       "5              2.0      -1.0  \n",
       "6             -2.0      -1.0  \n",
       "7              0.0       1.0  \n",
       "8             -2.0       0.0  \n",
       "9             -1.0       0.0  "
      ]
     },
     "execution_count": 83,
     "metadata": {},
     "output_type": "execute_result"
    }
   ],
   "source": [
    "if (PRED):\n",
    "    DATASET['Position'] = DATASET['Predicted_Class']\n",
    "    DATASET.loc[DATASET.Predicted_Class == -2, 'Position'] = -1\n",
    "    DATASET.loc[DATASET.Predicted_Class == 2, 'Position'] = 1\n",
    "    DATASET.loc[DATASET.Predicted_Class == -1, 'Position'] = 0 # remove Small movements\n",
    "    DATASET.loc[DATASET.Predicted_Class == 1, 'Position'] = 0 #Remove Small movements\n",
    "else:\n",
    "    DATASET['Position'] = DATASET['Real_Class']\n",
    "    DATASET.loc[DATASET.Real_Class == -2, 'Position'] = -1\n",
    "    DATASET.loc[DATASET.Real_Class == 2, 'Position'] = 1\n",
    "    DATASET.loc[DATASET.Predicted_Class == -1, 'Position'] = 0 # remove Small movements\n",
    "    DATASET.loc[DATASET.Predicted_Class == 1, 'Position'] = 0 #Remove Small movements\n",
    "DATASET.head(10)"
   ]
  },
  {
   "cell_type": "code",
   "execution_count": 84,
   "metadata": {},
   "outputs": [],
   "source": [
    "class limits(SignalStrategy, TrailingStrategy):\n",
    "    buy_lim = 0.99\n",
    "    sell_lim = -0.99\n",
    "    \n",
    "    def init(self):\n",
    "        super().init()\n",
    "        self.Op_Abierta = False\n",
    "        \n",
    "    def next(self):\n",
    "        sig = self.data.Position[-1]\n",
    "        if not self.Op_Abierta and sig >= self.buy_lim:\n",
    "            self.buy()\n",
    "            self.Op_Abierta = True\n",
    "        if self.Op_Abierta and sig <= self.sell_lim:\n",
    "            self.sell()\n",
    "            self.Op_Abierta = False"
   ]
  },
  {
   "cell_type": "code",
   "execution_count": 48,
   "metadata": {},
   "outputs": [],
   "source": [
    "class limits2(SignalStrategy, TrailingStrategy):\n",
    "    buy_lim = 0.99\n",
    "    sell_lim = -0.99\n",
    "    \n",
    "    def init(self):\n",
    "        super().init()\n",
    "        \n",
    "    def next(self):\n",
    "        sig = self.data.Position[-1]\n",
    "        if  sig >= self.buy_lim:\n",
    "            self.buy()\n",
    "        if  sig <= self.sell_lim:\n",
    "            self.sell()"
   ]
  },
  {
   "cell_type": "code",
   "execution_count": 33,
   "metadata": {},
   "outputs": [],
   "source": [
    "class Position(SignalStrategy):\n",
    "    def init(self):\n",
    "        global df\n",
    "        super().init()  \n",
    "        self.set_signal(self.data.Position)"
   ]
  },
  {
   "cell_type": "code",
   "execution_count": 85,
   "metadata": {},
   "outputs": [
    {
     "data": {
      "text/plain": [
       " 2.0    1233\n",
       "-2.0    1042\n",
       " 0.0     535\n",
       "-1.0     490\n",
       " 1.0     291\n",
       "Name: Predicted_Class, dtype: int64"
      ]
     },
     "execution_count": 85,
     "metadata": {},
     "output_type": "execute_result"
    }
   ],
   "source": [
    "DATASET['Predicted_Class'].value_counts()"
   ]
  },
  {
   "cell_type": "code",
   "execution_count": 86,
   "metadata": {},
   "outputs": [
    {
     "data": {
      "text/plain": [
       " 2.0    798\n",
       "-2.0    790\n",
       "-1.0    700\n",
       " 1.0    694\n",
       " 0.0    609\n",
       "Name: Real_Class, dtype: int64"
      ]
     },
     "execution_count": 86,
     "metadata": {},
     "output_type": "execute_result"
    }
   ],
   "source": [
    "DATASET['Real_Class'].value_counts()"
   ]
  },
  {
   "cell_type": "code",
   "execution_count": 75,
   "metadata": {
    "scrolled": true
   },
   "outputs": [
    {
     "data": {
      "text/plain": [
       "Start                             0\n",
       "End                           20303\n",
       "Duration                      20303\n",
       "Exposure [%]                99.9606\n",
       "Equity Final [$]            94243.2\n",
       "Equity Peak [$]             94243.2\n",
       "Return [%]                  9324.32\n",
       "Buy & Hold Return [%]       4.97299\n",
       "Max. Drawdown [%]          -2.56114\n",
       "Avg. Drawdown [%]        -0.0927908\n",
       "Max. Drawdown Duration          125\n",
       "Avg. Drawdown Duration      6.05505\n",
       "# Trades                       3566\n",
       "Win Rate [%]                 84.184\n",
       "Best Trade [%]              2.35793\n",
       "Worst Trade [%]            -2.09218\n",
       "Avg. Trade [%]             0.127608\n",
       "Max. Trade Duration              44\n",
       "Avg. Trade Duration         5.69125\n",
       "Expectancy [%]             0.160078\n",
       "SQN                         19.0202\n",
       "Sharpe Ratio                0.58714\n",
       "Sortino Ratio              0.780489\n",
       "Calmar Ratio              0.0498245\n",
       "_strategy                    limits\n",
       "dtype: object"
      ]
     },
     "execution_count": 75,
     "metadata": {},
     "output_type": "execute_result"
    }
   ],
   "source": [
    "bt = Backtest(DATASET, limits, cash=1000, commission=.0002)\n",
    "bt.run()"
   ]
  },
  {
   "cell_type": "markdown",
   "metadata": {},
   "source": [
    "bt.plot()"
   ]
  }
 ],
 "metadata": {
  "kernelspec": {
   "display_name": "Python 3",
   "language": "python",
   "name": "python3"
  },
  "language_info": {
   "codemirror_mode": {
    "name": "ipython",
    "version": 3
   },
   "file_extension": ".py",
   "mimetype": "text/x-python",
   "name": "python",
   "nbconvert_exporter": "python",
   "pygments_lexer": "ipython3",
   "version": "3.7.3"
  }
 },
 "nbformat": 4,
 "nbformat_minor": 2
}
