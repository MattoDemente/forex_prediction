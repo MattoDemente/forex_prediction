{
 "cells": [
  {
   "cell_type": "code",
   "execution_count": null,
   "metadata": {},
   "outputs": [],
   "source": [
    "!git add training_aws.ipynb"
   ]
  },
  {
   "cell_type": "code",
   "execution_count": null,
   "metadata": {},
   "outputs": [
    {
     "name": "stdout",
     "output_type": "stream",
     "text": [
      "\u001b7\u001b[?47h\u001b[?1h\u001b=\u001b[?2004h\u001b[1;24r\u001b[m\u001b[H\u001b[2J\u001b[24;1H\"~/SageMaker/forex_prediction/.git/COMMIT_EDITMSG\" 24L, 637C\u001b[2;1H# Please enter the commit message for your changes. Lines starting\r\n",
      "# with '#' will be ignored, and an empty message aborts the commit.\r\n",
      "#\r\n",
      "# Committer: EC2 Default User <ec2-user@ip-172-16-70-209.ec2.internal>\r\n",
      "#\r\n",
      "# On branch master\r\n",
      "# Your branch is up-to-date with 'origin/master'.\r\n",
      "#\r\n",
      "# Changes to be committed:\r\n",
      "#\u001b[7Cnew file:   training_aws.ipynb\r\n",
      "#\r\n",
      "# Changes not staged for commit:\r\n",
      "#\u001b[7Cmodified:   ../../Datasets/EURUSD/ene2004_nov2019/procesado.csv\r\n",
      "#\u001b[7Cmodified:   17Abril.ipynb\r\n",
      "#\u001b[7Cmodified:   21Abril.ipynb\r\n",
      "#\u001b[7Cmodified:   loadModel.ipynb\r\n",
      "#\u001b[7Cmodified:   training_aws.ipynb\r\n",
      "#\r\n",
      "# Untracked files:\r\n",
      "#\u001b[7Cmodels/\r\n",
      "#\u001b[7CpreProcessing_aws.ipynb\r\n",
      "#\u001b[7Cprocesado.csv\u001b[1;1H"
     ]
    }
   ],
   "source": [
    "!git commit "
   ]
  },
  {
   "cell_type": "code",
   "execution_count": null,
   "metadata": {},
   "outputs": [],
   "source": []
  },
  {
   "cell_type": "code",
   "execution_count": 2,
   "metadata": {
    "colab": {},
    "colab_type": "code",
    "id": "MHL60GoYoBLT",
    "outputId": "55db4102-144e-4e32-f6b2-38133dd62787"
   },
   "outputs": [],
   "source": [
    "# Mawrer Amed Ramirez Martinez\n",
    "# Preprocesamiento de archivo original de Dukascopy\n",
    "# ms723737@iteso.mx\n",
    "\n",
    "import numpy as np\n",
    "np.random.seed(1)\n",
    "from tensorflow import set_random_seed \n",
    "set_random_seed(2)\n",
    "\n",
    "from keras import backend as K\n",
    "\n",
    "from sklearn.preprocessing import MinMaxScaler\n",
    "from sklearn.model_selection import train_test_split\n",
    "from sklearn.metrics import mean_squared_error\n",
    "from sklearn.metrics import mean_absolute_error\n",
    "from sklearn.metrics import r2_score\n",
    "\n",
    "\n",
    "import seaborn as sns\n",
    "from scipy import stats\n",
    "\n",
    "from datetime import datetime\n",
    "\n",
    "import matplotlib.pyplot as plt\n",
    "from matplotlib import pyplot\n",
    "from matplotlib.pyplot import figure\n",
    "import matplotlib.dates as mdates\n",
    "import plotly.graph_objects as go\n",
    "\n",
    "from tensorflow.keras import Sequential\n",
    "from tensorflow.keras.layers import Dense, LSTM, Dropout\n",
    "import tensorflow as tf \n",
    "from keras import metrics\n",
    "from keras.callbacks import ModelCheckpoint\n",
    "\n",
    "import pandas as pd\n",
    "from pandas.plotting import autocorrelation_plot\n",
    "import math as m\n",
    "import os, glob"
   ]
  },
  {
   "cell_type": "code",
   "execution_count": 3,
   "metadata": {},
   "outputs": [],
   "source": [
    "\n",
    "RANGE = 51\n",
    "\n",
    "HYPER_L1_IN = RANGE\n",
    "EPOCHS = 10\n",
    "BATCH_SIZE = 32\n",
    "\n",
    "TEST_SIZE = .19\n",
    "VAL_SIZE = .0\n",
    "\n",
    "START_IN = 50000\n",
    "#total 99380\n",
    "\n",
    "END_IN = 60000\n",
    "\n",
    "TRAINING_TIME_ELAPSED = 0\n",
    "\n",
    "TRAIN_MSE=0\n",
    "TRAIN_RMSE=0\n",
    "TRAIN_MAE=0\n",
    "TEST_MSE=0\n",
    "TEST_RMSE=0\n",
    "TEST_MAE=0\n"
   ]
  },
  {
   "cell_type": "code",
   "execution_count": 4,
   "metadata": {
    "scrolled": true
   },
   "outputs": [],
   "source": [
    "import boto3\n",
    "import pandas as pd\n",
    "from sagemaker import get_execution_role\n",
    "\n",
    "role = get_execution_role()\n",
    "DF_EURUSD_ASK = pd.read_csv('s3://forex323737/posprocessed/procesado.csv')"
   ]
  },
  {
   "cell_type": "code",
   "execution_count": 5,
   "metadata": {},
   "outputs": [],
   "source": [
    "DF_EURUSD_ASK = DF_EURUSD_ASK.drop(['Datetime'], axis = 1)\n",
    "DF_EURUSD_ASK = DF_EURUSD_ASK.drop(['Sell'], axis = 1)\n",
    "DF_EURUSD_ASK = DF_EURUSD_ASK.drop(['Sell2'], axis = 1)\n",
    "DF_EURUSD_ASK = DF_EURUSD_ASK.drop(['Buy'], axis = 1)\n",
    "DF_EURUSD_ASK = DF_EURUSD_ASK.drop(['Buy2'], axis = 1)"
   ]
  },
  {
   "cell_type": "code",
   "execution_count": 6,
   "metadata": {},
   "outputs": [
    {
     "name": "stdout",
     "output_type": "stream",
     "text": [
      "(99430, 8)\n",
      "Index(['Open', 'High', 'Low', 'Close', 'Volume', 'Pct_Range', 'HL_PCT',\n",
      "       'Class'],\n",
      "      dtype='object')\n",
      "      Open     High      Low    Close      Volume  Pct_Range    HL_PCT  Class\n",
      "0  1.25950  1.25960  1.25826  1.25910   6654.2002   0.000326  0.106425      0\n",
      "1  1.25958  1.25960  1.25947  1.25951    660.6000   0.000000  0.010321      0\n",
      "2  1.25955  1.25962  1.25944  1.25951   2091.0000  -0.000651  0.014291      0\n",
      "3  1.25950  1.25965  1.25834  1.25869  10003.0996   0.000644  0.104076      0\n",
      "4  1.25908  1.25960  1.25843  1.25950   7603.3999   0.000040  0.092894      0\n",
      "5  1.25907  1.25960  1.25825  1.25955  10862.5996  -0.000056  0.107181      0\n",
      "6  1.25914  1.25960  1.25482  1.25948  10160.4004  -0.000302  0.379522      0\n",
      "7  1.25938  1.25950  1.24698  1.25910  13008.2002  -0.000024  0.994361      0\n",
      "8  1.25900  1.25953  1.25726  1.25907   5518.8999   0.000079  0.180292      0\n",
      "9  1.25915  1.25953  1.25864  1.25917   7611.2002  -0.000048  0.070681      0\n"
     ]
    }
   ],
   "source": [
    "DF_Full = DF_EURUSD_ASK\n",
    "DF_Full.reset_index(drop=True, inplace=True) #reset indexes from iloc\n",
    "\n",
    "print(DF_Full.shape)\n",
    "print(DF_Full.columns)\n",
    "print(DF_Full.head(10))"
   ]
  },
  {
   "cell_type": "code",
   "execution_count": 7,
   "metadata": {},
   "outputs": [
    {
     "name": "stdout",
     "output_type": "stream",
     "text": [
      "Total:  99430\n",
      "Start:  50000\n",
      "End:  60000\n"
     ]
    }
   ],
   "source": [
    "total = DF_Full.shape[0]\n",
    "print('Total: ', total)\n",
    "print('Start: ', START_IN)\n",
    "print('End: ', END_IN)\n"
   ]
  },
  {
   "cell_type": "code",
   "execution_count": 8,
   "metadata": {},
   "outputs": [
    {
     "name": "stdout",
     "output_type": "stream",
     "text": [
      "(10000, 8)\n"
     ]
    }
   ],
   "source": [
    "#Shape the first START of the total\n",
    "DF_Full = DF_Full.iloc[START_IN:END_IN]\n",
    "DF_Full.reset_index(drop=True, inplace=True) #reset indexes from iloc\n",
    "print(DF_Full.shape)"
   ]
  },
  {
   "cell_type": "code",
   "execution_count": 9,
   "metadata": {},
   "outputs": [
    {
     "name": "stdout",
     "output_type": "stream",
     "text": [
      "Total:  10000\n"
     ]
    }
   ],
   "source": [
    "total = DF_Full.shape[0]\n",
    "print('Total: ', total)"
   ]
  },
  {
   "cell_type": "code",
   "execution_count": 10,
   "metadata": {},
   "outputs": [
    {
     "name": "stdout",
     "output_type": "stream",
     "text": [
      "9995    1.32119\n",
      "9996    1.32057\n",
      "9997    1.31957\n",
      "9998    1.32122\n",
      "9999    1.32182\n",
      "Name: Close, dtype: float64\n",
      "(9999,)\n",
      "9995    1.32057\n",
      "9996    1.31957\n",
      "9997    1.32122\n",
      "9998    1.32182\n",
      "9999    1.32182\n",
      "Name: Close, dtype: float64\n",
      "(10000,)\n"
     ]
    }
   ],
   "source": [
    "#generate the VECTOR Y\n",
    "close_y = DF_Full['Close'].iloc[1:]\n",
    "close_y.columns = ['close_y']\n",
    "print(close_y.tail())\n",
    "print(close_y.shape)\n",
    "close_y = close_y.append(close_y.tail(1), ignore_index=True)\n",
    "print(close_y.tail())\n",
    "print(close_y.shape)\n"
   ]
  },
  {
   "cell_type": "code",
   "execution_count": 11,
   "metadata": {},
   "outputs": [
    {
     "name": "stdout",
     "output_type": "stream",
     "text": [
      "Sum of %s: 0.19\n",
      "count of Val and Test: 1900\n",
      "end of train:  8100\n",
      "count val:  0\n",
      "count test:  1900\n",
      "end_val 8100\n"
     ]
    }
   ],
   "source": [
    "s1 = TEST_SIZE + VAL_SIZE\n",
    "print('Sum of %s:',s1)\n",
    "f1 = int(total * s1)\n",
    "print('count of Val and Test:',f1)\n",
    "end_train = total - f1\n",
    "print('end of train: ', end_train)\n",
    "\n",
    "count_val= int(total * VAL_SIZE)\n",
    "print('count val: ',count_val)\n",
    "\n",
    "count_test= int(total * TEST_SIZE)\n",
    "print('count test: ',count_test)\n",
    "\n",
    "\n",
    "end_val = end_train + count_val\n",
    "print('end_val', end_val)\n"
   ]
  },
  {
   "cell_type": "code",
   "execution_count": 12,
   "metadata": {},
   "outputs": [
    {
     "name": "stdout",
     "output_type": "stream",
     "text": [
      "Data Training Shape:  (8100, 8)\n",
      "Data Val Shape:  (0, 8)\n",
      "Data Test Shape:  (1900, 8)\n",
      "\n",
      "Y Data Training Shape:  (8100,)\n",
      "Y Data Val Shape:  (0,)\n",
      "Y Data Test Shape:  (1900,)\n"
     ]
    }
   ],
   "source": [
    "data_training = DF_Full.iloc[:end_train]\n",
    "data_val = DF_Full.iloc[end_train: end_val]\n",
    "data_test = DF_Full.iloc[end_val:]\n",
    "\n",
    "print(\"Data Training Shape: \",data_training.shape)\n",
    "print(\"Data Val Shape: \",data_val.shape)\n",
    "print(\"Data Test Shape: \",data_test.shape)\n",
    "\n",
    "data_training_y = close_y.iloc[:end_train]\n",
    "data_val_y = close_y.iloc[end_train: end_val]\n",
    "data_test_y = close_y.iloc[end_val:]\n",
    "print(\"\")\n",
    "print(\"Y Data Training Shape: \", data_training_y.shape)\n",
    "print(\"Y Data Val Shape: \", data_val_y.shape)\n",
    "print(\"Y Data Test Shape: \", data_test_y.shape)"
   ]
  },
  {
   "cell_type": "code",
   "execution_count": 13,
   "metadata": {},
   "outputs": [
    {
     "name": "stdout",
     "output_type": "stream",
     "text": [
      "(8100, 8)\n"
     ]
    },
    {
     "data": {
      "text/plain": [
       "False"
      ]
     },
     "execution_count": 13,
     "metadata": {},
     "output_type": "execute_result"
    }
   ],
   "source": [
    "data_training_array = np.array(data_training)\n",
    "#data_training_array = data_training_array.reset_index()\n",
    "print(data_training_array.shape)\n",
    "np.where(np.isnan(data_training_array))\n",
    "#print(data_training_array.shape)\n",
    "np.any(np.isnan(data_training_array))"
   ]
  },
  {
   "cell_type": "code",
   "execution_count": 14,
   "metadata": {},
   "outputs": [
    {
     "name": "stdout",
     "output_type": "stream",
     "text": [
      "[[0.61683608 0.61504934 0.62221817 ... 0.53398788 0.03845597 0.5       ]\n",
      " [0.62188812 0.61680489 0.62702177 ... 0.53660889 0.0138552  0.5       ]\n",
      " [0.62158378 0.61644167 0.62610969 ... 0.51727885 0.01828305 0.5       ]\n",
      " ...\n",
      " [0.64763528 0.640293   0.64885078 ... 0.5219031  0.0280247  0.5       ]\n",
      " [0.64300931 0.63611599 0.64258786 ... 0.50653722 0.04472548 0.5       ]\n",
      " [0.64100067 0.633634   0.64088532 ... 0.55067085 0.03837602 0.5       ]]\n"
     ]
    }
   ],
   "source": [
    "# DATA SET SCALER TRAINING\n",
    "scaler = MinMaxScaler(feature_range=(0, 1))\n",
    "#print(data_training.head)\n",
    "#data_training_array = np.array(data_training)\n",
    "data_training_array_scaled = scaler.fit_transform(data_training_array)\n",
    "print(data_training_array_scaled)"
   ]
  },
  {
   "cell_type": "code",
   "execution_count": 15,
   "metadata": {},
   "outputs": [
    {
     "data": {
      "image/png": "[encoded data removed]",
      "text/plain": [
       "<Figure size 1008x360 with 1 Axes>"
      ]
     },
     "metadata": {},
     "output_type": "display_data"
    }
   ],
   "source": [
    "plt.figure(figsize=(14,5))\n",
    "pyplot.plot(data_training_array_scaled[:,3], color = 'red', label = 'Close')\n",
    "plt.title('Close')\n",
    "plt.xlabel('Tiempo')\n",
    "plt.ylabel('Precio')\n",
    "plt.legend()\n",
    "plt.show()"
   ]
  },
  {
   "cell_type": "code",
   "execution_count": 16,
   "metadata": {
    "scrolled": true
   },
   "outputs": [
    {
     "data": {
      "text/plain": [
       "[<matplotlib.lines.Line2D at 0x7f416ae9efd0>]"
      ]
     },
     "execution_count": 16,
     "metadata": {},
     "output_type": "execute_result"
    },
    {
     "data": {
      "image/png": "[encoded data removed]",
      "text/plain": [
       "<Figure size 1152x360 with 1 Axes>"
      ]
     },
     "metadata": {},
     "output_type": "display_data"
    }
   ],
   "source": [
    "pyplot.figure(figsize=(16,5))\n",
    "pyplot.plot(data_training_y)"
   ]
  },
  {
   "cell_type": "code",
   "execution_count": 17,
   "metadata": {},
   "outputs": [
    {
     "name": "stdout",
     "output_type": "stream",
     "text": [
      "(8049, 51, 8)\n",
      "(8049,)\n"
     ]
    }
   ],
   "source": [
    "X_train = []\n",
    "y_train = []\n",
    "for i in range(RANGE, data_training_array_scaled.shape[0]):\n",
    "    X_train.append(data_training_array_scaled[i-RANGE:i])\n",
    "    y_train.append(data_training_y[i])\n",
    "\n",
    "X_train_np, y_train_np = np.array(X_train), np.array(y_train)\n",
    "\n",
    "print(X_train_np.shape)\n",
    "print(y_train_np.shape)"
   ]
  },
  {
   "cell_type": "code",
   "execution_count": 18,
   "metadata": {},
   "outputs": [
    {
     "name": "stderr",
     "output_type": "stream",
     "text": [
      "/home/ec2-user/anaconda3/envs/tensorflow_p36/lib/python3.6/site-packages/matplotlib/axes/_axes.py:6521: MatplotlibDeprecationWarning:\n",
      "\n",
      "\n",
      "The 'normed' kwarg was deprecated in Matplotlib 2.1 and will be removed in 3.1. Use 'density' instead.\n",
      "\n"
     ]
    },
    {
     "data": {
      "image/png": "[encoded data removed]",
      "text/plain": [
       "<Figure size 432x288 with 1 Axes>"
      ]
     },
     "metadata": {},
     "output_type": "display_data"
    }
   ],
   "source": [
    "sns.distplot(y_train_np);\n"
   ]
  },
  {
   "cell_type": "code",
   "execution_count": 19,
   "metadata": {},
   "outputs": [
    {
     "name": "stdout",
     "output_type": "stream",
     "text": [
      "(51, 8)\n",
      "(0, 8)\n",
      "<bound method NDFrame.head of        Open     High      Low    Close      Volume  Pct_Range    HL_PCT  Class\n",
      "0   1.30704  1.30738  1.30675  1.30687   3492.3501  -0.000161  0.048207      0\n",
      "1   1.30686  1.30707  1.30655  1.30666   1407.6899  -0.001079  0.039796     -1\n",
      "2   1.30668  1.30675  1.30517  1.30525   6402.8198  -0.000253  0.121050      0\n",
      "3   1.30525  1.30631  1.30441  1.30492   8556.0000   0.000107  0.145603      0\n",
      "4   1.30492  1.30598  1.30486  1.30506   8707.0498   0.000322  0.085820      0\n",
      "5   1.30505  1.30585  1.30500  1.30548   5971.7500   0.000337  0.065110      0\n",
      "6   1.30548  1.30600  1.30539  1.30592   4888.3701   0.000421  0.046710      0\n",
      "7   1.30595  1.30670  1.30575  1.30647   3531.1799   0.000467  0.072715      0\n",
      "8   1.30647  1.30715  1.30635  1.30708   5861.2402  -0.000038  0.061205      0\n",
      "9   1.30708  1.30777  1.30662  1.30703   9263.9502   0.000459  0.087986      0\n",
      "10  1.30703  1.30886  1.30640  1.30763  13383.8301   0.000520  0.188127      0\n",
      "11  1.30765  1.30930  1.30761  1.30831  12991.9805   0.000940  0.129174      1\n",
      "12  1.30830  1.30965  1.30760  1.30954  11883.0498   0.002260  0.156544      1\n",
      "13  1.30955  1.31335  1.30950  1.31250  15255.2998   0.000373  0.293333      0\n",
      "14  1.31250  1.31389  1.31247  1.31299  14178.4297  -0.001637  0.108150     -1\n",
      "15  1.31299  1.31350  1.31083  1.31084  17877.0000  -0.001068  0.203686     -1\n",
      "16  1.31085  1.31091  1.30850  1.30944  17373.9102   0.002459  0.184048      1\n",
      "17  1.30945  1.31315  1.30940  1.31266  18454.6309  -0.000289  0.285679      0\n",
      "18  1.31265  1.31379  1.31175  1.31228  14931.0195   0.000053  0.155455      0\n",
      "19  1.31229  1.31298  1.31194  1.31235   6524.2598  -0.000648  0.079247      0\n",
      "20  1.31236  1.31265  1.31149  1.31150   6290.8101  -0.000191  0.088448      0\n",
      "21  1.31150  1.31224  1.31062  1.31125   6787.4702  -0.000793  0.123546     -1\n",
      "22  1.31120  1.31146  1.31020  1.31021   5112.5200  -0.000061  0.096168      0\n",
      "23  1.31018  1.31052  1.30962  1.31013   3860.6699   0.000435  0.068695      0\n",
      "24  1.31013  1.31090  1.30993  1.31070   3257.3799   0.000313  0.074006      0\n",
      "25  1.31069  1.31120  1.31042  1.31111   2889.1101   0.000427  0.059492      0\n",
      "26  1.31111  1.31185  1.31082  1.31167   6926.4199  -0.000457  0.078526      0\n",
      "27  1.31164  1.31165  1.31057  1.31107   5263.7500   0.000282  0.082375      0\n",
      "28  1.31108  1.31175  1.31082  1.31144   5919.0000   0.000366  0.070914      0\n",
      "29  1.31144  1.31200  1.31138  1.31192   4935.1802  -0.000434  0.047259      0\n",
      "30  1.31192  1.31268  1.31096  1.31135   5530.2798   0.000305  0.131163      0\n",
      "31  1.31135  1.31194  1.31119  1.31175   3680.1699  -0.000374  0.057176      0\n",
      "32  1.31174  1.31203  1.31099  1.31126   4200.9800  -0.000961  0.079313     -1\n",
      "33  1.31126  1.31130  1.30920  1.31000  11665.4404  -0.002740  0.160305     -1\n",
      "34  1.31000  1.31000  1.30628  1.30641  16955.6699  -0.000023  0.284750      0\n",
      "35  1.30641  1.30763  1.30589  1.30638  15888.5498  -0.001363  0.133192     -1\n",
      "36  1.30638  1.30650  1.30413  1.30460  19121.8809   0.001571  0.181665      1\n",
      "37  1.30460  1.30710  1.30437  1.30665  12147.4102  -0.001056  0.208931     -1\n",
      "38  1.30665  1.30689  1.30522  1.30527  12688.9697   0.001165  0.127943      1\n",
      "39  1.30526  1.30721  1.30387  1.30679  19073.3906   0.000964  0.255588      1\n",
      "40  1.30680  1.30836  1.30674  1.30805  17153.6406   0.001300  0.123848      1\n",
      "41  1.30808  1.31009  1.30766  1.30975  19157.2305  -0.000305  0.185532      0\n",
      "42  1.30976  1.31010  1.30895  1.30935  14192.4600   0.000115  0.087830      0\n",
      "43  1.30933  1.30972  1.30907  1.30950   6953.9502  -0.000122  0.049637      0\n",
      "44  1.30949  1.30995  1.30934  1.30934   5606.7100  -0.001031  0.046588     -1\n",
      "45  1.30934  1.30941  1.30790  1.30799   5364.5200   0.001766  0.115444      1\n",
      "46  1.30797  1.31077  1.30785  1.31030   5590.1299   0.000664  0.222850      0\n",
      "47  1.31028  1.31263  1.31007  1.31117   6510.3501  -0.000122  0.195245      0\n",
      "48  1.31169  1.31170  1.31096  1.31101    438.8200  -0.000320  0.056445      0\n",
      "49  1.31093  1.31101  1.30993  1.31059   5055.3701  -0.000679  0.082406      0\n",
      "50  1.31060  1.31060  1.30965  1.30970   4542.3198   0.000351  0.072536      0>\n"
     ]
    }
   ],
   "source": [
    "\n",
    "#Obtener los ultimos valores de Train para agregarlos a Val DF\n",
    "# APPEND DE X\n",
    "last_range_training_x = data_training.tail(RANGE)\n",
    "print(last_range_training_x.shape)\n",
    "print(data_val.shape)\n",
    "data_val_x1 = last_range_training_x.append(data_val, ignore_index = True)\n",
    "data_val_x1.shape\n",
    "print(data_val_x1.head)"
   ]
  },
  {
   "cell_type": "code",
   "execution_count": 20,
   "metadata": {},
   "outputs": [
    {
     "name": "stdout",
     "output_type": "stream",
     "text": [
      "(51,)\n",
      "(0,)\n",
      "0    1.30666\n",
      "1    1.30525\n",
      "2    1.30492\n",
      "3    1.30506\n",
      "4    1.30548\n",
      "5    1.30592\n",
      "6    1.30647\n",
      "7    1.30708\n",
      "8    1.30703\n",
      "9    1.30763\n",
      "Name: Close, dtype: float64\n"
     ]
    }
   ],
   "source": [
    "#Append de los datos de Train al DF de Val en Y\n",
    "last_range_train_y = data_training_y.tail(RANGE)\n",
    "print(last_range_train_y.shape)\n",
    "print(data_val_y.shape)\n",
    "data_val_y1 = last_range_train_y.append(data_val_y, ignore_index = True)\n",
    "data_val_y1.shape\n",
    "print(data_val_y1.head(10))"
   ]
  },
  {
   "cell_type": "code",
   "execution_count": 21,
   "metadata": {},
   "outputs": [
    {
     "name": "stdout",
     "output_type": "stream",
     "text": [
      "[[0.61933167 0.61414129 0.62325185 0.61830574 0.11884148 0.52874281\n",
      "  0.02272493 0.5       ]\n",
      " [0.61823605 0.61226466 0.62203575 0.61702775 0.04761934 0.48940293\n",
      "  0.01731425 0.25      ]\n",
      " [0.61714042 0.6103275  0.61364466 0.60844693 0.2182773  0.52479614\n",
      "  0.06958563 0.5       ]\n",
      " [0.6084363  0.6076639  0.60902347 0.60643866 0.29184043 0.54022163\n",
      "  0.085381   0.5       ]\n",
      " [0.60642766 0.6056662  0.6117597  0.60729065 0.29700103 0.54941144\n",
      "  0.04692186 0.5       ]\n",
      " [0.60721894 0.60487923 0.61261097 0.60984664 0.20354986 0.55006324\n",
      "  0.03359908 0.5       ]\n",
      " [0.60983627 0.60578728 0.61498237 0.61252434 0.16653633 0.55366648\n",
      "  0.02176227 0.5       ]\n",
      " [0.61269706 0.61002482 0.61717135 0.61587147 0.1201681  0.55562611\n",
      "  0.03849139 0.5       ]\n",
      " [0.61586219 0.61274896 0.62081965 0.61958374 0.19977431 0.5339874\n",
      "  0.03108693 0.5       ]\n",
      " [0.61957514 0.61650221 0.62246139 0.61927945 0.31602746 0.55528981\n",
      "  0.04831523 0.5       ]]\n"
     ]
    }
   ],
   "source": [
    "data_val_x2 = scaler.transform(data_val_x1)\n",
    "data_val_x2.shape\n",
    "print(data_val_x2[:10])"
   ]
  },
  {
   "cell_type": "code",
   "execution_count": 22,
   "metadata": {},
   "outputs": [
    {
     "name": "stdout",
     "output_type": "stream",
     "text": [
      "(0,)\n",
      "(0,)\n"
     ]
    }
   ],
   "source": [
    "X_val = []\n",
    "y_val = []\n",
    "for i in range(RANGE, data_val_x2.shape[0]):\n",
    "    X_val.append(data_val_x2[i-RANGE:i])\n",
    "    y_val.append(data_val_y1[i])\n",
    "\n",
    "X_val_np = np.array(X_val)\n",
    "y_val_np = np.array(y_val)\n",
    "print(X_val_np.shape)\n",
    "print(y_val_np.shape)"
   ]
  },
  {
   "cell_type": "code",
   "execution_count": 23,
   "metadata": {},
   "outputs": [
    {
     "name": "stdout",
     "output_type": "stream",
     "text": [
      "(51, 8)\n",
      "(1900, 8)\n"
     ]
    },
    {
     "data": {
      "text/plain": [
       "(1951, 8)"
      ]
     },
     "execution_count": 23,
     "metadata": {},
     "output_type": "execute_result"
    }
   ],
   "source": [
    "\n",
    "#Obtener los ultimos valores de Val para agregarlos a TEST DF\n",
    "# Append en X\n",
    "last_range_data_training_x = data_training.tail(RANGE)\n",
    "print(last_range_data_training_x.shape)\n",
    "print(data_test.shape)\n",
    "data_test_x1 = last_range_data_training_x.append(data_test, ignore_index = True)\n",
    "data_test_x1.shape\n"
   ]
  },
  {
   "cell_type": "code",
   "execution_count": 24,
   "metadata": {},
   "outputs": [
    {
     "name": "stdout",
     "output_type": "stream",
     "text": [
      "(51,)\n",
      "(1900,)\n"
     ]
    },
    {
     "data": {
      "text/plain": [
       "(1951,)"
      ]
     },
     "execution_count": 24,
     "metadata": {},
     "output_type": "execute_result"
    }
   ],
   "source": [
    "#Append de los datos de Val al DF de Test de Y\n",
    "last_range_training_y = data_training_y.tail(RANGE)\n",
    "print(last_range_training_y.shape)\n",
    "print(data_test_y.shape)\n",
    "data_test_y1 = last_range_training_y.append(data_test_y, ignore_index = True)\n",
    "data_test_y1.shape"
   ]
  },
  {
   "cell_type": "code",
   "execution_count": 25,
   "metadata": {},
   "outputs": [
    {
     "name": "stdout",
     "output_type": "stream",
     "text": [
      "[[0.61933167 0.61414129 0.62325185 0.61830574 0.11884148 0.52874281\n",
      "  0.02272493 0.5       ]\n",
      " [0.61823605 0.61226466 0.62203575 0.61702775 0.04761934 0.48940293\n",
      "  0.01731425 0.25      ]\n",
      " [0.61714042 0.6103275  0.61364466 0.60844693 0.2182773  0.52479614\n",
      "  0.06958563 0.5       ]\n",
      " [0.6084363  0.6076639  0.60902347 0.60643866 0.29184043 0.54022163\n",
      "  0.085381   0.5       ]\n",
      " [0.60642766 0.6056662  0.6117597  0.60729065 0.29700103 0.54941144\n",
      "  0.04692186 0.5       ]\n",
      " [0.60721894 0.60487923 0.61261097 0.60984664 0.20354986 0.55006324\n",
      "  0.03359908 0.5       ]\n",
      " [0.60983627 0.60578728 0.61498237 0.61252434 0.16653633 0.55366648\n",
      "  0.02176227 0.5       ]\n",
      " [0.61269706 0.61002482 0.61717135 0.61587147 0.1201681  0.55562611\n",
      "  0.03849139 0.5       ]\n",
      " [0.61586219 0.61274896 0.62081965 0.61958374 0.19977431 0.5339874\n",
      "  0.03108693 0.5       ]\n",
      " [0.61957514 0.61650221 0.62246139 0.61927945 0.31602746 0.55528981\n",
      "  0.04831523 0.5       ]]\n"
     ]
    }
   ],
   "source": [
    "data_test_x2 = scaler.transform(data_test_x1)\n",
    "data_test_x2.shape\n",
    "print(data_test_x2[:10])"
   ]
  },
  {
   "cell_type": "code",
   "execution_count": 26,
   "metadata": {},
   "outputs": [
    {
     "name": "stdout",
     "output_type": "stream",
     "text": [
      "(1900, 51, 8)\n",
      "(1900,)\n"
     ]
    }
   ],
   "source": [
    "X_test = []\n",
    "y_test = []\n",
    "for i in range(RANGE, data_test_x2.shape[0]):\n",
    "    X_test.append(data_test_x2[i-RANGE:i])\n",
    "    y_test.append(data_test_y1[i])\n",
    "\n",
    "X_test_np = np.array(X_test)\n",
    "y_test_np = np.array(y_test)\n",
    "print(X_test_np.shape)\n",
    "print(y_test_np.shape)"
   ]
  },
  {
   "cell_type": "code",
   "execution_count": 27,
   "metadata": {},
   "outputs": [
    {
     "data": {
      "text/plain": [
       "[<matplotlib.lines.Line2D at 0x7f416b220278>]"
      ]
     },
     "execution_count": 27,
     "metadata": {},
     "output_type": "execute_result"
    },
    {
     "data": {
      "image/png": "[encoded data removed]",
      "text/plain": [
       "<Figure size 432x288 with 1 Axes>"
      ]
     },
     "metadata": {},
     "output_type": "display_data"
    }
   ],
   "source": [
    "# Y del dataset de pruebas\n",
    "pyplot.plot(y_test_np)"
   ]
  },
  {
   "cell_type": "code",
   "execution_count": 28,
   "metadata": {},
   "outputs": [
    {
     "name": "stderr",
     "output_type": "stream",
     "text": [
      "/home/ec2-user/anaconda3/envs/tensorflow_p36/lib/python3.6/site-packages/matplotlib/axes/_axes.py:6521: MatplotlibDeprecationWarning:\n",
      "\n",
      "\n",
      "The 'normed' kwarg was deprecated in Matplotlib 2.1 and will be removed in 3.1. Use 'density' instead.\n",
      "\n",
      "/home/ec2-user/anaconda3/envs/tensorflow_p36/lib/python3.6/site-packages/matplotlib/axes/_axes.py:6521: MatplotlibDeprecationWarning:\n",
      "\n",
      "\n",
      "The 'normed' kwarg was deprecated in Matplotlib 2.1 and will be removed in 3.1. Use 'density' instead.\n",
      "\n"
     ]
    },
    {
     "data": {
      "image/png": "[encoded data removed]",
      "text/plain": [
       "<Figure size 432x288 with 1 Axes>"
      ]
     },
     "metadata": {},
     "output_type": "display_data"
    }
   ],
   "source": [
    "sns.distplot(y_train_np, color='red', label = 'Close - Entrenamiento');\n",
    "sns.distplot(y_test_np, color='green', label = 'Close - Pruebas');\n",
    "plt.title('Gráfica de distribucion - Close')\n",
    "plt.xlabel('Precio')\n",
    "plt.ylabel('Densidad')\n",
    "plt.legend()\n",
    "plt.show()"
   ]
  },
  {
   "cell_type": "code",
   "execution_count": 29,
   "metadata": {},
   "outputs": [
    {
     "data": {
      "image/png": "[encoded data removed]",
      "text/plain": [
       "<Figure size 432x288 with 1 Axes>"
      ]
     },
     "metadata": {},
     "output_type": "display_data"
    }
   ],
   "source": [
    "# Y de Val y Test comparados\n",
    "pyplot.plot(y_train_np, color = 'red', label = 'Close - Entrenamiento')\n",
    "#pyplot.plot(y_test_np)\n",
    "pyplot.plot(y_test_np, color = 'green', label = 'Close - Pruebas')\n",
    "\n",
    "plt.title('Close en datos de entrenamiento y pruebas')\n",
    "plt.xlabel('Tiempo')\n",
    "plt.ylabel('Precio')\n",
    "plt.legend()\n",
    "plt.show()\n"
   ]
  },
  {
   "cell_type": "code",
   "execution_count": 30,
   "metadata": {},
   "outputs": [
    {
     "name": "stdout",
     "output_type": "stream",
     "text": [
      "51\n",
      "8\n"
     ]
    }
   ],
   "source": [
    "x_shape = X_train_np.shape[1]\n",
    "print(x_shape)\n",
    "y_shape = X_train_np.shape[2]\n",
    "print(y_shape)"
   ]
  },
  {
   "cell_type": "code",
   "execution_count": 31,
   "metadata": {},
   "outputs": [
    {
     "name": "stdout",
     "output_type": "stream",
     "text": [
      "WARNING:tensorflow:From /home/ec2-user/anaconda3/envs/tensorflow_p36/lib/python3.6/site-packages/tensorflow_core/python/ops/resource_variable_ops.py:1630: calling BaseResourceVariable.__init__ (from tensorflow.python.ops.resource_variable_ops) with constraint is deprecated and will be removed in a future version.\n",
      "Instructions for updating:\n",
      "If using Keras pass *_constraint arguments to layers.\n"
     ]
    }
   ],
   "source": [
    "regressior = Sequential()\n",
    "\n",
    "regressior.add(LSTM(units = RANGE, activation = 'relu', return_sequences = True, input_shape = (x_shape, y_shape)))\n",
    "#regressior.add(Dropout(0.2))\n",
    "\n",
    "regressior.add(LSTM(units = 60, activation = 'relu', return_sequences = True))\n",
    "#regressior.add(Dropout(0.2))\n",
    "\n",
    "regressior.add(LSTM(units = 80, activation = 'relu', return_sequences = True))\n",
    "#regressior.add(Dropout(0.2))\n",
    "\n",
    "regressior.add(LSTM(units = 120, activation = 'relu'))\n",
    "#regressior.add(Dropout(0.2))\n",
    "\n",
    "regressior.add(Dense(units = 1))"
   ]
  },
  {
   "cell_type": "code",
   "execution_count": 32,
   "metadata": {},
   "outputs": [],
   "source": [
    "def coeff_determination(y_true, y_pred):\n",
    "    SS_res =  K.sum(K.square( y_true-y_pred )) \n",
    "    SS_tot = K.sum(K.square( y_true - K.mean(y_true) ) ) \n",
    "    return ( 1 - SS_res/(SS_tot + K.epsilon()) )"
   ]
  },
  {
   "cell_type": "code",
   "execution_count": 33,
   "metadata": {},
   "outputs": [],
   "source": [
    "regressior.compile(optimizer='adam', loss = 'mean_squared_error', metrics=['mean_squared_error', 'mean_absolute_error', 'mean_absolute_percentage_error', 'cosine_proximity'])"
   ]
  },
  {
   "cell_type": "code",
   "execution_count": 34,
   "metadata": {},
   "outputs": [
    {
     "name": "stdout",
     "output_type": "stream",
     "text": [
      "Model: \"sequential\"\n",
      "_________________________________________________________________\n",
      "Layer (type)                 Output Shape              Param #   \n",
      "=================================================================\n",
      "lstm (LSTM)                  (None, 51, 51)            12240     \n",
      "_________________________________________________________________\n",
      "lstm_1 (LSTM)                (None, 51, 60)            26880     \n",
      "_________________________________________________________________\n",
      "lstm_2 (LSTM)                (None, 51, 80)            45120     \n",
      "_________________________________________________________________\n",
      "lstm_3 (LSTM)                (None, 120)               96480     \n",
      "_________________________________________________________________\n",
      "dense (Dense)                (None, 1)                 121       \n",
      "=================================================================\n",
      "Total params: 180,841\n",
      "Trainable params: 180,841\n",
      "Non-trainable params: 0\n",
      "_________________________________________________________________\n"
     ]
    }
   ],
   "source": [
    "regressior.summary()\n"
   ]
  },
  {
   "cell_type": "code",
   "execution_count": 35,
   "metadata": {},
   "outputs": [
    {
     "name": "stdout",
     "output_type": "stream",
     "text": [
      "/home/ec2-user/SageMaker/forex_prediction/Jupyter Notebooks/IDI4/models\n"
     ]
    }
   ],
   "source": [
    "pwd = os.getcwd()\n",
    "path = os.path.join(pwd,'models')\n",
    "print(path)"
   ]
  },
  {
   "cell_type": "code",
   "execution_count": 36,
   "metadata": {},
   "outputs": [],
   "source": [
    "#Model check pointer para almacenar el modelo cada epoca\n",
    "checkpointer = ModelCheckpoint(filepath=path + '/model-{epoch:02d}.hdf5', verbose=1)"
   ]
  },
  {
   "cell_type": "code",
   "execution_count": 37,
   "metadata": {},
   "outputs": [
    {
     "name": "stdout",
     "output_type": "stream",
     "text": [
      "WARNING:tensorflow:From /home/ec2-user/anaconda3/envs/tensorflow_p36/lib/python3.6/site-packages/tensorflow_core/python/ops/math_grad.py:1424: where (from tensorflow.python.ops.array_ops) is deprecated and will be removed in a future version.\n",
      "Instructions for updating:\n",
      "Use tf.where in 2.0, which has the same broadcast rule as np.where\n",
      "Train on 8049 samples\n",
      "WARNING:tensorflow:OMP_NUM_THREADS is no longer used by the default Keras config. To configure the number of threads, use tf.config.threading APIs.\n",
      "Epoch 1/10\n",
      "8049/8049 [==============================] - 138s 17ms/sample - loss: 0.0671 - mean_squared_error: 0.0671 - mean_absolute_error: 0.0959 - mean_absolute_percentage_error: 7.4251 - cosine_proximity: 0.9928\n",
      "Epoch 2/10\n",
      "4704/8049 [================>.............] - ETA: 55s - loss: 3.3196e-04 - mean_squared_error: 3.3196e-04 - mean_absolute_error: 0.0144 - mean_absolute_percentage_error: 1.1161 - cosine_proximity: 1.0000"
     ]
    },
    {
     "ename": "KeyboardInterrupt",
     "evalue": "",
     "output_type": "error",
     "traceback": [
      "\u001b[0;31m---------------------------------------------------------------------------\u001b[0m",
      "\u001b[0;31mKeyboardInterrupt\u001b[0m                         Traceback (most recent call last)",
      "\u001b[0;32m<timed exec>\u001b[0m in \u001b[0;36m<module>\u001b[0;34m()\u001b[0m\n",
      "\u001b[0;32m~/anaconda3/envs/tensorflow_p36/lib/python3.6/site-packages/tensorflow_core/python/keras/engine/training.py\u001b[0m in \u001b[0;36mfit\u001b[0;34m(self, x, y, batch_size, epochs, verbose, callbacks, validation_split, validation_data, shuffle, class_weight, sample_weight, initial_epoch, steps_per_epoch, validation_steps, validation_freq, max_queue_size, workers, use_multiprocessing, **kwargs)\u001b[0m\n\u001b[1;32m    731\u001b[0m         \u001b[0mmax_queue_size\u001b[0m\u001b[0;34m=\u001b[0m\u001b[0mmax_queue_size\u001b[0m\u001b[0;34m,\u001b[0m\u001b[0;34m\u001b[0m\u001b[0m\n\u001b[1;32m    732\u001b[0m         \u001b[0mworkers\u001b[0m\u001b[0;34m=\u001b[0m\u001b[0mworkers\u001b[0m\u001b[0;34m,\u001b[0m\u001b[0;34m\u001b[0m\u001b[0m\n\u001b[0;32m--> 733\u001b[0;31m         use_multiprocessing=use_multiprocessing)\n\u001b[0m\u001b[1;32m    734\u001b[0m \u001b[0;34m\u001b[0m\u001b[0m\n\u001b[1;32m    735\u001b[0m   def evaluate(self,\n",
      "\u001b[0;32m~/anaconda3/envs/tensorflow_p36/lib/python3.6/site-packages/tensorflow_core/python/keras/engine/training_arrays.py\u001b[0m in \u001b[0;36mfit\u001b[0;34m(self, model, x, y, batch_size, epochs, verbose, callbacks, validation_split, validation_data, shuffle, class_weight, sample_weight, initial_epoch, steps_per_epoch, validation_steps, validation_freq, **kwargs)\u001b[0m\n\u001b[1;32m    673\u001b[0m         \u001b[0mvalidation_steps\u001b[0m\u001b[0;34m=\u001b[0m\u001b[0mvalidation_steps\u001b[0m\u001b[0;34m,\u001b[0m\u001b[0;34m\u001b[0m\u001b[0m\n\u001b[1;32m    674\u001b[0m         \u001b[0mvalidation_freq\u001b[0m\u001b[0;34m=\u001b[0m\u001b[0mvalidation_freq\u001b[0m\u001b[0;34m,\u001b[0m\u001b[0;34m\u001b[0m\u001b[0m\n\u001b[0;32m--> 675\u001b[0;31m         steps_name='steps_per_epoch')\n\u001b[0m\u001b[1;32m    676\u001b[0m \u001b[0;34m\u001b[0m\u001b[0m\n\u001b[1;32m    677\u001b[0m   def evaluate(self,\n",
      "\u001b[0;32m~/anaconda3/envs/tensorflow_p36/lib/python3.6/site-packages/tensorflow_core/python/keras/engine/training_arrays.py\u001b[0m in \u001b[0;36mmodel_iteration\u001b[0;34m(model, inputs, targets, sample_weights, batch_size, epochs, verbose, callbacks, val_inputs, val_targets, val_sample_weights, shuffle, initial_epoch, steps_per_epoch, validation_steps, validation_freq, mode, validation_in_fit, prepared_feed_values_from_dataset, steps_name, **kwargs)\u001b[0m\n\u001b[1;32m    392\u001b[0m \u001b[0;34m\u001b[0m\u001b[0m\n\u001b[1;32m    393\u001b[0m         \u001b[0;31m# Get outputs.\u001b[0m\u001b[0;34m\u001b[0m\u001b[0;34m\u001b[0m\u001b[0m\n\u001b[0;32m--> 394\u001b[0;31m         \u001b[0mbatch_outs\u001b[0m \u001b[0;34m=\u001b[0m \u001b[0mf\u001b[0m\u001b[0;34m(\u001b[0m\u001b[0mins_batch\u001b[0m\u001b[0;34m)\u001b[0m\u001b[0;34m\u001b[0m\u001b[0m\n\u001b[0m\u001b[1;32m    395\u001b[0m         \u001b[0;32mif\u001b[0m \u001b[0;32mnot\u001b[0m \u001b[0misinstance\u001b[0m\u001b[0;34m(\u001b[0m\u001b[0mbatch_outs\u001b[0m\u001b[0;34m,\u001b[0m \u001b[0mlist\u001b[0m\u001b[0;34m)\u001b[0m\u001b[0;34m:\u001b[0m\u001b[0;34m\u001b[0m\u001b[0m\n\u001b[1;32m    396\u001b[0m           \u001b[0mbatch_outs\u001b[0m \u001b[0;34m=\u001b[0m \u001b[0;34m[\u001b[0m\u001b[0mbatch_outs\u001b[0m\u001b[0;34m]\u001b[0m\u001b[0;34m\u001b[0m\u001b[0m\n",
      "\u001b[0;32m~/anaconda3/envs/tensorflow_p36/lib/python3.6/site-packages/tensorflow_core/python/keras/backend.py\u001b[0m in \u001b[0;36m__call__\u001b[0;34m(self, inputs)\u001b[0m\n\u001b[1;32m   3474\u001b[0m \u001b[0;34m\u001b[0m\u001b[0m\n\u001b[1;32m   3475\u001b[0m     fetched = self._callable_fn(*array_vals,\n\u001b[0;32m-> 3476\u001b[0;31m                                 run_metadata=self.run_metadata)\n\u001b[0m\u001b[1;32m   3477\u001b[0m     \u001b[0mself\u001b[0m\u001b[0;34m.\u001b[0m\u001b[0m_call_fetch_callbacks\u001b[0m\u001b[0;34m(\u001b[0m\u001b[0mfetched\u001b[0m\u001b[0;34m[\u001b[0m\u001b[0;34m-\u001b[0m\u001b[0mlen\u001b[0m\u001b[0;34m(\u001b[0m\u001b[0mself\u001b[0m\u001b[0;34m.\u001b[0m\u001b[0m_fetches\u001b[0m\u001b[0;34m)\u001b[0m\u001b[0;34m:\u001b[0m\u001b[0;34m]\u001b[0m\u001b[0;34m)\u001b[0m\u001b[0;34m\u001b[0m\u001b[0m\n\u001b[1;32m   3478\u001b[0m     output_structure = nest.pack_sequence_as(\n",
      "\u001b[0;32m~/anaconda3/envs/tensorflow_p36/lib/python3.6/site-packages/tensorflow_core/python/client/session.py\u001b[0m in \u001b[0;36m__call__\u001b[0;34m(self, *args, **kwargs)\u001b[0m\n\u001b[1;32m   1470\u001b[0m         ret = tf_session.TF_SessionRunCallable(self._session._session,\n\u001b[1;32m   1471\u001b[0m                                                \u001b[0mself\u001b[0m\u001b[0;34m.\u001b[0m\u001b[0m_handle\u001b[0m\u001b[0;34m,\u001b[0m \u001b[0margs\u001b[0m\u001b[0;34m,\u001b[0m\u001b[0;34m\u001b[0m\u001b[0m\n\u001b[0;32m-> 1472\u001b[0;31m                                                run_metadata_ptr)\n\u001b[0m\u001b[1;32m   1473\u001b[0m         \u001b[0;32mif\u001b[0m \u001b[0mrun_metadata\u001b[0m\u001b[0;34m:\u001b[0m\u001b[0;34m\u001b[0m\u001b[0m\n\u001b[1;32m   1474\u001b[0m           \u001b[0mproto_data\u001b[0m \u001b[0;34m=\u001b[0m \u001b[0mtf_session\u001b[0m\u001b[0;34m.\u001b[0m\u001b[0mTF_GetBuffer\u001b[0m\u001b[0;34m(\u001b[0m\u001b[0mrun_metadata_ptr\u001b[0m\u001b[0;34m)\u001b[0m\u001b[0;34m\u001b[0m\u001b[0m\n",
      "\u001b[0;31mKeyboardInterrupt\u001b[0m: "
     ]
    }
   ],
   "source": [
    "%%time\n",
    "\n",
    "history = regressior.fit(X_train_np, y_train_np, epochs=EPOCHS, batch_size=BATCH_SIZE)\n"
   ]
  },
  {
   "cell_type": "code",
   "execution_count": 38,
   "metadata": {},
   "outputs": [
    {
     "name": "stdout",
     "output_type": "stream",
     "text": [
      "date_today = 14_05_20\n"
     ]
    }
   ],
   "source": [
    "today = datetime.today()\n",
    "date_today = today.strftime(\"%d_%m_%y\")\n",
    "print(\"date_today =\", date_today)\n",
    "\n",
    "MODEL_NAME =  date_today + \"_model_LSTM.hdf5\"\n",
    "\n",
    "regressior.save( path + '/' + MODEL_NAME)\n"
   ]
  },
  {
   "cell_type": "code",
   "execution_count": 39,
   "metadata": {},
   "outputs": [
    {
     "ename": "NameError",
     "evalue": "name 'history' is not defined",
     "output_type": "error",
     "traceback": [
      "\u001b[0;31m---------------------------------------------------------------------------\u001b[0m",
      "\u001b[0;31mNameError\u001b[0m                                 Traceback (most recent call last)",
      "\u001b[0;32m<ipython-input-39-7f539fdf9cbf>\u001b[0m in \u001b[0;36m<module>\u001b[0;34m()\u001b[0m\n\u001b[0;32m----> 1\u001b[0;31m \u001b[0mprint\u001b[0m\u001b[0;34m(\u001b[0m\u001b[0mhistory\u001b[0m\u001b[0;34m.\u001b[0m\u001b[0mhistory\u001b[0m\u001b[0;34m.\u001b[0m\u001b[0mkeys\u001b[0m\u001b[0;34m(\u001b[0m\u001b[0;34m)\u001b[0m\u001b[0;34m)\u001b[0m\u001b[0;34m\u001b[0m\u001b[0m\n\u001b[0m",
      "\u001b[0;31mNameError\u001b[0m: name 'history' is not defined"
     ]
    }
   ],
   "source": [
    "print(history.history.keys())"
   ]
  },
  {
   "cell_type": "code",
   "execution_count": null,
   "metadata": {},
   "outputs": [],
   "source": [
    "#PLOT MSE MAE\n",
    "plt.figure(figsize=(5,5))\n",
    "#plt.plot(history.history['val_loss'][1:], color = 'blue', label = 'Val_Loss')\n",
    "plt.plot(history.history['mean_squared_error'][1:], color = 'red', label = 'MSE')\n",
    "#plt.plot(history.history['mean_absolute_error'][1:], color = 'blue', label = 'MAE')\n",
    "plt.title('Loss Model')\n",
    "plt.xlabel('Epochs')\n",
    "plt.ylabel('Loss')\n",
    "plt.legend()\n",
    "plt.show()"
   ]
  }
 ],
 "metadata": {
  "colab": {
   "name": "RDI_hour.ipynb",
   "provenance": []
  },
  "kernelspec": {
   "display_name": "conda_tensorflow_p36",
   "language": "python",
   "name": "conda_tensorflow_p36"
  },
  "language_info": {
   "codemirror_mode": {
    "name": "ipython",
    "version": 3
   },
   "file_extension": ".py",
   "mimetype": "text/x-python",
   "name": "python",
   "nbconvert_exporter": "python",
   "pygments_lexer": "ipython3",
   "version": "3.6.6"
  }
 },
 "nbformat": 4,
 "nbformat_minor": 1
}
